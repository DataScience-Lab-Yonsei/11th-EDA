{
 "cells": [
  {
   "cell_type": "code",
   "execution_count": 1,
   "metadata": {},
   "outputs": [],
   "source": [
    "import pandas as pd\n",
    "from scipy.stats import shapiro"
   ]
  },
  {
   "cell_type": "code",
   "execution_count": 2,
   "metadata": {},
   "outputs": [
    {
     "ename": "NameError",
     "evalue": "name 'data2' is not defined",
     "output_type": "error",
     "traceback": [
      "\u001b[0;31m---------------------------------------------------------------------------\u001b[0m",
      "\u001b[0;31mNameError\u001b[0m                                 Traceback (most recent call last)",
      "Cell \u001b[0;32mIn[2], line 1\u001b[0m\n\u001b[0;32m----> 1\u001b[0m Annual_Revenue_LTM \u001b[38;5;241m=\u001b[39m \u001b[43mdata2\u001b[49m[\u001b[38;5;124m'\u001b[39m\u001b[38;5;124mAnnual Revenue LTM (USD)\u001b[39m\u001b[38;5;124m'\u001b[39m]\n\u001b[1;32m      2\u001b[0m Occupancy_Rate_LTM \u001b[38;5;241m=\u001b[39m data2[\u001b[38;5;124m'\u001b[39m\u001b[38;5;124mOccupancy Rate LTM\u001b[39m\u001b[38;5;124m'\u001b[39m]\n\u001b[1;32m      3\u001b[0m Overall_Rating \u001b[38;5;241m=\u001b[39m data2[\u001b[38;5;124m'\u001b[39m\u001b[38;5;124mOverall Rating\u001b[39m\u001b[38;5;124m'\u001b[39m]\n",
      "\u001b[0;31mNameError\u001b[0m: name 'data2' is not defined"
     ]
    }
   ],
   "source": [
    "Annual_Revenue_LTM = data2['Annual Revenue LTM (USD)']\n",
    "Occupancy_Rate_LTM = data2['Occupancy Rate LTM']\n",
    "Overall_Rating = data2['Overall Rating']"
   ]
  },
  {
   "cell_type": "code",
   "execution_count": null,
   "metadata": {},
   "outputs": [],
   "source": [
    "# Annual_Revenue_LTM(USD) Shapiro-Wilk 테스트 수행\n",
    "statistic, p_value = shapiro(Annual_Revenue_LTM)\n",
    "\n",
    "# 결과 출력\n",
    "print(f\"Shapiro-Wilk 통계량: {statistic}, p-value: {p_value}\")\n",
    "\n",
    "# p-value를 기반으로 정규분포 여부 판단\n",
    "alpha = 0.05\n",
    "if p_value > alpha:\n",
    "    print(\"p-value가 유의수준보다 크므로 정규분포를 따릅니다.\")\n",
    "else:\n",
    "    print(\"p-value가 유의수준보다 작으므로 정규분포를 따르지 않습니다.\")"
   ]
  },
  {
   "cell_type": "code",
   "execution_count": null,
   "metadata": {},
   "outputs": [],
   "source": [
    "# Occupancy Rate LTM Shapiro-Wilk 테스트 수행\n",
    "statistic, p_value = shapiro(Occupancy_Rate_LTM)\n",
    "\n",
    "# 결과 출력\n",
    "print(f\"Shapiro-Wilk 통계량: {statistic}, p-value: {p_value}\")\n",
    "\n",
    "# p-value를 기반으로 정규분포 여부 판단\n",
    "alpha = 0.05\n",
    "if p_value > alpha:\n",
    "    print(\"p-value가 유의수준보다 크므로 정규분포를 따릅니다.\")\n",
    "else:\n",
    "    print(\"p-value가 유의수준보다 작으므로 정규분포를 따르지 않습니다.\")"
   ]
  },
  {
   "cell_type": "code",
   "execution_count": null,
   "metadata": {},
   "outputs": [],
   "source": [
    "# Overall_Rating Shapiro-Wilk 테스트 수행\n",
    "statistic, p_value = shapiro(Overall_Rating)\n",
    "\n",
    "# 결과 출력\n",
    "print(f\"Shapiro-Wilk 통계량: {statistic}, p-value: {p_value}\")\n",
    "\n",
    "# p-value를 기반으로 정규분포 여부 판단\n",
    "alpha = 0.05\n",
    "if p_value > alpha:\n",
    "    print(\"p-value가 유의수준보다 크므로 정규분포를 따릅니다.\")\n",
    "else:\n",
    "    print(\"p-value가 유의수준보다 작으므로 정규분포를 따르지 않습니다.\")"
   ]
  }
 ],
 "metadata": {
  "interpreter": {
   "hash": "24fda0f7bd1a36ebd248fab6250e510265f6475b7b3a6dc37c5bb872779c21cf"
  },
  "kernelspec": {
   "display_name": "Python 3.10.9 ('base')",
   "language": "python",
   "name": "python3"
  },
  "language_info": {
   "codemirror_mode": {
    "name": "ipython",
    "version": 3
   },
   "file_extension": ".py",
   "mimetype": "text/x-python",
   "name": "python",
   "nbconvert_exporter": "python",
   "pygments_lexer": "ipython3",
   "version": "3.10.9"
  },
  "orig_nbformat": 4
 },
 "nbformat": 4,
 "nbformat_minor": 2
}
