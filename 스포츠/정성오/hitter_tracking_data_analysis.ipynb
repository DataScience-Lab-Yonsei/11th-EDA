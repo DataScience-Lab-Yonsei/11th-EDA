{
 "cells": [
  {
   "cell_type": "markdown",
   "metadata": {},
   "source": [
    "Detailed analysis for hitters by using tracking data"
   ]
  },
  {
   "cell_type": "code",
   "execution_count": null,
   "metadata": {},
   "outputs": [],
   "source": [
    "import numpy as np\n",
    "import pandas as pd\n"
   ]
  },
  {
   "cell_type": "markdown",
   "metadata": {},
   "source": [
    "## Analysis with \"hitter_detailed_stats.csv\""
   ]
  },
  {
   "cell_type": "markdown",
   "metadata": {},
   "source": [
    "Read hitter data"
   ]
  },
  {
   "cell_type": "code",
   "execution_count": null,
   "metadata": {},
   "outputs": [],
   "source": [
    "hitter_data = pd.read_csv('../datasets/hitter_detailed_stats.csv')"
   ]
  },
  {
   "cell_type": "markdown",
   "metadata": {},
   "source": [
    "### Calculate K%, BB% and HR/AB"
   ]
  },
  {
   "cell_type": "code",
   "execution_count": null,
   "metadata": {},
   "outputs": [
    {
     "data": {
      "text/plain": [
       "Index(['name', 'id', 'birthday', '연도', '팀', '나이', 'P', 'G', '타석', '타수', '득점',\n",
       "       '안타', '2타', '3타', '홈런', '루타', '타점', '도루', '도실', '볼넷', '사구', '고4', '삼진',\n",
       "       '병살', '희타', '희비', '타율', '출루', '장타', 'OPS', 'wOBA', 'wRC+', 'WAR*',\n",
       "       'WPA', 'BABIP', '삼진율', '볼넷율', '타석 당 홈런', '삼진 비율', '볼넷 비율'],\n",
       "      dtype='object')"
      ]
     },
     "metadata": {},
     "output_type": "display_data"
    }
   ],
   "source": [
    "hitter_data['삼진 비율'] = (hitter_data['삼진']/hitter_data['타석']).round(3)\n",
    "hitter_data['볼넷 비율'] = (hitter_data['볼넷']/hitter_data['타석']).round(3)\n",
    "hitter_data['타석 당 홈런'] = (hitter_data['홈런']/hitter_data['타석']).round(4)\n",
    "hitter_data.columns"
   ]
  },
  {
   "cell_type": "markdown",
   "metadata": {},
   "source": [
    "## Calculate BABIP"
   ]
  },
  {
   "cell_type": "code",
   "execution_count": null,
   "metadata": {},
   "outputs": [],
   "source": [
    "def calc_BABIP(hit, HR, AB, K, SF ):\n",
    "    numerator = hit - HR\n",
    "    denominator = AB - K - HR + SF\n",
    "    return(numerator/denominator)"
   ]
  },
  {
   "cell_type": "code",
   "execution_count": null,
   "metadata": {},
   "outputs": [],
   "source": [
    "hitter_data[\"BABIP\"] = calc_BABIP(hitter_data['안타'],\n",
    "                                  hitter_data['홈런'],\n",
    "                                  hitter_data['타석'],\n",
    "                                  hitter_data['삼진'],\n",
    "                                  hitter_data['희비']).round(3)"
   ]
  },
  {
   "cell_type": "code",
   "execution_count": null,
   "metadata": {},
   "outputs": [],
   "source": [
    "def total_BABIP(df, name, id):\n",
    "    new_df = df[(df['name']==name)&(df['id']==id)]\n",
    "    new_df_agg = new_df.groupby(['id', 'name']).sum()[['안타','홈런','타석','삼진','희비']]\n",
    "    new_df_agg[\"BABIP\"] = calc_BABIP(new_df_agg['안타'],\n",
    "                                    new_df_agg['홈런'],\n",
    "                                    new_df_agg['타석'],\n",
    "                                    new_df_agg['삼진'],\n",
    "                                    new_df_agg['희비']).round(3)\n",
    "    return new_df_agg"
   ]
  },
  {
   "cell_type": "markdown",
   "metadata": {},
   "source": [
    "### function for searching a player"
   ]
  },
  {
   "cell_type": "code",
   "execution_count": null,
   "metadata": {},
   "outputs": [],
   "source": [
    "def search_player(df, name, id, year):\n",
    "    return df[ (df['name']==name)&\\\n",
    "                (df['id']==id) &\\\n",
    "                (df['연도'].isin(year))].reset_index(drop = True)"
   ]
  },
  {
   "cell_type": "code",
   "execution_count": null,
   "metadata": {},
   "outputs": [
    {
     "data": {
      "text/plain": [
       "Index(['name', 'id', 'birthday', '연도', '팀', '나이', 'P', 'G', '타석', '타수', '득점',\n",
       "       '안타', '2타', '3타', '홈런', '루타', '타점', '도루', '도실', '볼넷', '사구', '고4', '삼진',\n",
       "       '병살', '희타', '희비', '타율', '출루', '장타', 'OPS', 'wOBA', 'wRC+', 'WAR*',\n",
       "       'WPA', 'BABIP', '삼진율', '볼넷율', '타석 당 홈런', '삼진 비율', '볼넷 비율'],\n",
       "      dtype='object')"
      ]
     },
     "metadata": {},
     "output_type": "display_data"
    }
   ],
   "source": [
    "hitter_data.columns"
   ]
  },
  {
   "cell_type": "markdown",
   "metadata": {},
   "source": [
    "new players in 2024"
   ]
  },
  {
   "cell_type": "code",
   "execution_count": null,
   "metadata": {},
   "outputs": [],
   "source": [
    "new_player_list = [['안치홍', 79608],\n",
    "                   ['김강민', 71837],\n",
    "                   ['이재원', 76812]]"
   ]
  },
  {
   "cell_type": "markdown",
   "metadata": {},
   "source": [
    "### Compare the player's BABIP in total against his records in recent 3 years"
   ]
  },
  {
   "cell_type": "code",
   "execution_count": null,
   "metadata": {},
   "outputs": [
    {
     "name": "stdout",
     "output_type": "stream",
     "text": [
      "안치홍 - BABIP in total: [0.28]\n"
     ]
    },
    {
     "data": {
      "text/html": [
       "<div>\n",
       "<style scoped>\n",
       "    .dataframe tbody tr th:only-of-type {\n",
       "        vertical-align: middle;\n",
       "    }\n",
       "\n",
       "    .dataframe tbody tr th {\n",
       "        vertical-align: top;\n",
       "    }\n",
       "\n",
       "    .dataframe thead th {\n",
       "        text-align: right;\n",
       "    }\n",
       "</style>\n",
       "<table border=\"1\" class=\"dataframe\">\n",
       "  <thead>\n",
       "    <tr style=\"text-align: right;\">\n",
       "      <th></th>\n",
       "      <th>name</th>\n",
       "      <th>id</th>\n",
       "      <th>연도</th>\n",
       "      <th>나이</th>\n",
       "      <th>G</th>\n",
       "      <th>타석</th>\n",
       "      <th>삼진 비율</th>\n",
       "      <th>볼넷 비율</th>\n",
       "      <th>타석 당 홈런</th>\n",
       "      <th>OPS</th>\n",
       "      <th>wRC+</th>\n",
       "      <th>WAR*</th>\n",
       "      <th>BABIP</th>\n",
       "    </tr>\n",
       "  </thead>\n",
       "  <tbody>\n",
       "    <tr>\n",
       "      <th>0</th>\n",
       "      <td>안치홍</td>\n",
       "      <td>79608</td>\n",
       "      <td>2021</td>\n",
       "      <td>31</td>\n",
       "      <td>119</td>\n",
       "      <td>490</td>\n",
       "      <td>0.118</td>\n",
       "      <td>0.106</td>\n",
       "      <td>0.0204</td>\n",
       "      <td>0.838</td>\n",
       "      <td>124.3</td>\n",
       "      <td>3.45</td>\n",
       "      <td>0.276</td>\n",
       "    </tr>\n",
       "    <tr>\n",
       "      <th>1</th>\n",
       "      <td>안치홍</td>\n",
       "      <td>79608</td>\n",
       "      <td>2022</td>\n",
       "      <td>32</td>\n",
       "      <td>132</td>\n",
       "      <td>562</td>\n",
       "      <td>0.093</td>\n",
       "      <td>0.091</td>\n",
       "      <td>0.0249</td>\n",
       "      <td>0.790</td>\n",
       "      <td>117.2</td>\n",
       "      <td>3.24</td>\n",
       "      <td>0.251</td>\n",
       "    </tr>\n",
       "    <tr>\n",
       "      <th>2</th>\n",
       "      <td>안치홍</td>\n",
       "      <td>79608</td>\n",
       "      <td>2023</td>\n",
       "      <td>33</td>\n",
       "      <td>121</td>\n",
       "      <td>494</td>\n",
       "      <td>0.107</td>\n",
       "      <td>0.099</td>\n",
       "      <td>0.0162</td>\n",
       "      <td>0.774</td>\n",
       "      <td>119.1</td>\n",
       "      <td>2.85</td>\n",
       "      <td>0.265</td>\n",
       "    </tr>\n",
       "  </tbody>\n",
       "</table>\n",
       "</div>"
      ],
      "text/plain": [
       "  name     id    연도  나이    G   타석  삼진 비율  볼넷 비율  타석 당 홈런    OPS   wRC+  WAR*  \\\n",
       "0  안치홍  79608  2021  31  119  490  0.118  0.106   0.0204  0.838  124.3  3.45   \n",
       "1  안치홍  79608  2022  32  132  562  0.093  0.091   0.0249  0.790  117.2  3.24   \n",
       "2  안치홍  79608  2023  33  121  494  0.107  0.099   0.0162  0.774  119.1  2.85   \n",
       "\n",
       "   BABIP  \n",
       "0  0.276  \n",
       "1  0.251  \n",
       "2  0.265  "
      ]
     },
     "metadata": {},
     "output_type": "display_data"
    }
   ],
   "source": [
    "babip = total_BABIP(hitter_data, new_player_list[0][0], new_player_list[0][1])['BABIP']\n",
    "print(f\"{new_player_list[0][0]} - BABIP in total: {babip.values}\")\n",
    "\n",
    "search_player(hitter_data, new_player_list[0][0], new_player_list[0][1], range(2021,2024))\\\n",
    "            [['name', 'id', '연도', '나이', 'G', '타석', '삼진 비율', '볼넷 비율',\n",
    "            '타석 당 홈런', 'OPS', 'wRC+', 'WAR*','BABIP']]"
   ]
  },
  {
   "cell_type": "code",
   "execution_count": null,
   "metadata": {},
   "outputs": [
    {
     "name": "stdout",
     "output_type": "stream",
     "text": [
      "              안타   홈런    타석    삼진  희비  BABIP\n",
      "id    name                                  \n",
      "71837 김강민   1470  138  6047  1114  33  0.276\n"
     ]
    },
    {
     "data": {
      "text/html": [
       "<div>\n",
       "<style scoped>\n",
       "    .dataframe tbody tr th:only-of-type {\n",
       "        vertical-align: middle;\n",
       "    }\n",
       "\n",
       "    .dataframe tbody tr th {\n",
       "        vertical-align: top;\n",
       "    }\n",
       "\n",
       "    .dataframe thead th {\n",
       "        text-align: right;\n",
       "    }\n",
       "</style>\n",
       "<table border=\"1\" class=\"dataframe\">\n",
       "  <thead>\n",
       "    <tr style=\"text-align: right;\">\n",
       "      <th></th>\n",
       "      <th>name</th>\n",
       "      <th>id</th>\n",
       "      <th>나이</th>\n",
       "      <th>G</th>\n",
       "      <th>타석</th>\n",
       "      <th>삼진율</th>\n",
       "      <th>볼넷율</th>\n",
       "      <th>타석 당 홈런</th>\n",
       "      <th>OPS</th>\n",
       "      <th>wRC+</th>\n",
       "      <th>WAR*</th>\n",
       "      <th>BABIP</th>\n",
       "    </tr>\n",
       "  </thead>\n",
       "  <tbody>\n",
       "    <tr>\n",
       "      <th>3155</th>\n",
       "      <td>김강민</td>\n",
       "      <td>71837</td>\n",
       "      <td>39</td>\n",
       "      <td>122</td>\n",
       "      <td>260</td>\n",
       "      <td>0.200</td>\n",
       "      <td>0.096</td>\n",
       "      <td>0.0308</td>\n",
       "      <td>0.735</td>\n",
       "      <td>95.1</td>\n",
       "      <td>0.88</td>\n",
       "      <td>0.222</td>\n",
       "    </tr>\n",
       "    <tr>\n",
       "      <th>3156</th>\n",
       "      <td>김강민</td>\n",
       "      <td>71837</td>\n",
       "      <td>40</td>\n",
       "      <td>84</td>\n",
       "      <td>202</td>\n",
       "      <td>0.193</td>\n",
       "      <td>0.089</td>\n",
       "      <td>0.0248</td>\n",
       "      <td>0.824</td>\n",
       "      <td>129.5</td>\n",
       "      <td>1.33</td>\n",
       "      <td>0.308</td>\n",
       "    </tr>\n",
       "    <tr>\n",
       "      <th>3157</th>\n",
       "      <td>김강민</td>\n",
       "      <td>71837</td>\n",
       "      <td>41</td>\n",
       "      <td>70</td>\n",
       "      <td>166</td>\n",
       "      <td>0.229</td>\n",
       "      <td>0.139</td>\n",
       "      <td>0.0120</td>\n",
       "      <td>0.627</td>\n",
       "      <td>79.8</td>\n",
       "      <td>0.16</td>\n",
       "      <td>0.225</td>\n",
       "    </tr>\n",
       "  </tbody>\n",
       "</table>\n",
       "</div>"
      ],
      "text/plain": [
       "     name     id  나이    G   타석    삼진율    볼넷율  타석 당 홈런    OPS   wRC+  WAR*  \\\n",
       "3155  김강민  71837  39  122  260  0.200  0.096   0.0308  0.735   95.1  0.88   \n",
       "3156  김강민  71837  40   84  202  0.193  0.089   0.0248  0.824  129.5  1.33   \n",
       "3157  김강민  71837  41   70  166  0.229  0.139   0.0120  0.627   79.8  0.16   \n",
       "\n",
       "      BABIP  \n",
       "3155  0.222  \n",
       "3156  0.308  \n",
       "3157  0.225  "
      ]
     },
     "metadata": {},
     "output_type": "display_data"
    }
   ],
   "source": [
    "print(total_BABIP(hitter_data, new_player_list[1][0], new_player_list[1][1]))\n",
    "search_player(hitter_data, new_player_list[1][0], new_player_list[1][1], range(2021,2024))\\\n",
    "[['name', 'id', '연도', '나이', 'G', '타석', '삼진 비율', '볼넷 비율',\n",
    "            '타석 당 홈런', 'OPS', 'wRC+', 'WAR*','BABIP']]"
   ]
  },
  {
   "cell_type": "code",
   "execution_count": null,
   "metadata": {},
   "outputs": [
    {
     "name": "stdout",
     "output_type": "stream",
     "text": [
      "              안타   홈런    타석   삼진  희비  BABIP\n",
      "id    name                                 \n",
      "76812 이재원   1087  108  4471  623  53  0.258\n"
     ]
    },
    {
     "data": {
      "text/html": [
       "<div>\n",
       "<style scoped>\n",
       "    .dataframe tbody tr th:only-of-type {\n",
       "        vertical-align: middle;\n",
       "    }\n",
       "\n",
       "    .dataframe tbody tr th {\n",
       "        vertical-align: top;\n",
       "    }\n",
       "\n",
       "    .dataframe thead th {\n",
       "        text-align: right;\n",
       "    }\n",
       "</style>\n",
       "<table border=\"1\" class=\"dataframe\">\n",
       "  <thead>\n",
       "    <tr style=\"text-align: right;\">\n",
       "      <th></th>\n",
       "      <th>name</th>\n",
       "      <th>id</th>\n",
       "      <th>연도</th>\n",
       "      <th>나이</th>\n",
       "      <th>G</th>\n",
       "      <th>타석</th>\n",
       "      <th>삼진율</th>\n",
       "      <th>볼넷율</th>\n",
       "      <th>타석 당 홈런</th>\n",
       "      <th>OPS</th>\n",
       "      <th>wRC+</th>\n",
       "      <th>WAR*</th>\n",
       "      <th>BABIP</th>\n",
       "    </tr>\n",
       "  </thead>\n",
       "  <tbody>\n",
       "    <tr>\n",
       "      <th>4944</th>\n",
       "      <td>이재원</td>\n",
       "      <td>76812</td>\n",
       "      <td>2021</td>\n",
       "      <td>33</td>\n",
       "      <td>107</td>\n",
       "      <td>313</td>\n",
       "      <td>0.150</td>\n",
       "      <td>0.093</td>\n",
       "      <td>0.0096</td>\n",
       "      <td>0.720</td>\n",
       "      <td>95.2</td>\n",
       "      <td>1.50</td>\n",
       "      <td>0.275</td>\n",
       "    </tr>\n",
       "    <tr>\n",
       "      <th>4945</th>\n",
       "      <td>이재원</td>\n",
       "      <td>76812</td>\n",
       "      <td>2022</td>\n",
       "      <td>34</td>\n",
       "      <td>105</td>\n",
       "      <td>279</td>\n",
       "      <td>0.158</td>\n",
       "      <td>0.090</td>\n",
       "      <td>0.0143</td>\n",
       "      <td>0.574</td>\n",
       "      <td>57.8</td>\n",
       "      <td>0.28</td>\n",
       "      <td>0.184</td>\n",
       "    </tr>\n",
       "    <tr>\n",
       "      <th>4946</th>\n",
       "      <td>이재원</td>\n",
       "      <td>76812</td>\n",
       "      <td>2023</td>\n",
       "      <td>35</td>\n",
       "      <td>27</td>\n",
       "      <td>48</td>\n",
       "      <td>0.167</td>\n",
       "      <td>0.042</td>\n",
       "      <td>0.0000</td>\n",
       "      <td>0.241</td>\n",
       "      <td>-43.3</td>\n",
       "      <td>-0.56</td>\n",
       "      <td>0.098</td>\n",
       "    </tr>\n",
       "  </tbody>\n",
       "</table>\n",
       "</div>"
      ],
      "text/plain": [
       "     name     id    연도  나이    G   타석    삼진율    볼넷율  타석 당 홈런    OPS  wRC+  \\\n",
       "4944  이재원  76812  2021  33  107  313  0.150  0.093   0.0096  0.720  95.2   \n",
       "4945  이재원  76812  2022  34  105  279  0.158  0.090   0.0143  0.574  57.8   \n",
       "4946  이재원  76812  2023  35   27   48  0.167  0.042   0.0000  0.241 -43.3   \n",
       "\n",
       "      WAR*  BABIP  \n",
       "4944  1.50  0.275  \n",
       "4945  0.28  0.184  \n",
       "4946 -0.56  0.098  "
      ]
     },
     "metadata": {},
     "output_type": "display_data"
    }
   ],
   "source": [
    "print(total_BABIP(hitter_data, new_player_list[2][0], new_player_list[2][1]))\n",
    "search_player(hitter_data, new_player_list[2][0], new_player_list[2][1], [2021, 2022, 2023])\\\n",
    "[['name', 'id', '연도', '나이', 'G', '타석', '삼진 비율', '볼넷 비율',\n",
    "            '타석 당 홈런', 'OPS', 'wRC+', 'WAR*','BABIP']]"
   ]
  },
  {
   "cell_type": "markdown",
   "metadata": {},
   "source": [
    "## Analysis with tracking data"
   ]
  },
  {
   "cell_type": "markdown",
   "metadata": {},
   "source": [
    "load the data"
   ]
  },
  {
   "cell_type": "code",
   "execution_count": null,
   "metadata": {},
   "outputs": [
    {
     "data": {
      "text/plain": [
       "Index(['연도', '선수', '팀', '구종', '상대%', '타구 속도', '상하 각도', '타율', '장타율', '땅볼%',\n",
       "       '라인드라이브%', '뜬공%', '팝플라이%', '강한 타구%', '안타', '안타 타구 속도', '홈런', '홈런 타구 속도',\n",
       "       '장타', '장타 타구 속도'],\n",
       "      dtype='object')"
      ]
     },
     "metadata": {},
     "output_type": "display_data"
    }
   ],
   "source": [
    "hitter_tracking = pd.read_csv('../datasets/hitter_tracking_data.csv', index_col=0)\n",
    "hitter_tracking.columns"
   ]
  },
  {
   "cell_type": "markdown",
   "metadata": {},
   "source": [
    "Display a player's year-to-year tracking data for the recent 3 years"
   ]
  },
  {
   "cell_type": "code",
   "execution_count": null,
   "metadata": {},
   "outputs": [
    {
     "data": {
      "text/html": [
       "<div>\n",
       "<style scoped>\n",
       "    .dataframe tbody tr th:only-of-type {\n",
       "        vertical-align: middle;\n",
       "    }\n",
       "\n",
       "    .dataframe tbody tr th {\n",
       "        vertical-align: top;\n",
       "    }\n",
       "\n",
       "    .dataframe thead th {\n",
       "        text-align: right;\n",
       "    }\n",
       "</style>\n",
       "<table border=\"1\" class=\"dataframe\">\n",
       "  <thead>\n",
       "    <tr style=\"text-align: right;\">\n",
       "      <th></th>\n",
       "      <th>연도</th>\n",
       "      <th>선수</th>\n",
       "      <th>타구 속도</th>\n",
       "      <th>상하 각도</th>\n",
       "      <th>장타율</th>\n",
       "      <th>땅볼%</th>\n",
       "      <th>라인드라이브%</th>\n",
       "      <th>뜬공%</th>\n",
       "      <th>팝플라이%</th>\n",
       "      <th>강한 타구%</th>\n",
       "      <th>홈런</th>\n",
       "      <th>장타</th>\n",
       "    </tr>\n",
       "  </thead>\n",
       "  <tbody>\n",
       "    <tr>\n",
       "      <th>0</th>\n",
       "      <td>2021</td>\n",
       "      <td>안치홍</td>\n",
       "      <td>136.6</td>\n",
       "      <td>15.2</td>\n",
       "      <td>0.464</td>\n",
       "      <td>35.7</td>\n",
       "      <td>37.6</td>\n",
       "      <td>16.9</td>\n",
       "      <td>9.9</td>\n",
       "      <td>29.3</td>\n",
       "      <td>10</td>\n",
       "      <td>42</td>\n",
       "    </tr>\n",
       "    <tr>\n",
       "      <th>1</th>\n",
       "      <td>2022</td>\n",
       "      <td>안치홍</td>\n",
       "      <td>135.9</td>\n",
       "      <td>17.8</td>\n",
       "      <td>0.440</td>\n",
       "      <td>33.8</td>\n",
       "      <td>31.1</td>\n",
       "      <td>23.2</td>\n",
       "      <td>12.0</td>\n",
       "      <td>24.8</td>\n",
       "      <td>14</td>\n",
       "      <td>43</td>\n",
       "    </tr>\n",
       "    <tr>\n",
       "      <th>2</th>\n",
       "      <td>2023</td>\n",
       "      <td>안치홍</td>\n",
       "      <td>134.2</td>\n",
       "      <td>20.7</td>\n",
       "      <td>0.406</td>\n",
       "      <td>33.0</td>\n",
       "      <td>29.0</td>\n",
       "      <td>18.2</td>\n",
       "      <td>19.9</td>\n",
       "      <td>21.9</td>\n",
       "      <td>8</td>\n",
       "      <td>29</td>\n",
       "    </tr>\n",
       "  </tbody>\n",
       "</table>\n",
       "</div>"
      ],
      "text/plain": [
       "     연도   선수  타구 속도  상하 각도    장타율   땅볼%  라인드라이브%   뜬공%  팝플라이%  강한 타구%  홈런  장타\n",
       "0  2021  안치홍  136.6   15.2  0.464  35.7     37.6  16.9    9.9    29.3  10  42\n",
       "1  2022  안치홍  135.9   17.8  0.440  33.8     31.1  23.2   12.0    24.8  14  43\n",
       "2  2023  안치홍  134.2   20.7  0.406  33.0     29.0  18.2   19.9    21.9   8  29"
      ]
     },
     "metadata": {},
     "output_type": "display_data"
    }
   ],
   "source": [
    "hitter_tracking[(hitter_tracking['연도'].isin(range(2021,2024)))&(hitter_tracking['선수']=='안치홍')]\\\n",
    "    [['연도', '선수', '타구 속도', '상하 각도', '장타율', '땅볼%', '라인드라이브%', '뜬공%', '팝플라이%',\n",
    "      '강한 타구%', '홈런', '장타']].sort_values(by='연도').reset_index(drop=True)"
   ]
  },
  {
   "cell_type": "code",
   "execution_count": null,
   "metadata": {},
   "outputs": [
    {
     "data": {
      "text/html": [
       "<div>\n",
       "<style scoped>\n",
       "    .dataframe tbody tr th:only-of-type {\n",
       "        vertical-align: middle;\n",
       "    }\n",
       "\n",
       "    .dataframe tbody tr th {\n",
       "        vertical-align: top;\n",
       "    }\n",
       "\n",
       "    .dataframe thead th {\n",
       "        text-align: right;\n",
       "    }\n",
       "</style>\n",
       "<table border=\"1\" class=\"dataframe\">\n",
       "  <thead>\n",
       "    <tr style=\"text-align: right;\">\n",
       "      <th></th>\n",
       "      <th>연도</th>\n",
       "      <th>선수</th>\n",
       "      <th>타구 속도</th>\n",
       "      <th>상하 각도</th>\n",
       "      <th>장타율</th>\n",
       "      <th>땅볼%</th>\n",
       "      <th>라인드라이브%</th>\n",
       "      <th>뜬공%</th>\n",
       "      <th>팝플라이%</th>\n",
       "      <th>강한 타구%</th>\n",
       "      <th>홈런</th>\n",
       "      <th>장타</th>\n",
       "    </tr>\n",
       "  </thead>\n",
       "  <tbody>\n",
       "    <tr>\n",
       "      <th>0</th>\n",
       "      <td>2021</td>\n",
       "      <td>채은성</td>\n",
       "      <td>137.8</td>\n",
       "      <td>19.4</td>\n",
       "      <td>0.452</td>\n",
       "      <td>32.1</td>\n",
       "      <td>28.6</td>\n",
       "      <td>24.7</td>\n",
       "      <td>14.6</td>\n",
       "      <td>27.9</td>\n",
       "      <td>16</td>\n",
       "      <td>36</td>\n",
       "    </tr>\n",
       "    <tr>\n",
       "      <th>1</th>\n",
       "      <td>2022</td>\n",
       "      <td>채은성</td>\n",
       "      <td>137.5</td>\n",
       "      <td>17.6</td>\n",
       "      <td>0.437</td>\n",
       "      <td>32.5</td>\n",
       "      <td>33.0</td>\n",
       "      <td>23.5</td>\n",
       "      <td>11.0</td>\n",
       "      <td>27.8</td>\n",
       "      <td>12</td>\n",
       "      <td>40</td>\n",
       "    </tr>\n",
       "    <tr>\n",
       "      <th>2</th>\n",
       "      <td>2023</td>\n",
       "      <td>채은성</td>\n",
       "      <td>138.2</td>\n",
       "      <td>21.7</td>\n",
       "      <td>0.428</td>\n",
       "      <td>25.3</td>\n",
       "      <td>33.8</td>\n",
       "      <td>24.4</td>\n",
       "      <td>16.5</td>\n",
       "      <td>33.0</td>\n",
       "      <td>23</td>\n",
       "      <td>40</td>\n",
       "    </tr>\n",
       "  </tbody>\n",
       "</table>\n",
       "</div>"
      ],
      "text/plain": [
       "     연도   선수  타구 속도  상하 각도    장타율   땅볼%  라인드라이브%   뜬공%  팝플라이%  강한 타구%  홈런  장타\n",
       "0  2021  채은성  137.8   19.4  0.452  32.1     28.6  24.7   14.6    27.9  16  36\n",
       "1  2022  채은성  137.5   17.6  0.437  32.5     33.0  23.5   11.0    27.8  12  40\n",
       "2  2023  채은성  138.2   21.7  0.428  25.3     33.8  24.4   16.5    33.0  23  40"
      ]
     },
     "metadata": {},
     "output_type": "display_data"
    }
   ],
   "source": [
    "player_name = \"채은성\"\n",
    "hitter_tracking[(hitter_tracking['연도'].isin(range(2021,2024)))&(hitter_tracking['선수']==player_name)]\\\n",
    "    [['연도', '선수', '타구 속도', '상하 각도', '장타율', '땅볼%', '라인드라이브%', '뜬공%', '팝플라이%',\n",
    "      '강한 타구%', '홈런', '장타']].sort_values(by='연도').reset_index(drop=True)"
   ]
  },
  {
   "cell_type": "code",
   "execution_count": null,
   "metadata": {},
   "outputs": [
    {
     "data": {
      "text/html": [
       "<div>\n",
       "<style scoped>\n",
       "    .dataframe tbody tr th:only-of-type {\n",
       "        vertical-align: middle;\n",
       "    }\n",
       "\n",
       "    .dataframe tbody tr th {\n",
       "        vertical-align: top;\n",
       "    }\n",
       "\n",
       "    .dataframe thead th {\n",
       "        text-align: right;\n",
       "    }\n",
       "</style>\n",
       "<table border=\"1\" class=\"dataframe\">\n",
       "  <thead>\n",
       "    <tr style=\"text-align: right;\">\n",
       "      <th></th>\n",
       "      <th>연도</th>\n",
       "      <th>선수</th>\n",
       "      <th>타구 속도</th>\n",
       "      <th>상하 각도</th>\n",
       "      <th>장타율</th>\n",
       "      <th>땅볼%</th>\n",
       "      <th>라인드라이브%</th>\n",
       "      <th>뜬공%</th>\n",
       "      <th>팝플라이%</th>\n",
       "      <th>강한 타구%</th>\n",
       "      <th>홈런</th>\n",
       "      <th>장타</th>\n",
       "    </tr>\n",
       "  </thead>\n",
       "  <tbody>\n",
       "    <tr>\n",
       "      <th>0</th>\n",
       "      <td>2021</td>\n",
       "      <td>정은원</td>\n",
       "      <td>130.4</td>\n",
       "      <td>14.5</td>\n",
       "      <td>0.385</td>\n",
       "      <td>35.2</td>\n",
       "      <td>36.9</td>\n",
       "      <td>20.8</td>\n",
       "      <td>7.0</td>\n",
       "      <td>9.6</td>\n",
       "      <td>6</td>\n",
       "      <td>33</td>\n",
       "    </tr>\n",
       "    <tr>\n",
       "      <th>1</th>\n",
       "      <td>2022</td>\n",
       "      <td>정은원</td>\n",
       "      <td>128.9</td>\n",
       "      <td>16.7</td>\n",
       "      <td>0.365</td>\n",
       "      <td>31.7</td>\n",
       "      <td>37.1</td>\n",
       "      <td>19.2</td>\n",
       "      <td>12.0</td>\n",
       "      <td>2.1</td>\n",
       "      <td>7</td>\n",
       "      <td>29</td>\n",
       "    </tr>\n",
       "    <tr>\n",
       "      <th>2</th>\n",
       "      <td>2023</td>\n",
       "      <td>정은원</td>\n",
       "      <td>130.1</td>\n",
       "      <td>21.3</td>\n",
       "      <td>0.268</td>\n",
       "      <td>31.1</td>\n",
       "      <td>29.9</td>\n",
       "      <td>19.7</td>\n",
       "      <td>19.3</td>\n",
       "      <td>8.7</td>\n",
       "      <td>2</td>\n",
       "      <td>14</td>\n",
       "    </tr>\n",
       "  </tbody>\n",
       "</table>\n",
       "</div>"
      ],
      "text/plain": [
       "     연도   선수  타구 속도  상하 각도    장타율   땅볼%  라인드라이브%   뜬공%  팝플라이%  강한 타구%  홈런  장타\n",
       "0  2021  정은원  130.4   14.5  0.385  35.2     36.9  20.8    7.0     9.6   6  33\n",
       "1  2022  정은원  128.9   16.7  0.365  31.7     37.1  19.2   12.0     2.1   7  29\n",
       "2  2023  정은원  130.1   21.3  0.268  31.1     29.9  19.7   19.3     8.7   2  14"
      ]
     },
     "metadata": {},
     "output_type": "display_data"
    }
   ],
   "source": [
    "player_name = \"정은원\"\n",
    "hitter_tracking[(hitter_tracking['연도'].isin(range(2021,2024)))&(hitter_tracking['선수']==player_name)]\\\n",
    "    [['연도', '선수', '타구 속도', '상하 각도', '장타율', '땅볼%', '라인드라이브%', '뜬공%', '팝플라이%',\n",
    "      '강한 타구%', '홈런', '장타']].sort_values(by='연도').reset_index(drop=True)"
   ]
  }
 ],
 "metadata": {
  "language_info": {
   "name": "python"
  }
 },
 "nbformat": 4,
 "nbformat_minor": 2
}
