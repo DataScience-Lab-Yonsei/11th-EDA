{
 "cells": [
  {
   "cell_type": "markdown",
   "metadata": {},
   "source": [
    "### Manually adding records of player  missing from crawling"
   ]
  },
  {
   "cell_type": "code",
   "execution_count": 23,
   "metadata": {},
   "outputs": [],
   "source": [
    "import numpy as np\n",
    "import pandas as pd\n"
   ]
  },
  {
   "cell_type": "markdown",
   "metadata": {},
   "source": [
    "read csv file"
   ]
  },
  {
   "cell_type": "code",
   "execution_count": 24,
   "metadata": {},
   "outputs": [],
   "source": [
    "pitcher_detailed = pd.read_csv('../datasets/pitcher_detailed_stats_revised_1.csv',\n",
    "                               index_col=0)"
   ]
  },
  {
   "cell_type": "markdown",
   "metadata": {},
   "source": [
    "Check columns"
   ]
  },
  {
   "cell_type": "code",
   "execution_count": 25,
   "metadata": {},
   "outputs": [
    {
     "data": {
      "text/plain": [
       "Index(['name', 'id', 'birthday', '연도', '팀', '나이', '출장', '완투', '완봉', '선발', '승',\n",
       "       '패', '세', '홀드', '이닝', '실점', '자책', '타자', '안타', '2타', '3타', '홈런', '볼넷',\n",
       "       '고4', '사구', '삼진', '보크', '폭투', 'ERA', 'FIP', 'WHIP', 'ERA+', 'FIP+',\n",
       "       'WAR', 'WPA'],\n",
       "      dtype='object')"
      ]
     },
     "execution_count": 25,
     "metadata": {},
     "output_type": "execute_result"
    }
   ],
   "source": [
    "pitcher_detailed.columns"
   ]
  },
  {
   "cell_type": "code",
   "execution_count": 26,
   "metadata": {},
   "outputs": [
    {
     "data": {
      "text/plain": [
       "35"
      ]
     },
     "execution_count": 26,
     "metadata": {},
     "output_type": "execute_result"
    }
   ],
   "source": [
    "len(pitcher_detailed.columns)\n"
   ]
  },
  {
   "cell_type": "markdown",
   "metadata": {},
   "source": [
    "Append missing records of players to the dataframe"
   ]
  },
  {
   "cell_type": "code",
   "execution_count": 16,
   "metadata": {},
   "outputs": [
    {
     "data": {
      "text/html": [
       "<div>\n",
       "<style scoped>\n",
       "    .dataframe tbody tr th:only-of-type {\n",
       "        vertical-align: middle;\n",
       "    }\n",
       "\n",
       "    .dataframe tbody tr th {\n",
       "        vertical-align: top;\n",
       "    }\n",
       "\n",
       "    .dataframe thead th {\n",
       "        text-align: right;\n",
       "    }\n",
       "</style>\n",
       "<table border=\"1\" class=\"dataframe\">\n",
       "  <thead>\n",
       "    <tr style=\"text-align: right;\">\n",
       "      <th></th>\n",
       "      <th>name</th>\n",
       "      <th>id</th>\n",
       "      <th>birthday</th>\n",
       "      <th>연도</th>\n",
       "      <th>팀</th>\n",
       "      <th>나이</th>\n",
       "      <th>출장</th>\n",
       "      <th>완투</th>\n",
       "      <th>완봉</th>\n",
       "      <th>선발</th>\n",
       "      <th>...</th>\n",
       "      <th>삼진</th>\n",
       "      <th>보크</th>\n",
       "      <th>폭투</th>\n",
       "      <th>ERA</th>\n",
       "      <th>FIP</th>\n",
       "      <th>WHIP</th>\n",
       "      <th>ERA+</th>\n",
       "      <th>FIP+</th>\n",
       "      <th>WAR</th>\n",
       "      <th>WPA</th>\n",
       "    </tr>\n",
       "  </thead>\n",
       "  <tbody>\n",
       "    <tr>\n",
       "      <th>0</th>\n",
       "      <td>페냐</td>\n",
       "      <td>52720</td>\n",
       "      <td>1990.1.25</td>\n",
       "      <td>2022</td>\n",
       "      <td>한화</td>\n",
       "      <td>32</td>\n",
       "      <td>13</td>\n",
       "      <td>0</td>\n",
       "      <td>0</td>\n",
       "      <td>13</td>\n",
       "      <td>...</td>\n",
       "      <td>72</td>\n",
       "      <td>0</td>\n",
       "      <td>4</td>\n",
       "      <td>3.72</td>\n",
       "      <td>3.49</td>\n",
       "      <td>1.37</td>\n",
       "      <td>108.7</td>\n",
       "      <td>116.7</td>\n",
       "      <td>0.58</td>\n",
       "      <td>0.15</td>\n",
       "    </tr>\n",
       "    <tr>\n",
       "      <th>1</th>\n",
       "      <td>페냐</td>\n",
       "      <td>52720</td>\n",
       "      <td>1990.1.25</td>\n",
       "      <td>2023</td>\n",
       "      <td>한화</td>\n",
       "      <td>33</td>\n",
       "      <td>32</td>\n",
       "      <td>0</td>\n",
       "      <td>0</td>\n",
       "      <td>32</td>\n",
       "      <td>...</td>\n",
       "      <td>147</td>\n",
       "      <td>4</td>\n",
       "      <td>16</td>\n",
       "      <td>3.60</td>\n",
       "      <td>4.10</td>\n",
       "      <td>1.17</td>\n",
       "      <td>115.2</td>\n",
       "      <td>101.3</td>\n",
       "      <td>3.53</td>\n",
       "      <td>-0.27</td>\n",
       "    </tr>\n",
       "  </tbody>\n",
       "</table>\n",
       "<p>2 rows × 35 columns</p>\n",
       "</div>"
      ],
      "text/plain": [
       "  name     id   birthday    연도   팀  나이  출장  완투  완봉  선발  ...   삼진  보크  폭투  \\\n",
       "0   페냐  52720  1990.1.25  2022  한화  32  13   0   0  13  ...   72   0   4   \n",
       "1   페냐  52720  1990.1.25  2023  한화  33  32   0   0  32  ...  147   4  16   \n",
       "\n",
       "    ERA   FIP  WHIP   ERA+   FIP+   WAR   WPA  \n",
       "0  3.72  3.49  1.37  108.7  116.7  0.58  0.15  \n",
       "1  3.60  4.10  1.17  115.2  101.3  3.53 -0.27  \n",
       "\n",
       "[2 rows x 35 columns]"
      ]
     },
     "execution_count": 16,
     "metadata": {},
     "output_type": "execute_result"
    }
   ],
   "source": [
    "# player_data = [['페냐',\t'52720', '1990.1.25', 2022,\t'한화',\t32,\t13,\t0,\t0,\t13,\t5,\t4,\t0,\t0,\t67.2,\t33,\t28,\t293,\t63,\t10,\t2,\t4,\t30,\t0,\t4,\t72,\t0,\t4,\t3.72,\t3.49,\t1.37,\t108.7,\t116.7,\t0.58,\t0.15],\n",
    "#                 ['페냐', '52720', '1990.1.25', 2023,\t'한화',\t33,\t32,\t0,\t0,\t32,\t11,\t11,\t0,\t0,\t177.1,\t82,\t71,\t751,\t149,\t28,\t5,\t14,\t59,\t1,\t18,\t147,\t4,\t16,\t3.60,\t4.10,\t1.17,\t115.2,\t101.3,\t3.53,\t-0.27]]\n",
    "# player_data = pd.DataFrame(player_data, columns = pitcher_detailed.columns)\n",
    "# player_data\n",
    "\n",
    "# result_df = pd.concat([pitcher_detailed,player_data], axis = 0).reset_index(drop = True)"
   ]
  },
  {
   "cell_type": "markdown",
   "metadata": {},
   "source": [
    "저장"
   ]
  },
  {
   "cell_type": "code",
   "execution_count": 30,
   "metadata": {},
   "outputs": [],
   "source": [
    "result_df = pitcher_detailed"
   ]
  },
  {
   "cell_type": "code",
   "execution_count": 31,
   "metadata": {},
   "outputs": [],
   "source": [
    "result_df.to_csv('./datasets/pitcher_detailed_stats_revised_1.csv')"
   ]
  },
  {
   "cell_type": "code",
   "execution_count": null,
   "metadata": {},
   "outputs": [],
   "source": []
  }
 ],
 "metadata": {
  "kernelspec": {
   "display_name": "EDA",
   "language": "python",
   "name": "python3"
  },
  "language_info": {
   "codemirror_mode": {
    "name": "ipython",
    "version": 3
   },
   "file_extension": ".py",
   "mimetype": "text/x-python",
   "name": "python",
   "nbconvert_exporter": "python",
   "pygments_lexer": "ipython3",
   "version": "3.11.5"
  }
 },
 "nbformat": 4,
 "nbformat_minor": 2
}
