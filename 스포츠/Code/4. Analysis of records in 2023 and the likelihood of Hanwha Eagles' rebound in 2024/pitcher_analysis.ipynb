{
 "cells": [
  {
   "cell_type": "code",
   "execution_count": 59,
   "metadata": {},
   "outputs": [],
   "source": [
    "import numpy as np\n",
    "import pandas as pd\n",
    "\n"
   ]
  },
  {
   "cell_type": "markdown",
   "metadata": {},
   "source": [
    "# Load data"
   ]
  },
  {
   "cell_type": "markdown",
   "metadata": {},
   "source": [
    "## pitcher_detailed"
   ]
  },
  {
   "cell_type": "code",
   "execution_count": 60,
   "metadata": {},
   "outputs": [
    {
     "data": {
      "text/html": [
       "<div>\n",
       "<style scoped>\n",
       "    .dataframe tbody tr th:only-of-type {\n",
       "        vertical-align: middle;\n",
       "    }\n",
       "\n",
       "    .dataframe tbody tr th {\n",
       "        vertical-align: top;\n",
       "    }\n",
       "\n",
       "    .dataframe thead th {\n",
       "        text-align: right;\n",
       "    }\n",
       "</style>\n",
       "<table border=\"1\" class=\"dataframe\">\n",
       "  <thead>\n",
       "    <tr style=\"text-align: right;\">\n",
       "      <th></th>\n",
       "      <th>name</th>\n",
       "      <th>id</th>\n",
       "      <th>birthday</th>\n",
       "      <th>연도</th>\n",
       "      <th>팀</th>\n",
       "      <th>나이</th>\n",
       "      <th>출장</th>\n",
       "      <th>완투</th>\n",
       "      <th>완봉</th>\n",
       "      <th>선발</th>\n",
       "      <th>...</th>\n",
       "      <th>삼진</th>\n",
       "      <th>보크</th>\n",
       "      <th>폭투</th>\n",
       "      <th>ERA</th>\n",
       "      <th>FIP</th>\n",
       "      <th>WHIP</th>\n",
       "      <th>ERA+</th>\n",
       "      <th>FIP+</th>\n",
       "      <th>WAR</th>\n",
       "      <th>WPA</th>\n",
       "    </tr>\n",
       "  </thead>\n",
       "  <tbody>\n",
       "    <tr>\n",
       "      <th>0</th>\n",
       "      <td>황태환</td>\n",
       "      <td>10082</td>\n",
       "      <td>1952-08-06</td>\n",
       "      <td>1982</td>\n",
       "      <td>OB</td>\n",
       "      <td>30</td>\n",
       "      <td>27</td>\n",
       "      <td>2</td>\n",
       "      <td>0</td>\n",
       "      <td>6</td>\n",
       "      <td>...</td>\n",
       "      <td>42</td>\n",
       "      <td>0</td>\n",
       "      <td>4</td>\n",
       "      <td>3.86</td>\n",
       "      <td>4.85</td>\n",
       "      <td>1.31</td>\n",
       "      <td>100.9</td>\n",
       "      <td>80.2</td>\n",
       "      <td>1.08</td>\n",
       "      <td>NaN</td>\n",
       "    </tr>\n",
       "    <tr>\n",
       "      <th>1</th>\n",
       "      <td>황태환</td>\n",
       "      <td>10082</td>\n",
       "      <td>1952-08-06</td>\n",
       "      <td>1983</td>\n",
       "      <td>OB</td>\n",
       "      <td>31</td>\n",
       "      <td>39</td>\n",
       "      <td>0</td>\n",
       "      <td>0</td>\n",
       "      <td>2</td>\n",
       "      <td>...</td>\n",
       "      <td>60</td>\n",
       "      <td>0</td>\n",
       "      <td>0</td>\n",
       "      <td>2.65</td>\n",
       "      <td>3.50</td>\n",
       "      <td>1.38</td>\n",
       "      <td>123.6</td>\n",
       "      <td>93.5</td>\n",
       "      <td>2.02</td>\n",
       "      <td>NaN</td>\n",
       "    </tr>\n",
       "    <tr>\n",
       "      <th>2</th>\n",
       "      <td>황태환</td>\n",
       "      <td>10082</td>\n",
       "      <td>1952-08-06</td>\n",
       "      <td>1984</td>\n",
       "      <td>OB</td>\n",
       "      <td>32</td>\n",
       "      <td>17</td>\n",
       "      <td>0</td>\n",
       "      <td>0</td>\n",
       "      <td>3</td>\n",
       "      <td>...</td>\n",
       "      <td>19</td>\n",
       "      <td>0</td>\n",
       "      <td>0</td>\n",
       "      <td>2.48</td>\n",
       "      <td>3.44</td>\n",
       "      <td>1.28</td>\n",
       "      <td>135.7</td>\n",
       "      <td>97.6</td>\n",
       "      <td>0.92</td>\n",
       "      <td>NaN</td>\n",
       "    </tr>\n",
       "    <tr>\n",
       "      <th>3</th>\n",
       "      <td>황태환</td>\n",
       "      <td>10082</td>\n",
       "      <td>1952-08-06</td>\n",
       "      <td>1985</td>\n",
       "      <td>OB</td>\n",
       "      <td>33</td>\n",
       "      <td>35</td>\n",
       "      <td>1</td>\n",
       "      <td>1</td>\n",
       "      <td>6</td>\n",
       "      <td>...</td>\n",
       "      <td>50</td>\n",
       "      <td>0</td>\n",
       "      <td>2</td>\n",
       "      <td>3.53</td>\n",
       "      <td>3.23</td>\n",
       "      <td>1.23</td>\n",
       "      <td>101.1</td>\n",
       "      <td>110.5</td>\n",
       "      <td>2.10</td>\n",
       "      <td>NaN</td>\n",
       "    </tr>\n",
       "    <tr>\n",
       "      <th>4</th>\n",
       "      <td>황태환</td>\n",
       "      <td>10082</td>\n",
       "      <td>1952-08-06</td>\n",
       "      <td>1986</td>\n",
       "      <td>OB</td>\n",
       "      <td>34</td>\n",
       "      <td>28</td>\n",
       "      <td>0</td>\n",
       "      <td>0</td>\n",
       "      <td>1</td>\n",
       "      <td>...</td>\n",
       "      <td>36</td>\n",
       "      <td>0</td>\n",
       "      <td>1</td>\n",
       "      <td>2.45</td>\n",
       "      <td>3.19</td>\n",
       "      <td>1.23</td>\n",
       "      <td>121.1</td>\n",
       "      <td>93.1</td>\n",
       "      <td>1.64</td>\n",
       "      <td>NaN</td>\n",
       "    </tr>\n",
       "    <tr>\n",
       "      <th>...</th>\n",
       "      <td>...</td>\n",
       "      <td>...</td>\n",
       "      <td>...</td>\n",
       "      <td>...</td>\n",
       "      <td>...</td>\n",
       "      <td>...</td>\n",
       "      <td>...</td>\n",
       "      <td>...</td>\n",
       "      <td>...</td>\n",
       "      <td>...</td>\n",
       "      <td>...</td>\n",
       "      <td>...</td>\n",
       "      <td>...</td>\n",
       "      <td>...</td>\n",
       "      <td>...</td>\n",
       "      <td>...</td>\n",
       "      <td>...</td>\n",
       "      <td>...</td>\n",
       "      <td>...</td>\n",
       "      <td>...</td>\n",
       "      <td>...</td>\n",
       "    </tr>\n",
       "    <tr>\n",
       "      <th>7170</th>\n",
       "      <td>김병준</td>\n",
       "      <td>99742</td>\n",
       "      <td>1977-04-01</td>\n",
       "      <td>2002</td>\n",
       "      <td>한화</td>\n",
       "      <td>25</td>\n",
       "      <td>15</td>\n",
       "      <td>0</td>\n",
       "      <td>0</td>\n",
       "      <td>2</td>\n",
       "      <td>...</td>\n",
       "      <td>17</td>\n",
       "      <td>0</td>\n",
       "      <td>0</td>\n",
       "      <td>6.15</td>\n",
       "      <td>3.72</td>\n",
       "      <td>1.56</td>\n",
       "      <td>70.7</td>\n",
       "      <td>116.8</td>\n",
       "      <td>0.31</td>\n",
       "      <td>NaN</td>\n",
       "    </tr>\n",
       "    <tr>\n",
       "      <th>7171</th>\n",
       "      <td>전하진</td>\n",
       "      <td>99767</td>\n",
       "      <td>1979-02-11</td>\n",
       "      <td>2000</td>\n",
       "      <td>한화</td>\n",
       "      <td>21</td>\n",
       "      <td>7</td>\n",
       "      <td>0</td>\n",
       "      <td>0</td>\n",
       "      <td>0</td>\n",
       "      <td>...</td>\n",
       "      <td>8</td>\n",
       "      <td>0</td>\n",
       "      <td>0</td>\n",
       "      <td>5.40</td>\n",
       "      <td>5.56</td>\n",
       "      <td>1.63</td>\n",
       "      <td>88.0</td>\n",
       "      <td>85.5</td>\n",
       "      <td>0.12</td>\n",
       "      <td>NaN</td>\n",
       "    </tr>\n",
       "    <tr>\n",
       "      <th>7172</th>\n",
       "      <td>비아노</td>\n",
       "      <td>99846</td>\n",
       "      <td>1973-09-04</td>\n",
       "      <td>1999</td>\n",
       "      <td>쌍방울</td>\n",
       "      <td>26</td>\n",
       "      <td>28</td>\n",
       "      <td>0</td>\n",
       "      <td>0</td>\n",
       "      <td>8</td>\n",
       "      <td>...</td>\n",
       "      <td>37</td>\n",
       "      <td>1</td>\n",
       "      <td>3</td>\n",
       "      <td>7.06</td>\n",
       "      <td>6.48</td>\n",
       "      <td>1.97</td>\n",
       "      <td>69.8</td>\n",
       "      <td>76.1</td>\n",
       "      <td>0.04</td>\n",
       "      <td>NaN</td>\n",
       "    </tr>\n",
       "    <tr>\n",
       "      <th>7173</th>\n",
       "      <td>페냐</td>\n",
       "      <td>52720</td>\n",
       "      <td>1990.1.25</td>\n",
       "      <td>2022</td>\n",
       "      <td>한화</td>\n",
       "      <td>32</td>\n",
       "      <td>13</td>\n",
       "      <td>0</td>\n",
       "      <td>0</td>\n",
       "      <td>13</td>\n",
       "      <td>...</td>\n",
       "      <td>72</td>\n",
       "      <td>0</td>\n",
       "      <td>4</td>\n",
       "      <td>3.72</td>\n",
       "      <td>3.49</td>\n",
       "      <td>1.37</td>\n",
       "      <td>108.7</td>\n",
       "      <td>116.7</td>\n",
       "      <td>0.58</td>\n",
       "      <td>0.15</td>\n",
       "    </tr>\n",
       "    <tr>\n",
       "      <th>7174</th>\n",
       "      <td>페냐</td>\n",
       "      <td>52720</td>\n",
       "      <td>1990.1.25</td>\n",
       "      <td>2023</td>\n",
       "      <td>한화</td>\n",
       "      <td>33</td>\n",
       "      <td>32</td>\n",
       "      <td>0</td>\n",
       "      <td>0</td>\n",
       "      <td>32</td>\n",
       "      <td>...</td>\n",
       "      <td>147</td>\n",
       "      <td>4</td>\n",
       "      <td>16</td>\n",
       "      <td>3.60</td>\n",
       "      <td>4.10</td>\n",
       "      <td>1.17</td>\n",
       "      <td>115.2</td>\n",
       "      <td>101.3</td>\n",
       "      <td>3.53</td>\n",
       "      <td>-0.27</td>\n",
       "    </tr>\n",
       "  </tbody>\n",
       "</table>\n",
       "<p>7175 rows × 35 columns</p>\n",
       "</div>"
      ],
      "text/plain": [
       "     name     id    birthday    연도    팀  나이  출장  완투  완봉  선발  ...   삼진  보크  폭투  \\\n",
       "0     황태환  10082  1952-08-06  1982   OB  30  27   2   0   6  ...   42   0   4   \n",
       "1     황태환  10082  1952-08-06  1983   OB  31  39   0   0   2  ...   60   0   0   \n",
       "2     황태환  10082  1952-08-06  1984   OB  32  17   0   0   3  ...   19   0   0   \n",
       "3     황태환  10082  1952-08-06  1985   OB  33  35   1   1   6  ...   50   0   2   \n",
       "4     황태환  10082  1952-08-06  1986   OB  34  28   0   0   1  ...   36   0   1   \n",
       "...   ...    ...         ...   ...  ...  ..  ..  ..  ..  ..  ...  ...  ..  ..   \n",
       "7170  김병준  99742  1977-04-01  2002   한화  25  15   0   0   2  ...   17   0   0   \n",
       "7171  전하진  99767  1979-02-11  2000   한화  21   7   0   0   0  ...    8   0   0   \n",
       "7172  비아노  99846  1973-09-04  1999  쌍방울  26  28   0   0   8  ...   37   1   3   \n",
       "7173   페냐  52720   1990.1.25  2022   한화  32  13   0   0  13  ...   72   0   4   \n",
       "7174   페냐  52720   1990.1.25  2023   한화  33  32   0   0  32  ...  147   4  16   \n",
       "\n",
       "       ERA   FIP  WHIP   ERA+   FIP+   WAR   WPA  \n",
       "0     3.86  4.85  1.31  100.9   80.2  1.08   NaN  \n",
       "1     2.65  3.50  1.38  123.6   93.5  2.02   NaN  \n",
       "2     2.48  3.44  1.28  135.7   97.6  0.92   NaN  \n",
       "3     3.53  3.23  1.23  101.1  110.5  2.10   NaN  \n",
       "4     2.45  3.19  1.23  121.1   93.1  1.64   NaN  \n",
       "...    ...   ...   ...    ...    ...   ...   ...  \n",
       "7170  6.15  3.72  1.56   70.7  116.8  0.31   NaN  \n",
       "7171  5.40  5.56  1.63   88.0   85.5  0.12   NaN  \n",
       "7172  7.06  6.48  1.97   69.8   76.1  0.04   NaN  \n",
       "7173  3.72  3.49  1.37  108.7  116.7  0.58  0.15  \n",
       "7174  3.60  4.10  1.17  115.2  101.3  3.53 -0.27  \n",
       "\n",
       "[7175 rows x 35 columns]"
      ]
     },
     "execution_count": 60,
     "metadata": {},
     "output_type": "execute_result"
    }
   ],
   "source": [
    "pitcher_detailed = pd.read_csv(\"./datasets/pitcher_detailed_stats_revised_1.csv\", index_col=0)\n",
    "pitcher_detailed"
   ]
  },
  {
   "cell_type": "markdown",
   "metadata": {},
   "source": [
    "## pitcher tracking data"
   ]
  },
  {
   "cell_type": "code",
   "execution_count": 61,
   "metadata": {},
   "outputs": [],
   "source": [
    "pitcher_fast_ball_df = pd.read_csv('./datasets/pitcher_fast_ball_tracking_data.csv',\n",
    "                                   index_col=0)\n",
    "pitcher_changeup_df = pd.read_csv('./datasets/pitcher_changeup_tracking_data.csv',\n",
    "                                   index_col=0)\n",
    "pitcher_slider_df = pd.read_csv('./datasets/pitcher_slider_tracking_data.csv',\n",
    "                                   index_col=0)\n",
    "pitcher_curve_df = pd.read_csv('./datasets/pitcher_curve_tracking_data.csv',\n",
    "                                   index_col=0)"
   ]
  },
  {
   "cell_type": "code",
   "execution_count": 62,
   "metadata": {},
   "outputs": [
    {
     "data": {
      "text/plain": [
       "Index(['연도', '선수', '팀', '구종', '직구_구사%', '직구_구속', '직구_상하_무브먼트', '직구_좌우_무브먼트',\n",
       "       '직구_분당_회전수', '직구_좌우_릴리스포인트', '직구_상하_릴리스포인트', '직구_타구_속도', '직구_상하_각도',\n",
       "       '직구_피안타율', '직구_피장타율', '직구_땅볼%', '직구_라인드라이브%', '직구_뜬공%', '직구_팝플라이%',\n",
       "       '직구_강한_타구%'],\n",
       "      dtype='object')"
      ]
     },
     "execution_count": 62,
     "metadata": {},
     "output_type": "execute_result"
    }
   ],
   "source": [
    "pitcher_fast_ball_df.columns"
   ]
  },
  {
   "cell_type": "code",
   "execution_count": 63,
   "metadata": {},
   "outputs": [
    {
     "data": {
      "text/html": [
       "<div>\n",
       "<style scoped>\n",
       "    .dataframe tbody tr th:only-of-type {\n",
       "        vertical-align: middle;\n",
       "    }\n",
       "\n",
       "    .dataframe tbody tr th {\n",
       "        vertical-align: top;\n",
       "    }\n",
       "\n",
       "    .dataframe thead th {\n",
       "        text-align: right;\n",
       "    }\n",
       "</style>\n",
       "<table border=\"1\" class=\"dataframe\">\n",
       "  <thead>\n",
       "    <tr style=\"text-align: right;\">\n",
       "      <th></th>\n",
       "      <th>연도</th>\n",
       "      <th>선수</th>\n",
       "      <th>팀</th>\n",
       "      <th>직구_구사%</th>\n",
       "      <th>직구_구속</th>\n",
       "      <th>직구_상하_무브먼트</th>\n",
       "      <th>직구_좌우_무브먼트</th>\n",
       "      <th>직구_분당_회전수</th>\n",
       "    </tr>\n",
       "  </thead>\n",
       "  <tbody>\n",
       "    <tr>\n",
       "      <th>0</th>\n",
       "      <td>2023</td>\n",
       "      <td>박세진</td>\n",
       "      <td>KT</td>\n",
       "      <td>69.5</td>\n",
       "      <td>140.2</td>\n",
       "      <td>28.9</td>\n",
       "      <td>27.0</td>\n",
       "      <td>2957.4</td>\n",
       "    </tr>\n",
       "    <tr>\n",
       "      <th>1</th>\n",
       "      <td>2023</td>\n",
       "      <td>벤자민</td>\n",
       "      <td>KT</td>\n",
       "      <td>39.1</td>\n",
       "      <td>143.7</td>\n",
       "      <td>28.2</td>\n",
       "      <td>23.1</td>\n",
       "      <td>2790.6</td>\n",
       "    </tr>\n",
       "    <tr>\n",
       "      <th>2</th>\n",
       "      <td>2023</td>\n",
       "      <td>정우람</td>\n",
       "      <td>한화</td>\n",
       "      <td>54.6</td>\n",
       "      <td>133.2</td>\n",
       "      <td>28.5</td>\n",
       "      <td>27.1</td>\n",
       "      <td>2723.7</td>\n",
       "    </tr>\n",
       "    <tr>\n",
       "      <th>3</th>\n",
       "      <td>2023</td>\n",
       "      <td>김기훈</td>\n",
       "      <td>KIA</td>\n",
       "      <td>74.2</td>\n",
       "      <td>143.7</td>\n",
       "      <td>33.7</td>\n",
       "      <td>14.1</td>\n",
       "      <td>2722.3</td>\n",
       "    </tr>\n",
       "    <tr>\n",
       "      <th>4</th>\n",
       "      <td>2023</td>\n",
       "      <td>산체스</td>\n",
       "      <td>한화</td>\n",
       "      <td>48.6</td>\n",
       "      <td>147.8</td>\n",
       "      <td>22.5</td>\n",
       "      <td>26.9</td>\n",
       "      <td>2713.4</td>\n",
       "    </tr>\n",
       "    <tr>\n",
       "      <th>5</th>\n",
       "      <td>2023</td>\n",
       "      <td>김원중</td>\n",
       "      <td>롯데</td>\n",
       "      <td>44.3</td>\n",
       "      <td>146.4</td>\n",
       "      <td>26.5</td>\n",
       "      <td>-22.7</td>\n",
       "      <td>2685.9</td>\n",
       "    </tr>\n",
       "    <tr>\n",
       "      <th>6</th>\n",
       "      <td>2023</td>\n",
       "      <td>김재웅</td>\n",
       "      <td>키움</td>\n",
       "      <td>62.4</td>\n",
       "      <td>140.1</td>\n",
       "      <td>35.6</td>\n",
       "      <td>8.2</td>\n",
       "      <td>2672.3</td>\n",
       "    </tr>\n",
       "    <tr>\n",
       "      <th>7</th>\n",
       "      <td>2023</td>\n",
       "      <td>구창모</td>\n",
       "      <td>NC</td>\n",
       "      <td>50.7</td>\n",
       "      <td>142.6</td>\n",
       "      <td>30.0</td>\n",
       "      <td>19.5</td>\n",
       "      <td>2670.8</td>\n",
       "    </tr>\n",
       "    <tr>\n",
       "      <th>8</th>\n",
       "      <td>2023</td>\n",
       "      <td>이의리</td>\n",
       "      <td>KIA</td>\n",
       "      <td>59.4</td>\n",
       "      <td>145.9</td>\n",
       "      <td>30.5</td>\n",
       "      <td>17.4</td>\n",
       "      <td>2663.6</td>\n",
       "    </tr>\n",
       "    <tr>\n",
       "      <th>9</th>\n",
       "      <td>2023</td>\n",
       "      <td>문성현</td>\n",
       "      <td>키움</td>\n",
       "      <td>68.3</td>\n",
       "      <td>141.6</td>\n",
       "      <td>36.1</td>\n",
       "      <td>-2.2</td>\n",
       "      <td>2662.9</td>\n",
       "    </tr>\n",
       "    <tr>\n",
       "      <th>10</th>\n",
       "      <td>2023</td>\n",
       "      <td>안우진</td>\n",
       "      <td>키움</td>\n",
       "      <td>50.5</td>\n",
       "      <td>152.5</td>\n",
       "      <td>31.1</td>\n",
       "      <td>-11.5</td>\n",
       "      <td>2660.8</td>\n",
       "    </tr>\n",
       "    <tr>\n",
       "      <th>11</th>\n",
       "      <td>2023</td>\n",
       "      <td>최지민</td>\n",
       "      <td>KIA</td>\n",
       "      <td>63.4</td>\n",
       "      <td>145.6</td>\n",
       "      <td>26.5</td>\n",
       "      <td>23.0</td>\n",
       "      <td>2648.3</td>\n",
       "    </tr>\n",
       "    <tr>\n",
       "      <th>12</th>\n",
       "      <td>2023</td>\n",
       "      <td>노건우</td>\n",
       "      <td>삼성</td>\n",
       "      <td>63.0</td>\n",
       "      <td>143.3</td>\n",
       "      <td>29.3</td>\n",
       "      <td>19.5</td>\n",
       "      <td>2646.6</td>\n",
       "    </tr>\n",
       "    <tr>\n",
       "      <th>13</th>\n",
       "      <td>2023</td>\n",
       "      <td>문승원</td>\n",
       "      <td>SSG</td>\n",
       "      <td>38.8</td>\n",
       "      <td>144.4</td>\n",
       "      <td>28.9</td>\n",
       "      <td>-19.3</td>\n",
       "      <td>2645.8</td>\n",
       "    </tr>\n",
       "    <tr>\n",
       "      <th>14</th>\n",
       "      <td>2023</td>\n",
       "      <td>김기중</td>\n",
       "      <td>한화</td>\n",
       "      <td>45.4</td>\n",
       "      <td>140.9</td>\n",
       "      <td>30.2</td>\n",
       "      <td>18.5</td>\n",
       "      <td>2639.7</td>\n",
       "    </tr>\n",
       "    <tr>\n",
       "      <th>15</th>\n",
       "      <td>2023</td>\n",
       "      <td>임창민</td>\n",
       "      <td>키움</td>\n",
       "      <td>46.4</td>\n",
       "      <td>141.1</td>\n",
       "      <td>31.6</td>\n",
       "      <td>-16.5</td>\n",
       "      <td>2635.3</td>\n",
       "    </tr>\n",
       "    <tr>\n",
       "      <th>16</th>\n",
       "      <td>2023</td>\n",
       "      <td>노경은</td>\n",
       "      <td>SSG</td>\n",
       "      <td>26.8</td>\n",
       "      <td>144.5</td>\n",
       "      <td>29.8</td>\n",
       "      <td>-17.4</td>\n",
       "      <td>2631.6</td>\n",
       "    </tr>\n",
       "    <tr>\n",
       "      <th>17</th>\n",
       "      <td>2023</td>\n",
       "      <td>김서준</td>\n",
       "      <td>삼성</td>\n",
       "      <td>78.2</td>\n",
       "      <td>141.6</td>\n",
       "      <td>24.9</td>\n",
       "      <td>-24.9</td>\n",
       "      <td>2622.8</td>\n",
       "    </tr>\n",
       "    <tr>\n",
       "      <th>18</th>\n",
       "      <td>2023</td>\n",
       "      <td>하영민</td>\n",
       "      <td>키움</td>\n",
       "      <td>28.0</td>\n",
       "      <td>147.4</td>\n",
       "      <td>30.8</td>\n",
       "      <td>-14.2</td>\n",
       "      <td>2606.5</td>\n",
       "    </tr>\n",
       "    <tr>\n",
       "      <th>19</th>\n",
       "      <td>2023</td>\n",
       "      <td>김진호</td>\n",
       "      <td>NC</td>\n",
       "      <td>61.1</td>\n",
       "      <td>147.5</td>\n",
       "      <td>24.9</td>\n",
       "      <td>-22.7</td>\n",
       "      <td>2598.1</td>\n",
       "    </tr>\n",
       "    <tr>\n",
       "      <th>20</th>\n",
       "      <td>2023</td>\n",
       "      <td>박영현</td>\n",
       "      <td>KT</td>\n",
       "      <td>60.3</td>\n",
       "      <td>144.3</td>\n",
       "      <td>31.9</td>\n",
       "      <td>-10.6</td>\n",
       "      <td>2597.1</td>\n",
       "    </tr>\n",
       "    <tr>\n",
       "      <th>21</th>\n",
       "      <td>2023</td>\n",
       "      <td>김유성</td>\n",
       "      <td>두산</td>\n",
       "      <td>65.5</td>\n",
       "      <td>145.4</td>\n",
       "      <td>32.3</td>\n",
       "      <td>-8.8</td>\n",
       "      <td>2594.7</td>\n",
       "    </tr>\n",
       "    <tr>\n",
       "      <th>22</th>\n",
       "      <td>2023</td>\n",
       "      <td>이정용</td>\n",
       "      <td>LG</td>\n",
       "      <td>50.8</td>\n",
       "      <td>142.8</td>\n",
       "      <td>29.0</td>\n",
       "      <td>-18.2</td>\n",
       "      <td>2593.7</td>\n",
       "    </tr>\n",
       "    <tr>\n",
       "      <th>23</th>\n",
       "      <td>2023</td>\n",
       "      <td>알칸타라</td>\n",
       "      <td>두산</td>\n",
       "      <td>49.7</td>\n",
       "      <td>149.9</td>\n",
       "      <td>27.1</td>\n",
       "      <td>-18.4</td>\n",
       "      <td>2591.3</td>\n",
       "    </tr>\n",
       "    <tr>\n",
       "      <th>24</th>\n",
       "      <td>2023</td>\n",
       "      <td>박승주</td>\n",
       "      <td>키움</td>\n",
       "      <td>68.5</td>\n",
       "      <td>141.8</td>\n",
       "      <td>33.4</td>\n",
       "      <td>-10.5</td>\n",
       "      <td>2586.7</td>\n",
       "    </tr>\n",
       "    <tr>\n",
       "      <th>25</th>\n",
       "      <td>2023</td>\n",
       "      <td>후라도</td>\n",
       "      <td>키움</td>\n",
       "      <td>28.8</td>\n",
       "      <td>145.5</td>\n",
       "      <td>30.6</td>\n",
       "      <td>-14.8</td>\n",
       "      <td>2581.8</td>\n",
       "    </tr>\n",
       "    <tr>\n",
       "      <th>26</th>\n",
       "      <td>2023</td>\n",
       "      <td>김동주</td>\n",
       "      <td>두산</td>\n",
       "      <td>43.5</td>\n",
       "      <td>142.9</td>\n",
       "      <td>25.6</td>\n",
       "      <td>-22.4</td>\n",
       "      <td>2579.8</td>\n",
       "    </tr>\n",
       "    <tr>\n",
       "      <th>27</th>\n",
       "      <td>2023</td>\n",
       "      <td>이종민</td>\n",
       "      <td>키움</td>\n",
       "      <td>66.0</td>\n",
       "      <td>137.4</td>\n",
       "      <td>29.7</td>\n",
       "      <td>20.6</td>\n",
       "      <td>2578.9</td>\n",
       "    </tr>\n",
       "    <tr>\n",
       "      <th>28</th>\n",
       "      <td>2023</td>\n",
       "      <td>김재윤</td>\n",
       "      <td>KT</td>\n",
       "      <td>71.2</td>\n",
       "      <td>142.6</td>\n",
       "      <td>30.9</td>\n",
       "      <td>-14.0</td>\n",
       "      <td>2576.0</td>\n",
       "    </tr>\n",
       "    <tr>\n",
       "      <th>29</th>\n",
       "      <td>2023</td>\n",
       "      <td>이건욱</td>\n",
       "      <td>SSG</td>\n",
       "      <td>58.0</td>\n",
       "      <td>144.0</td>\n",
       "      <td>30.7</td>\n",
       "      <td>-14.2</td>\n",
       "      <td>2567.5</td>\n",
       "    </tr>\n",
       "  </tbody>\n",
       "</table>\n",
       "</div>"
      ],
      "text/plain": [
       "      연도    선수    팀  직구_구사%  직구_구속  직구_상하_무브먼트  직구_좌우_무브먼트  직구_분당_회전수\n",
       "0   2023   박세진   KT    69.5  140.2        28.9        27.0     2957.4\n",
       "1   2023   벤자민   KT    39.1  143.7        28.2        23.1     2790.6\n",
       "2   2023   정우람   한화    54.6  133.2        28.5        27.1     2723.7\n",
       "3   2023   김기훈  KIA    74.2  143.7        33.7        14.1     2722.3\n",
       "4   2023   산체스   한화    48.6  147.8        22.5        26.9     2713.4\n",
       "5   2023   김원중   롯데    44.3  146.4        26.5       -22.7     2685.9\n",
       "6   2023   김재웅   키움    62.4  140.1        35.6         8.2     2672.3\n",
       "7   2023   구창모   NC    50.7  142.6        30.0        19.5     2670.8\n",
       "8   2023   이의리  KIA    59.4  145.9        30.5        17.4     2663.6\n",
       "9   2023   문성현   키움    68.3  141.6        36.1        -2.2     2662.9\n",
       "10  2023   안우진   키움    50.5  152.5        31.1       -11.5     2660.8\n",
       "11  2023   최지민  KIA    63.4  145.6        26.5        23.0     2648.3\n",
       "12  2023   노건우   삼성    63.0  143.3        29.3        19.5     2646.6\n",
       "13  2023   문승원  SSG    38.8  144.4        28.9       -19.3     2645.8\n",
       "14  2023   김기중   한화    45.4  140.9        30.2        18.5     2639.7\n",
       "15  2023   임창민   키움    46.4  141.1        31.6       -16.5     2635.3\n",
       "16  2023   노경은  SSG    26.8  144.5        29.8       -17.4     2631.6\n",
       "17  2023   김서준   삼성    78.2  141.6        24.9       -24.9     2622.8\n",
       "18  2023   하영민   키움    28.0  147.4        30.8       -14.2     2606.5\n",
       "19  2023   김진호   NC    61.1  147.5        24.9       -22.7     2598.1\n",
       "20  2023   박영현   KT    60.3  144.3        31.9       -10.6     2597.1\n",
       "21  2023   김유성   두산    65.5  145.4        32.3        -8.8     2594.7\n",
       "22  2023   이정용   LG    50.8  142.8        29.0       -18.2     2593.7\n",
       "23  2023  알칸타라   두산    49.7  149.9        27.1       -18.4     2591.3\n",
       "24  2023   박승주   키움    68.5  141.8        33.4       -10.5     2586.7\n",
       "25  2023   후라도   키움    28.8  145.5        30.6       -14.8     2581.8\n",
       "26  2023   김동주   두산    43.5  142.9        25.6       -22.4     2579.8\n",
       "27  2023   이종민   키움    66.0  137.4        29.7        20.6     2578.9\n",
       "28  2023   김재윤   KT    71.2  142.6        30.9       -14.0     2576.0\n",
       "29  2023   이건욱  SSG    58.0  144.0        30.7       -14.2     2567.5"
      ]
     },
     "execution_count": 63,
     "metadata": {},
     "output_type": "execute_result"
    }
   ],
   "source": [
    "bool_mask = (pitcher_fast_ball_df['연도']==2023)\n",
    "pitcher_fast_ball_df[bool_mask].sort_values(by = '직구_분당_회전수',ascending=False).reset_index(drop=True)\\\n",
    "                                [['연도','선수', '팀', '직구_구사%', '직구_구속',\n",
    "                                 '직구_상하_무브먼트', '직구_좌우_무브먼트', '직구_분당_회전수']].iloc[:30,:]"
   ]
  },
  {
   "cell_type": "code",
   "execution_count": 64,
   "metadata": {},
   "outputs": [
    {
     "data": {
      "text/html": [
       "<div>\n",
       "<style scoped>\n",
       "    .dataframe tbody tr th:only-of-type {\n",
       "        vertical-align: middle;\n",
       "    }\n",
       "\n",
       "    .dataframe tbody tr th {\n",
       "        vertical-align: top;\n",
       "    }\n",
       "\n",
       "    .dataframe thead th {\n",
       "        text-align: right;\n",
       "    }\n",
       "</style>\n",
       "<table border=\"1\" class=\"dataframe\">\n",
       "  <thead>\n",
       "    <tr style=\"text-align: right;\">\n",
       "      <th></th>\n",
       "      <th>연도</th>\n",
       "      <th>선수</th>\n",
       "      <th>팀</th>\n",
       "      <th>직구_구사%</th>\n",
       "      <th>직구_구속</th>\n",
       "      <th>직구_상하_무브먼트</th>\n",
       "      <th>직구_좌우_무브먼트</th>\n",
       "      <th>직구_분당_회전수</th>\n",
       "    </tr>\n",
       "  </thead>\n",
       "  <tbody>\n",
       "    <tr>\n",
       "      <th>0</th>\n",
       "      <td>2023</td>\n",
       "      <td>문성현</td>\n",
       "      <td>키움</td>\n",
       "      <td>68.3</td>\n",
       "      <td>141.6</td>\n",
       "      <td>36.1</td>\n",
       "      <td>-2.2</td>\n",
       "      <td>2662.9</td>\n",
       "    </tr>\n",
       "    <tr>\n",
       "      <th>1</th>\n",
       "      <td>2023</td>\n",
       "      <td>김재웅</td>\n",
       "      <td>키움</td>\n",
       "      <td>62.4</td>\n",
       "      <td>140.1</td>\n",
       "      <td>35.6</td>\n",
       "      <td>8.2</td>\n",
       "      <td>2672.3</td>\n",
       "    </tr>\n",
       "    <tr>\n",
       "      <th>2</th>\n",
       "      <td>2023</td>\n",
       "      <td>김기훈</td>\n",
       "      <td>KIA</td>\n",
       "      <td>74.2</td>\n",
       "      <td>143.7</td>\n",
       "      <td>33.7</td>\n",
       "      <td>14.1</td>\n",
       "      <td>2722.3</td>\n",
       "    </tr>\n",
       "    <tr>\n",
       "      <th>3</th>\n",
       "      <td>2023</td>\n",
       "      <td>박승주</td>\n",
       "      <td>키움</td>\n",
       "      <td>68.5</td>\n",
       "      <td>141.8</td>\n",
       "      <td>33.4</td>\n",
       "      <td>-10.5</td>\n",
       "      <td>2586.7</td>\n",
       "    </tr>\n",
       "    <tr>\n",
       "      <th>4</th>\n",
       "      <td>2023</td>\n",
       "      <td>백정현</td>\n",
       "      <td>삼성</td>\n",
       "      <td>40.3</td>\n",
       "      <td>135.8</td>\n",
       "      <td>33.4</td>\n",
       "      <td>12.5</td>\n",
       "      <td>2555.7</td>\n",
       "    </tr>\n",
       "    <tr>\n",
       "      <th>5</th>\n",
       "      <td>2023</td>\n",
       "      <td>조이현</td>\n",
       "      <td>KT</td>\n",
       "      <td>35.8</td>\n",
       "      <td>136.9</td>\n",
       "      <td>33.3</td>\n",
       "      <td>-8.4</td>\n",
       "      <td>2500.9</td>\n",
       "    </tr>\n",
       "    <tr>\n",
       "      <th>6</th>\n",
       "      <td>2023</td>\n",
       "      <td>고효준</td>\n",
       "      <td>SSG</td>\n",
       "      <td>45.5</td>\n",
       "      <td>142.7</td>\n",
       "      <td>32.6</td>\n",
       "      <td>6.6</td>\n",
       "      <td>2505.1</td>\n",
       "    </tr>\n",
       "    <tr>\n",
       "      <th>7</th>\n",
       "      <td>2023</td>\n",
       "      <td>배제성</td>\n",
       "      <td>KT</td>\n",
       "      <td>51.0</td>\n",
       "      <td>140.4</td>\n",
       "      <td>32.6</td>\n",
       "      <td>-0.6</td>\n",
       "      <td>2455.4</td>\n",
       "    </tr>\n",
       "    <tr>\n",
       "      <th>8</th>\n",
       "      <td>2023</td>\n",
       "      <td>전상현</td>\n",
       "      <td>KIA</td>\n",
       "      <td>47.7</td>\n",
       "      <td>142.2</td>\n",
       "      <td>32.4</td>\n",
       "      <td>-9.1</td>\n",
       "      <td>2482.2</td>\n",
       "    </tr>\n",
       "    <tr>\n",
       "      <th>9</th>\n",
       "      <td>2023</td>\n",
       "      <td>김유성</td>\n",
       "      <td>두산</td>\n",
       "      <td>65.5</td>\n",
       "      <td>145.4</td>\n",
       "      <td>32.3</td>\n",
       "      <td>-8.8</td>\n",
       "      <td>2594.7</td>\n",
       "    </tr>\n",
       "    <tr>\n",
       "      <th>10</th>\n",
       "      <td>2023</td>\n",
       "      <td>이호성</td>\n",
       "      <td>삼성</td>\n",
       "      <td>49.4</td>\n",
       "      <td>140.6</td>\n",
       "      <td>32.0</td>\n",
       "      <td>-11.9</td>\n",
       "      <td>2557.4</td>\n",
       "    </tr>\n",
       "    <tr>\n",
       "      <th>11</th>\n",
       "      <td>2023</td>\n",
       "      <td>박영현</td>\n",
       "      <td>KT</td>\n",
       "      <td>60.3</td>\n",
       "      <td>144.3</td>\n",
       "      <td>31.9</td>\n",
       "      <td>-10.6</td>\n",
       "      <td>2597.1</td>\n",
       "    </tr>\n",
       "    <tr>\n",
       "      <th>12</th>\n",
       "      <td>2023</td>\n",
       "      <td>이승현</td>\n",
       "      <td>삼성</td>\n",
       "      <td>51.3</td>\n",
       "      <td>141.1</td>\n",
       "      <td>31.7</td>\n",
       "      <td>-13.0</td>\n",
       "      <td>2554.7</td>\n",
       "    </tr>\n",
       "    <tr>\n",
       "      <th>13</th>\n",
       "      <td>2023</td>\n",
       "      <td>임창민</td>\n",
       "      <td>키움</td>\n",
       "      <td>46.4</td>\n",
       "      <td>141.1</td>\n",
       "      <td>31.6</td>\n",
       "      <td>-16.5</td>\n",
       "      <td>2635.3</td>\n",
       "    </tr>\n",
       "    <tr>\n",
       "      <th>14</th>\n",
       "      <td>2023</td>\n",
       "      <td>김민우</td>\n",
       "      <td>한화</td>\n",
       "      <td>46.7</td>\n",
       "      <td>139.4</td>\n",
       "      <td>31.5</td>\n",
       "      <td>-1.7</td>\n",
       "      <td>2354.7</td>\n",
       "    </tr>\n",
       "    <tr>\n",
       "      <th>15</th>\n",
       "      <td>2023</td>\n",
       "      <td>백승건</td>\n",
       "      <td>SSG</td>\n",
       "      <td>41.6</td>\n",
       "      <td>141.8</td>\n",
       "      <td>31.2</td>\n",
       "      <td>8.2</td>\n",
       "      <td>2413.2</td>\n",
       "    </tr>\n",
       "    <tr>\n",
       "      <th>16</th>\n",
       "      <td>2023</td>\n",
       "      <td>진승현</td>\n",
       "      <td>롯데</td>\n",
       "      <td>42.6</td>\n",
       "      <td>141.2</td>\n",
       "      <td>31.1</td>\n",
       "      <td>-4.3</td>\n",
       "      <td>2341.7</td>\n",
       "    </tr>\n",
       "    <tr>\n",
       "      <th>17</th>\n",
       "      <td>2023</td>\n",
       "      <td>안우진</td>\n",
       "      <td>키움</td>\n",
       "      <td>50.5</td>\n",
       "      <td>152.5</td>\n",
       "      <td>31.1</td>\n",
       "      <td>-11.5</td>\n",
       "      <td>2660.8</td>\n",
       "    </tr>\n",
       "    <tr>\n",
       "      <th>18</th>\n",
       "      <td>2023</td>\n",
       "      <td>김동규</td>\n",
       "      <td>키움</td>\n",
       "      <td>76.2</td>\n",
       "      <td>144.4</td>\n",
       "      <td>31.0</td>\n",
       "      <td>-12.1</td>\n",
       "      <td>2510.5</td>\n",
       "    </tr>\n",
       "    <tr>\n",
       "      <th>19</th>\n",
       "      <td>2023</td>\n",
       "      <td>김진욱</td>\n",
       "      <td>롯데</td>\n",
       "      <td>60.7</td>\n",
       "      <td>143.3</td>\n",
       "      <td>31.0</td>\n",
       "      <td>12.1</td>\n",
       "      <td>2506.3</td>\n",
       "    </tr>\n",
       "    <tr>\n",
       "      <th>20</th>\n",
       "      <td>2023</td>\n",
       "      <td>김재윤</td>\n",
       "      <td>KT</td>\n",
       "      <td>71.2</td>\n",
       "      <td>142.6</td>\n",
       "      <td>30.9</td>\n",
       "      <td>-14.0</td>\n",
       "      <td>2576.0</td>\n",
       "    </tr>\n",
       "    <tr>\n",
       "      <th>21</th>\n",
       "      <td>2023</td>\n",
       "      <td>하영민</td>\n",
       "      <td>키움</td>\n",
       "      <td>28.0</td>\n",
       "      <td>147.4</td>\n",
       "      <td>30.8</td>\n",
       "      <td>-14.2</td>\n",
       "      <td>2606.5</td>\n",
       "    </tr>\n",
       "    <tr>\n",
       "      <th>22</th>\n",
       "      <td>2023</td>\n",
       "      <td>김진성</td>\n",
       "      <td>LG</td>\n",
       "      <td>52.8</td>\n",
       "      <td>141.8</td>\n",
       "      <td>30.7</td>\n",
       "      <td>-15.2</td>\n",
       "      <td>2560.7</td>\n",
       "    </tr>\n",
       "    <tr>\n",
       "      <th>23</th>\n",
       "      <td>2023</td>\n",
       "      <td>홍정우</td>\n",
       "      <td>삼성</td>\n",
       "      <td>50.3</td>\n",
       "      <td>140.1</td>\n",
       "      <td>30.7</td>\n",
       "      <td>-14.4</td>\n",
       "      <td>2506.8</td>\n",
       "    </tr>\n",
       "    <tr>\n",
       "      <th>24</th>\n",
       "      <td>2023</td>\n",
       "      <td>이건욱</td>\n",
       "      <td>SSG</td>\n",
       "      <td>58.0</td>\n",
       "      <td>144.0</td>\n",
       "      <td>30.7</td>\n",
       "      <td>-14.2</td>\n",
       "      <td>2567.5</td>\n",
       "    </tr>\n",
       "    <tr>\n",
       "      <th>25</th>\n",
       "      <td>2023</td>\n",
       "      <td>주현상</td>\n",
       "      <td>한화</td>\n",
       "      <td>53.7</td>\n",
       "      <td>144.1</td>\n",
       "      <td>30.7</td>\n",
       "      <td>-7.9</td>\n",
       "      <td>2422.6</td>\n",
       "    </tr>\n",
       "    <tr>\n",
       "      <th>26</th>\n",
       "      <td>2023</td>\n",
       "      <td>후라도</td>\n",
       "      <td>키움</td>\n",
       "      <td>28.8</td>\n",
       "      <td>145.5</td>\n",
       "      <td>30.6</td>\n",
       "      <td>-14.8</td>\n",
       "      <td>2581.8</td>\n",
       "    </tr>\n",
       "    <tr>\n",
       "      <th>27</th>\n",
       "      <td>2023</td>\n",
       "      <td>이의리</td>\n",
       "      <td>KIA</td>\n",
       "      <td>59.4</td>\n",
       "      <td>145.9</td>\n",
       "      <td>30.5</td>\n",
       "      <td>17.4</td>\n",
       "      <td>2663.6</td>\n",
       "    </tr>\n",
       "    <tr>\n",
       "      <th>28</th>\n",
       "      <td>2023</td>\n",
       "      <td>윤대경</td>\n",
       "      <td>한화</td>\n",
       "      <td>59.1</td>\n",
       "      <td>139.0</td>\n",
       "      <td>30.4</td>\n",
       "      <td>-11.8</td>\n",
       "      <td>2420.1</td>\n",
       "    </tr>\n",
       "    <tr>\n",
       "      <th>29</th>\n",
       "      <td>2023</td>\n",
       "      <td>김기중</td>\n",
       "      <td>한화</td>\n",
       "      <td>45.4</td>\n",
       "      <td>140.9</td>\n",
       "      <td>30.2</td>\n",
       "      <td>18.5</td>\n",
       "      <td>2639.7</td>\n",
       "    </tr>\n",
       "  </tbody>\n",
       "</table>\n",
       "</div>"
      ],
      "text/plain": [
       "      연도   선수    팀  직구_구사%  직구_구속  직구_상하_무브먼트  직구_좌우_무브먼트  직구_분당_회전수\n",
       "0   2023  문성현   키움    68.3  141.6        36.1        -2.2     2662.9\n",
       "1   2023  김재웅   키움    62.4  140.1        35.6         8.2     2672.3\n",
       "2   2023  김기훈  KIA    74.2  143.7        33.7        14.1     2722.3\n",
       "3   2023  박승주   키움    68.5  141.8        33.4       -10.5     2586.7\n",
       "4   2023  백정현   삼성    40.3  135.8        33.4        12.5     2555.7\n",
       "5   2023  조이현   KT    35.8  136.9        33.3        -8.4     2500.9\n",
       "6   2023  고효준  SSG    45.5  142.7        32.6         6.6     2505.1\n",
       "7   2023  배제성   KT    51.0  140.4        32.6        -0.6     2455.4\n",
       "8   2023  전상현  KIA    47.7  142.2        32.4        -9.1     2482.2\n",
       "9   2023  김유성   두산    65.5  145.4        32.3        -8.8     2594.7\n",
       "10  2023  이호성   삼성    49.4  140.6        32.0       -11.9     2557.4\n",
       "11  2023  박영현   KT    60.3  144.3        31.9       -10.6     2597.1\n",
       "12  2023  이승현   삼성    51.3  141.1        31.7       -13.0     2554.7\n",
       "13  2023  임창민   키움    46.4  141.1        31.6       -16.5     2635.3\n",
       "14  2023  김민우   한화    46.7  139.4        31.5        -1.7     2354.7\n",
       "15  2023  백승건  SSG    41.6  141.8        31.2         8.2     2413.2\n",
       "16  2023  진승현   롯데    42.6  141.2        31.1        -4.3     2341.7\n",
       "17  2023  안우진   키움    50.5  152.5        31.1       -11.5     2660.8\n",
       "18  2023  김동규   키움    76.2  144.4        31.0       -12.1     2510.5\n",
       "19  2023  김진욱   롯데    60.7  143.3        31.0        12.1     2506.3\n",
       "20  2023  김재윤   KT    71.2  142.6        30.9       -14.0     2576.0\n",
       "21  2023  하영민   키움    28.0  147.4        30.8       -14.2     2606.5\n",
       "22  2023  김진성   LG    52.8  141.8        30.7       -15.2     2560.7\n",
       "23  2023  홍정우   삼성    50.3  140.1        30.7       -14.4     2506.8\n",
       "24  2023  이건욱  SSG    58.0  144.0        30.7       -14.2     2567.5\n",
       "25  2023  주현상   한화    53.7  144.1        30.7        -7.9     2422.6\n",
       "26  2023  후라도   키움    28.8  145.5        30.6       -14.8     2581.8\n",
       "27  2023  이의리  KIA    59.4  145.9        30.5        17.4     2663.6\n",
       "28  2023  윤대경   한화    59.1  139.0        30.4       -11.8     2420.1\n",
       "29  2023  김기중   한화    45.4  140.9        30.2        18.5     2639.7"
      ]
     },
     "execution_count": 64,
     "metadata": {},
     "output_type": "execute_result"
    }
   ],
   "source": [
    "bool_mask = (pitcher_fast_ball_df['연도']==2023)\n",
    "pitcher_fast_ball_df[bool_mask].sort_values(by = '직구_상하_무브먼트',ascending=False).reset_index(drop=True)\\\n",
    "                                [['연도','선수', '팀', '직구_구사%', '직구_구속',\n",
    "                                 '직구_상하_무브먼트', '직구_좌우_무브먼트', '직구_분당_회전수']].iloc[:30,:]"
   ]
  },
  {
   "cell_type": "markdown",
   "metadata": {},
   "source": [
    "## calculate BB% and K%"
   ]
  },
  {
   "cell_type": "code",
   "execution_count": 65,
   "metadata": {},
   "outputs": [],
   "source": [
    "def search_player(df, name, id, year):\n",
    "    return df[ (df['name']==name)&\\\n",
    "                (df['id']==id) &\\\n",
    "                (df['연도'].isin(year))].reset_index(drop = True)"
   ]
  },
  {
   "cell_type": "code",
   "execution_count": 66,
   "metadata": {},
   "outputs": [],
   "source": [
    "pitcher_detailed[\"BB%\"] = (pitcher_detailed['볼넷']/pitcher_detailed['타자']*100).round(2)\n",
    "pitcher_detailed[\"K%\"] = (pitcher_detailed['삼진']/pitcher_detailed['타자']*100).round(2)"
   ]
  },
  {
   "cell_type": "code",
   "execution_count": 67,
   "metadata": {},
   "outputs": [
    {
     "data": {
      "text/plain": [
       "Index(['name', 'id', 'birthday', '연도', '팀', '나이', '출장', '완투', '완봉', '선발', '승',\n",
       "       '패', '세', '홀드', '이닝', '실점', '자책', '타자', '안타', '2타', '3타', '홈런', '볼넷',\n",
       "       '고4', '사구', '삼진', '보크', '폭투', 'ERA', 'FIP', 'WHIP', 'ERA+', 'FIP+',\n",
       "       'WAR', 'WPA', 'BB%', 'K%'],\n",
       "      dtype='object')"
      ]
     },
     "execution_count": 67,
     "metadata": {},
     "output_type": "execute_result"
    }
   ],
   "source": [
    "pitcher_detailed.columns"
   ]
  },
  {
   "cell_type": "markdown",
   "metadata": {},
   "source": [
    "# WAR"
   ]
  },
  {
   "cell_type": "markdown",
   "metadata": {},
   "source": [
    "## WAR of pitchers by team"
   ]
  },
  {
   "cell_type": "code",
   "execution_count": 68,
   "metadata": {},
   "outputs": [],
   "source": [
    "pitcher_detailed_2023 = pitcher_detailed[pitcher_detailed['연도']==2023]"
   ]
  },
  {
   "cell_type": "code",
   "execution_count": 101,
   "metadata": {},
   "outputs": [
    {
     "data": {
      "text/html": [
       "<div>\n",
       "<style scoped>\n",
       "    .dataframe tbody tr th:only-of-type {\n",
       "        vertical-align: middle;\n",
       "    }\n",
       "\n",
       "    .dataframe tbody tr th {\n",
       "        vertical-align: top;\n",
       "    }\n",
       "\n",
       "    .dataframe thead th {\n",
       "        text-align: right;\n",
       "    }\n",
       "</style>\n",
       "<table border=\"1\" class=\"dataframe\">\n",
       "  <thead>\n",
       "    <tr style=\"text-align: right;\">\n",
       "      <th></th>\n",
       "      <th>team</th>\n",
       "      <th>WAR</th>\n",
       "    </tr>\n",
       "  </thead>\n",
       "  <tbody>\n",
       "    <tr>\n",
       "      <th>0</th>\n",
       "      <td>KT</td>\n",
       "      <td>23.75</td>\n",
       "    </tr>\n",
       "    <tr>\n",
       "      <th>1</th>\n",
       "      <td>NC</td>\n",
       "      <td>20.97</td>\n",
       "    </tr>\n",
       "    <tr>\n",
       "      <th>2</th>\n",
       "      <td>두산</td>\n",
       "      <td>20.68</td>\n",
       "    </tr>\n",
       "    <tr>\n",
       "      <th>3</th>\n",
       "      <td>LG</td>\n",
       "      <td>19.27</td>\n",
       "    </tr>\n",
       "    <tr>\n",
       "      <th>4</th>\n",
       "      <td>롯데</td>\n",
       "      <td>16.06</td>\n",
       "    </tr>\n",
       "    <tr>\n",
       "      <th>5</th>\n",
       "      <td>SSG</td>\n",
       "      <td>15.45</td>\n",
       "    </tr>\n",
       "    <tr>\n",
       "      <th>6</th>\n",
       "      <td>KIA</td>\n",
       "      <td>15.31</td>\n",
       "    </tr>\n",
       "    <tr>\n",
       "      <th>7</th>\n",
       "      <td>한화</td>\n",
       "      <td>13.75</td>\n",
       "    </tr>\n",
       "    <tr>\n",
       "      <th>8</th>\n",
       "      <td>키움</td>\n",
       "      <td>13.52</td>\n",
       "    </tr>\n",
       "    <tr>\n",
       "      <th>9</th>\n",
       "      <td>삼성</td>\n",
       "      <td>11.56</td>\n",
       "    </tr>\n",
       "  </tbody>\n",
       "</table>\n",
       "</div>"
      ],
      "text/plain": [
       "  team    WAR\n",
       "0   KT  23.75\n",
       "1   NC  20.97\n",
       "2   두산  20.68\n",
       "3   LG  19.27\n",
       "4   롯데  16.06\n",
       "5  SSG  15.45\n",
       "6  KIA  15.31\n",
       "7   한화  13.75\n",
       "8   키움  13.52\n",
       "9   삼성  11.56"
      ]
     },
     "execution_count": 101,
     "metadata": {},
     "output_type": "execute_result"
    }
   ],
   "source": [
    "war_by_team = pitcher_detailed_2023.groupby(['팀']).sum()[\"WAR\"].sort_values(ascending=False)[:10]\n",
    "\n",
    "WAR_by_team_df = pd.DataFrame({\"team\": war_by_team.index.values, \"WAR\":war_by_team.values})\n",
    "WAR_by_team_df"
   ]
  },
  {
   "cell_type": "code",
   "execution_count": 103,
   "metadata": {},
   "outputs": [],
   "source": [
    "import plotly.graph_objects as go\n",
    "x_label_colors = {\n",
    "    \"키움\": \"#F7CAC9\",  # 키움: 연한 보라색\n",
    "    \"두산\": \"#FFF0AC\",  # 두산: 연한 노랑색\n",
    "    \"삼성\": \"#92A8D1\",  # 삼성: 연한 남색\n",
    "    \"한화\": \"#F9AA8F\",  # 한화: 연한 주황색\n",
    "    \"KIA\": \"#F7786B\",  # KIA: 연한 빨강색\n",
    "    \"LG\": \"#D6AEDD\",  # LG: 연한 자주색\n",
    "    \"SSG\": \"#FA9A85\",  # SSG: 연한 붉은색\n",
    "    \"NC\": \"#B6E2D3\",  # NC: 연한 녹색\n",
    "    \"KT\": \"#B0A8B9\",   # KT: 연한 회색\n",
    "    \"롯데\": \"#A4DDED\",  # 롯데: 연한 파랑색\n",
    "}\n",
    "\n",
    "def draw_bar_plot(df, x_label, y_label, main_title):\n",
    "    fig = go.Figure()\n",
    "    for i, row in df.iterrows():\n",
    "        fig.add_trace(go.Bar(x = [row[x_label]], y = [row[y_label]],\n",
    "                            marker_color = x_label_colors[row[x_label]],\n",
    "                            name=str(row[x_label]),\n",
    "                            text=[f\"{row[y_label]:.2f}\"],\n",
    "                            textposition = 'auto'\n",
    "                            ))\n",
    "    fig.update_layout(\n",
    "        title = main_title\n",
    "    )\n",
    "\n",
    "    fig.show()"
   ]
  },
  {
   "cell_type": "code",
   "execution_count": 104,
   "metadata": {},
   "outputs": [
    {
     "data": {
      "application/vnd.plotly.v1+json": {
       "config": {
        "plotlyServerURL": "https://plot.ly"
       },
       "data": [
        {
         "marker": {
          "color": "#B0A8B9"
         },
         "name": "KT",
         "text": [
          "23.75"
         ],
         "textposition": "auto",
         "type": "bar",
         "x": [
          "KT"
         ],
         "y": [
          23.75
         ]
        },
        {
         "marker": {
          "color": "#B6E2D3"
         },
         "name": "NC",
         "text": [
          "20.97"
         ],
         "textposition": "auto",
         "type": "bar",
         "x": [
          "NC"
         ],
         "y": [
          20.97
         ]
        },
        {
         "marker": {
          "color": "#FFF0AC"
         },
         "name": "두산",
         "text": [
          "20.68"
         ],
         "textposition": "auto",
         "type": "bar",
         "x": [
          "두산"
         ],
         "y": [
          20.68
         ]
        },
        {
         "marker": {
          "color": "#D6AEDD"
         },
         "name": "LG",
         "text": [
          "19.27"
         ],
         "textposition": "auto",
         "type": "bar",
         "x": [
          "LG"
         ],
         "y": [
          19.27
         ]
        },
        {
         "marker": {
          "color": "#A4DDED"
         },
         "name": "롯데",
         "text": [
          "16.06"
         ],
         "textposition": "auto",
         "type": "bar",
         "x": [
          "롯데"
         ],
         "y": [
          16.06
         ]
        },
        {
         "marker": {
          "color": "#FA9A85"
         },
         "name": "SSG",
         "text": [
          "15.45"
         ],
         "textposition": "auto",
         "type": "bar",
         "x": [
          "SSG"
         ],
         "y": [
          15.45
         ]
        },
        {
         "marker": {
          "color": "#F7786B"
         },
         "name": "KIA",
         "text": [
          "15.31"
         ],
         "textposition": "auto",
         "type": "bar",
         "x": [
          "KIA"
         ],
         "y": [
          15.309999999999999
         ]
        },
        {
         "marker": {
          "color": "#F9AA8F"
         },
         "name": "한화",
         "text": [
          "13.75"
         ],
         "textposition": "auto",
         "type": "bar",
         "x": [
          "한화"
         ],
         "y": [
          13.75
         ]
        },
        {
         "marker": {
          "color": "#F7CAC9"
         },
         "name": "키움",
         "text": [
          "13.52"
         ],
         "textposition": "auto",
         "type": "bar",
         "x": [
          "키움"
         ],
         "y": [
          13.52
         ]
        },
        {
         "marker": {
          "color": "#92A8D1"
         },
         "name": "삼성",
         "text": [
          "11.56"
         ],
         "textposition": "auto",
         "type": "bar",
         "x": [
          "삼성"
         ],
         "y": [
          11.56
         ]
        }
       ],
       "layout": {
        "template": {
         "data": {
          "bar": [
           {
            "error_x": {
             "color": "#2a3f5f"
            },
            "error_y": {
             "color": "#2a3f5f"
            },
            "marker": {
             "line": {
              "color": "#E5ECF6",
              "width": 0.5
             },
             "pattern": {
              "fillmode": "overlay",
              "size": 10,
              "solidity": 0.2
             }
            },
            "type": "bar"
           }
          ],
          "barpolar": [
           {
            "marker": {
             "line": {
              "color": "#E5ECF6",
              "width": 0.5
             },
             "pattern": {
              "fillmode": "overlay",
              "size": 10,
              "solidity": 0.2
             }
            },
            "type": "barpolar"
           }
          ],
          "carpet": [
           {
            "aaxis": {
             "endlinecolor": "#2a3f5f",
             "gridcolor": "white",
             "linecolor": "white",
             "minorgridcolor": "white",
             "startlinecolor": "#2a3f5f"
            },
            "baxis": {
             "endlinecolor": "#2a3f5f",
             "gridcolor": "white",
             "linecolor": "white",
             "minorgridcolor": "white",
             "startlinecolor": "#2a3f5f"
            },
            "type": "carpet"
           }
          ],
          "choropleth": [
           {
            "colorbar": {
             "outlinewidth": 0,
             "ticks": ""
            },
            "type": "choropleth"
           }
          ],
          "contour": [
           {
            "colorbar": {
             "outlinewidth": 0,
             "ticks": ""
            },
            "colorscale": [
             [
              0,
              "#0d0887"
             ],
             [
              0.1111111111111111,
              "#46039f"
             ],
             [
              0.2222222222222222,
              "#7201a8"
             ],
             [
              0.3333333333333333,
              "#9c179e"
             ],
             [
              0.4444444444444444,
              "#bd3786"
             ],
             [
              0.5555555555555556,
              "#d8576b"
             ],
             [
              0.6666666666666666,
              "#ed7953"
             ],
             [
              0.7777777777777778,
              "#fb9f3a"
             ],
             [
              0.8888888888888888,
              "#fdca26"
             ],
             [
              1,
              "#f0f921"
             ]
            ],
            "type": "contour"
           }
          ],
          "contourcarpet": [
           {
            "colorbar": {
             "outlinewidth": 0,
             "ticks": ""
            },
            "type": "contourcarpet"
           }
          ],
          "heatmap": [
           {
            "colorbar": {
             "outlinewidth": 0,
             "ticks": ""
            },
            "colorscale": [
             [
              0,
              "#0d0887"
             ],
             [
              0.1111111111111111,
              "#46039f"
             ],
             [
              0.2222222222222222,
              "#7201a8"
             ],
             [
              0.3333333333333333,
              "#9c179e"
             ],
             [
              0.4444444444444444,
              "#bd3786"
             ],
             [
              0.5555555555555556,
              "#d8576b"
             ],
             [
              0.6666666666666666,
              "#ed7953"
             ],
             [
              0.7777777777777778,
              "#fb9f3a"
             ],
             [
              0.8888888888888888,
              "#fdca26"
             ],
             [
              1,
              "#f0f921"
             ]
            ],
            "type": "heatmap"
           }
          ],
          "heatmapgl": [
           {
            "colorbar": {
             "outlinewidth": 0,
             "ticks": ""
            },
            "colorscale": [
             [
              0,
              "#0d0887"
             ],
             [
              0.1111111111111111,
              "#46039f"
             ],
             [
              0.2222222222222222,
              "#7201a8"
             ],
             [
              0.3333333333333333,
              "#9c179e"
             ],
             [
              0.4444444444444444,
              "#bd3786"
             ],
             [
              0.5555555555555556,
              "#d8576b"
             ],
             [
              0.6666666666666666,
              "#ed7953"
             ],
             [
              0.7777777777777778,
              "#fb9f3a"
             ],
             [
              0.8888888888888888,
              "#fdca26"
             ],
             [
              1,
              "#f0f921"
             ]
            ],
            "type": "heatmapgl"
           }
          ],
          "histogram": [
           {
            "marker": {
             "pattern": {
              "fillmode": "overlay",
              "size": 10,
              "solidity": 0.2
             }
            },
            "type": "histogram"
           }
          ],
          "histogram2d": [
           {
            "colorbar": {
             "outlinewidth": 0,
             "ticks": ""
            },
            "colorscale": [
             [
              0,
              "#0d0887"
             ],
             [
              0.1111111111111111,
              "#46039f"
             ],
             [
              0.2222222222222222,
              "#7201a8"
             ],
             [
              0.3333333333333333,
              "#9c179e"
             ],
             [
              0.4444444444444444,
              "#bd3786"
             ],
             [
              0.5555555555555556,
              "#d8576b"
             ],
             [
              0.6666666666666666,
              "#ed7953"
             ],
             [
              0.7777777777777778,
              "#fb9f3a"
             ],
             [
              0.8888888888888888,
              "#fdca26"
             ],
             [
              1,
              "#f0f921"
             ]
            ],
            "type": "histogram2d"
           }
          ],
          "histogram2dcontour": [
           {
            "colorbar": {
             "outlinewidth": 0,
             "ticks": ""
            },
            "colorscale": [
             [
              0,
              "#0d0887"
             ],
             [
              0.1111111111111111,
              "#46039f"
             ],
             [
              0.2222222222222222,
              "#7201a8"
             ],
             [
              0.3333333333333333,
              "#9c179e"
             ],
             [
              0.4444444444444444,
              "#bd3786"
             ],
             [
              0.5555555555555556,
              "#d8576b"
             ],
             [
              0.6666666666666666,
              "#ed7953"
             ],
             [
              0.7777777777777778,
              "#fb9f3a"
             ],
             [
              0.8888888888888888,
              "#fdca26"
             ],
             [
              1,
              "#f0f921"
             ]
            ],
            "type": "histogram2dcontour"
           }
          ],
          "mesh3d": [
           {
            "colorbar": {
             "outlinewidth": 0,
             "ticks": ""
            },
            "type": "mesh3d"
           }
          ],
          "parcoords": [
           {
            "line": {
             "colorbar": {
              "outlinewidth": 0,
              "ticks": ""
             }
            },
            "type": "parcoords"
           }
          ],
          "pie": [
           {
            "automargin": true,
            "type": "pie"
           }
          ],
          "scatter": [
           {
            "fillpattern": {
             "fillmode": "overlay",
             "size": 10,
             "solidity": 0.2
            },
            "type": "scatter"
           }
          ],
          "scatter3d": [
           {
            "line": {
             "colorbar": {
              "outlinewidth": 0,
              "ticks": ""
             }
            },
            "marker": {
             "colorbar": {
              "outlinewidth": 0,
              "ticks": ""
             }
            },
            "type": "scatter3d"
           }
          ],
          "scattercarpet": [
           {
            "marker": {
             "colorbar": {
              "outlinewidth": 0,
              "ticks": ""
             }
            },
            "type": "scattercarpet"
           }
          ],
          "scattergeo": [
           {
            "marker": {
             "colorbar": {
              "outlinewidth": 0,
              "ticks": ""
             }
            },
            "type": "scattergeo"
           }
          ],
          "scattergl": [
           {
            "marker": {
             "colorbar": {
              "outlinewidth": 0,
              "ticks": ""
             }
            },
            "type": "scattergl"
           }
          ],
          "scattermapbox": [
           {
            "marker": {
             "colorbar": {
              "outlinewidth": 0,
              "ticks": ""
             }
            },
            "type": "scattermapbox"
           }
          ],
          "scatterpolar": [
           {
            "marker": {
             "colorbar": {
              "outlinewidth": 0,
              "ticks": ""
             }
            },
            "type": "scatterpolar"
           }
          ],
          "scatterpolargl": [
           {
            "marker": {
             "colorbar": {
              "outlinewidth": 0,
              "ticks": ""
             }
            },
            "type": "scatterpolargl"
           }
          ],
          "scatterternary": [
           {
            "marker": {
             "colorbar": {
              "outlinewidth": 0,
              "ticks": ""
             }
            },
            "type": "scatterternary"
           }
          ],
          "surface": [
           {
            "colorbar": {
             "outlinewidth": 0,
             "ticks": ""
            },
            "colorscale": [
             [
              0,
              "#0d0887"
             ],
             [
              0.1111111111111111,
              "#46039f"
             ],
             [
              0.2222222222222222,
              "#7201a8"
             ],
             [
              0.3333333333333333,
              "#9c179e"
             ],
             [
              0.4444444444444444,
              "#bd3786"
             ],
             [
              0.5555555555555556,
              "#d8576b"
             ],
             [
              0.6666666666666666,
              "#ed7953"
             ],
             [
              0.7777777777777778,
              "#fb9f3a"
             ],
             [
              0.8888888888888888,
              "#fdca26"
             ],
             [
              1,
              "#f0f921"
             ]
            ],
            "type": "surface"
           }
          ],
          "table": [
           {
            "cells": {
             "fill": {
              "color": "#EBF0F8"
             },
             "line": {
              "color": "white"
             }
            },
            "header": {
             "fill": {
              "color": "#C8D4E3"
             },
             "line": {
              "color": "white"
             }
            },
            "type": "table"
           }
          ]
         },
         "layout": {
          "annotationdefaults": {
           "arrowcolor": "#2a3f5f",
           "arrowhead": 0,
           "arrowwidth": 1
          },
          "autotypenumbers": "strict",
          "coloraxis": {
           "colorbar": {
            "outlinewidth": 0,
            "ticks": ""
           }
          },
          "colorscale": {
           "diverging": [
            [
             0,
             "#8e0152"
            ],
            [
             0.1,
             "#c51b7d"
            ],
            [
             0.2,
             "#de77ae"
            ],
            [
             0.3,
             "#f1b6da"
            ],
            [
             0.4,
             "#fde0ef"
            ],
            [
             0.5,
             "#f7f7f7"
            ],
            [
             0.6,
             "#e6f5d0"
            ],
            [
             0.7,
             "#b8e186"
            ],
            [
             0.8,
             "#7fbc41"
            ],
            [
             0.9,
             "#4d9221"
            ],
            [
             1,
             "#276419"
            ]
           ],
           "sequential": [
            [
             0,
             "#0d0887"
            ],
            [
             0.1111111111111111,
             "#46039f"
            ],
            [
             0.2222222222222222,
             "#7201a8"
            ],
            [
             0.3333333333333333,
             "#9c179e"
            ],
            [
             0.4444444444444444,
             "#bd3786"
            ],
            [
             0.5555555555555556,
             "#d8576b"
            ],
            [
             0.6666666666666666,
             "#ed7953"
            ],
            [
             0.7777777777777778,
             "#fb9f3a"
            ],
            [
             0.8888888888888888,
             "#fdca26"
            ],
            [
             1,
             "#f0f921"
            ]
           ],
           "sequentialminus": [
            [
             0,
             "#0d0887"
            ],
            [
             0.1111111111111111,
             "#46039f"
            ],
            [
             0.2222222222222222,
             "#7201a8"
            ],
            [
             0.3333333333333333,
             "#9c179e"
            ],
            [
             0.4444444444444444,
             "#bd3786"
            ],
            [
             0.5555555555555556,
             "#d8576b"
            ],
            [
             0.6666666666666666,
             "#ed7953"
            ],
            [
             0.7777777777777778,
             "#fb9f3a"
            ],
            [
             0.8888888888888888,
             "#fdca26"
            ],
            [
             1,
             "#f0f921"
            ]
           ]
          },
          "colorway": [
           "#636efa",
           "#EF553B",
           "#00cc96",
           "#ab63fa",
           "#FFA15A",
           "#19d3f3",
           "#FF6692",
           "#B6E880",
           "#FF97FF",
           "#FECB52"
          ],
          "font": {
           "color": "#2a3f5f"
          },
          "geo": {
           "bgcolor": "white",
           "lakecolor": "white",
           "landcolor": "#E5ECF6",
           "showlakes": true,
           "showland": true,
           "subunitcolor": "white"
          },
          "hoverlabel": {
           "align": "left"
          },
          "hovermode": "closest",
          "mapbox": {
           "style": "light"
          },
          "paper_bgcolor": "white",
          "plot_bgcolor": "#E5ECF6",
          "polar": {
           "angularaxis": {
            "gridcolor": "white",
            "linecolor": "white",
            "ticks": ""
           },
           "bgcolor": "#E5ECF6",
           "radialaxis": {
            "gridcolor": "white",
            "linecolor": "white",
            "ticks": ""
           }
          },
          "scene": {
           "xaxis": {
            "backgroundcolor": "#E5ECF6",
            "gridcolor": "white",
            "gridwidth": 2,
            "linecolor": "white",
            "showbackground": true,
            "ticks": "",
            "zerolinecolor": "white"
           },
           "yaxis": {
            "backgroundcolor": "#E5ECF6",
            "gridcolor": "white",
            "gridwidth": 2,
            "linecolor": "white",
            "showbackground": true,
            "ticks": "",
            "zerolinecolor": "white"
           },
           "zaxis": {
            "backgroundcolor": "#E5ECF6",
            "gridcolor": "white",
            "gridwidth": 2,
            "linecolor": "white",
            "showbackground": true,
            "ticks": "",
            "zerolinecolor": "white"
           }
          },
          "shapedefaults": {
           "line": {
            "color": "#2a3f5f"
           }
          },
          "ternary": {
           "aaxis": {
            "gridcolor": "white",
            "linecolor": "white",
            "ticks": ""
           },
           "baxis": {
            "gridcolor": "white",
            "linecolor": "white",
            "ticks": ""
           },
           "bgcolor": "#E5ECF6",
           "caxis": {
            "gridcolor": "white",
            "linecolor": "white",
            "ticks": ""
           }
          },
          "title": {
           "x": 0.05
          },
          "xaxis": {
           "automargin": true,
           "gridcolor": "white",
           "linecolor": "white",
           "ticks": "",
           "title": {
            "standoff": 15
           },
           "zerolinecolor": "white",
           "zerolinewidth": 2
          },
          "yaxis": {
           "automargin": true,
           "gridcolor": "white",
           "linecolor": "white",
           "ticks": "",
           "title": {
            "standoff": 15
           },
           "zerolinecolor": "white",
           "zerolinewidth": 2
          }
         }
        },
        "title": {
         "text": "팀별 투수 WAR"
        }
       }
      }
     },
     "metadata": {},
     "output_type": "display_data"
    }
   ],
   "source": [
    "main_title = \"팀별 투수 WAR\"\n",
    "draw_bar_plot(WAR_by_team_df, \"team\", \"WAR\", main_title)"
   ]
  },
  {
   "cell_type": "markdown",
   "metadata": {},
   "source": [
    "## individual WAR"
   ]
  },
  {
   "cell_type": "code",
   "execution_count": 70,
   "metadata": {},
   "outputs": [],
   "source": [
    "def total_BB_K_p_calc(df, name, id):\n",
    "    new_df = df[(df['name']==name)&(df['id']==id)]\n",
    "    new_df_agg = new_df.groupby(['id', 'name']).sum()[['볼넷', '삼진', '타자']]\n",
    "    new_df_agg[\"BB%\"] = (new_df_agg['볼넷']/new_df_agg['타자']*100).round(2)\n",
    "    new_df_agg[\"K%\"] = (new_df_agg['삼진']/new_df_agg['타자']*100).round(2)\n",
    "    \n",
    "    return new_df_agg"
   ]
  },
  {
   "cell_type": "code",
   "execution_count": 71,
   "metadata": {},
   "outputs": [
    {
     "data": {
      "text/html": [
       "<div>\n",
       "<style scoped>\n",
       "    .dataframe tbody tr th:only-of-type {\n",
       "        vertical-align: middle;\n",
       "    }\n",
       "\n",
       "    .dataframe tbody tr th {\n",
       "        vertical-align: top;\n",
       "    }\n",
       "\n",
       "    .dataframe thead th {\n",
       "        text-align: right;\n",
       "    }\n",
       "</style>\n",
       "<table border=\"1\" class=\"dataframe\">\n",
       "  <thead>\n",
       "    <tr style=\"text-align: right;\">\n",
       "      <th></th>\n",
       "      <th>name</th>\n",
       "      <th>id</th>\n",
       "      <th>연도</th>\n",
       "      <th>나이</th>\n",
       "      <th>출장</th>\n",
       "      <th>선발</th>\n",
       "      <th>이닝</th>\n",
       "      <th>ERA</th>\n",
       "      <th>FIP</th>\n",
       "      <th>WHIP</th>\n",
       "      <th>ERA+</th>\n",
       "      <th>FIP+</th>\n",
       "      <th>WAR</th>\n",
       "      <th>WPA</th>\n",
       "      <th>BB%</th>\n",
       "      <th>K%</th>\n",
       "    </tr>\n",
       "  </thead>\n",
       "  <tbody>\n",
       "    <tr>\n",
       "      <th>7174</th>\n",
       "      <td>페냐</td>\n",
       "      <td>52720</td>\n",
       "      <td>2023</td>\n",
       "      <td>33</td>\n",
       "      <td>32</td>\n",
       "      <td>32</td>\n",
       "      <td>177.1</td>\n",
       "      <td>3.60</td>\n",
       "      <td>4.10</td>\n",
       "      <td>1.17</td>\n",
       "      <td>115.2</td>\n",
       "      <td>101.3</td>\n",
       "      <td>3.53</td>\n",
       "      <td>-0.27</td>\n",
       "      <td>7.86</td>\n",
       "      <td>19.57</td>\n",
       "    </tr>\n",
       "    <tr>\n",
       "      <th>1474</th>\n",
       "      <td>주현상</td>\n",
       "      <td>65707</td>\n",
       "      <td>2023</td>\n",
       "      <td>31</td>\n",
       "      <td>55</td>\n",
       "      <td>0</td>\n",
       "      <td>59.2</td>\n",
       "      <td>1.96</td>\n",
       "      <td>3.22</td>\n",
       "      <td>0.84</td>\n",
       "      <td>211.7</td>\n",
       "      <td>128.5</td>\n",
       "      <td>2.58</td>\n",
       "      <td>1.41</td>\n",
       "      <td>6.58</td>\n",
       "      <td>19.74</td>\n",
       "    </tr>\n",
       "    <tr>\n",
       "      <th>251</th>\n",
       "      <td>문동주</td>\n",
       "      <td>52701</td>\n",
       "      <td>2023</td>\n",
       "      <td>20</td>\n",
       "      <td>23</td>\n",
       "      <td>23</td>\n",
       "      <td>118.2</td>\n",
       "      <td>3.72</td>\n",
       "      <td>3.66</td>\n",
       "      <td>1.31</td>\n",
       "      <td>111.7</td>\n",
       "      <td>113.2</td>\n",
       "      <td>2.51</td>\n",
       "      <td>-0.08</td>\n",
       "      <td>8.35</td>\n",
       "      <td>18.89</td>\n",
       "    </tr>\n",
       "    <tr>\n",
       "      <th>481</th>\n",
       "      <td>이태양</td>\n",
       "      <td>60768</td>\n",
       "      <td>2023</td>\n",
       "      <td>33</td>\n",
       "      <td>50</td>\n",
       "      <td>12</td>\n",
       "      <td>100.1</td>\n",
       "      <td>3.23</td>\n",
       "      <td>3.57</td>\n",
       "      <td>1.20</td>\n",
       "      <td>128.6</td>\n",
       "      <td>116.1</td>\n",
       "      <td>2.01</td>\n",
       "      <td>0.65</td>\n",
       "      <td>4.74</td>\n",
       "      <td>17.06</td>\n",
       "    </tr>\n",
       "    <tr>\n",
       "      <th>294</th>\n",
       "      <td>산체스</td>\n",
       "      <td>53714</td>\n",
       "      <td>2023</td>\n",
       "      <td>26</td>\n",
       "      <td>24</td>\n",
       "      <td>24</td>\n",
       "      <td>126.0</td>\n",
       "      <td>3.79</td>\n",
       "      <td>3.97</td>\n",
       "      <td>1.30</td>\n",
       "      <td>109.7</td>\n",
       "      <td>104.4</td>\n",
       "      <td>1.79</td>\n",
       "      <td>0.00</td>\n",
       "      <td>5.19</td>\n",
       "      <td>18.33</td>\n",
       "    </tr>\n",
       "    <tr>\n",
       "      <th>970</th>\n",
       "      <td>윤대경</td>\n",
       "      <td>63464</td>\n",
       "      <td>2023</td>\n",
       "      <td>29</td>\n",
       "      <td>47</td>\n",
       "      <td>0</td>\n",
       "      <td>47.2</td>\n",
       "      <td>2.45</td>\n",
       "      <td>4.93</td>\n",
       "      <td>1.15</td>\n",
       "      <td>169.2</td>\n",
       "      <td>84.2</td>\n",
       "      <td>1.11</td>\n",
       "      <td>0.58</td>\n",
       "      <td>9.55</td>\n",
       "      <td>14.07</td>\n",
       "    </tr>\n",
       "    <tr>\n",
       "      <th>106</th>\n",
       "      <td>한승주</td>\n",
       "      <td>50726</td>\n",
       "      <td>2023</td>\n",
       "      <td>22</td>\n",
       "      <td>47</td>\n",
       "      <td>6</td>\n",
       "      <td>70.2</td>\n",
       "      <td>3.95</td>\n",
       "      <td>4.39</td>\n",
       "      <td>1.59</td>\n",
       "      <td>105.2</td>\n",
       "      <td>94.5</td>\n",
       "      <td>1.02</td>\n",
       "      <td>-0.76</td>\n",
       "      <td>9.69</td>\n",
       "      <td>17.19</td>\n",
       "    </tr>\n",
       "    <tr>\n",
       "      <th>3847</th>\n",
       "      <td>장시환</td>\n",
       "      <td>77318</td>\n",
       "      <td>2023</td>\n",
       "      <td>36</td>\n",
       "      <td>39</td>\n",
       "      <td>0</td>\n",
       "      <td>34.2</td>\n",
       "      <td>3.38</td>\n",
       "      <td>4.51</td>\n",
       "      <td>1.53</td>\n",
       "      <td>123.0</td>\n",
       "      <td>92.0</td>\n",
       "      <td>1.00</td>\n",
       "      <td>-0.81</td>\n",
       "      <td>13.73</td>\n",
       "      <td>15.69</td>\n",
       "    </tr>\n",
       "    <tr>\n",
       "      <th>1495</th>\n",
       "      <td>김범수</td>\n",
       "      <td>65769</td>\n",
       "      <td>2023</td>\n",
       "      <td>28</td>\n",
       "      <td>76</td>\n",
       "      <td>0</td>\n",
       "      <td>62.1</td>\n",
       "      <td>4.19</td>\n",
       "      <td>3.89</td>\n",
       "      <td>1.56</td>\n",
       "      <td>99.2</td>\n",
       "      <td>106.5</td>\n",
       "      <td>0.77</td>\n",
       "      <td>-0.32</td>\n",
       "      <td>11.66</td>\n",
       "      <td>18.37</td>\n",
       "    </tr>\n",
       "    <tr>\n",
       "      <th>1772</th>\n",
       "      <td>박상원</td>\n",
       "      <td>67703</td>\n",
       "      <td>2023</td>\n",
       "      <td>29</td>\n",
       "      <td>55</td>\n",
       "      <td>0</td>\n",
       "      <td>61.2</td>\n",
       "      <td>3.65</td>\n",
       "      <td>3.38</td>\n",
       "      <td>1.49</td>\n",
       "      <td>113.8</td>\n",
       "      <td>122.6</td>\n",
       "      <td>0.37</td>\n",
       "      <td>0.92</td>\n",
       "      <td>10.47</td>\n",
       "      <td>20.58</td>\n",
       "    </tr>\n",
       "    <tr>\n",
       "      <th>184</th>\n",
       "      <td>김기중</td>\n",
       "      <td>51715</td>\n",
       "      <td>2023</td>\n",
       "      <td>21</td>\n",
       "      <td>37</td>\n",
       "      <td>6</td>\n",
       "      <td>56.1</td>\n",
       "      <td>4.63</td>\n",
       "      <td>4.70</td>\n",
       "      <td>1.54</td>\n",
       "      <td>89.6</td>\n",
       "      <td>88.3</td>\n",
       "      <td>0.28</td>\n",
       "      <td>0.20</td>\n",
       "      <td>11.46</td>\n",
       "      <td>18.18</td>\n",
       "    </tr>\n",
       "    <tr>\n",
       "      <th>3231</th>\n",
       "      <td>정우람</td>\n",
       "      <td>74857</td>\n",
       "      <td>2023</td>\n",
       "      <td>38</td>\n",
       "      <td>52</td>\n",
       "      <td>0</td>\n",
       "      <td>40.1</td>\n",
       "      <td>5.36</td>\n",
       "      <td>4.34</td>\n",
       "      <td>1.54</td>\n",
       "      <td>77.5</td>\n",
       "      <td>95.7</td>\n",
       "      <td>0.24</td>\n",
       "      <td>0.24</td>\n",
       "      <td>9.29</td>\n",
       "      <td>16.39</td>\n",
       "    </tr>\n",
       "    <tr>\n",
       "      <th>4321</th>\n",
       "      <td>장민재</td>\n",
       "      <td>79764</td>\n",
       "      <td>2023</td>\n",
       "      <td>33</td>\n",
       "      <td>25</td>\n",
       "      <td>13</td>\n",
       "      <td>69.0</td>\n",
       "      <td>4.83</td>\n",
       "      <td>5.02</td>\n",
       "      <td>1.46</td>\n",
       "      <td>86.0</td>\n",
       "      <td>82.7</td>\n",
       "      <td>-0.12</td>\n",
       "      <td>-0.54</td>\n",
       "      <td>7.14</td>\n",
       "      <td>19.81</td>\n",
       "    </tr>\n",
       "    <tr>\n",
       "      <th>673</th>\n",
       "      <td>한승혁</td>\n",
       "      <td>61666</td>\n",
       "      <td>2023</td>\n",
       "      <td>30</td>\n",
       "      <td>21</td>\n",
       "      <td>7</td>\n",
       "      <td>36.1</td>\n",
       "      <td>6.44</td>\n",
       "      <td>4.96</td>\n",
       "      <td>1.90</td>\n",
       "      <td>64.5</td>\n",
       "      <td>83.8</td>\n",
       "      <td>-0.34</td>\n",
       "      <td>-1.69</td>\n",
       "      <td>11.93</td>\n",
       "      <td>15.91</td>\n",
       "    </tr>\n",
       "    <tr>\n",
       "      <th>98</th>\n",
       "      <td>강재민</td>\n",
       "      <td>50705</td>\n",
       "      <td>2023</td>\n",
       "      <td>26</td>\n",
       "      <td>43</td>\n",
       "      <td>0</td>\n",
       "      <td>43.1</td>\n",
       "      <td>6.44</td>\n",
       "      <td>4.87</td>\n",
       "      <td>1.25</td>\n",
       "      <td>64.5</td>\n",
       "      <td>85.2</td>\n",
       "      <td>-0.37</td>\n",
       "      <td>-1.03</td>\n",
       "      <td>10.05</td>\n",
       "      <td>22.22</td>\n",
       "    </tr>\n",
       "    <tr>\n",
       "      <th>103</th>\n",
       "      <td>남지민</td>\n",
       "      <td>50720</td>\n",
       "      <td>2023</td>\n",
       "      <td>22</td>\n",
       "      <td>16</td>\n",
       "      <td>7</td>\n",
       "      <td>37.2</td>\n",
       "      <td>6.45</td>\n",
       "      <td>3.66</td>\n",
       "      <td>1.78</td>\n",
       "      <td>64.4</td>\n",
       "      <td>113.6</td>\n",
       "      <td>-0.52</td>\n",
       "      <td>-1.29</td>\n",
       "      <td>6.99</td>\n",
       "      <td>12.37</td>\n",
       "    </tr>\n",
       "    <tr>\n",
       "      <th>1486</th>\n",
       "      <td>김민우</td>\n",
       "      <td>65764</td>\n",
       "      <td>2023</td>\n",
       "      <td>28</td>\n",
       "      <td>12</td>\n",
       "      <td>12</td>\n",
       "      <td>51.2</td>\n",
       "      <td>6.97</td>\n",
       "      <td>5.03</td>\n",
       "      <td>1.80</td>\n",
       "      <td>59.6</td>\n",
       "      <td>82.5</td>\n",
       "      <td>-1.06</td>\n",
       "      <td>-1.61</td>\n",
       "      <td>11.52</td>\n",
       "      <td>17.70</td>\n",
       "    </tr>\n",
       "  </tbody>\n",
       "</table>\n",
       "</div>"
      ],
      "text/plain": [
       "     name     id    연도  나이  출장  선발     이닝   ERA   FIP  WHIP   ERA+   FIP+  \\\n",
       "7174   페냐  52720  2023  33  32  32  177.1  3.60  4.10  1.17  115.2  101.3   \n",
       "1474  주현상  65707  2023  31  55   0   59.2  1.96  3.22  0.84  211.7  128.5   \n",
       "251   문동주  52701  2023  20  23  23  118.2  3.72  3.66  1.31  111.7  113.2   \n",
       "481   이태양  60768  2023  33  50  12  100.1  3.23  3.57  1.20  128.6  116.1   \n",
       "294   산체스  53714  2023  26  24  24  126.0  3.79  3.97  1.30  109.7  104.4   \n",
       "970   윤대경  63464  2023  29  47   0   47.2  2.45  4.93  1.15  169.2   84.2   \n",
       "106   한승주  50726  2023  22  47   6   70.2  3.95  4.39  1.59  105.2   94.5   \n",
       "3847  장시환  77318  2023  36  39   0   34.2  3.38  4.51  1.53  123.0   92.0   \n",
       "1495  김범수  65769  2023  28  76   0   62.1  4.19  3.89  1.56   99.2  106.5   \n",
       "1772  박상원  67703  2023  29  55   0   61.2  3.65  3.38  1.49  113.8  122.6   \n",
       "184   김기중  51715  2023  21  37   6   56.1  4.63  4.70  1.54   89.6   88.3   \n",
       "3231  정우람  74857  2023  38  52   0   40.1  5.36  4.34  1.54   77.5   95.7   \n",
       "4321  장민재  79764  2023  33  25  13   69.0  4.83  5.02  1.46   86.0   82.7   \n",
       "673   한승혁  61666  2023  30  21   7   36.1  6.44  4.96  1.90   64.5   83.8   \n",
       "98    강재민  50705  2023  26  43   0   43.1  6.44  4.87  1.25   64.5   85.2   \n",
       "103   남지민  50720  2023  22  16   7   37.2  6.45  3.66  1.78   64.4  113.6   \n",
       "1486  김민우  65764  2023  28  12  12   51.2  6.97  5.03  1.80   59.6   82.5   \n",
       "\n",
       "       WAR   WPA    BB%     K%  \n",
       "7174  3.53 -0.27   7.86  19.57  \n",
       "1474  2.58  1.41   6.58  19.74  \n",
       "251   2.51 -0.08   8.35  18.89  \n",
       "481   2.01  0.65   4.74  17.06  \n",
       "294   1.79  0.00   5.19  18.33  \n",
       "970   1.11  0.58   9.55  14.07  \n",
       "106   1.02 -0.76   9.69  17.19  \n",
       "3847  1.00 -0.81  13.73  15.69  \n",
       "1495  0.77 -0.32  11.66  18.37  \n",
       "1772  0.37  0.92  10.47  20.58  \n",
       "184   0.28  0.20  11.46  18.18  \n",
       "3231  0.24  0.24   9.29  16.39  \n",
       "4321 -0.12 -0.54   7.14  19.81  \n",
       "673  -0.34 -1.69  11.93  15.91  \n",
       "98   -0.37 -1.03  10.05  22.22  \n",
       "103  -0.52 -1.29   6.99  12.37  \n",
       "1486 -1.06 -1.61  11.52  17.70  "
      ]
     },
     "execution_count": 71,
     "metadata": {},
     "output_type": "execute_result"
    }
   ],
   "source": [
    "# WAR ranking\n",
    "\n",
    "bool_mask = (pitcher_detailed_2023['팀']=='한화')&(pitcher_detailed_2023['이닝']>30)\n",
    "pitcher_detailed_2023[bool_mask].sort_values(by = 'WAR', ascending=False)\\\n",
    "    [['name', 'id', '연도', '나이', '출장', '선발', '이닝',\n",
    "      'ERA', 'FIP', 'WHIP', 'ERA+', 'FIP+',\n",
    "       'WAR', 'WPA', 'BB%', 'K%']]"
   ]
  },
  {
   "cell_type": "code",
   "execution_count": 72,
   "metadata": {},
   "outputs": [
    {
     "data": {
      "text/html": [
       "<div>\n",
       "<style scoped>\n",
       "    .dataframe tbody tr th:only-of-type {\n",
       "        vertical-align: middle;\n",
       "    }\n",
       "\n",
       "    .dataframe tbody tr th {\n",
       "        vertical-align: top;\n",
       "    }\n",
       "\n",
       "    .dataframe thead th {\n",
       "        text-align: right;\n",
       "    }\n",
       "</style>\n",
       "<table border=\"1\" class=\"dataframe\">\n",
       "  <thead>\n",
       "    <tr style=\"text-align: right;\">\n",
       "      <th></th>\n",
       "      <th>name</th>\n",
       "      <th>id</th>\n",
       "      <th>연도</th>\n",
       "      <th>나이</th>\n",
       "      <th>출장</th>\n",
       "      <th>선발</th>\n",
       "      <th>이닝</th>\n",
       "      <th>ERA</th>\n",
       "      <th>FIP</th>\n",
       "      <th>WHIP</th>\n",
       "      <th>ERA+</th>\n",
       "      <th>FIP+</th>\n",
       "      <th>WAR</th>\n",
       "      <th>WPA</th>\n",
       "      <th>BB%</th>\n",
       "      <th>K%</th>\n",
       "    </tr>\n",
       "  </thead>\n",
       "  <tbody>\n",
       "    <tr>\n",
       "      <th>7174</th>\n",
       "      <td>페냐</td>\n",
       "      <td>52720</td>\n",
       "      <td>2023</td>\n",
       "      <td>33</td>\n",
       "      <td>32</td>\n",
       "      <td>32</td>\n",
       "      <td>177.1</td>\n",
       "      <td>3.60</td>\n",
       "      <td>4.10</td>\n",
       "      <td>1.17</td>\n",
       "      <td>115.2</td>\n",
       "      <td>101.3</td>\n",
       "      <td>3.53</td>\n",
       "      <td>-0.27</td>\n",
       "      <td>7.86</td>\n",
       "      <td>19.57</td>\n",
       "    </tr>\n",
       "    <tr>\n",
       "      <th>1474</th>\n",
       "      <td>주현상</td>\n",
       "      <td>65707</td>\n",
       "      <td>2023</td>\n",
       "      <td>31</td>\n",
       "      <td>55</td>\n",
       "      <td>0</td>\n",
       "      <td>59.2</td>\n",
       "      <td>1.96</td>\n",
       "      <td>3.22</td>\n",
       "      <td>0.84</td>\n",
       "      <td>211.7</td>\n",
       "      <td>128.5</td>\n",
       "      <td>2.58</td>\n",
       "      <td>1.41</td>\n",
       "      <td>6.58</td>\n",
       "      <td>19.74</td>\n",
       "    </tr>\n",
       "    <tr>\n",
       "      <th>481</th>\n",
       "      <td>이태양</td>\n",
       "      <td>60768</td>\n",
       "      <td>2023</td>\n",
       "      <td>33</td>\n",
       "      <td>50</td>\n",
       "      <td>12</td>\n",
       "      <td>100.1</td>\n",
       "      <td>3.23</td>\n",
       "      <td>3.57</td>\n",
       "      <td>1.20</td>\n",
       "      <td>128.6</td>\n",
       "      <td>116.1</td>\n",
       "      <td>2.01</td>\n",
       "      <td>0.65</td>\n",
       "      <td>4.74</td>\n",
       "      <td>17.06</td>\n",
       "    </tr>\n",
       "    <tr>\n",
       "      <th>294</th>\n",
       "      <td>산체스</td>\n",
       "      <td>53714</td>\n",
       "      <td>2023</td>\n",
       "      <td>26</td>\n",
       "      <td>24</td>\n",
       "      <td>24</td>\n",
       "      <td>126.0</td>\n",
       "      <td>3.79</td>\n",
       "      <td>3.97</td>\n",
       "      <td>1.30</td>\n",
       "      <td>109.7</td>\n",
       "      <td>104.4</td>\n",
       "      <td>1.79</td>\n",
       "      <td>0.00</td>\n",
       "      <td>5.19</td>\n",
       "      <td>18.33</td>\n",
       "    </tr>\n",
       "    <tr>\n",
       "      <th>970</th>\n",
       "      <td>윤대경</td>\n",
       "      <td>63464</td>\n",
       "      <td>2023</td>\n",
       "      <td>29</td>\n",
       "      <td>47</td>\n",
       "      <td>0</td>\n",
       "      <td>47.2</td>\n",
       "      <td>2.45</td>\n",
       "      <td>4.93</td>\n",
       "      <td>1.15</td>\n",
       "      <td>169.2</td>\n",
       "      <td>84.2</td>\n",
       "      <td>1.11</td>\n",
       "      <td>0.58</td>\n",
       "      <td>9.55</td>\n",
       "      <td>14.07</td>\n",
       "    </tr>\n",
       "    <tr>\n",
       "      <th>106</th>\n",
       "      <td>한승주</td>\n",
       "      <td>50726</td>\n",
       "      <td>2023</td>\n",
       "      <td>22</td>\n",
       "      <td>47</td>\n",
       "      <td>6</td>\n",
       "      <td>70.2</td>\n",
       "      <td>3.95</td>\n",
       "      <td>4.39</td>\n",
       "      <td>1.59</td>\n",
       "      <td>105.2</td>\n",
       "      <td>94.5</td>\n",
       "      <td>1.02</td>\n",
       "      <td>-0.76</td>\n",
       "      <td>9.69</td>\n",
       "      <td>17.19</td>\n",
       "    </tr>\n",
       "    <tr>\n",
       "      <th>3847</th>\n",
       "      <td>장시환</td>\n",
       "      <td>77318</td>\n",
       "      <td>2023</td>\n",
       "      <td>36</td>\n",
       "      <td>39</td>\n",
       "      <td>0</td>\n",
       "      <td>34.2</td>\n",
       "      <td>3.38</td>\n",
       "      <td>4.51</td>\n",
       "      <td>1.53</td>\n",
       "      <td>123.0</td>\n",
       "      <td>92.0</td>\n",
       "      <td>1.00</td>\n",
       "      <td>-0.81</td>\n",
       "      <td>13.73</td>\n",
       "      <td>15.69</td>\n",
       "    </tr>\n",
       "    <tr>\n",
       "      <th>184</th>\n",
       "      <td>김기중</td>\n",
       "      <td>51715</td>\n",
       "      <td>2023</td>\n",
       "      <td>21</td>\n",
       "      <td>37</td>\n",
       "      <td>6</td>\n",
       "      <td>56.1</td>\n",
       "      <td>4.63</td>\n",
       "      <td>4.70</td>\n",
       "      <td>1.54</td>\n",
       "      <td>89.6</td>\n",
       "      <td>88.3</td>\n",
       "      <td>0.28</td>\n",
       "      <td>0.20</td>\n",
       "      <td>11.46</td>\n",
       "      <td>18.18</td>\n",
       "    </tr>\n",
       "    <tr>\n",
       "      <th>4321</th>\n",
       "      <td>장민재</td>\n",
       "      <td>79764</td>\n",
       "      <td>2023</td>\n",
       "      <td>33</td>\n",
       "      <td>25</td>\n",
       "      <td>13</td>\n",
       "      <td>69.0</td>\n",
       "      <td>4.83</td>\n",
       "      <td>5.02</td>\n",
       "      <td>1.46</td>\n",
       "      <td>86.0</td>\n",
       "      <td>82.7</td>\n",
       "      <td>-0.12</td>\n",
       "      <td>-0.54</td>\n",
       "      <td>7.14</td>\n",
       "      <td>19.81</td>\n",
       "    </tr>\n",
       "  </tbody>\n",
       "</table>\n",
       "</div>"
      ],
      "text/plain": [
       "     name     id    연도  나이  출장  선발     이닝   ERA   FIP  WHIP   ERA+   FIP+  \\\n",
       "7174   페냐  52720  2023  33  32  32  177.1  3.60  4.10  1.17  115.2  101.3   \n",
       "1474  주현상  65707  2023  31  55   0   59.2  1.96  3.22  0.84  211.7  128.5   \n",
       "481   이태양  60768  2023  33  50  12  100.1  3.23  3.57  1.20  128.6  116.1   \n",
       "294   산체스  53714  2023  26  24  24  126.0  3.79  3.97  1.30  109.7  104.4   \n",
       "970   윤대경  63464  2023  29  47   0   47.2  2.45  4.93  1.15  169.2   84.2   \n",
       "106   한승주  50726  2023  22  47   6   70.2  3.95  4.39  1.59  105.2   94.5   \n",
       "3847  장시환  77318  2023  36  39   0   34.2  3.38  4.51  1.53  123.0   92.0   \n",
       "184   김기중  51715  2023  21  37   6   56.1  4.63  4.70  1.54   89.6   88.3   \n",
       "4321  장민재  79764  2023  33  25  13   69.0  4.83  5.02  1.46   86.0   82.7   \n",
       "\n",
       "       WAR   WPA    BB%     K%  \n",
       "7174  3.53 -0.27   7.86  19.57  \n",
       "1474  2.58  1.41   6.58  19.74  \n",
       "481   2.01  0.65   4.74  17.06  \n",
       "294   1.79  0.00   5.19  18.33  \n",
       "970   1.11  0.58   9.55  14.07  \n",
       "106   1.02 -0.76   9.69  17.19  \n",
       "3847  1.00 -0.81  13.73  15.69  \n",
       "184   0.28  0.20  11.46  18.18  \n",
       "4321 -0.12 -0.54   7.14  19.81  "
      ]
     },
     "execution_count": 72,
     "metadata": {},
     "output_type": "execute_result"
    }
   ],
   "source": [
    "# WAR ranking\n",
    "\n",
    "bool_mask = (pitcher_detailed_2023['팀']=='한화')&(pitcher_detailed_2023['이닝']>30)\n",
    "pitcher_detailed_2023[bool_mask].sort_values(by = 'WAR', ascending=False)\\\n",
    "    [pitcher_detailed_2023[bool_mask].sort_values(by = 'WAR', ascending=False)[\"ERA\"]<\\\n",
    "        pitcher_detailed_2023[bool_mask].sort_values(by = 'WAR', ascending=False)[\"FIP\"]]\\\n",
    "    [['name', 'id', '연도', '나이', '출장', '선발', '이닝',\n",
    "      'ERA', 'FIP', 'WHIP', 'ERA+', 'FIP+',\n",
    "       'WAR', 'WPA', 'BB%', 'K%']]"
   ]
  },
  {
   "cell_type": "code",
   "execution_count": 73,
   "metadata": {},
   "outputs": [
    {
     "data": {
      "text/plain": [
       "Index(['name', 'id', 'birthday', '연도', '팀', '나이', '출장', '완투', '완봉', '선발', '승',\n",
       "       '패', '세', '홀드', '이닝', '실점', '자책', '타자', '안타', '2타', '3타', '홈런', '볼넷',\n",
       "       '고4', '사구', '삼진', '보크', '폭투', 'ERA', 'FIP', 'WHIP', 'ERA+', 'FIP+',\n",
       "       'WAR', 'WPA', 'BB%', 'K%'],\n",
       "      dtype='object')"
      ]
     },
     "execution_count": 73,
     "metadata": {},
     "output_type": "execute_result"
    }
   ],
   "source": [
    "pitcher_detailed.columns"
   ]
  },
  {
   "cell_type": "markdown",
   "metadata": {},
   "source": [
    "## detailed analysis with tracking data"
   ]
  },
  {
   "cell_type": "code",
   "execution_count": 118,
   "metadata": {},
   "outputs": [
    {
     "data": {
      "text/html": [
       "<div>\n",
       "<style scoped>\n",
       "    .dataframe tbody tr th:only-of-type {\n",
       "        vertical-align: middle;\n",
       "    }\n",
       "\n",
       "    .dataframe tbody tr th {\n",
       "        vertical-align: top;\n",
       "    }\n",
       "\n",
       "    .dataframe thead th {\n",
       "        text-align: right;\n",
       "    }\n",
       "</style>\n",
       "<table border=\"1\" class=\"dataframe\">\n",
       "  <thead>\n",
       "    <tr style=\"text-align: right;\">\n",
       "      <th></th>\n",
       "      <th></th>\n",
       "      <th>볼넷</th>\n",
       "      <th>삼진</th>\n",
       "      <th>타자</th>\n",
       "      <th>BB%</th>\n",
       "      <th>K%</th>\n",
       "    </tr>\n",
       "    <tr>\n",
       "      <th>id</th>\n",
       "      <th>name</th>\n",
       "      <th></th>\n",
       "      <th></th>\n",
       "      <th></th>\n",
       "      <th></th>\n",
       "      <th></th>\n",
       "    </tr>\n",
       "  </thead>\n",
       "  <tbody>\n",
       "    <tr>\n",
       "      <th>52701</th>\n",
       "      <th>문동주</th>\n",
       "      <td>56</td>\n",
       "      <td>131</td>\n",
       "      <td>630</td>\n",
       "      <td>8.89</td>\n",
       "      <td>20.79</td>\n",
       "    </tr>\n",
       "  </tbody>\n",
       "</table>\n",
       "</div>"
      ],
      "text/plain": [
       "            볼넷   삼진   타자   BB%     K%\n",
       "id    name                           \n",
       "52701 문동주   56  131  630  8.89  20.79"
      ]
     },
     "metadata": {},
     "output_type": "display_data"
    },
    {
     "data": {
      "text/html": [
       "<div>\n",
       "<style scoped>\n",
       "    .dataframe tbody tr th:only-of-type {\n",
       "        vertical-align: middle;\n",
       "    }\n",
       "\n",
       "    .dataframe tbody tr th {\n",
       "        vertical-align: top;\n",
       "    }\n",
       "\n",
       "    .dataframe thead th {\n",
       "        text-align: right;\n",
       "    }\n",
       "</style>\n",
       "<table border=\"1\" class=\"dataframe\">\n",
       "  <thead>\n",
       "    <tr style=\"text-align: right;\">\n",
       "      <th></th>\n",
       "      <th>name</th>\n",
       "      <th>id</th>\n",
       "      <th>연도</th>\n",
       "      <th>나이</th>\n",
       "      <th>출장</th>\n",
       "      <th>선발</th>\n",
       "      <th>이닝</th>\n",
       "      <th>ERA</th>\n",
       "      <th>FIP</th>\n",
       "      <th>WHIP</th>\n",
       "      <th>ERA+</th>\n",
       "      <th>FIP+</th>\n",
       "      <th>WAR</th>\n",
       "      <th>WPA</th>\n",
       "      <th>BB%</th>\n",
       "      <th>K%</th>\n",
       "    </tr>\n",
       "  </thead>\n",
       "  <tbody>\n",
       "    <tr>\n",
       "      <th>0</th>\n",
       "      <td>문동주</td>\n",
       "      <td>52701</td>\n",
       "      <td>2022</td>\n",
       "      <td>19</td>\n",
       "      <td>13</td>\n",
       "      <td>4</td>\n",
       "      <td>28.2</td>\n",
       "      <td>5.65</td>\n",
       "      <td>4.66</td>\n",
       "      <td>1.47</td>\n",
       "      <td>71.6</td>\n",
       "      <td>87.3</td>\n",
       "      <td>-0.00</td>\n",
       "      <td>0.23</td>\n",
       "      <td>11.02</td>\n",
       "      <td>28.35</td>\n",
       "    </tr>\n",
       "    <tr>\n",
       "      <th>1</th>\n",
       "      <td>문동주</td>\n",
       "      <td>52701</td>\n",
       "      <td>2023</td>\n",
       "      <td>20</td>\n",
       "      <td>23</td>\n",
       "      <td>23</td>\n",
       "      <td>118.2</td>\n",
       "      <td>3.72</td>\n",
       "      <td>3.66</td>\n",
       "      <td>1.31</td>\n",
       "      <td>111.7</td>\n",
       "      <td>113.2</td>\n",
       "      <td>2.51</td>\n",
       "      <td>-0.08</td>\n",
       "      <td>8.35</td>\n",
       "      <td>18.89</td>\n",
       "    </tr>\n",
       "  </tbody>\n",
       "</table>\n",
       "</div>"
      ],
      "text/plain": [
       "  name     id    연도  나이  출장  선발     이닝   ERA   FIP  WHIP   ERA+   FIP+   WAR  \\\n",
       "0  문동주  52701  2022  19  13   4   28.2  5.65  4.66  1.47   71.6   87.3 -0.00   \n",
       "1  문동주  52701  2023  20  23  23  118.2  3.72  3.66  1.31  111.7  113.2  2.51   \n",
       "\n",
       "    WPA    BB%     K%  \n",
       "0  0.23  11.02  28.35  \n",
       "1 -0.08   8.35  18.89  "
      ]
     },
     "metadata": {},
     "output_type": "display_data"
    },
    {
     "data": {
      "text/html": [
       "<div>\n",
       "<style scoped>\n",
       "    .dataframe tbody tr th:only-of-type {\n",
       "        vertical-align: middle;\n",
       "    }\n",
       "\n",
       "    .dataframe tbody tr th {\n",
       "        vertical-align: top;\n",
       "    }\n",
       "\n",
       "    .dataframe thead th {\n",
       "        text-align: right;\n",
       "    }\n",
       "</style>\n",
       "<table border=\"1\" class=\"dataframe\">\n",
       "  <thead>\n",
       "    <tr style=\"text-align: right;\">\n",
       "      <th></th>\n",
       "      <th>연도</th>\n",
       "      <th>선수</th>\n",
       "      <th>팀</th>\n",
       "      <th>구종</th>\n",
       "      <th>직구_구사%</th>\n",
       "      <th>직구_구속</th>\n",
       "      <th>직구_상하_무브먼트</th>\n",
       "      <th>직구_좌우_무브먼트</th>\n",
       "      <th>직구_분당_회전수</th>\n",
       "      <th>직구_좌우_릴리스포인트</th>\n",
       "      <th>직구_상하_릴리스포인트</th>\n",
       "      <th>직구_타구_속도</th>\n",
       "      <th>직구_상하_각도</th>\n",
       "      <th>직구_피안타율</th>\n",
       "      <th>직구_피장타율</th>\n",
       "      <th>직구_땅볼%</th>\n",
       "      <th>직구_라인드라이브%</th>\n",
       "      <th>직구_뜬공%</th>\n",
       "      <th>직구_팝플라이%</th>\n",
       "      <th>직구_강한_타구%</th>\n",
       "    </tr>\n",
       "  </thead>\n",
       "  <tbody>\n",
       "    <tr>\n",
       "      <th>59</th>\n",
       "      <td>2023</td>\n",
       "      <td>문동주</td>\n",
       "      <td>한화</td>\n",
       "      <td>직구</td>\n",
       "      <td>54.4</td>\n",
       "      <td>151.0</td>\n",
       "      <td>28.1</td>\n",
       "      <td>-11.6</td>\n",
       "      <td>2436.3</td>\n",
       "      <td>-32.9</td>\n",
       "      <td>185.1</td>\n",
       "      <td>133.2</td>\n",
       "      <td>21.5</td>\n",
       "      <td>0.258</td>\n",
       "      <td>0.367</td>\n",
       "      <td>29.3</td>\n",
       "      <td>36.0</td>\n",
       "      <td>15.9</td>\n",
       "      <td>18.9</td>\n",
       "      <td>20.7</td>\n",
       "    </tr>\n",
       "    <tr>\n",
       "      <th>247</th>\n",
       "      <td>2022</td>\n",
       "      <td>문동주</td>\n",
       "      <td>한화</td>\n",
       "      <td>직구</td>\n",
       "      <td>56.8</td>\n",
       "      <td>150.9</td>\n",
       "      <td>29.4</td>\n",
       "      <td>-11.4</td>\n",
       "      <td>2507.5</td>\n",
       "      <td>-51.0</td>\n",
       "      <td>182.0</td>\n",
       "      <td>137.8</td>\n",
       "      <td>11.4</td>\n",
       "      <td>0.340</td>\n",
       "      <td>0.528</td>\n",
       "      <td>43.8</td>\n",
       "      <td>34.4</td>\n",
       "      <td>12.5</td>\n",
       "      <td>9.4</td>\n",
       "      <td>31.3</td>\n",
       "    </tr>\n",
       "  </tbody>\n",
       "</table>\n",
       "</div>"
      ],
      "text/plain": [
       "       연도   선수   팀  구종  직구_구사%  직구_구속  직구_상하_무브먼트  직구_좌우_무브먼트  직구_분당_회전수  \\\n",
       "59   2023  문동주  한화  직구    54.4  151.0        28.1       -11.6     2436.3   \n",
       "247  2022  문동주  한화  직구    56.8  150.9        29.4       -11.4     2507.5   \n",
       "\n",
       "     직구_좌우_릴리스포인트  직구_상하_릴리스포인트  직구_타구_속도  직구_상하_각도  직구_피안타율  직구_피장타율  직구_땅볼%  \\\n",
       "59          -32.9         185.1     133.2      21.5    0.258    0.367    29.3   \n",
       "247         -51.0         182.0     137.8      11.4    0.340    0.528    43.8   \n",
       "\n",
       "     직구_라인드라이브%  직구_뜬공%  직구_팝플라이%  직구_강한_타구%  \n",
       "59         36.0    15.9      18.9       20.7  \n",
       "247        34.4    12.5       9.4       31.3  "
      ]
     },
     "metadata": {},
     "output_type": "display_data"
    },
    {
     "data": {
      "text/html": [
       "<div>\n",
       "<style scoped>\n",
       "    .dataframe tbody tr th:only-of-type {\n",
       "        vertical-align: middle;\n",
       "    }\n",
       "\n",
       "    .dataframe tbody tr th {\n",
       "        vertical-align: top;\n",
       "    }\n",
       "\n",
       "    .dataframe thead th {\n",
       "        text-align: right;\n",
       "    }\n",
       "</style>\n",
       "<table border=\"1\" class=\"dataframe\">\n",
       "  <thead>\n",
       "    <tr style=\"text-align: right;\">\n",
       "      <th></th>\n",
       "      <th>연도</th>\n",
       "      <th>선수</th>\n",
       "      <th>팀</th>\n",
       "      <th>구종</th>\n",
       "      <th>커브_구사%</th>\n",
       "      <th>커브_구속</th>\n",
       "      <th>커브_상하_무브먼트</th>\n",
       "      <th>커브_좌우_무브먼트</th>\n",
       "      <th>커브_분당_회전수</th>\n",
       "      <th>커브_좌우_릴리스포인트</th>\n",
       "      <th>커브_상하_릴리스포인트</th>\n",
       "      <th>커브_타구_속도</th>\n",
       "      <th>커브_상하_각도</th>\n",
       "      <th>커브_피안타율</th>\n",
       "      <th>커브_피장타율</th>\n",
       "      <th>커브_땅볼%</th>\n",
       "      <th>커브_라인드라이브%</th>\n",
       "      <th>커브_뜬공%</th>\n",
       "      <th>커브_팝플라이%</th>\n",
       "      <th>커브_강한_타구%</th>\n",
       "    </tr>\n",
       "  </thead>\n",
       "  <tbody>\n",
       "    <tr>\n",
       "      <th>12</th>\n",
       "      <td>2023</td>\n",
       "      <td>문동주</td>\n",
       "      <td>한화</td>\n",
       "      <td>커브</td>\n",
       "      <td>25.0</td>\n",
       "      <td>125.1</td>\n",
       "      <td>-12.2</td>\n",
       "      <td>13.3</td>\n",
       "      <td>1222.2</td>\n",
       "      <td>-36.3</td>\n",
       "      <td>192.7</td>\n",
       "      <td>130.6</td>\n",
       "      <td>15.8</td>\n",
       "      <td>0.226</td>\n",
       "      <td>0.261</td>\n",
       "      <td>40.7</td>\n",
       "      <td>30.5</td>\n",
       "      <td>18.6</td>\n",
       "      <td>10.2</td>\n",
       "      <td>20.3</td>\n",
       "    </tr>\n",
       "  </tbody>\n",
       "</table>\n",
       "</div>"
      ],
      "text/plain": [
       "      연도   선수   팀  구종  커브_구사%  커브_구속  커브_상하_무브먼트  커브_좌우_무브먼트  커브_분당_회전수  \\\n",
       "12  2023  문동주  한화  커브    25.0  125.1       -12.2        13.3     1222.2   \n",
       "\n",
       "    커브_좌우_릴리스포인트  커브_상하_릴리스포인트  커브_타구_속도  커브_상하_각도  커브_피안타율  커브_피장타율  커브_땅볼%  \\\n",
       "12         -36.3         192.7     130.6      15.8    0.226    0.261    40.7   \n",
       "\n",
       "    커브_라인드라이브%  커브_뜬공%  커브_팝플라이%  커브_강한_타구%  \n",
       "12        30.5    18.6      10.2       20.3  "
      ]
     },
     "metadata": {},
     "output_type": "display_data"
    },
    {
     "data": {
      "text/html": [
       "<div>\n",
       "<style scoped>\n",
       "    .dataframe tbody tr th:only-of-type {\n",
       "        vertical-align: middle;\n",
       "    }\n",
       "\n",
       "    .dataframe tbody tr th {\n",
       "        vertical-align: top;\n",
       "    }\n",
       "\n",
       "    .dataframe thead th {\n",
       "        text-align: right;\n",
       "    }\n",
       "</style>\n",
       "<table border=\"1\" class=\"dataframe\">\n",
       "  <thead>\n",
       "    <tr style=\"text-align: right;\">\n",
       "      <th></th>\n",
       "      <th>연도</th>\n",
       "      <th>선수</th>\n",
       "      <th>팀</th>\n",
       "      <th>구종</th>\n",
       "      <th>슬라이더_구사%</th>\n",
       "      <th>슬라이더_구속</th>\n",
       "      <th>슬라이더_상하_무브먼트</th>\n",
       "      <th>슬라이더_좌우_무브먼트</th>\n",
       "      <th>슬라이더_분당_회전수</th>\n",
       "      <th>슬라이더_좌우_릴리스포인트</th>\n",
       "      <th>슬라이더_상하_릴리스포인트</th>\n",
       "      <th>슬라이더_타구_속도</th>\n",
       "      <th>슬라이더_상하_각도</th>\n",
       "      <th>슬라이더_피안타율</th>\n",
       "      <th>슬라이더_피장타율</th>\n",
       "      <th>슬라이더_땅볼%</th>\n",
       "      <th>슬라이더_라인드라이브%</th>\n",
       "      <th>슬라이더_뜬공%</th>\n",
       "      <th>슬라이더_팝플라이%</th>\n",
       "      <th>슬라이더_강한_타구%</th>\n",
       "    </tr>\n",
       "  </thead>\n",
       "  <tbody>\n",
       "    <tr>\n",
       "      <th>113</th>\n",
       "      <td>2023</td>\n",
       "      <td>문동주</td>\n",
       "      <td>한화</td>\n",
       "      <td>슬라이더</td>\n",
       "      <td>16.3</td>\n",
       "      <td>139.3</td>\n",
       "      <td>10.3</td>\n",
       "      <td>7.8</td>\n",
       "      <td>1049.3</td>\n",
       "      <td>-35.4</td>\n",
       "      <td>184.8</td>\n",
       "      <td>133.6</td>\n",
       "      <td>16.5</td>\n",
       "      <td>0.264</td>\n",
       "      <td>0.417</td>\n",
       "      <td>33.3</td>\n",
       "      <td>38.9</td>\n",
       "      <td>13.9</td>\n",
       "      <td>13.9</td>\n",
       "      <td>22.2</td>\n",
       "    </tr>\n",
       "  </tbody>\n",
       "</table>\n",
       "</div>"
      ],
      "text/plain": [
       "       연도   선수   팀    구종  슬라이더_구사%  슬라이더_구속  슬라이더_상하_무브먼트  슬라이더_좌우_무브먼트  \\\n",
       "113  2023  문동주  한화  슬라이더      16.3    139.3          10.3           7.8   \n",
       "\n",
       "     슬라이더_분당_회전수  슬라이더_좌우_릴리스포인트  슬라이더_상하_릴리스포인트  슬라이더_타구_속도  슬라이더_상하_각도  \\\n",
       "113       1049.3           -35.4           184.8       133.6        16.5   \n",
       "\n",
       "     슬라이더_피안타율  슬라이더_피장타율  슬라이더_땅볼%  슬라이더_라인드라이브%  슬라이더_뜬공%  슬라이더_팝플라이%  \\\n",
       "113      0.264      0.417      33.3          38.9      13.9        13.9   \n",
       "\n",
       "     슬라이더_강한_타구%  \n",
       "113         22.2  "
      ]
     },
     "metadata": {},
     "output_type": "display_data"
    }
   ],
   "source": [
    "player_info = ['문동주'\t, 52701]\n",
    "display(total_BB_K_p_calc(pitcher_detailed, player_info[0], player_info[1]))\n",
    "display(search_player(pitcher_detailed, player_info[0], player_info[1], [2022,2023])\\\n",
    "    [['name', 'id', '연도', '나이', '출장', '선발', '이닝',\n",
    "      'ERA', 'FIP', 'WHIP', 'ERA+', 'FIP+',\n",
    "       'WAR', 'WPA', 'BB%', 'K%']])\n",
    "display(pitcher_fast_ball_df[pitcher_fast_ball_df['선수'] == player_info[0]])\n",
    "\n",
    "display(pitcher_curve_df[pitcher_curve_df['선수'] == player_info[0]])\n",
    "\n",
    "display(pitcher_slider_df[pitcher_slider_df['선수'] == player_info[0]])"
   ]
  },
  {
   "cell_type": "code",
   "execution_count": 75,
   "metadata": {},
   "outputs": [
    {
     "name": "stdout",
     "output_type": "stream",
     "text": [
      "문동주 180이닝 투구 시 예상 WAR: 3.81\n"
     ]
    }
   ],
   "source": [
    "print(f\"문동주 180이닝 투구 시 예상 WAR: {round((2.51 / (118+2/3)) * 180, 2)}\")"
   ]
  },
  {
   "cell_type": "code",
   "execution_count": 76,
   "metadata": {},
   "outputs": [
    {
     "data": {
      "text/html": [
       "<div>\n",
       "<style scoped>\n",
       "    .dataframe tbody tr th:only-of-type {\n",
       "        vertical-align: middle;\n",
       "    }\n",
       "\n",
       "    .dataframe tbody tr th {\n",
       "        vertical-align: top;\n",
       "    }\n",
       "\n",
       "    .dataframe thead th {\n",
       "        text-align: right;\n",
       "    }\n",
       "</style>\n",
       "<table border=\"1\" class=\"dataframe\">\n",
       "  <thead>\n",
       "    <tr style=\"text-align: right;\">\n",
       "      <th></th>\n",
       "      <th></th>\n",
       "      <th>볼넷</th>\n",
       "      <th>삼진</th>\n",
       "      <th>타자</th>\n",
       "      <th>BB%</th>\n",
       "      <th>K%</th>\n",
       "    </tr>\n",
       "    <tr>\n",
       "      <th>id</th>\n",
       "      <th>name</th>\n",
       "      <th></th>\n",
       "      <th></th>\n",
       "      <th></th>\n",
       "      <th></th>\n",
       "      <th></th>\n",
       "    </tr>\n",
       "  </thead>\n",
       "  <tbody>\n",
       "    <tr>\n",
       "      <th>53714</th>\n",
       "      <th>산체스</th>\n",
       "      <td>28</td>\n",
       "      <td>99</td>\n",
       "      <td>540</td>\n",
       "      <td>5.19</td>\n",
       "      <td>18.33</td>\n",
       "    </tr>\n",
       "  </tbody>\n",
       "</table>\n",
       "</div>"
      ],
      "text/plain": [
       "            볼넷  삼진   타자   BB%     K%\n",
       "id    name                          \n",
       "53714 산체스   28  99  540  5.19  18.33"
      ]
     },
     "metadata": {},
     "output_type": "display_data"
    },
    {
     "data": {
      "text/html": [
       "<div>\n",
       "<style scoped>\n",
       "    .dataframe tbody tr th:only-of-type {\n",
       "        vertical-align: middle;\n",
       "    }\n",
       "\n",
       "    .dataframe tbody tr th {\n",
       "        vertical-align: top;\n",
       "    }\n",
       "\n",
       "    .dataframe thead th {\n",
       "        text-align: right;\n",
       "    }\n",
       "</style>\n",
       "<table border=\"1\" class=\"dataframe\">\n",
       "  <thead>\n",
       "    <tr style=\"text-align: right;\">\n",
       "      <th></th>\n",
       "      <th>name</th>\n",
       "      <th>id</th>\n",
       "      <th>연도</th>\n",
       "      <th>나이</th>\n",
       "      <th>출장</th>\n",
       "      <th>선발</th>\n",
       "      <th>이닝</th>\n",
       "      <th>ERA</th>\n",
       "      <th>FIP</th>\n",
       "      <th>WHIP</th>\n",
       "      <th>ERA+</th>\n",
       "      <th>FIP+</th>\n",
       "      <th>WAR</th>\n",
       "      <th>WPA</th>\n",
       "      <th>BB%</th>\n",
       "      <th>K%</th>\n",
       "    </tr>\n",
       "  </thead>\n",
       "  <tbody>\n",
       "    <tr>\n",
       "      <th>0</th>\n",
       "      <td>산체스</td>\n",
       "      <td>53714</td>\n",
       "      <td>2023</td>\n",
       "      <td>26</td>\n",
       "      <td>24</td>\n",
       "      <td>24</td>\n",
       "      <td>126.0</td>\n",
       "      <td>3.79</td>\n",
       "      <td>3.97</td>\n",
       "      <td>1.3</td>\n",
       "      <td>109.7</td>\n",
       "      <td>104.4</td>\n",
       "      <td>1.79</td>\n",
       "      <td>0.0</td>\n",
       "      <td>5.19</td>\n",
       "      <td>18.33</td>\n",
       "    </tr>\n",
       "  </tbody>\n",
       "</table>\n",
       "</div>"
      ],
      "text/plain": [
       "  name     id    연도  나이  출장  선발     이닝   ERA   FIP  WHIP   ERA+   FIP+   WAR  \\\n",
       "0  산체스  53714  2023  26  24  24  126.0  3.79  3.97   1.3  109.7  104.4  1.79   \n",
       "\n",
       "   WPA   BB%     K%  \n",
       "0  0.0  5.19  18.33  "
      ]
     },
     "metadata": {},
     "output_type": "display_data"
    },
    {
     "data": {
      "text/html": [
       "<div>\n",
       "<style scoped>\n",
       "    .dataframe tbody tr th:only-of-type {\n",
       "        vertical-align: middle;\n",
       "    }\n",
       "\n",
       "    .dataframe tbody tr th {\n",
       "        vertical-align: top;\n",
       "    }\n",
       "\n",
       "    .dataframe thead th {\n",
       "        text-align: right;\n",
       "    }\n",
       "</style>\n",
       "<table border=\"1\" class=\"dataframe\">\n",
       "  <thead>\n",
       "    <tr style=\"text-align: right;\">\n",
       "      <th></th>\n",
       "      <th>연도</th>\n",
       "      <th>선수</th>\n",
       "      <th>팀</th>\n",
       "      <th>구종</th>\n",
       "      <th>직구_구사%</th>\n",
       "      <th>직구_구속</th>\n",
       "      <th>직구_상하_무브먼트</th>\n",
       "      <th>직구_좌우_무브먼트</th>\n",
       "      <th>직구_분당_회전수</th>\n",
       "      <th>직구_좌우_릴리스포인트</th>\n",
       "      <th>직구_상하_릴리스포인트</th>\n",
       "      <th>직구_타구_속도</th>\n",
       "      <th>직구_상하_각도</th>\n",
       "      <th>직구_피안타율</th>\n",
       "      <th>직구_피장타율</th>\n",
       "      <th>직구_땅볼%</th>\n",
       "      <th>직구_라인드라이브%</th>\n",
       "      <th>직구_뜬공%</th>\n",
       "      <th>직구_팝플라이%</th>\n",
       "      <th>직구_강한_타구%</th>\n",
       "    </tr>\n",
       "  </thead>\n",
       "  <tbody>\n",
       "    <tr>\n",
       "      <th>92</th>\n",
       "      <td>2023</td>\n",
       "      <td>산체스</td>\n",
       "      <td>한화</td>\n",
       "      <td>직구</td>\n",
       "      <td>48.6</td>\n",
       "      <td>147.8</td>\n",
       "      <td>22.5</td>\n",
       "      <td>26.9</td>\n",
       "      <td>2713.4</td>\n",
       "      <td>60.4</td>\n",
       "      <td>163.2</td>\n",
       "      <td>132.5</td>\n",
       "      <td>17.4</td>\n",
       "      <td>0.288</td>\n",
       "      <td>0.394</td>\n",
       "      <td>34.8</td>\n",
       "      <td>32.3</td>\n",
       "      <td>19.6</td>\n",
       "      <td>13.3</td>\n",
       "      <td>22.8</td>\n",
       "    </tr>\n",
       "    <tr>\n",
       "      <th>118</th>\n",
       "      <td>2023</td>\n",
       "      <td>산체스</td>\n",
       "      <td>KIA</td>\n",
       "      <td>직구</td>\n",
       "      <td>43.7</td>\n",
       "      <td>143.9</td>\n",
       "      <td>26.6</td>\n",
       "      <td>-13.4</td>\n",
       "      <td>2247.7</td>\n",
       "      <td>-33.5</td>\n",
       "      <td>162.5</td>\n",
       "      <td>133.9</td>\n",
       "      <td>25.8</td>\n",
       "      <td>0.250</td>\n",
       "      <td>0.410</td>\n",
       "      <td>20.5</td>\n",
       "      <td>32.9</td>\n",
       "      <td>27.4</td>\n",
       "      <td>19.2</td>\n",
       "      <td>20.5</td>\n",
       "    </tr>\n",
       "  </tbody>\n",
       "</table>\n",
       "</div>"
      ],
      "text/plain": [
       "       연도   선수    팀  구종  직구_구사%  직구_구속  직구_상하_무브먼트  직구_좌우_무브먼트  직구_분당_회전수  \\\n",
       "92   2023  산체스   한화  직구    48.6  147.8        22.5        26.9     2713.4   \n",
       "118  2023  산체스  KIA  직구    43.7  143.9        26.6       -13.4     2247.7   \n",
       "\n",
       "     직구_좌우_릴리스포인트  직구_상하_릴리스포인트  직구_타구_속도  직구_상하_각도  직구_피안타율  직구_피장타율  직구_땅볼%  \\\n",
       "92           60.4         163.2     132.5      17.4    0.288    0.394    34.8   \n",
       "118         -33.5         162.5     133.9      25.8    0.250    0.410    20.5   \n",
       "\n",
       "     직구_라인드라이브%  직구_뜬공%  직구_팝플라이%  직구_강한_타구%  \n",
       "92         32.3    19.6      13.3       22.8  \n",
       "118        32.9    27.4      19.2       20.5  "
      ]
     },
     "metadata": {},
     "output_type": "display_data"
    }
   ],
   "source": [
    "player_info = ['산체스',\t53714]\n",
    "display(total_BB_K_p_calc(pitcher_detailed, player_info[0], player_info[1]))\n",
    "display(search_player(pitcher_detailed, player_info[0], player_info[1], [2022,2023])\\\n",
    "    [['name', 'id', '연도', '나이', '출장', '선발', '이닝',\n",
    "      'ERA', 'FIP', 'WHIP', 'ERA+', 'FIP+',\n",
    "       'WAR', 'WPA', 'BB%', 'K%']])\n",
    "display(pitcher_fast_ball_df[pitcher_fast_ball_df['선수'] == player_info[0]])"
   ]
  },
  {
   "cell_type": "code",
   "execution_count": 77,
   "metadata": {},
   "outputs": [
    {
     "name": "stdout",
     "output_type": "stream",
     "text": [
      "산체스 180이닝 투구 시 예상 WAR: 2.72\n"
     ]
    }
   ],
   "source": [
    "print(f\"산체스 180이닝 투구 시 예상 WAR: {round((1.79 / (118+2/3)) * 180, 2)}\")"
   ]
  },
  {
   "cell_type": "code",
   "execution_count": 78,
   "metadata": {},
   "outputs": [
    {
     "data": {
      "text/plain": [
       "Index(['연도', '선수', '팀', '구종', '체인지업_구사%', '체인지업_구속', '체인지업_상하_무브먼트',\n",
       "       '체인지업_좌우_무브먼트', '체인지업_분당_회전수', '체인지업_좌우_릴리스포인트', '체인지업_상하_릴리스포인트',\n",
       "       '체인지업_타구_속도', '체인지업_상하_각도', '체인지업_피안타율', '체인지업_피장타율', '체인지업_땅볼%',\n",
       "       '체인지업_라인드라이브%', '체인지업_뜬공%', '체인지업_팝플라이%', '체인지업_강한_타구%'],\n",
       "      dtype='object')"
      ]
     },
     "execution_count": 78,
     "metadata": {},
     "output_type": "execute_result"
    }
   ],
   "source": [
    "pitcher_changeup_df.columns"
   ]
  },
  {
   "cell_type": "code",
   "execution_count": 79,
   "metadata": {},
   "outputs": [
    {
     "data": {
      "text/html": [
       "<div>\n",
       "<style scoped>\n",
       "    .dataframe tbody tr th:only-of-type {\n",
       "        vertical-align: middle;\n",
       "    }\n",
       "\n",
       "    .dataframe tbody tr th {\n",
       "        vertical-align: top;\n",
       "    }\n",
       "\n",
       "    .dataframe thead th {\n",
       "        text-align: right;\n",
       "    }\n",
       "</style>\n",
       "<table border=\"1\" class=\"dataframe\">\n",
       "  <thead>\n",
       "    <tr style=\"text-align: right;\">\n",
       "      <th></th>\n",
       "      <th></th>\n",
       "      <th>볼넷</th>\n",
       "      <th>삼진</th>\n",
       "      <th>타자</th>\n",
       "      <th>BB%</th>\n",
       "      <th>K%</th>\n",
       "    </tr>\n",
       "    <tr>\n",
       "      <th>id</th>\n",
       "      <th>name</th>\n",
       "      <th></th>\n",
       "      <th></th>\n",
       "      <th></th>\n",
       "      <th></th>\n",
       "      <th></th>\n",
       "    </tr>\n",
       "  </thead>\n",
       "  <tbody>\n",
       "    <tr>\n",
       "      <th>65707</th>\n",
       "      <th>주현상</th>\n",
       "      <td>50</td>\n",
       "      <td>111</td>\n",
       "      <td>693</td>\n",
       "      <td>7.22</td>\n",
       "      <td>16.02</td>\n",
       "    </tr>\n",
       "  </tbody>\n",
       "</table>\n",
       "</div>"
      ],
      "text/plain": [
       "            볼넷   삼진   타자   BB%     K%\n",
       "id    name                           \n",
       "65707 주현상   50  111  693  7.22  16.02"
      ]
     },
     "metadata": {},
     "output_type": "display_data"
    },
    {
     "data": {
      "text/html": [
       "<div>\n",
       "<style scoped>\n",
       "    .dataframe tbody tr th:only-of-type {\n",
       "        vertical-align: middle;\n",
       "    }\n",
       "\n",
       "    .dataframe tbody tr th {\n",
       "        vertical-align: top;\n",
       "    }\n",
       "\n",
       "    .dataframe thead th {\n",
       "        text-align: right;\n",
       "    }\n",
       "</style>\n",
       "<table border=\"1\" class=\"dataframe\">\n",
       "  <thead>\n",
       "    <tr style=\"text-align: right;\">\n",
       "      <th></th>\n",
       "      <th>name</th>\n",
       "      <th>id</th>\n",
       "      <th>연도</th>\n",
       "      <th>나이</th>\n",
       "      <th>출장</th>\n",
       "      <th>선발</th>\n",
       "      <th>이닝</th>\n",
       "      <th>ERA</th>\n",
       "      <th>FIP</th>\n",
       "      <th>WHIP</th>\n",
       "      <th>ERA+</th>\n",
       "      <th>FIP+</th>\n",
       "      <th>WAR</th>\n",
       "      <th>WPA</th>\n",
       "      <th>BB%</th>\n",
       "      <th>K%</th>\n",
       "    </tr>\n",
       "  </thead>\n",
       "  <tbody>\n",
       "    <tr>\n",
       "      <th>0</th>\n",
       "      <td>주현상</td>\n",
       "      <td>65707</td>\n",
       "      <td>2021</td>\n",
       "      <td>29</td>\n",
       "      <td>43</td>\n",
       "      <td>0</td>\n",
       "      <td>50.1</td>\n",
       "      <td>3.58</td>\n",
       "      <td>4.76</td>\n",
       "      <td>1.33</td>\n",
       "      <td>122.5</td>\n",
       "      <td>93.6</td>\n",
       "      <td>1.04</td>\n",
       "      <td>-0.26</td>\n",
       "      <td>9.63</td>\n",
       "      <td>15.14</td>\n",
       "    </tr>\n",
       "    <tr>\n",
       "      <th>1</th>\n",
       "      <td>주현상</td>\n",
       "      <td>65707</td>\n",
       "      <td>2022</td>\n",
       "      <td>30</td>\n",
       "      <td>49</td>\n",
       "      <td>0</td>\n",
       "      <td>55.1</td>\n",
       "      <td>6.83</td>\n",
       "      <td>4.30</td>\n",
       "      <td>1.50</td>\n",
       "      <td>59.3</td>\n",
       "      <td>95.0</td>\n",
       "      <td>-0.47</td>\n",
       "      <td>-0.48</td>\n",
       "      <td>5.67</td>\n",
       "      <td>13.36</td>\n",
       "    </tr>\n",
       "    <tr>\n",
       "      <th>2</th>\n",
       "      <td>주현상</td>\n",
       "      <td>65707</td>\n",
       "      <td>2023</td>\n",
       "      <td>31</td>\n",
       "      <td>55</td>\n",
       "      <td>0</td>\n",
       "      <td>59.2</td>\n",
       "      <td>1.96</td>\n",
       "      <td>3.22</td>\n",
       "      <td>0.84</td>\n",
       "      <td>211.7</td>\n",
       "      <td>128.5</td>\n",
       "      <td>2.58</td>\n",
       "      <td>1.41</td>\n",
       "      <td>6.58</td>\n",
       "      <td>19.74</td>\n",
       "    </tr>\n",
       "  </tbody>\n",
       "</table>\n",
       "</div>"
      ],
      "text/plain": [
       "  name     id    연도  나이  출장  선발    이닝   ERA   FIP  WHIP   ERA+   FIP+   WAR  \\\n",
       "0  주현상  65707  2021  29  43   0  50.1  3.58  4.76  1.33  122.5   93.6  1.04   \n",
       "1  주현상  65707  2022  30  49   0  55.1  6.83  4.30  1.50   59.3   95.0 -0.47   \n",
       "2  주현상  65707  2023  31  55   0  59.2  1.96  3.22  0.84  211.7  128.5  2.58   \n",
       "\n",
       "    WPA   BB%     K%  \n",
       "0 -0.26  9.63  15.14  \n",
       "1 -0.48  5.67  13.36  \n",
       "2  1.41  6.58  19.74  "
      ]
     },
     "metadata": {},
     "output_type": "display_data"
    },
    {
     "data": {
      "text/html": [
       "<div>\n",
       "<style scoped>\n",
       "    .dataframe tbody tr th:only-of-type {\n",
       "        vertical-align: middle;\n",
       "    }\n",
       "\n",
       "    .dataframe tbody tr th {\n",
       "        vertical-align: top;\n",
       "    }\n",
       "\n",
       "    .dataframe thead th {\n",
       "        text-align: right;\n",
       "    }\n",
       "</style>\n",
       "<table border=\"1\" class=\"dataframe\">\n",
       "  <thead>\n",
       "    <tr style=\"text-align: right;\">\n",
       "      <th></th>\n",
       "      <th>연도</th>\n",
       "      <th>선수</th>\n",
       "      <th>구종</th>\n",
       "      <th>직구_구사%</th>\n",
       "      <th>직구_구속</th>\n",
       "      <th>직구_상하_무브먼트</th>\n",
       "      <th>직구_좌우_무브먼트</th>\n",
       "      <th>직구_분당_회전수</th>\n",
       "      <th>직구_타구_속도</th>\n",
       "      <th>직구_피안타율</th>\n",
       "      <th>직구_피장타율</th>\n",
       "      <th>직구_땅볼%</th>\n",
       "      <th>직구_라인드라이브%</th>\n",
       "      <th>직구_뜬공%</th>\n",
       "      <th>직구_팝플라이%</th>\n",
       "      <th>직구_강한_타구%</th>\n",
       "    </tr>\n",
       "  </thead>\n",
       "  <tbody>\n",
       "    <tr>\n",
       "      <th>431</th>\n",
       "      <td>2021</td>\n",
       "      <td>주현상</td>\n",
       "      <td>직구</td>\n",
       "      <td>59.4</td>\n",
       "      <td>141.9</td>\n",
       "      <td>31.9</td>\n",
       "      <td>-7.1</td>\n",
       "      <td>2450.1</td>\n",
       "      <td>134.5</td>\n",
       "      <td>0.241</td>\n",
       "      <td>0.384</td>\n",
       "      <td>22.0</td>\n",
       "      <td>28.6</td>\n",
       "      <td>27.5</td>\n",
       "      <td>22.0</td>\n",
       "      <td>20.9</td>\n",
       "    </tr>\n",
       "    <tr>\n",
       "      <th>256</th>\n",
       "      <td>2022</td>\n",
       "      <td>주현상</td>\n",
       "      <td>직구</td>\n",
       "      <td>54.9</td>\n",
       "      <td>143.2</td>\n",
       "      <td>30.6</td>\n",
       "      <td>-8.0</td>\n",
       "      <td>2392.5</td>\n",
       "      <td>133.4</td>\n",
       "      <td>0.278</td>\n",
       "      <td>0.409</td>\n",
       "      <td>24.1</td>\n",
       "      <td>33.3</td>\n",
       "      <td>25.3</td>\n",
       "      <td>17.2</td>\n",
       "      <td>19.5</td>\n",
       "    </tr>\n",
       "    <tr>\n",
       "      <th>61</th>\n",
       "      <td>2023</td>\n",
       "      <td>주현상</td>\n",
       "      <td>직구</td>\n",
       "      <td>53.7</td>\n",
       "      <td>144.1</td>\n",
       "      <td>30.7</td>\n",
       "      <td>-7.9</td>\n",
       "      <td>2422.6</td>\n",
       "      <td>134.4</td>\n",
       "      <td>0.184</td>\n",
       "      <td>0.289</td>\n",
       "      <td>19.3</td>\n",
       "      <td>30.1</td>\n",
       "      <td>28.9</td>\n",
       "      <td>21.7</td>\n",
       "      <td>16.9</td>\n",
       "    </tr>\n",
       "  </tbody>\n",
       "</table>\n",
       "</div>"
      ],
      "text/plain": [
       "       연도   선수  구종  직구_구사%  직구_구속  직구_상하_무브먼트  직구_좌우_무브먼트  직구_분당_회전수  \\\n",
       "431  2021  주현상  직구    59.4  141.9        31.9        -7.1     2450.1   \n",
       "256  2022  주현상  직구    54.9  143.2        30.6        -8.0     2392.5   \n",
       "61   2023  주현상  직구    53.7  144.1        30.7        -7.9     2422.6   \n",
       "\n",
       "     직구_타구_속도  직구_피안타율  직구_피장타율  직구_땅볼%  직구_라인드라이브%  직구_뜬공%  직구_팝플라이%  \\\n",
       "431     134.5    0.241    0.384    22.0        28.6    27.5      22.0   \n",
       "256     133.4    0.278    0.409    24.1        33.3    25.3      17.2   \n",
       "61      134.4    0.184    0.289    19.3        30.1    28.9      21.7   \n",
       "\n",
       "     직구_강한_타구%  \n",
       "431       20.9  \n",
       "256       19.5  \n",
       "61        16.9  "
      ]
     },
     "metadata": {},
     "output_type": "display_data"
    },
    {
     "data": {
      "text/html": [
       "<div>\n",
       "<style scoped>\n",
       "    .dataframe tbody tr th:only-of-type {\n",
       "        vertical-align: middle;\n",
       "    }\n",
       "\n",
       "    .dataframe tbody tr th {\n",
       "        vertical-align: top;\n",
       "    }\n",
       "\n",
       "    .dataframe thead th {\n",
       "        text-align: right;\n",
       "    }\n",
       "</style>\n",
       "<table border=\"1\" class=\"dataframe\">\n",
       "  <thead>\n",
       "    <tr style=\"text-align: right;\">\n",
       "      <th></th>\n",
       "      <th>연도</th>\n",
       "      <th>선수</th>\n",
       "      <th>구종</th>\n",
       "      <th>슬라이더_구사%</th>\n",
       "      <th>슬라이더_구속</th>\n",
       "      <th>슬라이더_상하_무브먼트</th>\n",
       "      <th>슬라이더_좌우_무브먼트</th>\n",
       "      <th>슬라이더_분당_회전수</th>\n",
       "      <th>슬라이더_타구_속도</th>\n",
       "      <th>슬라이더_피안타율</th>\n",
       "      <th>슬라이더_피장타율</th>\n",
       "      <th>슬라이더_땅볼%</th>\n",
       "      <th>슬라이더_라인드라이브%</th>\n",
       "      <th>슬라이더_뜬공%</th>\n",
       "      <th>슬라이더_팝플라이%</th>\n",
       "      <th>슬라이더_강한_타구%</th>\n",
       "    </tr>\n",
       "  </thead>\n",
       "  <tbody>\n",
       "    <tr>\n",
       "      <th>384</th>\n",
       "      <td>2021</td>\n",
       "      <td>주현상</td>\n",
       "      <td>슬라이더</td>\n",
       "      <td>12.3</td>\n",
       "      <td>130.3</td>\n",
       "      <td>6.5</td>\n",
       "      <td>10.6</td>\n",
       "      <td>995.8</td>\n",
       "      <td>137.8</td>\n",
       "      <td>0.333</td>\n",
       "      <td>0.625</td>\n",
       "      <td>12.5</td>\n",
       "      <td>50.0</td>\n",
       "      <td>31.3</td>\n",
       "      <td>6.3</td>\n",
       "      <td>43.8</td>\n",
       "    </tr>\n",
       "    <tr>\n",
       "      <th>239</th>\n",
       "      <td>2022</td>\n",
       "      <td>주현상</td>\n",
       "      <td>슬라이더</td>\n",
       "      <td>16.3</td>\n",
       "      <td>132.5</td>\n",
       "      <td>10.0</td>\n",
       "      <td>6.9</td>\n",
       "      <td>1005.5</td>\n",
       "      <td>132.7</td>\n",
       "      <td>0.278</td>\n",
       "      <td>0.556</td>\n",
       "      <td>20.7</td>\n",
       "      <td>34.5</td>\n",
       "      <td>13.8</td>\n",
       "      <td>31.0</td>\n",
       "      <td>24.1</td>\n",
       "    </tr>\n",
       "    <tr>\n",
       "      <th>67</th>\n",
       "      <td>2023</td>\n",
       "      <td>주현상</td>\n",
       "      <td>슬라이더</td>\n",
       "      <td>25.9</td>\n",
       "      <td>134.6</td>\n",
       "      <td>10.6</td>\n",
       "      <td>7.0</td>\n",
       "      <td>1018.1</td>\n",
       "      <td>130.5</td>\n",
       "      <td>0.148</td>\n",
       "      <td>0.167</td>\n",
       "      <td>25.9</td>\n",
       "      <td>25.9</td>\n",
       "      <td>25.9</td>\n",
       "      <td>22.2</td>\n",
       "      <td>14.8</td>\n",
       "    </tr>\n",
       "  </tbody>\n",
       "</table>\n",
       "</div>"
      ],
      "text/plain": [
       "       연도   선수    구종  슬라이더_구사%  슬라이더_구속  슬라이더_상하_무브먼트  슬라이더_좌우_무브먼트  \\\n",
       "384  2021  주현상  슬라이더      12.3    130.3           6.5          10.6   \n",
       "239  2022  주현상  슬라이더      16.3    132.5          10.0           6.9   \n",
       "67   2023  주현상  슬라이더      25.9    134.6          10.6           7.0   \n",
       "\n",
       "     슬라이더_분당_회전수  슬라이더_타구_속도  슬라이더_피안타율  슬라이더_피장타율  슬라이더_땅볼%  슬라이더_라인드라이브%  \\\n",
       "384        995.8       137.8      0.333      0.625      12.5          50.0   \n",
       "239       1005.5       132.7      0.278      0.556      20.7          34.5   \n",
       "67        1018.1       130.5      0.148      0.167      25.9          25.9   \n",
       "\n",
       "     슬라이더_뜬공%  슬라이더_팝플라이%  슬라이더_강한_타구%  \n",
       "384      31.3         6.3         43.8  \n",
       "239      13.8        31.0         24.1  \n",
       "67       25.9        22.2         14.8  "
      ]
     },
     "metadata": {},
     "output_type": "display_data"
    },
    {
     "data": {
      "text/html": [
       "<div>\n",
       "<style scoped>\n",
       "    .dataframe tbody tr th:only-of-type {\n",
       "        vertical-align: middle;\n",
       "    }\n",
       "\n",
       "    .dataframe tbody tr th {\n",
       "        vertical-align: top;\n",
       "    }\n",
       "\n",
       "    .dataframe thead th {\n",
       "        text-align: right;\n",
       "    }\n",
       "</style>\n",
       "<table border=\"1\" class=\"dataframe\">\n",
       "  <thead>\n",
       "    <tr style=\"text-align: right;\">\n",
       "      <th></th>\n",
       "      <th>연도</th>\n",
       "      <th>선수</th>\n",
       "      <th>구종</th>\n",
       "      <th>체인지업_구사%</th>\n",
       "      <th>체인지업_구속</th>\n",
       "      <th>체인지업_상하_무브먼트</th>\n",
       "      <th>체인지업_좌우_무브먼트</th>\n",
       "      <th>체인지업_분당_회전수</th>\n",
       "      <th>체인지업_타구_속도</th>\n",
       "      <th>체인지업_피안타율</th>\n",
       "      <th>체인지업_피장타율</th>\n",
       "      <th>체인지업_땅볼%</th>\n",
       "      <th>체인지업_라인드라이브%</th>\n",
       "      <th>체인지업_뜬공%</th>\n",
       "      <th>체인지업_팝플라이%</th>\n",
       "      <th>체인지업_강한_타구%</th>\n",
       "    </tr>\n",
       "  </thead>\n",
       "  <tbody>\n",
       "    <tr>\n",
       "      <th>151</th>\n",
       "      <td>2021</td>\n",
       "      <td>주현상</td>\n",
       "      <td>체인지업</td>\n",
       "      <td>22.2</td>\n",
       "      <td>127.2</td>\n",
       "      <td>15.2</td>\n",
       "      <td>-15.6</td>\n",
       "      <td>1504.7</td>\n",
       "      <td>125.4</td>\n",
       "      <td>0.191</td>\n",
       "      <td>0.277</td>\n",
       "      <td>35.5</td>\n",
       "      <td>19.4</td>\n",
       "      <td>22.6</td>\n",
       "      <td>22.6</td>\n",
       "      <td>22.6</td>\n",
       "    </tr>\n",
       "    <tr>\n",
       "      <th>92</th>\n",
       "      <td>2022</td>\n",
       "      <td>주현상</td>\n",
       "      <td>체인지업</td>\n",
       "      <td>19.7</td>\n",
       "      <td>129.1</td>\n",
       "      <td>16.6</td>\n",
       "      <td>-15.1</td>\n",
       "      <td>1570.9</td>\n",
       "      <td>140.5</td>\n",
       "      <td>0.370</td>\n",
       "      <td>0.574</td>\n",
       "      <td>34.9</td>\n",
       "      <td>32.6</td>\n",
       "      <td>20.9</td>\n",
       "      <td>11.6</td>\n",
       "      <td>34.9</td>\n",
       "    </tr>\n",
       "    <tr>\n",
       "      <th>52</th>\n",
       "      <td>2023</td>\n",
       "      <td>주현상</td>\n",
       "      <td>체인지업</td>\n",
       "      <td>12.2</td>\n",
       "      <td>130.8</td>\n",
       "      <td>14.7</td>\n",
       "      <td>-16.6</td>\n",
       "      <td>1560.0</td>\n",
       "      <td>138.7</td>\n",
       "      <td>0.208</td>\n",
       "      <td>0.250</td>\n",
       "      <td>42.1</td>\n",
       "      <td>21.1</td>\n",
       "      <td>21.1</td>\n",
       "      <td>15.8</td>\n",
       "      <td>21.1</td>\n",
       "    </tr>\n",
       "  </tbody>\n",
       "</table>\n",
       "</div>"
      ],
      "text/plain": [
       "       연도   선수    구종  체인지업_구사%  체인지업_구속  체인지업_상하_무브먼트  체인지업_좌우_무브먼트  \\\n",
       "151  2021  주현상  체인지업      22.2    127.2          15.2         -15.6   \n",
       "92   2022  주현상  체인지업      19.7    129.1          16.6         -15.1   \n",
       "52   2023  주현상  체인지업      12.2    130.8          14.7         -16.6   \n",
       "\n",
       "     체인지업_분당_회전수  체인지업_타구_속도  체인지업_피안타율  체인지업_피장타율  체인지업_땅볼%  체인지업_라인드라이브%  \\\n",
       "151       1504.7       125.4      0.191      0.277      35.5          19.4   \n",
       "92        1570.9       140.5      0.370      0.574      34.9          32.6   \n",
       "52        1560.0       138.7      0.208      0.250      42.1          21.1   \n",
       "\n",
       "     체인지업_뜬공%  체인지업_팝플라이%  체인지업_강한_타구%  \n",
       "151      22.6        22.6         22.6  \n",
       "92       20.9        11.6         34.9  \n",
       "52       21.1        15.8         21.1  "
      ]
     },
     "metadata": {},
     "output_type": "display_data"
    }
   ],
   "source": [
    "player_info = ['주현상',\t65707]\n",
    "years = range(2014, 2024)\n",
    "\n",
    "display(total_BB_K_p_calc(pitcher_detailed, player_info[0], player_info[1]))\n",
    "display(search_player(pitcher_detailed, player_info[0], player_info[1], years)\\\n",
    "    [['name', 'id', '연도', '나이', '출장', '선발', '이닝',\n",
    "      'ERA', 'FIP', 'WHIP', 'ERA+', 'FIP+',\n",
    "       'WAR', 'WPA', 'BB%', 'K%']])\n",
    "display(pitcher_fast_ball_df[pitcher_fast_ball_df['선수'] == player_info[0]]\\\n",
    "        [['연도', '선수', '구종', '직구_구사%', '직구_구속', '직구_상하_무브먼트', '직구_좌우_무브먼트',\n",
    "       '직구_분당_회전수', '직구_타구_속도', '직구_피안타율', '직구_피장타율', '직구_땅볼%',\n",
    "       '직구_라인드라이브%', '직구_뜬공%', '직구_팝플라이%',\n",
    "       '직구_강한_타구%']].sort_values(by=\"연도\"))\n",
    "display(pitcher_slider_df[pitcher_slider_df['선수'] == player_info[0]]\\\n",
    "        [['연도', '선수', '구종', '슬라이더_구사%', '슬라이더_구속', '슬라이더_상하_무브먼트', '슬라이더_좌우_무브먼트',\n",
    "       '슬라이더_분당_회전수', '슬라이더_타구_속도', '슬라이더_피안타율', '슬라이더_피장타율', '슬라이더_땅볼%',\n",
    "       '슬라이더_라인드라이브%', '슬라이더_뜬공%', '슬라이더_팝플라이%', '슬라이더_강한_타구%']].sort_values(by=\"연도\"))\n",
    "display(pitcher_changeup_df[pitcher_changeup_df['선수'] == player_info[0]]\\\n",
    "        [['연도', '선수', '구종', '체인지업_구사%', '체인지업_구속', '체인지업_상하_무브먼트', '체인지업_좌우_무브먼트',\n",
    "       '체인지업_분당_회전수', '체인지업_타구_속도', '체인지업_피안타율', '체인지업_피장타율', '체인지업_땅볼%',\n",
    "       '체인지업_라인드라이브%', '체인지업_뜬공%', '체인지업_팝플라이%', '체인지업_강한_타구%']].sort_values(by=\"연도\"))"
   ]
  },
  {
   "cell_type": "code",
   "execution_count": 80,
   "metadata": {},
   "outputs": [
    {
     "data": {
      "text/plain": [
       "Index(['연도', '선수', '팀', '구종', '커브_구사%', '커브_구속', '커브_상하_무브먼트', '커브_좌우_무브먼트',\n",
       "       '커브_분당_회전수', '커브_좌우_릴리스포인트', '커브_상하_릴리스포인트', '커브_타구_속도', '커브_상하_각도',\n",
       "       '커브_피안타율', '커브_피장타율', '커브_땅볼%', '커브_라인드라이브%', '커브_뜬공%', '커브_팝플라이%',\n",
       "       '커브_강한_타구%'],\n",
       "      dtype='object')"
      ]
     },
     "execution_count": 80,
     "metadata": {},
     "output_type": "execute_result"
    }
   ],
   "source": [
    "pitcher_curve_df.columns"
   ]
  },
  {
   "cell_type": "code",
   "execution_count": 81,
   "metadata": {},
   "outputs": [
    {
     "data": {
      "text/html": [
       "<div>\n",
       "<style scoped>\n",
       "    .dataframe tbody tr th:only-of-type {\n",
       "        vertical-align: middle;\n",
       "    }\n",
       "\n",
       "    .dataframe tbody tr th {\n",
       "        vertical-align: top;\n",
       "    }\n",
       "\n",
       "    .dataframe thead th {\n",
       "        text-align: right;\n",
       "    }\n",
       "</style>\n",
       "<table border=\"1\" class=\"dataframe\">\n",
       "  <thead>\n",
       "    <tr style=\"text-align: right;\">\n",
       "      <th></th>\n",
       "      <th></th>\n",
       "      <th>볼넷</th>\n",
       "      <th>삼진</th>\n",
       "      <th>타자</th>\n",
       "      <th>BB%</th>\n",
       "      <th>K%</th>\n",
       "    </tr>\n",
       "    <tr>\n",
       "      <th>id</th>\n",
       "      <th>name</th>\n",
       "      <th></th>\n",
       "      <th></th>\n",
       "      <th></th>\n",
       "      <th></th>\n",
       "      <th></th>\n",
       "    </tr>\n",
       "  </thead>\n",
       "  <tbody>\n",
       "    <tr>\n",
       "      <th>63464</th>\n",
       "      <th>윤대경</th>\n",
       "      <td>95</td>\n",
       "      <td>175</td>\n",
       "      <td>1110</td>\n",
       "      <td>8.56</td>\n",
       "      <td>15.77</td>\n",
       "    </tr>\n",
       "  </tbody>\n",
       "</table>\n",
       "</div>"
      ],
      "text/plain": [
       "            볼넷   삼진    타자   BB%     K%\n",
       "id    name                            \n",
       "63464 윤대경   95  175  1110  8.56  15.77"
      ]
     },
     "metadata": {},
     "output_type": "display_data"
    },
    {
     "data": {
      "text/html": [
       "<div>\n",
       "<style scoped>\n",
       "    .dataframe tbody tr th:only-of-type {\n",
       "        vertical-align: middle;\n",
       "    }\n",
       "\n",
       "    .dataframe tbody tr th {\n",
       "        vertical-align: top;\n",
       "    }\n",
       "\n",
       "    .dataframe thead th {\n",
       "        text-align: right;\n",
       "    }\n",
       "</style>\n",
       "<table border=\"1\" class=\"dataframe\">\n",
       "  <thead>\n",
       "    <tr style=\"text-align: right;\">\n",
       "      <th></th>\n",
       "      <th>name</th>\n",
       "      <th>id</th>\n",
       "      <th>연도</th>\n",
       "      <th>나이</th>\n",
       "      <th>출장</th>\n",
       "      <th>선발</th>\n",
       "      <th>이닝</th>\n",
       "      <th>ERA</th>\n",
       "      <th>FIP</th>\n",
       "      <th>WHIP</th>\n",
       "      <th>ERA+</th>\n",
       "      <th>FIP+</th>\n",
       "      <th>WAR</th>\n",
       "      <th>WPA</th>\n",
       "      <th>BB%</th>\n",
       "      <th>K%</th>\n",
       "    </tr>\n",
       "  </thead>\n",
       "  <tbody>\n",
       "    <tr>\n",
       "      <th>0</th>\n",
       "      <td>윤대경</td>\n",
       "      <td>63464</td>\n",
       "      <td>2020</td>\n",
       "      <td>26</td>\n",
       "      <td>55</td>\n",
       "      <td>0</td>\n",
       "      <td>51.0</td>\n",
       "      <td>1.59</td>\n",
       "      <td>4.14</td>\n",
       "      <td>1.43</td>\n",
       "      <td>297.7</td>\n",
       "      <td>115.5</td>\n",
       "      <td>2.20</td>\n",
       "      <td>0.61</td>\n",
       "      <td>11.11</td>\n",
       "      <td>18.67</td>\n",
       "    </tr>\n",
       "    <tr>\n",
       "      <th>1</th>\n",
       "      <td>윤대경</td>\n",
       "      <td>63464</td>\n",
       "      <td>2021</td>\n",
       "      <td>27</td>\n",
       "      <td>43</td>\n",
       "      <td>9</td>\n",
       "      <td>77.2</td>\n",
       "      <td>3.94</td>\n",
       "      <td>4.75</td>\n",
       "      <td>1.38</td>\n",
       "      <td>111.2</td>\n",
       "      <td>93.8</td>\n",
       "      <td>1.50</td>\n",
       "      <td>0.86</td>\n",
       "      <td>10.09</td>\n",
       "      <td>16.02</td>\n",
       "    </tr>\n",
       "    <tr>\n",
       "      <th>2</th>\n",
       "      <td>윤대경</td>\n",
       "      <td>63464</td>\n",
       "      <td>2022</td>\n",
       "      <td>28</td>\n",
       "      <td>25</td>\n",
       "      <td>14</td>\n",
       "      <td>75.1</td>\n",
       "      <td>7.41</td>\n",
       "      <td>3.98</td>\n",
       "      <td>1.63</td>\n",
       "      <td>54.7</td>\n",
       "      <td>102.6</td>\n",
       "      <td>-1.37</td>\n",
       "      <td>-2.23</td>\n",
       "      <td>4.87</td>\n",
       "      <td>14.61</td>\n",
       "    </tr>\n",
       "    <tr>\n",
       "      <th>3</th>\n",
       "      <td>윤대경</td>\n",
       "      <td>63464</td>\n",
       "      <td>2023</td>\n",
       "      <td>29</td>\n",
       "      <td>47</td>\n",
       "      <td>0</td>\n",
       "      <td>47.2</td>\n",
       "      <td>2.45</td>\n",
       "      <td>4.93</td>\n",
       "      <td>1.15</td>\n",
       "      <td>169.2</td>\n",
       "      <td>84.2</td>\n",
       "      <td>1.11</td>\n",
       "      <td>0.58</td>\n",
       "      <td>9.55</td>\n",
       "      <td>14.07</td>\n",
       "    </tr>\n",
       "  </tbody>\n",
       "</table>\n",
       "</div>"
      ],
      "text/plain": [
       "  name     id    연도  나이  출장  선발    이닝   ERA   FIP  WHIP   ERA+   FIP+   WAR  \\\n",
       "0  윤대경  63464  2020  26  55   0  51.0  1.59  4.14  1.43  297.7  115.5  2.20   \n",
       "1  윤대경  63464  2021  27  43   9  77.2  3.94  4.75  1.38  111.2   93.8  1.50   \n",
       "2  윤대경  63464  2022  28  25  14  75.1  7.41  3.98  1.63   54.7  102.6 -1.37   \n",
       "3  윤대경  63464  2023  29  47   0  47.2  2.45  4.93  1.15  169.2   84.2  1.11   \n",
       "\n",
       "    WPA    BB%     K%  \n",
       "0  0.61  11.11  18.67  \n",
       "1  0.86  10.09  16.02  \n",
       "2 -2.23   4.87  14.61  \n",
       "3  0.58   9.55  14.07  "
      ]
     },
     "metadata": {},
     "output_type": "display_data"
    },
    {
     "data": {
      "text/html": [
       "<div>\n",
       "<style scoped>\n",
       "    .dataframe tbody tr th:only-of-type {\n",
       "        vertical-align: middle;\n",
       "    }\n",
       "\n",
       "    .dataframe tbody tr th {\n",
       "        vertical-align: top;\n",
       "    }\n",
       "\n",
       "    .dataframe thead th {\n",
       "        text-align: right;\n",
       "    }\n",
       "</style>\n",
       "<table border=\"1\" class=\"dataframe\">\n",
       "  <thead>\n",
       "    <tr style=\"text-align: right;\">\n",
       "      <th></th>\n",
       "      <th>연도</th>\n",
       "      <th>선수</th>\n",
       "      <th>구종</th>\n",
       "      <th>직구_구사%</th>\n",
       "      <th>직구_구속</th>\n",
       "      <th>직구_상하_무브먼트</th>\n",
       "      <th>직구_좌우_무브먼트</th>\n",
       "      <th>직구_분당_회전수</th>\n",
       "      <th>직구_타구_속도</th>\n",
       "      <th>직구_피안타율</th>\n",
       "      <th>직구_피장타율</th>\n",
       "      <th>직구_땅볼%</th>\n",
       "      <th>직구_라인드라이브%</th>\n",
       "      <th>직구_뜬공%</th>\n",
       "      <th>직구_팝플라이%</th>\n",
       "      <th>직구_강한_타구%</th>\n",
       "    </tr>\n",
       "  </thead>\n",
       "  <tbody>\n",
       "    <tr>\n",
       "      <th>450</th>\n",
       "      <td>2021</td>\n",
       "      <td>윤대경</td>\n",
       "      <td>직구</td>\n",
       "      <td>56.2</td>\n",
       "      <td>139.6</td>\n",
       "      <td>29.9</td>\n",
       "      <td>-10.4</td>\n",
       "      <td>2357.6</td>\n",
       "      <td>134.0</td>\n",
       "      <td>0.255</td>\n",
       "      <td>0.398</td>\n",
       "      <td>30.9</td>\n",
       "      <td>30.1</td>\n",
       "      <td>19.9</td>\n",
       "      <td>19.1</td>\n",
       "      <td>22.1</td>\n",
       "    </tr>\n",
       "    <tr>\n",
       "      <th>262</th>\n",
       "      <td>2022</td>\n",
       "      <td>윤대경</td>\n",
       "      <td>직구</td>\n",
       "      <td>54.0</td>\n",
       "      <td>139.8</td>\n",
       "      <td>28.8</td>\n",
       "      <td>-12.2</td>\n",
       "      <td>2315.5</td>\n",
       "      <td>133.8</td>\n",
       "      <td>0.344</td>\n",
       "      <td>0.466</td>\n",
       "      <td>20.5</td>\n",
       "      <td>29.5</td>\n",
       "      <td>30.3</td>\n",
       "      <td>19.7</td>\n",
       "      <td>18.9</td>\n",
       "    </tr>\n",
       "    <tr>\n",
       "      <th>34</th>\n",
       "      <td>2023</td>\n",
       "      <td>윤대경</td>\n",
       "      <td>직구</td>\n",
       "      <td>59.1</td>\n",
       "      <td>139.0</td>\n",
       "      <td>30.4</td>\n",
       "      <td>-11.8</td>\n",
       "      <td>2420.1</td>\n",
       "      <td>135.4</td>\n",
       "      <td>0.228</td>\n",
       "      <td>0.366</td>\n",
       "      <td>15.4</td>\n",
       "      <td>33.3</td>\n",
       "      <td>24.4</td>\n",
       "      <td>26.9</td>\n",
       "      <td>17.9</td>\n",
       "    </tr>\n",
       "  </tbody>\n",
       "</table>\n",
       "</div>"
      ],
      "text/plain": [
       "       연도   선수  구종  직구_구사%  직구_구속  직구_상하_무브먼트  직구_좌우_무브먼트  직구_분당_회전수  \\\n",
       "450  2021  윤대경  직구    56.2  139.6        29.9       -10.4     2357.6   \n",
       "262  2022  윤대경  직구    54.0  139.8        28.8       -12.2     2315.5   \n",
       "34   2023  윤대경  직구    59.1  139.0        30.4       -11.8     2420.1   \n",
       "\n",
       "     직구_타구_속도  직구_피안타율  직구_피장타율  직구_땅볼%  직구_라인드라이브%  직구_뜬공%  직구_팝플라이%  \\\n",
       "450     134.0    0.255    0.398    30.9        30.1    19.9      19.1   \n",
       "262     133.8    0.344    0.466    20.5        29.5    30.3      19.7   \n",
       "34      135.4    0.228    0.366    15.4        33.3    24.4      26.9   \n",
       "\n",
       "     직구_강한_타구%  \n",
       "450       22.1  \n",
       "262       18.9  \n",
       "34        17.9  "
      ]
     },
     "metadata": {},
     "output_type": "display_data"
    },
    {
     "data": {
      "text/html": [
       "<div>\n",
       "<style scoped>\n",
       "    .dataframe tbody tr th:only-of-type {\n",
       "        vertical-align: middle;\n",
       "    }\n",
       "\n",
       "    .dataframe tbody tr th {\n",
       "        vertical-align: top;\n",
       "    }\n",
       "\n",
       "    .dataframe thead th {\n",
       "        text-align: right;\n",
       "    }\n",
       "</style>\n",
       "<table border=\"1\" class=\"dataframe\">\n",
       "  <thead>\n",
       "    <tr style=\"text-align: right;\">\n",
       "      <th></th>\n",
       "      <th>연도</th>\n",
       "      <th>선수</th>\n",
       "      <th>구종</th>\n",
       "      <th>커브_구사%</th>\n",
       "      <th>커브_구속</th>\n",
       "      <th>커브_상하_무브먼트</th>\n",
       "      <th>커브_좌우_무브먼트</th>\n",
       "      <th>커브_분당_회전수</th>\n",
       "      <th>커브_타구_속도</th>\n",
       "      <th>커브_피안타율</th>\n",
       "      <th>커브_피장타율</th>\n",
       "      <th>커브_땅볼%</th>\n",
       "      <th>커브_라인드라이브%</th>\n",
       "      <th>커브_뜬공%</th>\n",
       "      <th>커브_팝플라이%</th>\n",
       "      <th>커브_강한_타구%</th>\n",
       "    </tr>\n",
       "  </thead>\n",
       "  <tbody>\n",
       "    <tr>\n",
       "      <th>179</th>\n",
       "      <td>2021</td>\n",
       "      <td>윤대경</td>\n",
       "      <td>커브</td>\n",
       "      <td>10.4</td>\n",
       "      <td>111.1</td>\n",
       "      <td>-21.5</td>\n",
       "      <td>15.2</td>\n",
       "      <td>1529.7</td>\n",
       "      <td>129.4</td>\n",
       "      <td>0.125</td>\n",
       "      <td>0.125</td>\n",
       "      <td>44.4</td>\n",
       "      <td>16.7</td>\n",
       "      <td>33.3</td>\n",
       "      <td>5.6</td>\n",
       "      <td>0.0</td>\n",
       "    </tr>\n",
       "    <tr>\n",
       "      <th>103</th>\n",
       "      <td>2022</td>\n",
       "      <td>윤대경</td>\n",
       "      <td>커브</td>\n",
       "      <td>13.5</td>\n",
       "      <td>109.6</td>\n",
       "      <td>-21.2</td>\n",
       "      <td>15.4</td>\n",
       "      <td>1493.1</td>\n",
       "      <td>131.9</td>\n",
       "      <td>0.333</td>\n",
       "      <td>0.400</td>\n",
       "      <td>38.5</td>\n",
       "      <td>30.8</td>\n",
       "      <td>26.9</td>\n",
       "      <td>3.8</td>\n",
       "      <td>7.7</td>\n",
       "    </tr>\n",
       "  </tbody>\n",
       "</table>\n",
       "</div>"
      ],
      "text/plain": [
       "       연도   선수  구종  커브_구사%  커브_구속  커브_상하_무브먼트  커브_좌우_무브먼트  커브_분당_회전수  \\\n",
       "179  2021  윤대경  커브    10.4  111.1       -21.5        15.2     1529.7   \n",
       "103  2022  윤대경  커브    13.5  109.6       -21.2        15.4     1493.1   \n",
       "\n",
       "     커브_타구_속도  커브_피안타율  커브_피장타율  커브_땅볼%  커브_라인드라이브%  커브_뜬공%  커브_팝플라이%  \\\n",
       "179     129.4    0.125    0.125    44.4        16.7    33.3       5.6   \n",
       "103     131.9    0.333    0.400    38.5        30.8    26.9       3.8   \n",
       "\n",
       "     커브_강한_타구%  \n",
       "179        0.0  \n",
       "103        7.7  "
      ]
     },
     "metadata": {},
     "output_type": "display_data"
    },
    {
     "data": {
      "text/html": [
       "<div>\n",
       "<style scoped>\n",
       "    .dataframe tbody tr th:only-of-type {\n",
       "        vertical-align: middle;\n",
       "    }\n",
       "\n",
       "    .dataframe tbody tr th {\n",
       "        vertical-align: top;\n",
       "    }\n",
       "\n",
       "    .dataframe thead th {\n",
       "        text-align: right;\n",
       "    }\n",
       "</style>\n",
       "<table border=\"1\" class=\"dataframe\">\n",
       "  <thead>\n",
       "    <tr style=\"text-align: right;\">\n",
       "      <th></th>\n",
       "      <th>연도</th>\n",
       "      <th>선수</th>\n",
       "      <th>구종</th>\n",
       "      <th>체인지업_구사%</th>\n",
       "      <th>체인지업_구속</th>\n",
       "      <th>체인지업_상하_무브먼트</th>\n",
       "      <th>체인지업_좌우_무브먼트</th>\n",
       "      <th>체인지업_분당_회전수</th>\n",
       "      <th>체인지업_타구_속도</th>\n",
       "      <th>체인지업_피안타율</th>\n",
       "      <th>체인지업_피장타율</th>\n",
       "      <th>체인지업_땅볼%</th>\n",
       "      <th>체인지업_라인드라이브%</th>\n",
       "      <th>체인지업_뜬공%</th>\n",
       "      <th>체인지업_팝플라이%</th>\n",
       "      <th>체인지업_강한_타구%</th>\n",
       "    </tr>\n",
       "  </thead>\n",
       "  <tbody>\n",
       "    <tr>\n",
       "      <th>140</th>\n",
       "      <td>2021</td>\n",
       "      <td>윤대경</td>\n",
       "      <td>체인지업</td>\n",
       "      <td>26.0</td>\n",
       "      <td>124.6</td>\n",
       "      <td>18.7</td>\n",
       "      <td>-16.3</td>\n",
       "      <td>1666.8</td>\n",
       "      <td>127.0</td>\n",
       "      <td>0.226</td>\n",
       "      <td>0.345</td>\n",
       "      <td>19.6</td>\n",
       "      <td>37.3</td>\n",
       "      <td>27.5</td>\n",
       "      <td>15.7</td>\n",
       "      <td>9.8</td>\n",
       "    </tr>\n",
       "    <tr>\n",
       "      <th>105</th>\n",
       "      <td>2022</td>\n",
       "      <td>윤대경</td>\n",
       "      <td>체인지업</td>\n",
       "      <td>14.4</td>\n",
       "      <td>124.9</td>\n",
       "      <td>18.3</td>\n",
       "      <td>-16.4</td>\n",
       "      <td>1651.5</td>\n",
       "      <td>132.6</td>\n",
       "      <td>0.373</td>\n",
       "      <td>0.647</td>\n",
       "      <td>32.4</td>\n",
       "      <td>44.1</td>\n",
       "      <td>20.6</td>\n",
       "      <td>2.9</td>\n",
       "      <td>14.7</td>\n",
       "    </tr>\n",
       "    <tr>\n",
       "      <th>19</th>\n",
       "      <td>2023</td>\n",
       "      <td>윤대경</td>\n",
       "      <td>체인지업</td>\n",
       "      <td>24.4</td>\n",
       "      <td>123.5</td>\n",
       "      <td>20.0</td>\n",
       "      <td>-14.0</td>\n",
       "      <td>1645.8</td>\n",
       "      <td>130.3</td>\n",
       "      <td>0.208</td>\n",
       "      <td>0.396</td>\n",
       "      <td>21.2</td>\n",
       "      <td>27.3</td>\n",
       "      <td>30.3</td>\n",
       "      <td>21.2</td>\n",
       "      <td>9.1</td>\n",
       "    </tr>\n",
       "  </tbody>\n",
       "</table>\n",
       "</div>"
      ],
      "text/plain": [
       "       연도   선수    구종  체인지업_구사%  체인지업_구속  체인지업_상하_무브먼트  체인지업_좌우_무브먼트  \\\n",
       "140  2021  윤대경  체인지업      26.0    124.6          18.7         -16.3   \n",
       "105  2022  윤대경  체인지업      14.4    124.9          18.3         -16.4   \n",
       "19   2023  윤대경  체인지업      24.4    123.5          20.0         -14.0   \n",
       "\n",
       "     체인지업_분당_회전수  체인지업_타구_속도  체인지업_피안타율  체인지업_피장타율  체인지업_땅볼%  체인지업_라인드라이브%  \\\n",
       "140       1666.8       127.0      0.226      0.345      19.6          37.3   \n",
       "105       1651.5       132.6      0.373      0.647      32.4          44.1   \n",
       "19        1645.8       130.3      0.208      0.396      21.2          27.3   \n",
       "\n",
       "     체인지업_뜬공%  체인지업_팝플라이%  체인지업_강한_타구%  \n",
       "140      27.5        15.7          9.8  \n",
       "105      20.6         2.9         14.7  \n",
       "19       30.3        21.2          9.1  "
      ]
     },
     "metadata": {},
     "output_type": "display_data"
    },
    {
     "data": {
      "text/html": [
       "<div>\n",
       "<style scoped>\n",
       "    .dataframe tbody tr th:only-of-type {\n",
       "        vertical-align: middle;\n",
       "    }\n",
       "\n",
       "    .dataframe tbody tr th {\n",
       "        vertical-align: top;\n",
       "    }\n",
       "\n",
       "    .dataframe thead th {\n",
       "        text-align: right;\n",
       "    }\n",
       "</style>\n",
       "<table border=\"1\" class=\"dataframe\">\n",
       "  <thead>\n",
       "    <tr style=\"text-align: right;\">\n",
       "      <th></th>\n",
       "      <th>연도</th>\n",
       "      <th>선수</th>\n",
       "      <th>구종</th>\n",
       "      <th>슬라이더_구사%</th>\n",
       "      <th>슬라이더_구속</th>\n",
       "      <th>슬라이더_상하_무브먼트</th>\n",
       "      <th>슬라이더_좌우_무브먼트</th>\n",
       "      <th>슬라이더_분당_회전수</th>\n",
       "      <th>슬라이더_타구_속도</th>\n",
       "      <th>슬라이더_피안타율</th>\n",
       "      <th>슬라이더_피장타율</th>\n",
       "      <th>슬라이더_땅볼%</th>\n",
       "      <th>슬라이더_라인드라이브%</th>\n",
       "      <th>슬라이더_뜬공%</th>\n",
       "      <th>슬라이더_팝플라이%</th>\n",
       "      <th>슬라이더_강한_타구%</th>\n",
       "    </tr>\n",
       "  </thead>\n",
       "  <tbody>\n",
       "    <tr>\n",
       "      <th>234</th>\n",
       "      <td>2022</td>\n",
       "      <td>윤대경</td>\n",
       "      <td>슬라이더</td>\n",
       "      <td>18.1</td>\n",
       "      <td>127.8</td>\n",
       "      <td>7.3</td>\n",
       "      <td>6.9</td>\n",
       "      <td>821.0</td>\n",
       "      <td>127.9</td>\n",
       "      <td>0.242</td>\n",
       "      <td>0.364</td>\n",
       "      <td>23.3</td>\n",
       "      <td>46.5</td>\n",
       "      <td>18.6</td>\n",
       "      <td>11.6</td>\n",
       "      <td>16.3</td>\n",
       "    </tr>\n",
       "  </tbody>\n",
       "</table>\n",
       "</div>"
      ],
      "text/plain": [
       "       연도   선수    구종  슬라이더_구사%  슬라이더_구속  슬라이더_상하_무브먼트  슬라이더_좌우_무브먼트  \\\n",
       "234  2022  윤대경  슬라이더      18.1    127.8           7.3           6.9   \n",
       "\n",
       "     슬라이더_분당_회전수  슬라이더_타구_속도  슬라이더_피안타율  슬라이더_피장타율  슬라이더_땅볼%  슬라이더_라인드라이브%  \\\n",
       "234        821.0       127.9      0.242      0.364      23.3          46.5   \n",
       "\n",
       "     슬라이더_뜬공%  슬라이더_팝플라이%  슬라이더_강한_타구%  \n",
       "234      18.6        11.6         16.3  "
      ]
     },
     "metadata": {},
     "output_type": "display_data"
    }
   ],
   "source": [
    "player_info = ['윤대경',\t63464]\n",
    "years = range(2014, 2024)\n",
    "\n",
    "display(total_BB_K_p_calc(pitcher_detailed, player_info[0], player_info[1]))\n",
    "display(search_player(pitcher_detailed, player_info[0], player_info[1], years)\\\n",
    "    [['name', 'id', '연도', '나이', '출장', '선발', '이닝',\n",
    "      'ERA', 'FIP', 'WHIP', 'ERA+', 'FIP+',\n",
    "       'WAR', 'WPA', 'BB%', 'K%']])\n",
    "display(pitcher_fast_ball_df[pitcher_fast_ball_df['선수'] == player_info[0]]\\\n",
    "        [['연도', '선수', '구종', '직구_구사%', '직구_구속', '직구_상하_무브먼트', '직구_좌우_무브먼트',\n",
    "       '직구_분당_회전수', '직구_타구_속도', '직구_피안타율', '직구_피장타율', '직구_땅볼%',\n",
    "       '직구_라인드라이브%', '직구_뜬공%', '직구_팝플라이%',\n",
    "       '직구_강한_타구%']].sort_values(by=\"연도\"))\n",
    "display(pitcher_curve_df[pitcher_curve_df['선수'] == player_info[0]]\\\n",
    "        [['연도', '선수', '구종', '커브_구사%', '커브_구속', '커브_상하_무브먼트', '커브_좌우_무브먼트',\n",
    "       '커브_분당_회전수', '커브_타구_속도', '커브_피안타율', '커브_피장타율', '커브_땅볼%',\n",
    "       '커브_라인드라이브%', '커브_뜬공%', '커브_팝플라이%', '커브_강한_타구%']].sort_values(by='연도'))\n",
    "display(pitcher_changeup_df[pitcher_changeup_df['선수'] == player_info[0]]\\\n",
    "        [['연도', '선수', '구종', '체인지업_구사%', '체인지업_구속', '체인지업_상하_무브먼트', '체인지업_좌우_무브먼트',\n",
    "       '체인지업_분당_회전수', '체인지업_타구_속도', '체인지업_피안타율', '체인지업_피장타율', '체인지업_땅볼%',\n",
    "       '체인지업_라인드라이브%', '체인지업_뜬공%', '체인지업_팝플라이%', '체인지업_강한_타구%']].sort_values(by=\"연도\"))\n",
    "display(pitcher_slider_df[pitcher_slider_df['선수'] == player_info[0]]\\\n",
    "        [['연도', '선수', '구종', '슬라이더_구사%', '슬라이더_구속', '슬라이더_상하_무브먼트', '슬라이더_좌우_무브먼트',\n",
    "       '슬라이더_분당_회전수', '슬라이더_타구_속도', '슬라이더_피안타율', '슬라이더_피장타율', '슬라이더_땅볼%',\n",
    "       '슬라이더_라인드라이브%', '슬라이더_뜬공%', '슬라이더_팝플라이%', '슬라이더_강한_타구%']].sort_values(by=\"연도\"))"
   ]
  },
  {
   "cell_type": "code",
   "execution_count": 82,
   "metadata": {},
   "outputs": [
    {
     "data": {
      "text/html": [
       "<div>\n",
       "<style scoped>\n",
       "    .dataframe tbody tr th:only-of-type {\n",
       "        vertical-align: middle;\n",
       "    }\n",
       "\n",
       "    .dataframe tbody tr th {\n",
       "        vertical-align: top;\n",
       "    }\n",
       "\n",
       "    .dataframe thead th {\n",
       "        text-align: right;\n",
       "    }\n",
       "</style>\n",
       "<table border=\"1\" class=\"dataframe\">\n",
       "  <thead>\n",
       "    <tr style=\"text-align: right;\">\n",
       "      <th></th>\n",
       "      <th></th>\n",
       "      <th>볼넷</th>\n",
       "      <th>삼진</th>\n",
       "      <th>타자</th>\n",
       "      <th>BB%</th>\n",
       "      <th>K%</th>\n",
       "    </tr>\n",
       "    <tr>\n",
       "      <th>id</th>\n",
       "      <th>name</th>\n",
       "      <th></th>\n",
       "      <th></th>\n",
       "      <th></th>\n",
       "      <th></th>\n",
       "      <th></th>\n",
       "    </tr>\n",
       "  </thead>\n",
       "  <tbody>\n",
       "    <tr>\n",
       "      <th>77318</th>\n",
       "      <th>장시환</th>\n",
       "      <td>456</td>\n",
       "      <td>724</td>\n",
       "      <td>3695</td>\n",
       "      <td>12.34</td>\n",
       "      <td>19.59</td>\n",
       "    </tr>\n",
       "  </tbody>\n",
       "</table>\n",
       "</div>"
      ],
      "text/plain": [
       "             볼넷   삼진    타자    BB%     K%\n",
       "id    name                              \n",
       "77318 장시환   456  724  3695  12.34  19.59"
      ]
     },
     "metadata": {},
     "output_type": "display_data"
    },
    {
     "data": {
      "text/html": [
       "<div>\n",
       "<style scoped>\n",
       "    .dataframe tbody tr th:only-of-type {\n",
       "        vertical-align: middle;\n",
       "    }\n",
       "\n",
       "    .dataframe tbody tr th {\n",
       "        vertical-align: top;\n",
       "    }\n",
       "\n",
       "    .dataframe thead th {\n",
       "        text-align: right;\n",
       "    }\n",
       "</style>\n",
       "<table border=\"1\" class=\"dataframe\">\n",
       "  <thead>\n",
       "    <tr style=\"text-align: right;\">\n",
       "      <th></th>\n",
       "      <th>name</th>\n",
       "      <th>id</th>\n",
       "      <th>연도</th>\n",
       "      <th>나이</th>\n",
       "      <th>출장</th>\n",
       "      <th>선발</th>\n",
       "      <th>이닝</th>\n",
       "      <th>홈런</th>\n",
       "      <th>ERA</th>\n",
       "      <th>FIP</th>\n",
       "      <th>WHIP</th>\n",
       "      <th>ERA+</th>\n",
       "      <th>FIP+</th>\n",
       "      <th>WAR</th>\n",
       "      <th>WPA</th>\n",
       "      <th>BB%</th>\n",
       "      <th>K%</th>\n",
       "    </tr>\n",
       "  </thead>\n",
       "  <tbody>\n",
       "    <tr>\n",
       "      <th>0</th>\n",
       "      <td>장시환</td>\n",
       "      <td>77318</td>\n",
       "      <td>2014</td>\n",
       "      <td>27</td>\n",
       "      <td>6</td>\n",
       "      <td>0</td>\n",
       "      <td>6.2</td>\n",
       "      <td>0</td>\n",
       "      <td>12.15</td>\n",
       "      <td>4.61</td>\n",
       "      <td>1.80</td>\n",
       "      <td>43.4</td>\n",
       "      <td>114.1</td>\n",
       "      <td>0.00</td>\n",
       "      <td>-0.13</td>\n",
       "      <td>9.38</td>\n",
       "      <td>6.25</td>\n",
       "    </tr>\n",
       "    <tr>\n",
       "      <th>1</th>\n",
       "      <td>장시환</td>\n",
       "      <td>77318</td>\n",
       "      <td>2015</td>\n",
       "      <td>28</td>\n",
       "      <td>47</td>\n",
       "      <td>0</td>\n",
       "      <td>74.2</td>\n",
       "      <td>1</td>\n",
       "      <td>3.98</td>\n",
       "      <td>2.87</td>\n",
       "      <td>1.35</td>\n",
       "      <td>126.3</td>\n",
       "      <td>174.9</td>\n",
       "      <td>2.42</td>\n",
       "      <td>-0.31</td>\n",
       "      <td>9.09</td>\n",
       "      <td>24.35</td>\n",
       "    </tr>\n",
       "    <tr>\n",
       "      <th>2</th>\n",
       "      <td>장시환</td>\n",
       "      <td>77318</td>\n",
       "      <td>2016</td>\n",
       "      <td>29</td>\n",
       "      <td>40</td>\n",
       "      <td>7</td>\n",
       "      <td>75.1</td>\n",
       "      <td>7</td>\n",
       "      <td>6.33</td>\n",
       "      <td>5.09</td>\n",
       "      <td>1.81</td>\n",
       "      <td>82.5</td>\n",
       "      <td>103.2</td>\n",
       "      <td>-0.30</td>\n",
       "      <td>-3.59</td>\n",
       "      <td>11.78</td>\n",
       "      <td>18.36</td>\n",
       "    </tr>\n",
       "    <tr>\n",
       "      <th>3</th>\n",
       "      <td>장시환</td>\n",
       "      <td>77318</td>\n",
       "      <td>2017</td>\n",
       "      <td>30</td>\n",
       "      <td>53</td>\n",
       "      <td>0</td>\n",
       "      <td>51.1</td>\n",
       "      <td>6</td>\n",
       "      <td>4.38</td>\n",
       "      <td>4.90</td>\n",
       "      <td>1.54</td>\n",
       "      <td>115.1</td>\n",
       "      <td>102.5</td>\n",
       "      <td>1.07</td>\n",
       "      <td>-1.15</td>\n",
       "      <td>13.60</td>\n",
       "      <td>25.00</td>\n",
       "    </tr>\n",
       "    <tr>\n",
       "      <th>4</th>\n",
       "      <td>장시환</td>\n",
       "      <td>77318</td>\n",
       "      <td>2017</td>\n",
       "      <td>30</td>\n",
       "      <td>48</td>\n",
       "      <td>0</td>\n",
       "      <td>45.0</td>\n",
       "      <td>6</td>\n",
       "      <td>4.80</td>\n",
       "      <td>5.14</td>\n",
       "      <td>1.58</td>\n",
       "      <td>105.0</td>\n",
       "      <td>98.0</td>\n",
       "      <td>0.64</td>\n",
       "      <td>-1.53</td>\n",
       "      <td>13.86</td>\n",
       "      <td>25.25</td>\n",
       "    </tr>\n",
       "    <tr>\n",
       "      <th>5</th>\n",
       "      <td>장시환</td>\n",
       "      <td>77318</td>\n",
       "      <td>2017</td>\n",
       "      <td>30</td>\n",
       "      <td>5</td>\n",
       "      <td>0</td>\n",
       "      <td>6.1</td>\n",
       "      <td>0</td>\n",
       "      <td>1.42</td>\n",
       "      <td>3.26</td>\n",
       "      <td>1.26</td>\n",
       "      <td>356.6</td>\n",
       "      <td>152.6</td>\n",
       "      <td>0.43</td>\n",
       "      <td>0.38</td>\n",
       "      <td>11.54</td>\n",
       "      <td>23.08</td>\n",
       "    </tr>\n",
       "    <tr>\n",
       "      <th>6</th>\n",
       "      <td>장시환</td>\n",
       "      <td>77318</td>\n",
       "      <td>2018</td>\n",
       "      <td>31</td>\n",
       "      <td>32</td>\n",
       "      <td>0</td>\n",
       "      <td>36.2</td>\n",
       "      <td>5</td>\n",
       "      <td>4.66</td>\n",
       "      <td>5.01</td>\n",
       "      <td>1.58</td>\n",
       "      <td>111.8</td>\n",
       "      <td>104.6</td>\n",
       "      <td>0.48</td>\n",
       "      <td>-0.14</td>\n",
       "      <td>10.92</td>\n",
       "      <td>25.29</td>\n",
       "    </tr>\n",
       "    <tr>\n",
       "      <th>7</th>\n",
       "      <td>장시환</td>\n",
       "      <td>77318</td>\n",
       "      <td>2019</td>\n",
       "      <td>32</td>\n",
       "      <td>27</td>\n",
       "      <td>27</td>\n",
       "      <td>125.1</td>\n",
       "      <td>12</td>\n",
       "      <td>4.95</td>\n",
       "      <td>4.32</td>\n",
       "      <td>1.64</td>\n",
       "      <td>84.6</td>\n",
       "      <td>97.2</td>\n",
       "      <td>1.18</td>\n",
       "      <td>-0.61</td>\n",
       "      <td>10.18</td>\n",
       "      <td>19.12</td>\n",
       "    </tr>\n",
       "    <tr>\n",
       "      <th>8</th>\n",
       "      <td>장시환</td>\n",
       "      <td>77318</td>\n",
       "      <td>2020</td>\n",
       "      <td>33</td>\n",
       "      <td>26</td>\n",
       "      <td>26</td>\n",
       "      <td>132.2</td>\n",
       "      <td>15</td>\n",
       "      <td>5.02</td>\n",
       "      <td>5.15</td>\n",
       "      <td>1.61</td>\n",
       "      <td>94.2</td>\n",
       "      <td>93.1</td>\n",
       "      <td>1.40</td>\n",
       "      <td>-1.62</td>\n",
       "      <td>12.27</td>\n",
       "      <td>19.07</td>\n",
       "    </tr>\n",
       "    <tr>\n",
       "      <th>9</th>\n",
       "      <td>장시환</td>\n",
       "      <td>77318</td>\n",
       "      <td>2021</td>\n",
       "      <td>34</td>\n",
       "      <td>19</td>\n",
       "      <td>16</td>\n",
       "      <td>69.0</td>\n",
       "      <td>4</td>\n",
       "      <td>7.04</td>\n",
       "      <td>4.99</td>\n",
       "      <td>1.96</td>\n",
       "      <td>62.2</td>\n",
       "      <td>89.5</td>\n",
       "      <td>-1.38</td>\n",
       "      <td>-2.32</td>\n",
       "      <td>14.04</td>\n",
       "      <td>13.74</td>\n",
       "    </tr>\n",
       "    <tr>\n",
       "      <th>10</th>\n",
       "      <td>장시환</td>\n",
       "      <td>77318</td>\n",
       "      <td>2022</td>\n",
       "      <td>35</td>\n",
       "      <td>64</td>\n",
       "      <td>0</td>\n",
       "      <td>63.2</td>\n",
       "      <td>4</td>\n",
       "      <td>4.38</td>\n",
       "      <td>3.46</td>\n",
       "      <td>1.43</td>\n",
       "      <td>92.4</td>\n",
       "      <td>117.7</td>\n",
       "      <td>0.32</td>\n",
       "      <td>-0.04</td>\n",
       "      <td>11.79</td>\n",
       "      <td>23.93</td>\n",
       "    </tr>\n",
       "    <tr>\n",
       "      <th>11</th>\n",
       "      <td>장시환</td>\n",
       "      <td>77318</td>\n",
       "      <td>2023</td>\n",
       "      <td>36</td>\n",
       "      <td>39</td>\n",
       "      <td>0</td>\n",
       "      <td>34.2</td>\n",
       "      <td>1</td>\n",
       "      <td>3.38</td>\n",
       "      <td>4.51</td>\n",
       "      <td>1.53</td>\n",
       "      <td>123.0</td>\n",
       "      <td>92.0</td>\n",
       "      <td>1.00</td>\n",
       "      <td>-0.81</td>\n",
       "      <td>13.73</td>\n",
       "      <td>15.69</td>\n",
       "    </tr>\n",
       "  </tbody>\n",
       "</table>\n",
       "</div>"
      ],
      "text/plain": [
       "   name     id    연도  나이  출장  선발     이닝  홈런    ERA   FIP  WHIP   ERA+   FIP+  \\\n",
       "0   장시환  77318  2014  27   6   0    6.2   0  12.15  4.61  1.80   43.4  114.1   \n",
       "1   장시환  77318  2015  28  47   0   74.2   1   3.98  2.87  1.35  126.3  174.9   \n",
       "2   장시환  77318  2016  29  40   7   75.1   7   6.33  5.09  1.81   82.5  103.2   \n",
       "3   장시환  77318  2017  30  53   0   51.1   6   4.38  4.90  1.54  115.1  102.5   \n",
       "4   장시환  77318  2017  30  48   0   45.0   6   4.80  5.14  1.58  105.0   98.0   \n",
       "5   장시환  77318  2017  30   5   0    6.1   0   1.42  3.26  1.26  356.6  152.6   \n",
       "6   장시환  77318  2018  31  32   0   36.2   5   4.66  5.01  1.58  111.8  104.6   \n",
       "7   장시환  77318  2019  32  27  27  125.1  12   4.95  4.32  1.64   84.6   97.2   \n",
       "8   장시환  77318  2020  33  26  26  132.2  15   5.02  5.15  1.61   94.2   93.1   \n",
       "9   장시환  77318  2021  34  19  16   69.0   4   7.04  4.99  1.96   62.2   89.5   \n",
       "10  장시환  77318  2022  35  64   0   63.2   4   4.38  3.46  1.43   92.4  117.7   \n",
       "11  장시환  77318  2023  36  39   0   34.2   1   3.38  4.51  1.53  123.0   92.0   \n",
       "\n",
       "     WAR   WPA    BB%     K%  \n",
       "0   0.00 -0.13   9.38   6.25  \n",
       "1   2.42 -0.31   9.09  24.35  \n",
       "2  -0.30 -3.59  11.78  18.36  \n",
       "3   1.07 -1.15  13.60  25.00  \n",
       "4   0.64 -1.53  13.86  25.25  \n",
       "5   0.43  0.38  11.54  23.08  \n",
       "6   0.48 -0.14  10.92  25.29  \n",
       "7   1.18 -0.61  10.18  19.12  \n",
       "8   1.40 -1.62  12.27  19.07  \n",
       "9  -1.38 -2.32  14.04  13.74  \n",
       "10  0.32 -0.04  11.79  23.93  \n",
       "11  1.00 -0.81  13.73  15.69  "
      ]
     },
     "metadata": {},
     "output_type": "display_data"
    }
   ],
   "source": [
    "player_info = ['장시환', 77318]\n",
    "years = range(2014, 2024)\n",
    "\n",
    "display(total_BB_K_p_calc(pitcher_detailed, player_info[0], player_info[1]))\n",
    "display(search_player(pitcher_detailed, player_info[0], player_info[1], years)\\\n",
    "    [['name', 'id', '연도', '나이', '출장', '선발', '이닝', '홈런',\n",
    "      'ERA', 'FIP', 'WHIP', 'ERA+', 'FIP+',\n",
    "       'WAR', 'WPA', 'BB%', 'K%']])"
   ]
  },
  {
   "cell_type": "code",
   "execution_count": null,
   "metadata": {},
   "outputs": [],
   "source": []
  },
  {
   "cell_type": "code",
   "execution_count": null,
   "metadata": {},
   "outputs": [],
   "source": []
  },
  {
   "cell_type": "markdown",
   "metadata": {},
   "source": [
    "# Analysis of FIP "
   ]
  },
  {
   "cell_type": "code",
   "execution_count": 83,
   "metadata": {},
   "outputs": [
    {
     "data": {
      "text/html": [
       "<div>\n",
       "<style scoped>\n",
       "    .dataframe tbody tr th:only-of-type {\n",
       "        vertical-align: middle;\n",
       "    }\n",
       "\n",
       "    .dataframe tbody tr th {\n",
       "        vertical-align: top;\n",
       "    }\n",
       "\n",
       "    .dataframe thead th {\n",
       "        text-align: right;\n",
       "    }\n",
       "</style>\n",
       "<table border=\"1\" class=\"dataframe\">\n",
       "  <thead>\n",
       "    <tr style=\"text-align: right;\">\n",
       "      <th></th>\n",
       "      <th>연도</th>\n",
       "      <th>순위</th>\n",
       "      <th>팀명</th>\n",
       "      <th>경기</th>\n",
       "      <th>승</th>\n",
       "      <th>패</th>\n",
       "      <th>무</th>\n",
       "      <th>승률</th>\n",
       "      <th>게임차</th>\n",
       "      <th>최근10경기</th>\n",
       "      <th>...</th>\n",
       "      <th>수비_포일</th>\n",
       "      <th>수비_도루허용</th>\n",
       "      <th>수비_도루실패</th>\n",
       "      <th>수비_도루저지율</th>\n",
       "      <th>주루_도루시도</th>\n",
       "      <th>주루_도루성공</th>\n",
       "      <th>주루_도루실패</th>\n",
       "      <th>주루_도루성공률</th>\n",
       "      <th>주루_주루사</th>\n",
       "      <th>주루_견제사</th>\n",
       "    </tr>\n",
       "  </thead>\n",
       "  <tbody>\n",
       "    <tr>\n",
       "      <th>0</th>\n",
       "      <td>2023</td>\n",
       "      <td>1</td>\n",
       "      <td>LG</td>\n",
       "      <td>144</td>\n",
       "      <td>86</td>\n",
       "      <td>56</td>\n",
       "      <td>2</td>\n",
       "      <td>0.606</td>\n",
       "      <td>0.0</td>\n",
       "      <td>5승0무5패</td>\n",
       "      <td>...</td>\n",
       "      <td>10</td>\n",
       "      <td>115</td>\n",
       "      <td>30</td>\n",
       "      <td>20.7</td>\n",
       "      <td>267</td>\n",
       "      <td>166</td>\n",
       "      <td>101</td>\n",
       "      <td>62.2</td>\n",
       "      <td>78</td>\n",
       "      <td>15</td>\n",
       "    </tr>\n",
       "    <tr>\n",
       "      <th>1</th>\n",
       "      <td>2023</td>\n",
       "      <td>2</td>\n",
       "      <td>KT</td>\n",
       "      <td>144</td>\n",
       "      <td>79</td>\n",
       "      <td>62</td>\n",
       "      <td>3</td>\n",
       "      <td>0.560</td>\n",
       "      <td>6.5</td>\n",
       "      <td>6승0무4패</td>\n",
       "      <td>...</td>\n",
       "      <td>3</td>\n",
       "      <td>111</td>\n",
       "      <td>23</td>\n",
       "      <td>17.2</td>\n",
       "      <td>117</td>\n",
       "      <td>87</td>\n",
       "      <td>30</td>\n",
       "      <td>74.4</td>\n",
       "      <td>54</td>\n",
       "      <td>5</td>\n",
       "    </tr>\n",
       "    <tr>\n",
       "      <th>2</th>\n",
       "      <td>2023</td>\n",
       "      <td>3</td>\n",
       "      <td>SSG</td>\n",
       "      <td>144</td>\n",
       "      <td>76</td>\n",
       "      <td>65</td>\n",
       "      <td>3</td>\n",
       "      <td>0.539</td>\n",
       "      <td>9.5</td>\n",
       "      <td>8승0무2패</td>\n",
       "      <td>...</td>\n",
       "      <td>11</td>\n",
       "      <td>127</td>\n",
       "      <td>56</td>\n",
       "      <td>30.6</td>\n",
       "      <td>124</td>\n",
       "      <td>96</td>\n",
       "      <td>28</td>\n",
       "      <td>77.4</td>\n",
       "      <td>43</td>\n",
       "      <td>10</td>\n",
       "    </tr>\n",
       "    <tr>\n",
       "      <th>3</th>\n",
       "      <td>2023</td>\n",
       "      <td>4</td>\n",
       "      <td>NC</td>\n",
       "      <td>144</td>\n",
       "      <td>75</td>\n",
       "      <td>67</td>\n",
       "      <td>2</td>\n",
       "      <td>0.528</td>\n",
       "      <td>11.0</td>\n",
       "      <td>5승0무5패</td>\n",
       "      <td>...</td>\n",
       "      <td>7</td>\n",
       "      <td>96</td>\n",
       "      <td>42</td>\n",
       "      <td>30.4</td>\n",
       "      <td>157</td>\n",
       "      <td>111</td>\n",
       "      <td>46</td>\n",
       "      <td>70.7</td>\n",
       "      <td>53</td>\n",
       "      <td>8</td>\n",
       "    </tr>\n",
       "    <tr>\n",
       "      <th>4</th>\n",
       "      <td>2023</td>\n",
       "      <td>5</td>\n",
       "      <td>두산</td>\n",
       "      <td>144</td>\n",
       "      <td>74</td>\n",
       "      <td>68</td>\n",
       "      <td>2</td>\n",
       "      <td>0.521</td>\n",
       "      <td>12.0</td>\n",
       "      <td>4승0무6패</td>\n",
       "      <td>...</td>\n",
       "      <td>12</td>\n",
       "      <td>60</td>\n",
       "      <td>40</td>\n",
       "      <td>40.0</td>\n",
       "      <td>181</td>\n",
       "      <td>133</td>\n",
       "      <td>48</td>\n",
       "      <td>73.5</td>\n",
       "      <td>52</td>\n",
       "      <td>11</td>\n",
       "    </tr>\n",
       "    <tr>\n",
       "      <th>...</th>\n",
       "      <td>...</td>\n",
       "      <td>...</td>\n",
       "      <td>...</td>\n",
       "      <td>...</td>\n",
       "      <td>...</td>\n",
       "      <td>...</td>\n",
       "      <td>...</td>\n",
       "      <td>...</td>\n",
       "      <td>...</td>\n",
       "      <td>...</td>\n",
       "      <td>...</td>\n",
       "      <td>...</td>\n",
       "      <td>...</td>\n",
       "      <td>...</td>\n",
       "      <td>...</td>\n",
       "      <td>...</td>\n",
       "      <td>...</td>\n",
       "      <td>...</td>\n",
       "      <td>...</td>\n",
       "      <td>...</td>\n",
       "      <td>...</td>\n",
       "    </tr>\n",
       "    <tr>\n",
       "      <th>94</th>\n",
       "      <td>2014</td>\n",
       "      <td>5</td>\n",
       "      <td>SK</td>\n",
       "      <td>128</td>\n",
       "      <td>61</td>\n",
       "      <td>65</td>\n",
       "      <td>2</td>\n",
       "      <td>0.484</td>\n",
       "      <td>17.5</td>\n",
       "      <td>6승1무3패</td>\n",
       "      <td>...</td>\n",
       "      <td>6</td>\n",
       "      <td>103</td>\n",
       "      <td>51</td>\n",
       "      <td>33.1</td>\n",
       "      <td>185</td>\n",
       "      <td>139</td>\n",
       "      <td>46</td>\n",
       "      <td>75.1</td>\n",
       "      <td>50</td>\n",
       "      <td>11</td>\n",
       "    </tr>\n",
       "    <tr>\n",
       "      <th>95</th>\n",
       "      <td>2014</td>\n",
       "      <td>6</td>\n",
       "      <td>두산</td>\n",
       "      <td>128</td>\n",
       "      <td>59</td>\n",
       "      <td>68</td>\n",
       "      <td>1</td>\n",
       "      <td>0.465</td>\n",
       "      <td>20.0</td>\n",
       "      <td>6승0무4패</td>\n",
       "      <td>...</td>\n",
       "      <td>7</td>\n",
       "      <td>113</td>\n",
       "      <td>46</td>\n",
       "      <td>28.9</td>\n",
       "      <td>155</td>\n",
       "      <td>111</td>\n",
       "      <td>44</td>\n",
       "      <td>71.6</td>\n",
       "      <td>50</td>\n",
       "      <td>6</td>\n",
       "    </tr>\n",
       "    <tr>\n",
       "      <th>96</th>\n",
       "      <td>2014</td>\n",
       "      <td>7</td>\n",
       "      <td>롯데</td>\n",
       "      <td>128</td>\n",
       "      <td>58</td>\n",
       "      <td>69</td>\n",
       "      <td>1</td>\n",
       "      <td>0.457</td>\n",
       "      <td>21.0</td>\n",
       "      <td>5승0무5패</td>\n",
       "      <td>...</td>\n",
       "      <td>11</td>\n",
       "      <td>84</td>\n",
       "      <td>37</td>\n",
       "      <td>30.6</td>\n",
       "      <td>104</td>\n",
       "      <td>63</td>\n",
       "      <td>41</td>\n",
       "      <td>60.6</td>\n",
       "      <td>49</td>\n",
       "      <td>2</td>\n",
       "    </tr>\n",
       "    <tr>\n",
       "      <th>97</th>\n",
       "      <td>2014</td>\n",
       "      <td>8</td>\n",
       "      <td>KIA</td>\n",
       "      <td>128</td>\n",
       "      <td>54</td>\n",
       "      <td>74</td>\n",
       "      <td>0</td>\n",
       "      <td>0.422</td>\n",
       "      <td>25.5</td>\n",
       "      <td>3승0무7패</td>\n",
       "      <td>...</td>\n",
       "      <td>7</td>\n",
       "      <td>162</td>\n",
       "      <td>64</td>\n",
       "      <td>28.3</td>\n",
       "      <td>184</td>\n",
       "      <td>121</td>\n",
       "      <td>63</td>\n",
       "      <td>65.8</td>\n",
       "      <td>59</td>\n",
       "      <td>7</td>\n",
       "    </tr>\n",
       "    <tr>\n",
       "      <th>98</th>\n",
       "      <td>2014</td>\n",
       "      <td>9</td>\n",
       "      <td>한화</td>\n",
       "      <td>128</td>\n",
       "      <td>49</td>\n",
       "      <td>77</td>\n",
       "      <td>2</td>\n",
       "      <td>0.389</td>\n",
       "      <td>29.5</td>\n",
       "      <td>2승0무8패</td>\n",
       "      <td>...</td>\n",
       "      <td>12</td>\n",
       "      <td>110</td>\n",
       "      <td>59</td>\n",
       "      <td>34.9</td>\n",
       "      <td>111</td>\n",
       "      <td>70</td>\n",
       "      <td>41</td>\n",
       "      <td>63.1</td>\n",
       "      <td>46</td>\n",
       "      <td>5</td>\n",
       "    </tr>\n",
       "  </tbody>\n",
       "</table>\n",
       "<p>99 rows × 81 columns</p>\n",
       "</div>"
      ],
      "text/plain": [
       "      연도  순위   팀명   경기   승   패  무     승률   게임차  최근10경기  ... 수비_포일 수비_도루허용  \\\n",
       "0   2023   1   LG  144  86  56  2  0.606   0.0  5승0무5패  ...    10     115   \n",
       "1   2023   2   KT  144  79  62  3  0.560   6.5  6승0무4패  ...     3     111   \n",
       "2   2023   3  SSG  144  76  65  3  0.539   9.5  8승0무2패  ...    11     127   \n",
       "3   2023   4   NC  144  75  67  2  0.528  11.0  5승0무5패  ...     7      96   \n",
       "4   2023   5   두산  144  74  68  2  0.521  12.0  4승0무6패  ...    12      60   \n",
       "..   ...  ..  ...  ...  ..  .. ..    ...   ...     ...  ...   ...     ...   \n",
       "94  2014   5   SK  128  61  65  2  0.484  17.5  6승1무3패  ...     6     103   \n",
       "95  2014   6   두산  128  59  68  1  0.465  20.0  6승0무4패  ...     7     113   \n",
       "96  2014   7   롯데  128  58  69  1  0.457  21.0  5승0무5패  ...    11      84   \n",
       "97  2014   8  KIA  128  54  74  0  0.422  25.5  3승0무7패  ...     7     162   \n",
       "98  2014   9   한화  128  49  77  2  0.389  29.5  2승0무8패  ...    12     110   \n",
       "\n",
       "   수비_도루실패  수비_도루저지율  주루_도루시도  주루_도루성공  주루_도루실패  주루_도루성공률  주루_주루사  주루_견제사  \n",
       "0       30      20.7      267      166      101      62.2      78      15  \n",
       "1       23      17.2      117       87       30      74.4      54       5  \n",
       "2       56      30.6      124       96       28      77.4      43      10  \n",
       "3       42      30.4      157      111       46      70.7      53       8  \n",
       "4       40      40.0      181      133       48      73.5      52      11  \n",
       "..     ...       ...      ...      ...      ...       ...     ...     ...  \n",
       "94      51      33.1      185      139       46      75.1      50      11  \n",
       "95      46      28.9      155      111       44      71.6      50       6  \n",
       "96      37      30.6      104       63       41      60.6      49       2  \n",
       "97      64      28.3      184      121       63      65.8      59       7  \n",
       "98      59      34.9      111       70       41      63.1      46       5  \n",
       "\n",
       "[99 rows x 81 columns]"
      ]
     },
     "execution_count": 83,
     "metadata": {},
     "output_type": "execute_result"
    }
   ],
   "source": [
    "kbo_team_stat = pd.read_csv(\"./datasets/KBO_Team_rank_stat.csv\")\n",
    "kbo_team_stat"
   ]
  },
  {
   "cell_type": "markdown",
   "metadata": {},
   "source": [
    "### stats from KBreport\n",
    "2023 pitchers"
   ]
  },
  {
   "cell_type": "code",
   "execution_count": 84,
   "metadata": {},
   "outputs": [
    {
     "data": {
      "text/html": [
       "<div>\n",
       "<style scoped>\n",
       "    .dataframe tbody tr th:only-of-type {\n",
       "        vertical-align: middle;\n",
       "    }\n",
       "\n",
       "    .dataframe tbody tr th {\n",
       "        vertical-align: top;\n",
       "    }\n",
       "\n",
       "    .dataframe thead th {\n",
       "        text-align: right;\n",
       "    }\n",
       "</style>\n",
       "<table border=\"1\" class=\"dataframe\">\n",
       "  <thead>\n",
       "    <tr style=\"text-align: right;\">\n",
       "      <th></th>\n",
       "      <th>팀명</th>\n",
       "      <th>FIP</th>\n",
       "      <th>kFIP</th>\n",
       "      <th>WAR</th>\n",
       "    </tr>\n",
       "  </thead>\n",
       "  <tbody>\n",
       "    <tr>\n",
       "      <th>0</th>\n",
       "      <td>LG</td>\n",
       "      <td>3.96</td>\n",
       "      <td>3.97</td>\n",
       "      <td>19.03</td>\n",
       "    </tr>\n",
       "    <tr>\n",
       "      <th>1</th>\n",
       "      <td>KT</td>\n",
       "      <td>3.80</td>\n",
       "      <td>3.78</td>\n",
       "      <td>23.77</td>\n",
       "    </tr>\n",
       "    <tr>\n",
       "      <th>2</th>\n",
       "      <td>SSG</td>\n",
       "      <td>4.52</td>\n",
       "      <td>4.57</td>\n",
       "      <td>11.75</td>\n",
       "    </tr>\n",
       "    <tr>\n",
       "      <th>3</th>\n",
       "      <td>NC</td>\n",
       "      <td>4.08</td>\n",
       "      <td>4.01</td>\n",
       "      <td>20.10</td>\n",
       "    </tr>\n",
       "    <tr>\n",
       "      <th>4</th>\n",
       "      <td>두산</td>\n",
       "      <td>4.11</td>\n",
       "      <td>4.11</td>\n",
       "      <td>17.30</td>\n",
       "    </tr>\n",
       "    <tr>\n",
       "      <th>5</th>\n",
       "      <td>KIA</td>\n",
       "      <td>4.24</td>\n",
       "      <td>4.26</td>\n",
       "      <td>13.46</td>\n",
       "    </tr>\n",
       "    <tr>\n",
       "      <th>6</th>\n",
       "      <td>롯데</td>\n",
       "      <td>3.98</td>\n",
       "      <td>3.93</td>\n",
       "      <td>21.51</td>\n",
       "    </tr>\n",
       "    <tr>\n",
       "      <th>7</th>\n",
       "      <td>삼성</td>\n",
       "      <td>4.42</td>\n",
       "      <td>4.46</td>\n",
       "      <td>12.51</td>\n",
       "    </tr>\n",
       "    <tr>\n",
       "      <th>8</th>\n",
       "      <td>한화</td>\n",
       "      <td>4.24</td>\n",
       "      <td>4.23</td>\n",
       "      <td>13.15</td>\n",
       "    </tr>\n",
       "    <tr>\n",
       "      <th>9</th>\n",
       "      <td>키움</td>\n",
       "      <td>4.14</td>\n",
       "      <td>4.17</td>\n",
       "      <td>17.63</td>\n",
       "    </tr>\n",
       "  </tbody>\n",
       "</table>\n",
       "</div>"
      ],
      "text/plain": [
       "    팀명   FIP  kFIP    WAR\n",
       "0   LG  3.96  3.97  19.03\n",
       "1   KT  3.80  3.78  23.77\n",
       "2  SSG  4.52  4.57  11.75\n",
       "3   NC  4.08  4.01  20.10\n",
       "4   두산  4.11  4.11  17.30\n",
       "5  KIA  4.24  4.26  13.46\n",
       "6   롯데  3.98  3.93  21.51\n",
       "7   삼성  4.42  4.46  12.51\n",
       "8   한화  4.24  4.23  13.15\n",
       "9   키움  4.14  4.17  17.63"
      ]
     },
     "execution_count": 84,
     "metadata": {},
     "output_type": "execute_result"
    }
   ],
   "source": [
    "column_name = ['팀명',\t'FIP',\t'kFIP',\t'WAR']\n",
    "kbreport_data = [['LG',\t 3.96,\t3.97,\t19.03],\n",
    "                ['KT',\t3.80\t,3.78\t,23.77],\n",
    "                ['SSG',\t 4.52,\t4.57,\t11.75],\n",
    "                ['NC',\t 4.08,\t4.01,\t20.10],\n",
    "                ['두산',  4.11,\t4.11,\t17.30],\n",
    "                ['KIA',\t 4.24,\t4.26,\t13.46],\n",
    "                ['롯데',  3.98,\t3.93,\t21.51],\n",
    "                ['삼성',\t4.42,\t4.46,\t12.51],\n",
    "                ['한화',    4.24,\t4.23,\t13.15],\n",
    "                ['키움',\t4.14,\t4.17,\t17.63]]\n",
    "kbreport_data_df = pd.DataFrame(kbreport_data, columns = column_name)\n",
    "kbreport_data_df"
   ]
  },
  {
   "cell_type": "code",
   "execution_count": 85,
   "metadata": {},
   "outputs": [
    {
     "data": {
      "text/html": [
       "<div>\n",
       "<style scoped>\n",
       "    .dataframe tbody tr th:only-of-type {\n",
       "        vertical-align: middle;\n",
       "    }\n",
       "\n",
       "    .dataframe tbody tr th {\n",
       "        vertical-align: top;\n",
       "    }\n",
       "\n",
       "    .dataframe thead th {\n",
       "        text-align: right;\n",
       "    }\n",
       "</style>\n",
       "<table border=\"1\" class=\"dataframe\">\n",
       "  <thead>\n",
       "    <tr style=\"text-align: right;\">\n",
       "      <th></th>\n",
       "      <th>연도</th>\n",
       "      <th>팀명</th>\n",
       "      <th>투수_평균자책점</th>\n",
       "    </tr>\n",
       "  </thead>\n",
       "  <tbody>\n",
       "    <tr>\n",
       "      <th>0</th>\n",
       "      <td>2023</td>\n",
       "      <td>LG</td>\n",
       "      <td>3.67</td>\n",
       "    </tr>\n",
       "    <tr>\n",
       "      <th>1</th>\n",
       "      <td>2023</td>\n",
       "      <td>KT</td>\n",
       "      <td>3.94</td>\n",
       "    </tr>\n",
       "    <tr>\n",
       "      <th>2</th>\n",
       "      <td>2023</td>\n",
       "      <td>SSG</td>\n",
       "      <td>4.37</td>\n",
       "    </tr>\n",
       "    <tr>\n",
       "      <th>3</th>\n",
       "      <td>2023</td>\n",
       "      <td>NC</td>\n",
       "      <td>3.83</td>\n",
       "    </tr>\n",
       "    <tr>\n",
       "      <th>4</th>\n",
       "      <td>2023</td>\n",
       "      <td>두산</td>\n",
       "      <td>3.92</td>\n",
       "    </tr>\n",
       "    <tr>\n",
       "      <th>5</th>\n",
       "      <td>2023</td>\n",
       "      <td>KIA</td>\n",
       "      <td>4.13</td>\n",
       "    </tr>\n",
       "    <tr>\n",
       "      <th>6</th>\n",
       "      <td>2023</td>\n",
       "      <td>롯데</td>\n",
       "      <td>4.15</td>\n",
       "    </tr>\n",
       "    <tr>\n",
       "      <th>7</th>\n",
       "      <td>2023</td>\n",
       "      <td>삼성</td>\n",
       "      <td>4.60</td>\n",
       "    </tr>\n",
       "    <tr>\n",
       "      <th>8</th>\n",
       "      <td>2023</td>\n",
       "      <td>한화</td>\n",
       "      <td>4.38</td>\n",
       "    </tr>\n",
       "    <tr>\n",
       "      <th>9</th>\n",
       "      <td>2023</td>\n",
       "      <td>키움</td>\n",
       "      <td>4.42</td>\n",
       "    </tr>\n",
       "  </tbody>\n",
       "</table>\n",
       "</div>"
      ],
      "text/plain": [
       "     연도   팀명  투수_평균자책점\n",
       "0  2023   LG      3.67\n",
       "1  2023   KT      3.94\n",
       "2  2023  SSG      4.37\n",
       "3  2023   NC      3.83\n",
       "4  2023   두산      3.92\n",
       "5  2023  KIA      4.13\n",
       "6  2023   롯데      4.15\n",
       "7  2023   삼성      4.60\n",
       "8  2023   한화      4.38\n",
       "9  2023   키움      4.42"
      ]
     },
     "execution_count": 85,
     "metadata": {},
     "output_type": "execute_result"
    }
   ],
   "source": [
    "kbo_team_stat_2023 = kbo_team_stat[kbo_team_stat['연도']==2023]\n",
    "kbo_team_stat_2023[['연도', '팀명', '투수_평균자책점']]"
   ]
  },
  {
   "cell_type": "code",
   "execution_count": 115,
   "metadata": {},
   "outputs": [
    {
     "data": {
      "application/vnd.plotly.v1+json": {
       "config": {
        "plotlyServerURL": "https://plot.ly"
       },
       "data": [
        {
         "marker": {
          "color": "#B0A8B9"
         },
         "name": "KT",
         "text": [
          "23.77"
         ],
         "textposition": "auto",
         "type": "bar",
         "x": [
          "KT"
         ],
         "y": [
          23.77
         ]
        },
        {
         "marker": {
          "color": "#A4DDED"
         },
         "name": "롯데",
         "text": [
          "21.51"
         ],
         "textposition": "auto",
         "type": "bar",
         "x": [
          "롯데"
         ],
         "y": [
          21.51
         ]
        },
        {
         "marker": {
          "color": "#B6E2D3"
         },
         "name": "NC",
         "text": [
          "20.10"
         ],
         "textposition": "auto",
         "type": "bar",
         "x": [
          "NC"
         ],
         "y": [
          20.1
         ]
        },
        {
         "marker": {
          "color": "#D6AEDD"
         },
         "name": "LG",
         "text": [
          "19.03"
         ],
         "textposition": "auto",
         "type": "bar",
         "x": [
          "LG"
         ],
         "y": [
          19.03
         ]
        },
        {
         "marker": {
          "color": "#F7CAC9"
         },
         "name": "키움",
         "text": [
          "17.63"
         ],
         "textposition": "auto",
         "type": "bar",
         "x": [
          "키움"
         ],
         "y": [
          17.63
         ]
        },
        {
         "marker": {
          "color": "#FFF0AC"
         },
         "name": "두산",
         "text": [
          "17.30"
         ],
         "textposition": "auto",
         "type": "bar",
         "x": [
          "두산"
         ],
         "y": [
          17.3
         ]
        },
        {
         "marker": {
          "color": "#F7786B"
         },
         "name": "KIA",
         "text": [
          "13.46"
         ],
         "textposition": "auto",
         "type": "bar",
         "x": [
          "KIA"
         ],
         "y": [
          13.46
         ]
        },
        {
         "marker": {
          "color": "#F9AA8F"
         },
         "name": "한화",
         "text": [
          "13.15"
         ],
         "textposition": "auto",
         "type": "bar",
         "x": [
          "한화"
         ],
         "y": [
          13.15
         ]
        },
        {
         "marker": {
          "color": "#92A8D1"
         },
         "name": "삼성",
         "text": [
          "12.51"
         ],
         "textposition": "auto",
         "type": "bar",
         "x": [
          "삼성"
         ],
         "y": [
          12.51
         ]
        },
        {
         "marker": {
          "color": "#FA9A85"
         },
         "name": "SSG",
         "text": [
          "11.75"
         ],
         "textposition": "auto",
         "type": "bar",
         "x": [
          "SSG"
         ],
         "y": [
          11.75
         ]
        }
       ],
       "layout": {
        "template": {
         "data": {
          "bar": [
           {
            "error_x": {
             "color": "#2a3f5f"
            },
            "error_y": {
             "color": "#2a3f5f"
            },
            "marker": {
             "line": {
              "color": "#E5ECF6",
              "width": 0.5
             },
             "pattern": {
              "fillmode": "overlay",
              "size": 10,
              "solidity": 0.2
             }
            },
            "type": "bar"
           }
          ],
          "barpolar": [
           {
            "marker": {
             "line": {
              "color": "#E5ECF6",
              "width": 0.5
             },
             "pattern": {
              "fillmode": "overlay",
              "size": 10,
              "solidity": 0.2
             }
            },
            "type": "barpolar"
           }
          ],
          "carpet": [
           {
            "aaxis": {
             "endlinecolor": "#2a3f5f",
             "gridcolor": "white",
             "linecolor": "white",
             "minorgridcolor": "white",
             "startlinecolor": "#2a3f5f"
            },
            "baxis": {
             "endlinecolor": "#2a3f5f",
             "gridcolor": "white",
             "linecolor": "white",
             "minorgridcolor": "white",
             "startlinecolor": "#2a3f5f"
            },
            "type": "carpet"
           }
          ],
          "choropleth": [
           {
            "colorbar": {
             "outlinewidth": 0,
             "ticks": ""
            },
            "type": "choropleth"
           }
          ],
          "contour": [
           {
            "colorbar": {
             "outlinewidth": 0,
             "ticks": ""
            },
            "colorscale": [
             [
              0,
              "#0d0887"
             ],
             [
              0.1111111111111111,
              "#46039f"
             ],
             [
              0.2222222222222222,
              "#7201a8"
             ],
             [
              0.3333333333333333,
              "#9c179e"
             ],
             [
              0.4444444444444444,
              "#bd3786"
             ],
             [
              0.5555555555555556,
              "#d8576b"
             ],
             [
              0.6666666666666666,
              "#ed7953"
             ],
             [
              0.7777777777777778,
              "#fb9f3a"
             ],
             [
              0.8888888888888888,
              "#fdca26"
             ],
             [
              1,
              "#f0f921"
             ]
            ],
            "type": "contour"
           }
          ],
          "contourcarpet": [
           {
            "colorbar": {
             "outlinewidth": 0,
             "ticks": ""
            },
            "type": "contourcarpet"
           }
          ],
          "heatmap": [
           {
            "colorbar": {
             "outlinewidth": 0,
             "ticks": ""
            },
            "colorscale": [
             [
              0,
              "#0d0887"
             ],
             [
              0.1111111111111111,
              "#46039f"
             ],
             [
              0.2222222222222222,
              "#7201a8"
             ],
             [
              0.3333333333333333,
              "#9c179e"
             ],
             [
              0.4444444444444444,
              "#bd3786"
             ],
             [
              0.5555555555555556,
              "#d8576b"
             ],
             [
              0.6666666666666666,
              "#ed7953"
             ],
             [
              0.7777777777777778,
              "#fb9f3a"
             ],
             [
              0.8888888888888888,
              "#fdca26"
             ],
             [
              1,
              "#f0f921"
             ]
            ],
            "type": "heatmap"
           }
          ],
          "heatmapgl": [
           {
            "colorbar": {
             "outlinewidth": 0,
             "ticks": ""
            },
            "colorscale": [
             [
              0,
              "#0d0887"
             ],
             [
              0.1111111111111111,
              "#46039f"
             ],
             [
              0.2222222222222222,
              "#7201a8"
             ],
             [
              0.3333333333333333,
              "#9c179e"
             ],
             [
              0.4444444444444444,
              "#bd3786"
             ],
             [
              0.5555555555555556,
              "#d8576b"
             ],
             [
              0.6666666666666666,
              "#ed7953"
             ],
             [
              0.7777777777777778,
              "#fb9f3a"
             ],
             [
              0.8888888888888888,
              "#fdca26"
             ],
             [
              1,
              "#f0f921"
             ]
            ],
            "type": "heatmapgl"
           }
          ],
          "histogram": [
           {
            "marker": {
             "pattern": {
              "fillmode": "overlay",
              "size": 10,
              "solidity": 0.2
             }
            },
            "type": "histogram"
           }
          ],
          "histogram2d": [
           {
            "colorbar": {
             "outlinewidth": 0,
             "ticks": ""
            },
            "colorscale": [
             [
              0,
              "#0d0887"
             ],
             [
              0.1111111111111111,
              "#46039f"
             ],
             [
              0.2222222222222222,
              "#7201a8"
             ],
             [
              0.3333333333333333,
              "#9c179e"
             ],
             [
              0.4444444444444444,
              "#bd3786"
             ],
             [
              0.5555555555555556,
              "#d8576b"
             ],
             [
              0.6666666666666666,
              "#ed7953"
             ],
             [
              0.7777777777777778,
              "#fb9f3a"
             ],
             [
              0.8888888888888888,
              "#fdca26"
             ],
             [
              1,
              "#f0f921"
             ]
            ],
            "type": "histogram2d"
           }
          ],
          "histogram2dcontour": [
           {
            "colorbar": {
             "outlinewidth": 0,
             "ticks": ""
            },
            "colorscale": [
             [
              0,
              "#0d0887"
             ],
             [
              0.1111111111111111,
              "#46039f"
             ],
             [
              0.2222222222222222,
              "#7201a8"
             ],
             [
              0.3333333333333333,
              "#9c179e"
             ],
             [
              0.4444444444444444,
              "#bd3786"
             ],
             [
              0.5555555555555556,
              "#d8576b"
             ],
             [
              0.6666666666666666,
              "#ed7953"
             ],
             [
              0.7777777777777778,
              "#fb9f3a"
             ],
             [
              0.8888888888888888,
              "#fdca26"
             ],
             [
              1,
              "#f0f921"
             ]
            ],
            "type": "histogram2dcontour"
           }
          ],
          "mesh3d": [
           {
            "colorbar": {
             "outlinewidth": 0,
             "ticks": ""
            },
            "type": "mesh3d"
           }
          ],
          "parcoords": [
           {
            "line": {
             "colorbar": {
              "outlinewidth": 0,
              "ticks": ""
             }
            },
            "type": "parcoords"
           }
          ],
          "pie": [
           {
            "automargin": true,
            "type": "pie"
           }
          ],
          "scatter": [
           {
            "fillpattern": {
             "fillmode": "overlay",
             "size": 10,
             "solidity": 0.2
            },
            "type": "scatter"
           }
          ],
          "scatter3d": [
           {
            "line": {
             "colorbar": {
              "outlinewidth": 0,
              "ticks": ""
             }
            },
            "marker": {
             "colorbar": {
              "outlinewidth": 0,
              "ticks": ""
             }
            },
            "type": "scatter3d"
           }
          ],
          "scattercarpet": [
           {
            "marker": {
             "colorbar": {
              "outlinewidth": 0,
              "ticks": ""
             }
            },
            "type": "scattercarpet"
           }
          ],
          "scattergeo": [
           {
            "marker": {
             "colorbar": {
              "outlinewidth": 0,
              "ticks": ""
             }
            },
            "type": "scattergeo"
           }
          ],
          "scattergl": [
           {
            "marker": {
             "colorbar": {
              "outlinewidth": 0,
              "ticks": ""
             }
            },
            "type": "scattergl"
           }
          ],
          "scattermapbox": [
           {
            "marker": {
             "colorbar": {
              "outlinewidth": 0,
              "ticks": ""
             }
            },
            "type": "scattermapbox"
           }
          ],
          "scatterpolar": [
           {
            "marker": {
             "colorbar": {
              "outlinewidth": 0,
              "ticks": ""
             }
            },
            "type": "scatterpolar"
           }
          ],
          "scatterpolargl": [
           {
            "marker": {
             "colorbar": {
              "outlinewidth": 0,
              "ticks": ""
             }
            },
            "type": "scatterpolargl"
           }
          ],
          "scatterternary": [
           {
            "marker": {
             "colorbar": {
              "outlinewidth": 0,
              "ticks": ""
             }
            },
            "type": "scatterternary"
           }
          ],
          "surface": [
           {
            "colorbar": {
             "outlinewidth": 0,
             "ticks": ""
            },
            "colorscale": [
             [
              0,
              "#0d0887"
             ],
             [
              0.1111111111111111,
              "#46039f"
             ],
             [
              0.2222222222222222,
              "#7201a8"
             ],
             [
              0.3333333333333333,
              "#9c179e"
             ],
             [
              0.4444444444444444,
              "#bd3786"
             ],
             [
              0.5555555555555556,
              "#d8576b"
             ],
             [
              0.6666666666666666,
              "#ed7953"
             ],
             [
              0.7777777777777778,
              "#fb9f3a"
             ],
             [
              0.8888888888888888,
              "#fdca26"
             ],
             [
              1,
              "#f0f921"
             ]
            ],
            "type": "surface"
           }
          ],
          "table": [
           {
            "cells": {
             "fill": {
              "color": "#EBF0F8"
             },
             "line": {
              "color": "white"
             }
            },
            "header": {
             "fill": {
              "color": "#C8D4E3"
             },
             "line": {
              "color": "white"
             }
            },
            "type": "table"
           }
          ]
         },
         "layout": {
          "annotationdefaults": {
           "arrowcolor": "#2a3f5f",
           "arrowhead": 0,
           "arrowwidth": 1
          },
          "autotypenumbers": "strict",
          "coloraxis": {
           "colorbar": {
            "outlinewidth": 0,
            "ticks": ""
           }
          },
          "colorscale": {
           "diverging": [
            [
             0,
             "#8e0152"
            ],
            [
             0.1,
             "#c51b7d"
            ],
            [
             0.2,
             "#de77ae"
            ],
            [
             0.3,
             "#f1b6da"
            ],
            [
             0.4,
             "#fde0ef"
            ],
            [
             0.5,
             "#f7f7f7"
            ],
            [
             0.6,
             "#e6f5d0"
            ],
            [
             0.7,
             "#b8e186"
            ],
            [
             0.8,
             "#7fbc41"
            ],
            [
             0.9,
             "#4d9221"
            ],
            [
             1,
             "#276419"
            ]
           ],
           "sequential": [
            [
             0,
             "#0d0887"
            ],
            [
             0.1111111111111111,
             "#46039f"
            ],
            [
             0.2222222222222222,
             "#7201a8"
            ],
            [
             0.3333333333333333,
             "#9c179e"
            ],
            [
             0.4444444444444444,
             "#bd3786"
            ],
            [
             0.5555555555555556,
             "#d8576b"
            ],
            [
             0.6666666666666666,
             "#ed7953"
            ],
            [
             0.7777777777777778,
             "#fb9f3a"
            ],
            [
             0.8888888888888888,
             "#fdca26"
            ],
            [
             1,
             "#f0f921"
            ]
           ],
           "sequentialminus": [
            [
             0,
             "#0d0887"
            ],
            [
             0.1111111111111111,
             "#46039f"
            ],
            [
             0.2222222222222222,
             "#7201a8"
            ],
            [
             0.3333333333333333,
             "#9c179e"
            ],
            [
             0.4444444444444444,
             "#bd3786"
            ],
            [
             0.5555555555555556,
             "#d8576b"
            ],
            [
             0.6666666666666666,
             "#ed7953"
            ],
            [
             0.7777777777777778,
             "#fb9f3a"
            ],
            [
             0.8888888888888888,
             "#fdca26"
            ],
            [
             1,
             "#f0f921"
            ]
           ]
          },
          "colorway": [
           "#636efa",
           "#EF553B",
           "#00cc96",
           "#ab63fa",
           "#FFA15A",
           "#19d3f3",
           "#FF6692",
           "#B6E880",
           "#FF97FF",
           "#FECB52"
          ],
          "font": {
           "color": "#2a3f5f"
          },
          "geo": {
           "bgcolor": "white",
           "lakecolor": "white",
           "landcolor": "#E5ECF6",
           "showlakes": true,
           "showland": true,
           "subunitcolor": "white"
          },
          "hoverlabel": {
           "align": "left"
          },
          "hovermode": "closest",
          "mapbox": {
           "style": "light"
          },
          "paper_bgcolor": "white",
          "plot_bgcolor": "#E5ECF6",
          "polar": {
           "angularaxis": {
            "gridcolor": "white",
            "linecolor": "white",
            "ticks": ""
           },
           "bgcolor": "#E5ECF6",
           "radialaxis": {
            "gridcolor": "white",
            "linecolor": "white",
            "ticks": ""
           }
          },
          "scene": {
           "xaxis": {
            "backgroundcolor": "#E5ECF6",
            "gridcolor": "white",
            "gridwidth": 2,
            "linecolor": "white",
            "showbackground": true,
            "ticks": "",
            "zerolinecolor": "white"
           },
           "yaxis": {
            "backgroundcolor": "#E5ECF6",
            "gridcolor": "white",
            "gridwidth": 2,
            "linecolor": "white",
            "showbackground": true,
            "ticks": "",
            "zerolinecolor": "white"
           },
           "zaxis": {
            "backgroundcolor": "#E5ECF6",
            "gridcolor": "white",
            "gridwidth": 2,
            "linecolor": "white",
            "showbackground": true,
            "ticks": "",
            "zerolinecolor": "white"
           }
          },
          "shapedefaults": {
           "line": {
            "color": "#2a3f5f"
           }
          },
          "ternary": {
           "aaxis": {
            "gridcolor": "white",
            "linecolor": "white",
            "ticks": ""
           },
           "baxis": {
            "gridcolor": "white",
            "linecolor": "white",
            "ticks": ""
           },
           "bgcolor": "#E5ECF6",
           "caxis": {
            "gridcolor": "white",
            "linecolor": "white",
            "ticks": ""
           }
          },
          "title": {
           "x": 0.05
          },
          "xaxis": {
           "automargin": true,
           "gridcolor": "white",
           "linecolor": "white",
           "ticks": "",
           "title": {
            "standoff": 15
           },
           "zerolinecolor": "white",
           "zerolinewidth": 2
          },
          "yaxis": {
           "automargin": true,
           "gridcolor": "white",
           "linecolor": "white",
           "ticks": "",
           "title": {
            "standoff": 15
           },
           "zerolinecolor": "white",
           "zerolinewidth": 2
          }
         }
        },
        "title": {
         "text": "팀별 투수 WAR"
        }
       }
      }
     },
     "metadata": {},
     "output_type": "display_data"
    }
   ],
   "source": [
    "main_title = \"팀별 투수 WAR\"\n",
    "draw_bar_plot(kbreport_data_df.sort_values(by='WAR', ascending=False),\n",
    "              \"팀명\", \"WAR\", main_title)"
   ]
  },
  {
   "cell_type": "code",
   "execution_count": 113,
   "metadata": {},
   "outputs": [
    {
     "data": {
      "application/vnd.plotly.v1+json": {
       "config": {
        "plotlyServerURL": "https://plot.ly"
       },
       "data": [
        {
         "marker": {
          "color": "#D6AEDD"
         },
         "name": "LG",
         "text": [
          "3.67"
         ],
         "textposition": "auto",
         "type": "bar",
         "x": [
          "LG"
         ],
         "y": [
          3.67
         ]
        },
        {
         "marker": {
          "color": "#B6E2D3"
         },
         "name": "NC",
         "text": [
          "3.83"
         ],
         "textposition": "auto",
         "type": "bar",
         "x": [
          "NC"
         ],
         "y": [
          3.83
         ]
        },
        {
         "marker": {
          "color": "#FFF0AC"
         },
         "name": "두산",
         "text": [
          "3.92"
         ],
         "textposition": "auto",
         "type": "bar",
         "x": [
          "두산"
         ],
         "y": [
          3.92
         ]
        },
        {
         "marker": {
          "color": "#B0A8B9"
         },
         "name": "KT",
         "text": [
          "3.94"
         ],
         "textposition": "auto",
         "type": "bar",
         "x": [
          "KT"
         ],
         "y": [
          3.94
         ]
        },
        {
         "marker": {
          "color": "#F7786B"
         },
         "name": "KIA",
         "text": [
          "4.13"
         ],
         "textposition": "auto",
         "type": "bar",
         "x": [
          "KIA"
         ],
         "y": [
          4.13
         ]
        },
        {
         "marker": {
          "color": "#A4DDED"
         },
         "name": "롯데",
         "text": [
          "4.15"
         ],
         "textposition": "auto",
         "type": "bar",
         "x": [
          "롯데"
         ],
         "y": [
          4.15
         ]
        },
        {
         "marker": {
          "color": "#FA9A85"
         },
         "name": "SSG",
         "text": [
          "4.37"
         ],
         "textposition": "auto",
         "type": "bar",
         "x": [
          "SSG"
         ],
         "y": [
          4.37
         ]
        },
        {
         "marker": {
          "color": "#F9AA8F"
         },
         "name": "한화",
         "text": [
          "4.38"
         ],
         "textposition": "auto",
         "type": "bar",
         "x": [
          "한화"
         ],
         "y": [
          4.38
         ]
        },
        {
         "marker": {
          "color": "#F7CAC9"
         },
         "name": "키움",
         "text": [
          "4.42"
         ],
         "textposition": "auto",
         "type": "bar",
         "x": [
          "키움"
         ],
         "y": [
          4.42
         ]
        },
        {
         "marker": {
          "color": "#92A8D1"
         },
         "name": "삼성",
         "text": [
          "4.60"
         ],
         "textposition": "auto",
         "type": "bar",
         "x": [
          "삼성"
         ],
         "y": [
          4.6
         ]
        }
       ],
       "layout": {
        "template": {
         "data": {
          "bar": [
           {
            "error_x": {
             "color": "#2a3f5f"
            },
            "error_y": {
             "color": "#2a3f5f"
            },
            "marker": {
             "line": {
              "color": "#E5ECF6",
              "width": 0.5
             },
             "pattern": {
              "fillmode": "overlay",
              "size": 10,
              "solidity": 0.2
             }
            },
            "type": "bar"
           }
          ],
          "barpolar": [
           {
            "marker": {
             "line": {
              "color": "#E5ECF6",
              "width": 0.5
             },
             "pattern": {
              "fillmode": "overlay",
              "size": 10,
              "solidity": 0.2
             }
            },
            "type": "barpolar"
           }
          ],
          "carpet": [
           {
            "aaxis": {
             "endlinecolor": "#2a3f5f",
             "gridcolor": "white",
             "linecolor": "white",
             "minorgridcolor": "white",
             "startlinecolor": "#2a3f5f"
            },
            "baxis": {
             "endlinecolor": "#2a3f5f",
             "gridcolor": "white",
             "linecolor": "white",
             "minorgridcolor": "white",
             "startlinecolor": "#2a3f5f"
            },
            "type": "carpet"
           }
          ],
          "choropleth": [
           {
            "colorbar": {
             "outlinewidth": 0,
             "ticks": ""
            },
            "type": "choropleth"
           }
          ],
          "contour": [
           {
            "colorbar": {
             "outlinewidth": 0,
             "ticks": ""
            },
            "colorscale": [
             [
              0,
              "#0d0887"
             ],
             [
              0.1111111111111111,
              "#46039f"
             ],
             [
              0.2222222222222222,
              "#7201a8"
             ],
             [
              0.3333333333333333,
              "#9c179e"
             ],
             [
              0.4444444444444444,
              "#bd3786"
             ],
             [
              0.5555555555555556,
              "#d8576b"
             ],
             [
              0.6666666666666666,
              "#ed7953"
             ],
             [
              0.7777777777777778,
              "#fb9f3a"
             ],
             [
              0.8888888888888888,
              "#fdca26"
             ],
             [
              1,
              "#f0f921"
             ]
            ],
            "type": "contour"
           }
          ],
          "contourcarpet": [
           {
            "colorbar": {
             "outlinewidth": 0,
             "ticks": ""
            },
            "type": "contourcarpet"
           }
          ],
          "heatmap": [
           {
            "colorbar": {
             "outlinewidth": 0,
             "ticks": ""
            },
            "colorscale": [
             [
              0,
              "#0d0887"
             ],
             [
              0.1111111111111111,
              "#46039f"
             ],
             [
              0.2222222222222222,
              "#7201a8"
             ],
             [
              0.3333333333333333,
              "#9c179e"
             ],
             [
              0.4444444444444444,
              "#bd3786"
             ],
             [
              0.5555555555555556,
              "#d8576b"
             ],
             [
              0.6666666666666666,
              "#ed7953"
             ],
             [
              0.7777777777777778,
              "#fb9f3a"
             ],
             [
              0.8888888888888888,
              "#fdca26"
             ],
             [
              1,
              "#f0f921"
             ]
            ],
            "type": "heatmap"
           }
          ],
          "heatmapgl": [
           {
            "colorbar": {
             "outlinewidth": 0,
             "ticks": ""
            },
            "colorscale": [
             [
              0,
              "#0d0887"
             ],
             [
              0.1111111111111111,
              "#46039f"
             ],
             [
              0.2222222222222222,
              "#7201a8"
             ],
             [
              0.3333333333333333,
              "#9c179e"
             ],
             [
              0.4444444444444444,
              "#bd3786"
             ],
             [
              0.5555555555555556,
              "#d8576b"
             ],
             [
              0.6666666666666666,
              "#ed7953"
             ],
             [
              0.7777777777777778,
              "#fb9f3a"
             ],
             [
              0.8888888888888888,
              "#fdca26"
             ],
             [
              1,
              "#f0f921"
             ]
            ],
            "type": "heatmapgl"
           }
          ],
          "histogram": [
           {
            "marker": {
             "pattern": {
              "fillmode": "overlay",
              "size": 10,
              "solidity": 0.2
             }
            },
            "type": "histogram"
           }
          ],
          "histogram2d": [
           {
            "colorbar": {
             "outlinewidth": 0,
             "ticks": ""
            },
            "colorscale": [
             [
              0,
              "#0d0887"
             ],
             [
              0.1111111111111111,
              "#46039f"
             ],
             [
              0.2222222222222222,
              "#7201a8"
             ],
             [
              0.3333333333333333,
              "#9c179e"
             ],
             [
              0.4444444444444444,
              "#bd3786"
             ],
             [
              0.5555555555555556,
              "#d8576b"
             ],
             [
              0.6666666666666666,
              "#ed7953"
             ],
             [
              0.7777777777777778,
              "#fb9f3a"
             ],
             [
              0.8888888888888888,
              "#fdca26"
             ],
             [
              1,
              "#f0f921"
             ]
            ],
            "type": "histogram2d"
           }
          ],
          "histogram2dcontour": [
           {
            "colorbar": {
             "outlinewidth": 0,
             "ticks": ""
            },
            "colorscale": [
             [
              0,
              "#0d0887"
             ],
             [
              0.1111111111111111,
              "#46039f"
             ],
             [
              0.2222222222222222,
              "#7201a8"
             ],
             [
              0.3333333333333333,
              "#9c179e"
             ],
             [
              0.4444444444444444,
              "#bd3786"
             ],
             [
              0.5555555555555556,
              "#d8576b"
             ],
             [
              0.6666666666666666,
              "#ed7953"
             ],
             [
              0.7777777777777778,
              "#fb9f3a"
             ],
             [
              0.8888888888888888,
              "#fdca26"
             ],
             [
              1,
              "#f0f921"
             ]
            ],
            "type": "histogram2dcontour"
           }
          ],
          "mesh3d": [
           {
            "colorbar": {
             "outlinewidth": 0,
             "ticks": ""
            },
            "type": "mesh3d"
           }
          ],
          "parcoords": [
           {
            "line": {
             "colorbar": {
              "outlinewidth": 0,
              "ticks": ""
             }
            },
            "type": "parcoords"
           }
          ],
          "pie": [
           {
            "automargin": true,
            "type": "pie"
           }
          ],
          "scatter": [
           {
            "fillpattern": {
             "fillmode": "overlay",
             "size": 10,
             "solidity": 0.2
            },
            "type": "scatter"
           }
          ],
          "scatter3d": [
           {
            "line": {
             "colorbar": {
              "outlinewidth": 0,
              "ticks": ""
             }
            },
            "marker": {
             "colorbar": {
              "outlinewidth": 0,
              "ticks": ""
             }
            },
            "type": "scatter3d"
           }
          ],
          "scattercarpet": [
           {
            "marker": {
             "colorbar": {
              "outlinewidth": 0,
              "ticks": ""
             }
            },
            "type": "scattercarpet"
           }
          ],
          "scattergeo": [
           {
            "marker": {
             "colorbar": {
              "outlinewidth": 0,
              "ticks": ""
             }
            },
            "type": "scattergeo"
           }
          ],
          "scattergl": [
           {
            "marker": {
             "colorbar": {
              "outlinewidth": 0,
              "ticks": ""
             }
            },
            "type": "scattergl"
           }
          ],
          "scattermapbox": [
           {
            "marker": {
             "colorbar": {
              "outlinewidth": 0,
              "ticks": ""
             }
            },
            "type": "scattermapbox"
           }
          ],
          "scatterpolar": [
           {
            "marker": {
             "colorbar": {
              "outlinewidth": 0,
              "ticks": ""
             }
            },
            "type": "scatterpolar"
           }
          ],
          "scatterpolargl": [
           {
            "marker": {
             "colorbar": {
              "outlinewidth": 0,
              "ticks": ""
             }
            },
            "type": "scatterpolargl"
           }
          ],
          "scatterternary": [
           {
            "marker": {
             "colorbar": {
              "outlinewidth": 0,
              "ticks": ""
             }
            },
            "type": "scatterternary"
           }
          ],
          "surface": [
           {
            "colorbar": {
             "outlinewidth": 0,
             "ticks": ""
            },
            "colorscale": [
             [
              0,
              "#0d0887"
             ],
             [
              0.1111111111111111,
              "#46039f"
             ],
             [
              0.2222222222222222,
              "#7201a8"
             ],
             [
              0.3333333333333333,
              "#9c179e"
             ],
             [
              0.4444444444444444,
              "#bd3786"
             ],
             [
              0.5555555555555556,
              "#d8576b"
             ],
             [
              0.6666666666666666,
              "#ed7953"
             ],
             [
              0.7777777777777778,
              "#fb9f3a"
             ],
             [
              0.8888888888888888,
              "#fdca26"
             ],
             [
              1,
              "#f0f921"
             ]
            ],
            "type": "surface"
           }
          ],
          "table": [
           {
            "cells": {
             "fill": {
              "color": "#EBF0F8"
             },
             "line": {
              "color": "white"
             }
            },
            "header": {
             "fill": {
              "color": "#C8D4E3"
             },
             "line": {
              "color": "white"
             }
            },
            "type": "table"
           }
          ]
         },
         "layout": {
          "annotationdefaults": {
           "arrowcolor": "#2a3f5f",
           "arrowhead": 0,
           "arrowwidth": 1
          },
          "autotypenumbers": "strict",
          "coloraxis": {
           "colorbar": {
            "outlinewidth": 0,
            "ticks": ""
           }
          },
          "colorscale": {
           "diverging": [
            [
             0,
             "#8e0152"
            ],
            [
             0.1,
             "#c51b7d"
            ],
            [
             0.2,
             "#de77ae"
            ],
            [
             0.3,
             "#f1b6da"
            ],
            [
             0.4,
             "#fde0ef"
            ],
            [
             0.5,
             "#f7f7f7"
            ],
            [
             0.6,
             "#e6f5d0"
            ],
            [
             0.7,
             "#b8e186"
            ],
            [
             0.8,
             "#7fbc41"
            ],
            [
             0.9,
             "#4d9221"
            ],
            [
             1,
             "#276419"
            ]
           ],
           "sequential": [
            [
             0,
             "#0d0887"
            ],
            [
             0.1111111111111111,
             "#46039f"
            ],
            [
             0.2222222222222222,
             "#7201a8"
            ],
            [
             0.3333333333333333,
             "#9c179e"
            ],
            [
             0.4444444444444444,
             "#bd3786"
            ],
            [
             0.5555555555555556,
             "#d8576b"
            ],
            [
             0.6666666666666666,
             "#ed7953"
            ],
            [
             0.7777777777777778,
             "#fb9f3a"
            ],
            [
             0.8888888888888888,
             "#fdca26"
            ],
            [
             1,
             "#f0f921"
            ]
           ],
           "sequentialminus": [
            [
             0,
             "#0d0887"
            ],
            [
             0.1111111111111111,
             "#46039f"
            ],
            [
             0.2222222222222222,
             "#7201a8"
            ],
            [
             0.3333333333333333,
             "#9c179e"
            ],
            [
             0.4444444444444444,
             "#bd3786"
            ],
            [
             0.5555555555555556,
             "#d8576b"
            ],
            [
             0.6666666666666666,
             "#ed7953"
            ],
            [
             0.7777777777777778,
             "#fb9f3a"
            ],
            [
             0.8888888888888888,
             "#fdca26"
            ],
            [
             1,
             "#f0f921"
            ]
           ]
          },
          "colorway": [
           "#636efa",
           "#EF553B",
           "#00cc96",
           "#ab63fa",
           "#FFA15A",
           "#19d3f3",
           "#FF6692",
           "#B6E880",
           "#FF97FF",
           "#FECB52"
          ],
          "font": {
           "color": "#2a3f5f"
          },
          "geo": {
           "bgcolor": "white",
           "lakecolor": "white",
           "landcolor": "#E5ECF6",
           "showlakes": true,
           "showland": true,
           "subunitcolor": "white"
          },
          "hoverlabel": {
           "align": "left"
          },
          "hovermode": "closest",
          "mapbox": {
           "style": "light"
          },
          "paper_bgcolor": "white",
          "plot_bgcolor": "#E5ECF6",
          "polar": {
           "angularaxis": {
            "gridcolor": "white",
            "linecolor": "white",
            "ticks": ""
           },
           "bgcolor": "#E5ECF6",
           "radialaxis": {
            "gridcolor": "white",
            "linecolor": "white",
            "ticks": ""
           }
          },
          "scene": {
           "xaxis": {
            "backgroundcolor": "#E5ECF6",
            "gridcolor": "white",
            "gridwidth": 2,
            "linecolor": "white",
            "showbackground": true,
            "ticks": "",
            "zerolinecolor": "white"
           },
           "yaxis": {
            "backgroundcolor": "#E5ECF6",
            "gridcolor": "white",
            "gridwidth": 2,
            "linecolor": "white",
            "showbackground": true,
            "ticks": "",
            "zerolinecolor": "white"
           },
           "zaxis": {
            "backgroundcolor": "#E5ECF6",
            "gridcolor": "white",
            "gridwidth": 2,
            "linecolor": "white",
            "showbackground": true,
            "ticks": "",
            "zerolinecolor": "white"
           }
          },
          "shapedefaults": {
           "line": {
            "color": "#2a3f5f"
           }
          },
          "ternary": {
           "aaxis": {
            "gridcolor": "white",
            "linecolor": "white",
            "ticks": ""
           },
           "baxis": {
            "gridcolor": "white",
            "linecolor": "white",
            "ticks": ""
           },
           "bgcolor": "#E5ECF6",
           "caxis": {
            "gridcolor": "white",
            "linecolor": "white",
            "ticks": ""
           }
          },
          "title": {
           "x": 0.05
          },
          "xaxis": {
           "automargin": true,
           "gridcolor": "white",
           "linecolor": "white",
           "ticks": "",
           "title": {
            "standoff": 15
           },
           "zerolinecolor": "white",
           "zerolinewidth": 2
          },
          "yaxis": {
           "automargin": true,
           "gridcolor": "white",
           "linecolor": "white",
           "ticks": "",
           "title": {
            "standoff": 15
           },
           "zerolinecolor": "white",
           "zerolinewidth": 2
          }
         }
        },
        "title": {
         "text": "팀별 투수 ERA"
        }
       }
      }
     },
     "metadata": {},
     "output_type": "display_data"
    }
   ],
   "source": [
    "main_title = \"팀별 투수 ERA\"\n",
    "draw_bar_plot(kbo_team_stat_2023.sort_values(by='투수_평균자책점'),\n",
    "              \"팀명\", \"투수_평균자책점\", main_title)"
   ]
  },
  {
   "cell_type": "code",
   "execution_count": 112,
   "metadata": {},
   "outputs": [
    {
     "data": {
      "application/vnd.plotly.v1+json": {
       "config": {
        "plotlyServerURL": "https://plot.ly"
       },
       "data": [
        {
         "marker": {
          "color": "#B0A8B9"
         },
         "name": "KT",
         "text": [
          "3.78"
         ],
         "textposition": "auto",
         "type": "bar",
         "x": [
          "KT"
         ],
         "y": [
          3.78
         ]
        },
        {
         "marker": {
          "color": "#A4DDED"
         },
         "name": "롯데",
         "text": [
          "3.93"
         ],
         "textposition": "auto",
         "type": "bar",
         "x": [
          "롯데"
         ],
         "y": [
          3.93
         ]
        },
        {
         "marker": {
          "color": "#D6AEDD"
         },
         "name": "LG",
         "text": [
          "3.97"
         ],
         "textposition": "auto",
         "type": "bar",
         "x": [
          "LG"
         ],
         "y": [
          3.97
         ]
        },
        {
         "marker": {
          "color": "#B6E2D3"
         },
         "name": "NC",
         "text": [
          "4.01"
         ],
         "textposition": "auto",
         "type": "bar",
         "x": [
          "NC"
         ],
         "y": [
          4.01
         ]
        },
        {
         "marker": {
          "color": "#FFF0AC"
         },
         "name": "두산",
         "text": [
          "4.11"
         ],
         "textposition": "auto",
         "type": "bar",
         "x": [
          "두산"
         ],
         "y": [
          4.11
         ]
        },
        {
         "marker": {
          "color": "#F7CAC9"
         },
         "name": "키움",
         "text": [
          "4.17"
         ],
         "textposition": "auto",
         "type": "bar",
         "x": [
          "키움"
         ],
         "y": [
          4.17
         ]
        },
        {
         "marker": {
          "color": "#F9AA8F"
         },
         "name": "한화",
         "text": [
          "4.23"
         ],
         "textposition": "auto",
         "type": "bar",
         "x": [
          "한화"
         ],
         "y": [
          4.23
         ]
        },
        {
         "marker": {
          "color": "#F7786B"
         },
         "name": "KIA",
         "text": [
          "4.26"
         ],
         "textposition": "auto",
         "type": "bar",
         "x": [
          "KIA"
         ],
         "y": [
          4.26
         ]
        },
        {
         "marker": {
          "color": "#92A8D1"
         },
         "name": "삼성",
         "text": [
          "4.46"
         ],
         "textposition": "auto",
         "type": "bar",
         "x": [
          "삼성"
         ],
         "y": [
          4.46
         ]
        },
        {
         "marker": {
          "color": "#FA9A85"
         },
         "name": "SSG",
         "text": [
          "4.57"
         ],
         "textposition": "auto",
         "type": "bar",
         "x": [
          "SSG"
         ],
         "y": [
          4.57
         ]
        }
       ],
       "layout": {
        "template": {
         "data": {
          "bar": [
           {
            "error_x": {
             "color": "#2a3f5f"
            },
            "error_y": {
             "color": "#2a3f5f"
            },
            "marker": {
             "line": {
              "color": "#E5ECF6",
              "width": 0.5
             },
             "pattern": {
              "fillmode": "overlay",
              "size": 10,
              "solidity": 0.2
             }
            },
            "type": "bar"
           }
          ],
          "barpolar": [
           {
            "marker": {
             "line": {
              "color": "#E5ECF6",
              "width": 0.5
             },
             "pattern": {
              "fillmode": "overlay",
              "size": 10,
              "solidity": 0.2
             }
            },
            "type": "barpolar"
           }
          ],
          "carpet": [
           {
            "aaxis": {
             "endlinecolor": "#2a3f5f",
             "gridcolor": "white",
             "linecolor": "white",
             "minorgridcolor": "white",
             "startlinecolor": "#2a3f5f"
            },
            "baxis": {
             "endlinecolor": "#2a3f5f",
             "gridcolor": "white",
             "linecolor": "white",
             "minorgridcolor": "white",
             "startlinecolor": "#2a3f5f"
            },
            "type": "carpet"
           }
          ],
          "choropleth": [
           {
            "colorbar": {
             "outlinewidth": 0,
             "ticks": ""
            },
            "type": "choropleth"
           }
          ],
          "contour": [
           {
            "colorbar": {
             "outlinewidth": 0,
             "ticks": ""
            },
            "colorscale": [
             [
              0,
              "#0d0887"
             ],
             [
              0.1111111111111111,
              "#46039f"
             ],
             [
              0.2222222222222222,
              "#7201a8"
             ],
             [
              0.3333333333333333,
              "#9c179e"
             ],
             [
              0.4444444444444444,
              "#bd3786"
             ],
             [
              0.5555555555555556,
              "#d8576b"
             ],
             [
              0.6666666666666666,
              "#ed7953"
             ],
             [
              0.7777777777777778,
              "#fb9f3a"
             ],
             [
              0.8888888888888888,
              "#fdca26"
             ],
             [
              1,
              "#f0f921"
             ]
            ],
            "type": "contour"
           }
          ],
          "contourcarpet": [
           {
            "colorbar": {
             "outlinewidth": 0,
             "ticks": ""
            },
            "type": "contourcarpet"
           }
          ],
          "heatmap": [
           {
            "colorbar": {
             "outlinewidth": 0,
             "ticks": ""
            },
            "colorscale": [
             [
              0,
              "#0d0887"
             ],
             [
              0.1111111111111111,
              "#46039f"
             ],
             [
              0.2222222222222222,
              "#7201a8"
             ],
             [
              0.3333333333333333,
              "#9c179e"
             ],
             [
              0.4444444444444444,
              "#bd3786"
             ],
             [
              0.5555555555555556,
              "#d8576b"
             ],
             [
              0.6666666666666666,
              "#ed7953"
             ],
             [
              0.7777777777777778,
              "#fb9f3a"
             ],
             [
              0.8888888888888888,
              "#fdca26"
             ],
             [
              1,
              "#f0f921"
             ]
            ],
            "type": "heatmap"
           }
          ],
          "heatmapgl": [
           {
            "colorbar": {
             "outlinewidth": 0,
             "ticks": ""
            },
            "colorscale": [
             [
              0,
              "#0d0887"
             ],
             [
              0.1111111111111111,
              "#46039f"
             ],
             [
              0.2222222222222222,
              "#7201a8"
             ],
             [
              0.3333333333333333,
              "#9c179e"
             ],
             [
              0.4444444444444444,
              "#bd3786"
             ],
             [
              0.5555555555555556,
              "#d8576b"
             ],
             [
              0.6666666666666666,
              "#ed7953"
             ],
             [
              0.7777777777777778,
              "#fb9f3a"
             ],
             [
              0.8888888888888888,
              "#fdca26"
             ],
             [
              1,
              "#f0f921"
             ]
            ],
            "type": "heatmapgl"
           }
          ],
          "histogram": [
           {
            "marker": {
             "pattern": {
              "fillmode": "overlay",
              "size": 10,
              "solidity": 0.2
             }
            },
            "type": "histogram"
           }
          ],
          "histogram2d": [
           {
            "colorbar": {
             "outlinewidth": 0,
             "ticks": ""
            },
            "colorscale": [
             [
              0,
              "#0d0887"
             ],
             [
              0.1111111111111111,
              "#46039f"
             ],
             [
              0.2222222222222222,
              "#7201a8"
             ],
             [
              0.3333333333333333,
              "#9c179e"
             ],
             [
              0.4444444444444444,
              "#bd3786"
             ],
             [
              0.5555555555555556,
              "#d8576b"
             ],
             [
              0.6666666666666666,
              "#ed7953"
             ],
             [
              0.7777777777777778,
              "#fb9f3a"
             ],
             [
              0.8888888888888888,
              "#fdca26"
             ],
             [
              1,
              "#f0f921"
             ]
            ],
            "type": "histogram2d"
           }
          ],
          "histogram2dcontour": [
           {
            "colorbar": {
             "outlinewidth": 0,
             "ticks": ""
            },
            "colorscale": [
             [
              0,
              "#0d0887"
             ],
             [
              0.1111111111111111,
              "#46039f"
             ],
             [
              0.2222222222222222,
              "#7201a8"
             ],
             [
              0.3333333333333333,
              "#9c179e"
             ],
             [
              0.4444444444444444,
              "#bd3786"
             ],
             [
              0.5555555555555556,
              "#d8576b"
             ],
             [
              0.6666666666666666,
              "#ed7953"
             ],
             [
              0.7777777777777778,
              "#fb9f3a"
             ],
             [
              0.8888888888888888,
              "#fdca26"
             ],
             [
              1,
              "#f0f921"
             ]
            ],
            "type": "histogram2dcontour"
           }
          ],
          "mesh3d": [
           {
            "colorbar": {
             "outlinewidth": 0,
             "ticks": ""
            },
            "type": "mesh3d"
           }
          ],
          "parcoords": [
           {
            "line": {
             "colorbar": {
              "outlinewidth": 0,
              "ticks": ""
             }
            },
            "type": "parcoords"
           }
          ],
          "pie": [
           {
            "automargin": true,
            "type": "pie"
           }
          ],
          "scatter": [
           {
            "fillpattern": {
             "fillmode": "overlay",
             "size": 10,
             "solidity": 0.2
            },
            "type": "scatter"
           }
          ],
          "scatter3d": [
           {
            "line": {
             "colorbar": {
              "outlinewidth": 0,
              "ticks": ""
             }
            },
            "marker": {
             "colorbar": {
              "outlinewidth": 0,
              "ticks": ""
             }
            },
            "type": "scatter3d"
           }
          ],
          "scattercarpet": [
           {
            "marker": {
             "colorbar": {
              "outlinewidth": 0,
              "ticks": ""
             }
            },
            "type": "scattercarpet"
           }
          ],
          "scattergeo": [
           {
            "marker": {
             "colorbar": {
              "outlinewidth": 0,
              "ticks": ""
             }
            },
            "type": "scattergeo"
           }
          ],
          "scattergl": [
           {
            "marker": {
             "colorbar": {
              "outlinewidth": 0,
              "ticks": ""
             }
            },
            "type": "scattergl"
           }
          ],
          "scattermapbox": [
           {
            "marker": {
             "colorbar": {
              "outlinewidth": 0,
              "ticks": ""
             }
            },
            "type": "scattermapbox"
           }
          ],
          "scatterpolar": [
           {
            "marker": {
             "colorbar": {
              "outlinewidth": 0,
              "ticks": ""
             }
            },
            "type": "scatterpolar"
           }
          ],
          "scatterpolargl": [
           {
            "marker": {
             "colorbar": {
              "outlinewidth": 0,
              "ticks": ""
             }
            },
            "type": "scatterpolargl"
           }
          ],
          "scatterternary": [
           {
            "marker": {
             "colorbar": {
              "outlinewidth": 0,
              "ticks": ""
             }
            },
            "type": "scatterternary"
           }
          ],
          "surface": [
           {
            "colorbar": {
             "outlinewidth": 0,
             "ticks": ""
            },
            "colorscale": [
             [
              0,
              "#0d0887"
             ],
             [
              0.1111111111111111,
              "#46039f"
             ],
             [
              0.2222222222222222,
              "#7201a8"
             ],
             [
              0.3333333333333333,
              "#9c179e"
             ],
             [
              0.4444444444444444,
              "#bd3786"
             ],
             [
              0.5555555555555556,
              "#d8576b"
             ],
             [
              0.6666666666666666,
              "#ed7953"
             ],
             [
              0.7777777777777778,
              "#fb9f3a"
             ],
             [
              0.8888888888888888,
              "#fdca26"
             ],
             [
              1,
              "#f0f921"
             ]
            ],
            "type": "surface"
           }
          ],
          "table": [
           {
            "cells": {
             "fill": {
              "color": "#EBF0F8"
             },
             "line": {
              "color": "white"
             }
            },
            "header": {
             "fill": {
              "color": "#C8D4E3"
             },
             "line": {
              "color": "white"
             }
            },
            "type": "table"
           }
          ]
         },
         "layout": {
          "annotationdefaults": {
           "arrowcolor": "#2a3f5f",
           "arrowhead": 0,
           "arrowwidth": 1
          },
          "autotypenumbers": "strict",
          "coloraxis": {
           "colorbar": {
            "outlinewidth": 0,
            "ticks": ""
           }
          },
          "colorscale": {
           "diverging": [
            [
             0,
             "#8e0152"
            ],
            [
             0.1,
             "#c51b7d"
            ],
            [
             0.2,
             "#de77ae"
            ],
            [
             0.3,
             "#f1b6da"
            ],
            [
             0.4,
             "#fde0ef"
            ],
            [
             0.5,
             "#f7f7f7"
            ],
            [
             0.6,
             "#e6f5d0"
            ],
            [
             0.7,
             "#b8e186"
            ],
            [
             0.8,
             "#7fbc41"
            ],
            [
             0.9,
             "#4d9221"
            ],
            [
             1,
             "#276419"
            ]
           ],
           "sequential": [
            [
             0,
             "#0d0887"
            ],
            [
             0.1111111111111111,
             "#46039f"
            ],
            [
             0.2222222222222222,
             "#7201a8"
            ],
            [
             0.3333333333333333,
             "#9c179e"
            ],
            [
             0.4444444444444444,
             "#bd3786"
            ],
            [
             0.5555555555555556,
             "#d8576b"
            ],
            [
             0.6666666666666666,
             "#ed7953"
            ],
            [
             0.7777777777777778,
             "#fb9f3a"
            ],
            [
             0.8888888888888888,
             "#fdca26"
            ],
            [
             1,
             "#f0f921"
            ]
           ],
           "sequentialminus": [
            [
             0,
             "#0d0887"
            ],
            [
             0.1111111111111111,
             "#46039f"
            ],
            [
             0.2222222222222222,
             "#7201a8"
            ],
            [
             0.3333333333333333,
             "#9c179e"
            ],
            [
             0.4444444444444444,
             "#bd3786"
            ],
            [
             0.5555555555555556,
             "#d8576b"
            ],
            [
             0.6666666666666666,
             "#ed7953"
            ],
            [
             0.7777777777777778,
             "#fb9f3a"
            ],
            [
             0.8888888888888888,
             "#fdca26"
            ],
            [
             1,
             "#f0f921"
            ]
           ]
          },
          "colorway": [
           "#636efa",
           "#EF553B",
           "#00cc96",
           "#ab63fa",
           "#FFA15A",
           "#19d3f3",
           "#FF6692",
           "#B6E880",
           "#FF97FF",
           "#FECB52"
          ],
          "font": {
           "color": "#2a3f5f"
          },
          "geo": {
           "bgcolor": "white",
           "lakecolor": "white",
           "landcolor": "#E5ECF6",
           "showlakes": true,
           "showland": true,
           "subunitcolor": "white"
          },
          "hoverlabel": {
           "align": "left"
          },
          "hovermode": "closest",
          "mapbox": {
           "style": "light"
          },
          "paper_bgcolor": "white",
          "plot_bgcolor": "#E5ECF6",
          "polar": {
           "angularaxis": {
            "gridcolor": "white",
            "linecolor": "white",
            "ticks": ""
           },
           "bgcolor": "#E5ECF6",
           "radialaxis": {
            "gridcolor": "white",
            "linecolor": "white",
            "ticks": ""
           }
          },
          "scene": {
           "xaxis": {
            "backgroundcolor": "#E5ECF6",
            "gridcolor": "white",
            "gridwidth": 2,
            "linecolor": "white",
            "showbackground": true,
            "ticks": "",
            "zerolinecolor": "white"
           },
           "yaxis": {
            "backgroundcolor": "#E5ECF6",
            "gridcolor": "white",
            "gridwidth": 2,
            "linecolor": "white",
            "showbackground": true,
            "ticks": "",
            "zerolinecolor": "white"
           },
           "zaxis": {
            "backgroundcolor": "#E5ECF6",
            "gridcolor": "white",
            "gridwidth": 2,
            "linecolor": "white",
            "showbackground": true,
            "ticks": "",
            "zerolinecolor": "white"
           }
          },
          "shapedefaults": {
           "line": {
            "color": "#2a3f5f"
           }
          },
          "ternary": {
           "aaxis": {
            "gridcolor": "white",
            "linecolor": "white",
            "ticks": ""
           },
           "baxis": {
            "gridcolor": "white",
            "linecolor": "white",
            "ticks": ""
           },
           "bgcolor": "#E5ECF6",
           "caxis": {
            "gridcolor": "white",
            "linecolor": "white",
            "ticks": ""
           }
          },
          "title": {
           "x": 0.05
          },
          "xaxis": {
           "automargin": true,
           "gridcolor": "white",
           "linecolor": "white",
           "ticks": "",
           "title": {
            "standoff": 15
           },
           "zerolinecolor": "white",
           "zerolinewidth": 2
          },
          "yaxis": {
           "automargin": true,
           "gridcolor": "white",
           "linecolor": "white",
           "ticks": "",
           "title": {
            "standoff": 15
           },
           "zerolinecolor": "white",
           "zerolinewidth": 2
          }
         }
        },
        "title": {
         "text": "팀별 투수 kFIP"
        }
       }
      }
     },
     "metadata": {},
     "output_type": "display_data"
    }
   ],
   "source": [
    "main_title = \"팀별 투수 kFIP\"\n",
    "draw_bar_plot(kbreport_data_df.sort_values(by='kFIP'),\n",
    "              \"팀명\", \"kFIP\", main_title)"
   ]
  },
  {
   "cell_type": "code",
   "execution_count": 87,
   "metadata": {},
   "outputs": [
    {
     "data": {
      "text/html": [
       "<div>\n",
       "<style scoped>\n",
       "    .dataframe tbody tr th:only-of-type {\n",
       "        vertical-align: middle;\n",
       "    }\n",
       "\n",
       "    .dataframe tbody tr th {\n",
       "        vertical-align: top;\n",
       "    }\n",
       "\n",
       "    .dataframe thead th {\n",
       "        text-align: right;\n",
       "    }\n",
       "</style>\n",
       "<table border=\"1\" class=\"dataframe\">\n",
       "  <thead>\n",
       "    <tr style=\"text-align: right;\">\n",
       "      <th></th>\n",
       "      <th>연도</th>\n",
       "      <th>팀명</th>\n",
       "      <th>투수_평균자책점</th>\n",
       "      <th>FIP</th>\n",
       "      <th>kFIP</th>\n",
       "      <th>WAR</th>\n",
       "      <th>ERA - kFIP</th>\n",
       "    </tr>\n",
       "  </thead>\n",
       "  <tbody>\n",
       "    <tr>\n",
       "      <th>0</th>\n",
       "      <td>2023</td>\n",
       "      <td>LG</td>\n",
       "      <td>3.67</td>\n",
       "      <td>3.96</td>\n",
       "      <td>3.97</td>\n",
       "      <td>19.03</td>\n",
       "      <td>-0.30</td>\n",
       "    </tr>\n",
       "    <tr>\n",
       "      <th>1</th>\n",
       "      <td>2023</td>\n",
       "      <td>SSG</td>\n",
       "      <td>4.37</td>\n",
       "      <td>4.52</td>\n",
       "      <td>4.57</td>\n",
       "      <td>11.75</td>\n",
       "      <td>-0.20</td>\n",
       "    </tr>\n",
       "    <tr>\n",
       "      <th>2</th>\n",
       "      <td>2023</td>\n",
       "      <td>두산</td>\n",
       "      <td>3.92</td>\n",
       "      <td>4.11</td>\n",
       "      <td>4.11</td>\n",
       "      <td>17.30</td>\n",
       "      <td>-0.19</td>\n",
       "    </tr>\n",
       "    <tr>\n",
       "      <th>3</th>\n",
       "      <td>2023</td>\n",
       "      <td>NC</td>\n",
       "      <td>3.83</td>\n",
       "      <td>4.08</td>\n",
       "      <td>4.01</td>\n",
       "      <td>20.10</td>\n",
       "      <td>-0.18</td>\n",
       "    </tr>\n",
       "    <tr>\n",
       "      <th>4</th>\n",
       "      <td>2023</td>\n",
       "      <td>KIA</td>\n",
       "      <td>4.13</td>\n",
       "      <td>4.24</td>\n",
       "      <td>4.26</td>\n",
       "      <td>13.46</td>\n",
       "      <td>-0.13</td>\n",
       "    </tr>\n",
       "    <tr>\n",
       "      <th>5</th>\n",
       "      <td>2023</td>\n",
       "      <td>삼성</td>\n",
       "      <td>4.60</td>\n",
       "      <td>4.42</td>\n",
       "      <td>4.46</td>\n",
       "      <td>12.51</td>\n",
       "      <td>0.14</td>\n",
       "    </tr>\n",
       "    <tr>\n",
       "      <th>6</th>\n",
       "      <td>2023</td>\n",
       "      <td>한화</td>\n",
       "      <td>4.38</td>\n",
       "      <td>4.24</td>\n",
       "      <td>4.23</td>\n",
       "      <td>13.15</td>\n",
       "      <td>0.15</td>\n",
       "    </tr>\n",
       "    <tr>\n",
       "      <th>7</th>\n",
       "      <td>2023</td>\n",
       "      <td>KT</td>\n",
       "      <td>3.94</td>\n",
       "      <td>3.80</td>\n",
       "      <td>3.78</td>\n",
       "      <td>23.77</td>\n",
       "      <td>0.16</td>\n",
       "    </tr>\n",
       "    <tr>\n",
       "      <th>8</th>\n",
       "      <td>2023</td>\n",
       "      <td>롯데</td>\n",
       "      <td>4.15</td>\n",
       "      <td>3.98</td>\n",
       "      <td>3.93</td>\n",
       "      <td>21.51</td>\n",
       "      <td>0.22</td>\n",
       "    </tr>\n",
       "    <tr>\n",
       "      <th>9</th>\n",
       "      <td>2023</td>\n",
       "      <td>키움</td>\n",
       "      <td>4.42</td>\n",
       "      <td>4.14</td>\n",
       "      <td>4.17</td>\n",
       "      <td>17.63</td>\n",
       "      <td>0.25</td>\n",
       "    </tr>\n",
       "  </tbody>\n",
       "</table>\n",
       "</div>"
      ],
      "text/plain": [
       "     연도   팀명  투수_평균자책점   FIP  kFIP    WAR  ERA - kFIP\n",
       "0  2023   LG      3.67  3.96  3.97  19.03       -0.30\n",
       "1  2023  SSG      4.37  4.52  4.57  11.75       -0.20\n",
       "2  2023   두산      3.92  4.11  4.11  17.30       -0.19\n",
       "3  2023   NC      3.83  4.08  4.01  20.10       -0.18\n",
       "4  2023  KIA      4.13  4.24  4.26  13.46       -0.13\n",
       "5  2023   삼성      4.60  4.42  4.46  12.51        0.14\n",
       "6  2023   한화      4.38  4.24  4.23  13.15        0.15\n",
       "7  2023   KT      3.94  3.80  3.78  23.77        0.16\n",
       "8  2023   롯데      4.15  3.98  3.93  21.51        0.22\n",
       "9  2023   키움      4.42  4.14  4.17  17.63        0.25"
      ]
     },
     "execution_count": 87,
     "metadata": {},
     "output_type": "execute_result"
    }
   ],
   "source": [
    "pitcher_2023 = pd.merge(left = kbo_team_stat_2023[['연도', '팀명', '투수_평균자책점']],\n",
    "                        right = kbreport_data_df, how = 'left', on = '팀명')\n",
    "pitcher_2023[\"ERA - kFIP\"] = pitcher_2023[\"투수_평균자책점\"] - pitcher_2023[\"kFIP\"]\n",
    "\n",
    "ERA_FIP_df = pitcher_2023.sort_values(by = 'ERA - kFIP').reset_index(drop=True)\n",
    "ERA_FIP_df"
   ]
  },
  {
   "cell_type": "markdown",
   "metadata": {},
   "source": [
    "Visualization"
   ]
  },
  {
   "cell_type": "code",
   "execution_count": 89,
   "metadata": {},
   "outputs": [
    {
     "data": {
      "application/vnd.plotly.v1+json": {
       "config": {
        "plotlyServerURL": "https://plot.ly"
       },
       "data": [
        {
         "marker": {
          "color": "#D6AEDD"
         },
         "name": "LG",
         "text": [
          "-0.30"
         ],
         "textposition": "auto",
         "type": "bar",
         "x": [
          "LG"
         ],
         "y": [
          -0.30000000000000027
         ]
        },
        {
         "marker": {
          "color": "#FA9A85"
         },
         "name": "SSG",
         "text": [
          "-0.20"
         ],
         "textposition": "auto",
         "type": "bar",
         "x": [
          "SSG"
         ],
         "y": [
          -0.20000000000000018
         ]
        },
        {
         "marker": {
          "color": "#FFF0AC"
         },
         "name": "두산",
         "text": [
          "-0.19"
         ],
         "textposition": "auto",
         "type": "bar",
         "x": [
          "두산"
         ],
         "y": [
          -0.1900000000000004
         ]
        },
        {
         "marker": {
          "color": "#B6E2D3"
         },
         "name": "NC",
         "text": [
          "-0.18"
         ],
         "textposition": "auto",
         "type": "bar",
         "x": [
          "NC"
         ],
         "y": [
          -0.17999999999999972
         ]
        },
        {
         "marker": {
          "color": "#F7786B"
         },
         "name": "KIA",
         "text": [
          "-0.13"
         ],
         "textposition": "auto",
         "type": "bar",
         "x": [
          "KIA"
         ],
         "y": [
          -0.1299999999999999
         ]
        },
        {
         "marker": {
          "color": "#92A8D1"
         },
         "name": "삼성",
         "text": [
          "0.14"
         ],
         "textposition": "auto",
         "type": "bar",
         "x": [
          "삼성"
         ],
         "y": [
          0.13999999999999968
         ]
        },
        {
         "marker": {
          "color": "#F9AA8F"
         },
         "name": "한화",
         "text": [
          "0.15"
         ],
         "textposition": "auto",
         "type": "bar",
         "x": [
          "한화"
         ],
         "y": [
          0.14999999999999947
         ]
        },
        {
         "marker": {
          "color": "#B0A8B9"
         },
         "name": "KT",
         "text": [
          "0.16"
         ],
         "textposition": "auto",
         "type": "bar",
         "x": [
          "KT"
         ],
         "y": [
          0.16000000000000014
         ]
        },
        {
         "marker": {
          "color": "#A4DDED"
         },
         "name": "롯데",
         "text": [
          "0.22"
         ],
         "textposition": "auto",
         "type": "bar",
         "x": [
          "롯데"
         ],
         "y": [
          0.2200000000000002
         ]
        },
        {
         "marker": {
          "color": "#F7CAC9"
         },
         "name": "키움",
         "text": [
          "0.25"
         ],
         "textposition": "auto",
         "type": "bar",
         "x": [
          "키움"
         ],
         "y": [
          0.25
         ]
        }
       ],
       "layout": {
        "template": {
         "data": {
          "bar": [
           {
            "error_x": {
             "color": "#2a3f5f"
            },
            "error_y": {
             "color": "#2a3f5f"
            },
            "marker": {
             "line": {
              "color": "#E5ECF6",
              "width": 0.5
             },
             "pattern": {
              "fillmode": "overlay",
              "size": 10,
              "solidity": 0.2
             }
            },
            "type": "bar"
           }
          ],
          "barpolar": [
           {
            "marker": {
             "line": {
              "color": "#E5ECF6",
              "width": 0.5
             },
             "pattern": {
              "fillmode": "overlay",
              "size": 10,
              "solidity": 0.2
             }
            },
            "type": "barpolar"
           }
          ],
          "carpet": [
           {
            "aaxis": {
             "endlinecolor": "#2a3f5f",
             "gridcolor": "white",
             "linecolor": "white",
             "minorgridcolor": "white",
             "startlinecolor": "#2a3f5f"
            },
            "baxis": {
             "endlinecolor": "#2a3f5f",
             "gridcolor": "white",
             "linecolor": "white",
             "minorgridcolor": "white",
             "startlinecolor": "#2a3f5f"
            },
            "type": "carpet"
           }
          ],
          "choropleth": [
           {
            "colorbar": {
             "outlinewidth": 0,
             "ticks": ""
            },
            "type": "choropleth"
           }
          ],
          "contour": [
           {
            "colorbar": {
             "outlinewidth": 0,
             "ticks": ""
            },
            "colorscale": [
             [
              0,
              "#0d0887"
             ],
             [
              0.1111111111111111,
              "#46039f"
             ],
             [
              0.2222222222222222,
              "#7201a8"
             ],
             [
              0.3333333333333333,
              "#9c179e"
             ],
             [
              0.4444444444444444,
              "#bd3786"
             ],
             [
              0.5555555555555556,
              "#d8576b"
             ],
             [
              0.6666666666666666,
              "#ed7953"
             ],
             [
              0.7777777777777778,
              "#fb9f3a"
             ],
             [
              0.8888888888888888,
              "#fdca26"
             ],
             [
              1,
              "#f0f921"
             ]
            ],
            "type": "contour"
           }
          ],
          "contourcarpet": [
           {
            "colorbar": {
             "outlinewidth": 0,
             "ticks": ""
            },
            "type": "contourcarpet"
           }
          ],
          "heatmap": [
           {
            "colorbar": {
             "outlinewidth": 0,
             "ticks": ""
            },
            "colorscale": [
             [
              0,
              "#0d0887"
             ],
             [
              0.1111111111111111,
              "#46039f"
             ],
             [
              0.2222222222222222,
              "#7201a8"
             ],
             [
              0.3333333333333333,
              "#9c179e"
             ],
             [
              0.4444444444444444,
              "#bd3786"
             ],
             [
              0.5555555555555556,
              "#d8576b"
             ],
             [
              0.6666666666666666,
              "#ed7953"
             ],
             [
              0.7777777777777778,
              "#fb9f3a"
             ],
             [
              0.8888888888888888,
              "#fdca26"
             ],
             [
              1,
              "#f0f921"
             ]
            ],
            "type": "heatmap"
           }
          ],
          "heatmapgl": [
           {
            "colorbar": {
             "outlinewidth": 0,
             "ticks": ""
            },
            "colorscale": [
             [
              0,
              "#0d0887"
             ],
             [
              0.1111111111111111,
              "#46039f"
             ],
             [
              0.2222222222222222,
              "#7201a8"
             ],
             [
              0.3333333333333333,
              "#9c179e"
             ],
             [
              0.4444444444444444,
              "#bd3786"
             ],
             [
              0.5555555555555556,
              "#d8576b"
             ],
             [
              0.6666666666666666,
              "#ed7953"
             ],
             [
              0.7777777777777778,
              "#fb9f3a"
             ],
             [
              0.8888888888888888,
              "#fdca26"
             ],
             [
              1,
              "#f0f921"
             ]
            ],
            "type": "heatmapgl"
           }
          ],
          "histogram": [
           {
            "marker": {
             "pattern": {
              "fillmode": "overlay",
              "size": 10,
              "solidity": 0.2
             }
            },
            "type": "histogram"
           }
          ],
          "histogram2d": [
           {
            "colorbar": {
             "outlinewidth": 0,
             "ticks": ""
            },
            "colorscale": [
             [
              0,
              "#0d0887"
             ],
             [
              0.1111111111111111,
              "#46039f"
             ],
             [
              0.2222222222222222,
              "#7201a8"
             ],
             [
              0.3333333333333333,
              "#9c179e"
             ],
             [
              0.4444444444444444,
              "#bd3786"
             ],
             [
              0.5555555555555556,
              "#d8576b"
             ],
             [
              0.6666666666666666,
              "#ed7953"
             ],
             [
              0.7777777777777778,
              "#fb9f3a"
             ],
             [
              0.8888888888888888,
              "#fdca26"
             ],
             [
              1,
              "#f0f921"
             ]
            ],
            "type": "histogram2d"
           }
          ],
          "histogram2dcontour": [
           {
            "colorbar": {
             "outlinewidth": 0,
             "ticks": ""
            },
            "colorscale": [
             [
              0,
              "#0d0887"
             ],
             [
              0.1111111111111111,
              "#46039f"
             ],
             [
              0.2222222222222222,
              "#7201a8"
             ],
             [
              0.3333333333333333,
              "#9c179e"
             ],
             [
              0.4444444444444444,
              "#bd3786"
             ],
             [
              0.5555555555555556,
              "#d8576b"
             ],
             [
              0.6666666666666666,
              "#ed7953"
             ],
             [
              0.7777777777777778,
              "#fb9f3a"
             ],
             [
              0.8888888888888888,
              "#fdca26"
             ],
             [
              1,
              "#f0f921"
             ]
            ],
            "type": "histogram2dcontour"
           }
          ],
          "mesh3d": [
           {
            "colorbar": {
             "outlinewidth": 0,
             "ticks": ""
            },
            "type": "mesh3d"
           }
          ],
          "parcoords": [
           {
            "line": {
             "colorbar": {
              "outlinewidth": 0,
              "ticks": ""
             }
            },
            "type": "parcoords"
           }
          ],
          "pie": [
           {
            "automargin": true,
            "type": "pie"
           }
          ],
          "scatter": [
           {
            "fillpattern": {
             "fillmode": "overlay",
             "size": 10,
             "solidity": 0.2
            },
            "type": "scatter"
           }
          ],
          "scatter3d": [
           {
            "line": {
             "colorbar": {
              "outlinewidth": 0,
              "ticks": ""
             }
            },
            "marker": {
             "colorbar": {
              "outlinewidth": 0,
              "ticks": ""
             }
            },
            "type": "scatter3d"
           }
          ],
          "scattercarpet": [
           {
            "marker": {
             "colorbar": {
              "outlinewidth": 0,
              "ticks": ""
             }
            },
            "type": "scattercarpet"
           }
          ],
          "scattergeo": [
           {
            "marker": {
             "colorbar": {
              "outlinewidth": 0,
              "ticks": ""
             }
            },
            "type": "scattergeo"
           }
          ],
          "scattergl": [
           {
            "marker": {
             "colorbar": {
              "outlinewidth": 0,
              "ticks": ""
             }
            },
            "type": "scattergl"
           }
          ],
          "scattermapbox": [
           {
            "marker": {
             "colorbar": {
              "outlinewidth": 0,
              "ticks": ""
             }
            },
            "type": "scattermapbox"
           }
          ],
          "scatterpolar": [
           {
            "marker": {
             "colorbar": {
              "outlinewidth": 0,
              "ticks": ""
             }
            },
            "type": "scatterpolar"
           }
          ],
          "scatterpolargl": [
           {
            "marker": {
             "colorbar": {
              "outlinewidth": 0,
              "ticks": ""
             }
            },
            "type": "scatterpolargl"
           }
          ],
          "scatterternary": [
           {
            "marker": {
             "colorbar": {
              "outlinewidth": 0,
              "ticks": ""
             }
            },
            "type": "scatterternary"
           }
          ],
          "surface": [
           {
            "colorbar": {
             "outlinewidth": 0,
             "ticks": ""
            },
            "colorscale": [
             [
              0,
              "#0d0887"
             ],
             [
              0.1111111111111111,
              "#46039f"
             ],
             [
              0.2222222222222222,
              "#7201a8"
             ],
             [
              0.3333333333333333,
              "#9c179e"
             ],
             [
              0.4444444444444444,
              "#bd3786"
             ],
             [
              0.5555555555555556,
              "#d8576b"
             ],
             [
              0.6666666666666666,
              "#ed7953"
             ],
             [
              0.7777777777777778,
              "#fb9f3a"
             ],
             [
              0.8888888888888888,
              "#fdca26"
             ],
             [
              1,
              "#f0f921"
             ]
            ],
            "type": "surface"
           }
          ],
          "table": [
           {
            "cells": {
             "fill": {
              "color": "#EBF0F8"
             },
             "line": {
              "color": "white"
             }
            },
            "header": {
             "fill": {
              "color": "#C8D4E3"
             },
             "line": {
              "color": "white"
             }
            },
            "type": "table"
           }
          ]
         },
         "layout": {
          "annotationdefaults": {
           "arrowcolor": "#2a3f5f",
           "arrowhead": 0,
           "arrowwidth": 1
          },
          "autotypenumbers": "strict",
          "coloraxis": {
           "colorbar": {
            "outlinewidth": 0,
            "ticks": ""
           }
          },
          "colorscale": {
           "diverging": [
            [
             0,
             "#8e0152"
            ],
            [
             0.1,
             "#c51b7d"
            ],
            [
             0.2,
             "#de77ae"
            ],
            [
             0.3,
             "#f1b6da"
            ],
            [
             0.4,
             "#fde0ef"
            ],
            [
             0.5,
             "#f7f7f7"
            ],
            [
             0.6,
             "#e6f5d0"
            ],
            [
             0.7,
             "#b8e186"
            ],
            [
             0.8,
             "#7fbc41"
            ],
            [
             0.9,
             "#4d9221"
            ],
            [
             1,
             "#276419"
            ]
           ],
           "sequential": [
            [
             0,
             "#0d0887"
            ],
            [
             0.1111111111111111,
             "#46039f"
            ],
            [
             0.2222222222222222,
             "#7201a8"
            ],
            [
             0.3333333333333333,
             "#9c179e"
            ],
            [
             0.4444444444444444,
             "#bd3786"
            ],
            [
             0.5555555555555556,
             "#d8576b"
            ],
            [
             0.6666666666666666,
             "#ed7953"
            ],
            [
             0.7777777777777778,
             "#fb9f3a"
            ],
            [
             0.8888888888888888,
             "#fdca26"
            ],
            [
             1,
             "#f0f921"
            ]
           ],
           "sequentialminus": [
            [
             0,
             "#0d0887"
            ],
            [
             0.1111111111111111,
             "#46039f"
            ],
            [
             0.2222222222222222,
             "#7201a8"
            ],
            [
             0.3333333333333333,
             "#9c179e"
            ],
            [
             0.4444444444444444,
             "#bd3786"
            ],
            [
             0.5555555555555556,
             "#d8576b"
            ],
            [
             0.6666666666666666,
             "#ed7953"
            ],
            [
             0.7777777777777778,
             "#fb9f3a"
            ],
            [
             0.8888888888888888,
             "#fdca26"
            ],
            [
             1,
             "#f0f921"
            ]
           ]
          },
          "colorway": [
           "#636efa",
           "#EF553B",
           "#00cc96",
           "#ab63fa",
           "#FFA15A",
           "#19d3f3",
           "#FF6692",
           "#B6E880",
           "#FF97FF",
           "#FECB52"
          ],
          "font": {
           "color": "#2a3f5f"
          },
          "geo": {
           "bgcolor": "white",
           "lakecolor": "white",
           "landcolor": "#E5ECF6",
           "showlakes": true,
           "showland": true,
           "subunitcolor": "white"
          },
          "hoverlabel": {
           "align": "left"
          },
          "hovermode": "closest",
          "mapbox": {
           "style": "light"
          },
          "paper_bgcolor": "white",
          "plot_bgcolor": "#E5ECF6",
          "polar": {
           "angularaxis": {
            "gridcolor": "white",
            "linecolor": "white",
            "ticks": ""
           },
           "bgcolor": "#E5ECF6",
           "radialaxis": {
            "gridcolor": "white",
            "linecolor": "white",
            "ticks": ""
           }
          },
          "scene": {
           "xaxis": {
            "backgroundcolor": "#E5ECF6",
            "gridcolor": "white",
            "gridwidth": 2,
            "linecolor": "white",
            "showbackground": true,
            "ticks": "",
            "zerolinecolor": "white"
           },
           "yaxis": {
            "backgroundcolor": "#E5ECF6",
            "gridcolor": "white",
            "gridwidth": 2,
            "linecolor": "white",
            "showbackground": true,
            "ticks": "",
            "zerolinecolor": "white"
           },
           "zaxis": {
            "backgroundcolor": "#E5ECF6",
            "gridcolor": "white",
            "gridwidth": 2,
            "linecolor": "white",
            "showbackground": true,
            "ticks": "",
            "zerolinecolor": "white"
           }
          },
          "shapedefaults": {
           "line": {
            "color": "#2a3f5f"
           }
          },
          "ternary": {
           "aaxis": {
            "gridcolor": "white",
            "linecolor": "white",
            "ticks": ""
           },
           "baxis": {
            "gridcolor": "white",
            "linecolor": "white",
            "ticks": ""
           },
           "bgcolor": "#E5ECF6",
           "caxis": {
            "gridcolor": "white",
            "linecolor": "white",
            "ticks": ""
           }
          },
          "title": {
           "x": 0.05
          },
          "xaxis": {
           "automargin": true,
           "gridcolor": "white",
           "linecolor": "white",
           "ticks": "",
           "title": {
            "standoff": 15
           },
           "zerolinecolor": "white",
           "zerolinewidth": 2
          },
          "yaxis": {
           "automargin": true,
           "gridcolor": "white",
           "linecolor": "white",
           "ticks": "",
           "title": {
            "standoff": 15
           },
           "zerolinecolor": "white",
           "zerolinewidth": 2
          }
         }
        },
        "title": {
         "text": "ERA - kFIP by team"
        }
       }
      }
     },
     "metadata": {},
     "output_type": "display_data"
    }
   ],
   "source": [
    "import plotly.express as px\n",
    "import plotly.graph_objects as go\n",
    "\n",
    "team_colors = {\n",
    "    \"키움\": \"#F7CAC9\",  # 키움: 연한 보라색\n",
    "    \"두산\": \"#FFF0AC\",  # 두산: 연한 노랑색\n",
    "    \"삼성\": \"#92A8D1\",  # 삼성: 연한 남색\n",
    "    \"한화\": \"#F9AA8F\",  # 한화: 연한 주황색\n",
    "    \"KIA\": \"#F7786B\",  # KIA: 연한 빨강색\n",
    "    \"LG\": \"#D6AEDD\",  # LG: 연한 자주색\n",
    "    \"SSG\": \"#FA9A85\",  # SSG: 연한 붉은색\n",
    "    \"NC\": \"#B6E2D3\",  # NC: 연한 녹색\n",
    "    \"KT\": \"#B0A8B9\",   # KT: 연한 회색\n",
    "    \"롯데\": \"#A4DDED\",  # 롯데: 연한 파랑색\n",
    "}\n",
    "fig = go.Figure()\n",
    "for i, row in ERA_FIP_df.iterrows():\n",
    "    fig.add_trace(go.Bar(x = [row['팀명']], y = [row['ERA - kFIP']],\n",
    "                         marker_color = team_colors[row['팀명']],\n",
    "                         name=str(row['팀명']),\n",
    "                         text=[f\"{row['ERA - kFIP']:.2f}\"],\n",
    "                         textposition = 'auto'\n",
    "                         ))\n",
    "fig.update_layout(\n",
    "    title = \"ERA - kFIP by team\"\n",
    ")\n",
    "\n",
    "fig.show()\n"
   ]
  },
  {
   "cell_type": "code",
   "execution_count": null,
   "metadata": {},
   "outputs": [],
   "source": [
    "pitcher_2023 = pd.merge(left = kbo_team_stat_2023[['연도', '팀명', '투수_평균자책점']],\n",
    "                        right = kbreport_data_df, how = 'left', on = '팀명')\n",
    "pitcher_2023[\"ERA - kFIP\"] = pitcher_2023[\"투수_평균자책점\"] - pitcher_2023[\"kFIP\"]\n",
    "\n",
    "ERA_FIP_df = pitcher_2023.sort_values(by = 'ERA - kFIP').reset_index(drop=True)\n",
    "ERA_FIP_df"
   ]
  },
  {
   "cell_type": "markdown",
   "metadata": {},
   "source": [
    "## FIP+ by team"
   ]
  },
  {
   "cell_type": "code",
   "execution_count": 47,
   "metadata": {},
   "outputs": [],
   "source": [
    "import plotly.graph_objects as go\n",
    "x_label_colors = {\n",
    "    \"키움\": \"#F7CAC9\",  # 키움: 연한 보라색\n",
    "    \"두산\": \"#FFF0AC\",  # 두산: 연한 노랑색\n",
    "    \"삼성\": \"#92A8D1\",  # 삼성: 연한 남색\n",
    "    \"한화\": \"#F9AA8F\",  # 한화: 연한 주황색\n",
    "    \"KIA\": \"#F7786B\",  # KIA: 연한 빨강색\n",
    "    \"LG\": \"#D6AEDD\",  # LG: 연한 자주색\n",
    "    \"SSG\": \"#FA9A85\",  # SSG: 연한 붉은색\n",
    "    \"NC\": \"#B6E2D3\",  # NC: 연한 녹색\n",
    "    \"KT\": \"#B0A8B9\",   # KT: 연한 회색\n",
    "    \"롯데\": \"#A4DDED\",  # 롯데: 연한 파랑색\n",
    "}\n",
    "\n",
    "def draw_bar_plot(df, x_label, y_label, main_title):\n",
    "    fig = go.Figure()\n",
    "    for i, row in df.iterrows():\n",
    "        fig.add_trace(go.Bar(x = [row[x_label]], y = [row[y_label]],\n",
    "                            marker_color = x_label_colors[row[x_label]],\n",
    "                            name=str(row[x_label]),\n",
    "                            text=[f\"{row[y_label]}\"],\n",
    "                            textposition = 'auto'\n",
    "                            ))\n",
    "    fig.update_layout(\n",
    "        title = main_title\n",
    "    )\n",
    "\n",
    "    fig.show()\n"
   ]
  },
  {
   "cell_type": "code",
   "execution_count": 48,
   "metadata": {},
   "outputs": [
    {
     "data": {
      "text/html": [
       "<div>\n",
       "<style scoped>\n",
       "    .dataframe tbody tr th:only-of-type {\n",
       "        vertical-align: middle;\n",
       "    }\n",
       "\n",
       "    .dataframe tbody tr th {\n",
       "        vertical-align: top;\n",
       "    }\n",
       "\n",
       "    .dataframe thead th {\n",
       "        text-align: right;\n",
       "    }\n",
       "</style>\n",
       "<table border=\"1\" class=\"dataframe\">\n",
       "  <thead>\n",
       "    <tr style=\"text-align: right;\">\n",
       "      <th></th>\n",
       "      <th>team</th>\n",
       "      <th>count</th>\n",
       "    </tr>\n",
       "  </thead>\n",
       "  <tbody>\n",
       "    <tr>\n",
       "      <th>0</th>\n",
       "      <td>NC</td>\n",
       "      <td>11</td>\n",
       "    </tr>\n",
       "    <tr>\n",
       "      <th>1</th>\n",
       "      <td>LG</td>\n",
       "      <td>9</td>\n",
       "    </tr>\n",
       "    <tr>\n",
       "      <th>2</th>\n",
       "      <td>롯데</td>\n",
       "      <td>9</td>\n",
       "    </tr>\n",
       "    <tr>\n",
       "      <th>3</th>\n",
       "      <td>키움</td>\n",
       "      <td>9</td>\n",
       "    </tr>\n",
       "    <tr>\n",
       "      <th>4</th>\n",
       "      <td>KIA</td>\n",
       "      <td>8</td>\n",
       "    </tr>\n",
       "    <tr>\n",
       "      <th>5</th>\n",
       "      <td>KT</td>\n",
       "      <td>8</td>\n",
       "    </tr>\n",
       "    <tr>\n",
       "      <th>6</th>\n",
       "      <td>SSG</td>\n",
       "      <td>8</td>\n",
       "    </tr>\n",
       "    <tr>\n",
       "      <th>7</th>\n",
       "      <td>삼성</td>\n",
       "      <td>8</td>\n",
       "    </tr>\n",
       "    <tr>\n",
       "      <th>8</th>\n",
       "      <td>한화</td>\n",
       "      <td>8</td>\n",
       "    </tr>\n",
       "    <tr>\n",
       "      <th>9</th>\n",
       "      <td>두산</td>\n",
       "      <td>6</td>\n",
       "    </tr>\n",
       "  </tbody>\n",
       "</table>\n",
       "</div>"
      ],
      "text/plain": [
       "  team  count\n",
       "0   NC     11\n",
       "1   LG      9\n",
       "2   롯데      9\n",
       "3   키움      9\n",
       "4  KIA      8\n",
       "5   KT      8\n",
       "6  SSG      8\n",
       "7   삼성      8\n",
       "8   한화      8\n",
       "9   두산      6"
      ]
     },
     "execution_count": 48,
     "metadata": {},
     "output_type": "execute_result"
    }
   ],
   "source": [
    "bool_mask = (pitcher_detailed_2023['이닝']>30) & (pitcher_detailed_2023['FIP+']>=100)\n",
    "\n",
    "team_idx = pitcher_detailed_2023[bool_mask].groupby(by = \"팀\").count().index\n",
    "team_count = pitcher_detailed_2023[bool_mask].groupby(by = \"팀\").count()['name'].values\n",
    "FIP_over_100_by_team = pd.DataFrame({'team':team_idx,'count':team_count})\n",
    "FIP_over_100_by_team = FIP_over_100_by_team.sort_values(by='count',ascending=False).reset_index(drop = True).iloc[:10,:]\n",
    "\n",
    "FIP_over_100_by_team"
   ]
  },
  {
   "cell_type": "code",
   "execution_count": 50,
   "metadata": {},
   "outputs": [
    {
     "data": {
      "application/vnd.plotly.v1+json": {
       "config": {
        "plotlyServerURL": "https://plot.ly"
       },
       "data": [
        {
         "marker": {
          "color": "#B6E2D3"
         },
         "name": "NC",
         "text": [
          "11"
         ],
         "textposition": "auto",
         "type": "bar",
         "x": [
          "NC"
         ],
         "y": [
          11
         ]
        },
        {
         "marker": {
          "color": "#D6AEDD"
         },
         "name": "LG",
         "text": [
          "9"
         ],
         "textposition": "auto",
         "type": "bar",
         "x": [
          "LG"
         ],
         "y": [
          9
         ]
        },
        {
         "marker": {
          "color": "#A4DDED"
         },
         "name": "롯데",
         "text": [
          "9"
         ],
         "textposition": "auto",
         "type": "bar",
         "x": [
          "롯데"
         ],
         "y": [
          9
         ]
        },
        {
         "marker": {
          "color": "#F7CAC9"
         },
         "name": "키움",
         "text": [
          "9"
         ],
         "textposition": "auto",
         "type": "bar",
         "x": [
          "키움"
         ],
         "y": [
          9
         ]
        },
        {
         "marker": {
          "color": "#F7786B"
         },
         "name": "KIA",
         "text": [
          "8"
         ],
         "textposition": "auto",
         "type": "bar",
         "x": [
          "KIA"
         ],
         "y": [
          8
         ]
        },
        {
         "marker": {
          "color": "#B0A8B9"
         },
         "name": "KT",
         "text": [
          "8"
         ],
         "textposition": "auto",
         "type": "bar",
         "x": [
          "KT"
         ],
         "y": [
          8
         ]
        },
        {
         "marker": {
          "color": "#FA9A85"
         },
         "name": "SSG",
         "text": [
          "8"
         ],
         "textposition": "auto",
         "type": "bar",
         "x": [
          "SSG"
         ],
         "y": [
          8
         ]
        },
        {
         "marker": {
          "color": "#92A8D1"
         },
         "name": "삼성",
         "text": [
          "8"
         ],
         "textposition": "auto",
         "type": "bar",
         "x": [
          "삼성"
         ],
         "y": [
          8
         ]
        },
        {
         "marker": {
          "color": "#F9AA8F"
         },
         "name": "한화",
         "text": [
          "8"
         ],
         "textposition": "auto",
         "type": "bar",
         "x": [
          "한화"
         ],
         "y": [
          8
         ]
        },
        {
         "marker": {
          "color": "#FFF0AC"
         },
         "name": "두산",
         "text": [
          "6"
         ],
         "textposition": "auto",
         "type": "bar",
         "x": [
          "두산"
         ],
         "y": [
          6
         ]
        }
       ],
       "layout": {
        "template": {
         "data": {
          "bar": [
           {
            "error_x": {
             "color": "#2a3f5f"
            },
            "error_y": {
             "color": "#2a3f5f"
            },
            "marker": {
             "line": {
              "color": "#E5ECF6",
              "width": 0.5
             },
             "pattern": {
              "fillmode": "overlay",
              "size": 10,
              "solidity": 0.2
             }
            },
            "type": "bar"
           }
          ],
          "barpolar": [
           {
            "marker": {
             "line": {
              "color": "#E5ECF6",
              "width": 0.5
             },
             "pattern": {
              "fillmode": "overlay",
              "size": 10,
              "solidity": 0.2
             }
            },
            "type": "barpolar"
           }
          ],
          "carpet": [
           {
            "aaxis": {
             "endlinecolor": "#2a3f5f",
             "gridcolor": "white",
             "linecolor": "white",
             "minorgridcolor": "white",
             "startlinecolor": "#2a3f5f"
            },
            "baxis": {
             "endlinecolor": "#2a3f5f",
             "gridcolor": "white",
             "linecolor": "white",
             "minorgridcolor": "white",
             "startlinecolor": "#2a3f5f"
            },
            "type": "carpet"
           }
          ],
          "choropleth": [
           {
            "colorbar": {
             "outlinewidth": 0,
             "ticks": ""
            },
            "type": "choropleth"
           }
          ],
          "contour": [
           {
            "colorbar": {
             "outlinewidth": 0,
             "ticks": ""
            },
            "colorscale": [
             [
              0,
              "#0d0887"
             ],
             [
              0.1111111111111111,
              "#46039f"
             ],
             [
              0.2222222222222222,
              "#7201a8"
             ],
             [
              0.3333333333333333,
              "#9c179e"
             ],
             [
              0.4444444444444444,
              "#bd3786"
             ],
             [
              0.5555555555555556,
              "#d8576b"
             ],
             [
              0.6666666666666666,
              "#ed7953"
             ],
             [
              0.7777777777777778,
              "#fb9f3a"
             ],
             [
              0.8888888888888888,
              "#fdca26"
             ],
             [
              1,
              "#f0f921"
             ]
            ],
            "type": "contour"
           }
          ],
          "contourcarpet": [
           {
            "colorbar": {
             "outlinewidth": 0,
             "ticks": ""
            },
            "type": "contourcarpet"
           }
          ],
          "heatmap": [
           {
            "colorbar": {
             "outlinewidth": 0,
             "ticks": ""
            },
            "colorscale": [
             [
              0,
              "#0d0887"
             ],
             [
              0.1111111111111111,
              "#46039f"
             ],
             [
              0.2222222222222222,
              "#7201a8"
             ],
             [
              0.3333333333333333,
              "#9c179e"
             ],
             [
              0.4444444444444444,
              "#bd3786"
             ],
             [
              0.5555555555555556,
              "#d8576b"
             ],
             [
              0.6666666666666666,
              "#ed7953"
             ],
             [
              0.7777777777777778,
              "#fb9f3a"
             ],
             [
              0.8888888888888888,
              "#fdca26"
             ],
             [
              1,
              "#f0f921"
             ]
            ],
            "type": "heatmap"
           }
          ],
          "heatmapgl": [
           {
            "colorbar": {
             "outlinewidth": 0,
             "ticks": ""
            },
            "colorscale": [
             [
              0,
              "#0d0887"
             ],
             [
              0.1111111111111111,
              "#46039f"
             ],
             [
              0.2222222222222222,
              "#7201a8"
             ],
             [
              0.3333333333333333,
              "#9c179e"
             ],
             [
              0.4444444444444444,
              "#bd3786"
             ],
             [
              0.5555555555555556,
              "#d8576b"
             ],
             [
              0.6666666666666666,
              "#ed7953"
             ],
             [
              0.7777777777777778,
              "#fb9f3a"
             ],
             [
              0.8888888888888888,
              "#fdca26"
             ],
             [
              1,
              "#f0f921"
             ]
            ],
            "type": "heatmapgl"
           }
          ],
          "histogram": [
           {
            "marker": {
             "pattern": {
              "fillmode": "overlay",
              "size": 10,
              "solidity": 0.2
             }
            },
            "type": "histogram"
           }
          ],
          "histogram2d": [
           {
            "colorbar": {
             "outlinewidth": 0,
             "ticks": ""
            },
            "colorscale": [
             [
              0,
              "#0d0887"
             ],
             [
              0.1111111111111111,
              "#46039f"
             ],
             [
              0.2222222222222222,
              "#7201a8"
             ],
             [
              0.3333333333333333,
              "#9c179e"
             ],
             [
              0.4444444444444444,
              "#bd3786"
             ],
             [
              0.5555555555555556,
              "#d8576b"
             ],
             [
              0.6666666666666666,
              "#ed7953"
             ],
             [
              0.7777777777777778,
              "#fb9f3a"
             ],
             [
              0.8888888888888888,
              "#fdca26"
             ],
             [
              1,
              "#f0f921"
             ]
            ],
            "type": "histogram2d"
           }
          ],
          "histogram2dcontour": [
           {
            "colorbar": {
             "outlinewidth": 0,
             "ticks": ""
            },
            "colorscale": [
             [
              0,
              "#0d0887"
             ],
             [
              0.1111111111111111,
              "#46039f"
             ],
             [
              0.2222222222222222,
              "#7201a8"
             ],
             [
              0.3333333333333333,
              "#9c179e"
             ],
             [
              0.4444444444444444,
              "#bd3786"
             ],
             [
              0.5555555555555556,
              "#d8576b"
             ],
             [
              0.6666666666666666,
              "#ed7953"
             ],
             [
              0.7777777777777778,
              "#fb9f3a"
             ],
             [
              0.8888888888888888,
              "#fdca26"
             ],
             [
              1,
              "#f0f921"
             ]
            ],
            "type": "histogram2dcontour"
           }
          ],
          "mesh3d": [
           {
            "colorbar": {
             "outlinewidth": 0,
             "ticks": ""
            },
            "type": "mesh3d"
           }
          ],
          "parcoords": [
           {
            "line": {
             "colorbar": {
              "outlinewidth": 0,
              "ticks": ""
             }
            },
            "type": "parcoords"
           }
          ],
          "pie": [
           {
            "automargin": true,
            "type": "pie"
           }
          ],
          "scatter": [
           {
            "fillpattern": {
             "fillmode": "overlay",
             "size": 10,
             "solidity": 0.2
            },
            "type": "scatter"
           }
          ],
          "scatter3d": [
           {
            "line": {
             "colorbar": {
              "outlinewidth": 0,
              "ticks": ""
             }
            },
            "marker": {
             "colorbar": {
              "outlinewidth": 0,
              "ticks": ""
             }
            },
            "type": "scatter3d"
           }
          ],
          "scattercarpet": [
           {
            "marker": {
             "colorbar": {
              "outlinewidth": 0,
              "ticks": ""
             }
            },
            "type": "scattercarpet"
           }
          ],
          "scattergeo": [
           {
            "marker": {
             "colorbar": {
              "outlinewidth": 0,
              "ticks": ""
             }
            },
            "type": "scattergeo"
           }
          ],
          "scattergl": [
           {
            "marker": {
             "colorbar": {
              "outlinewidth": 0,
              "ticks": ""
             }
            },
            "type": "scattergl"
           }
          ],
          "scattermapbox": [
           {
            "marker": {
             "colorbar": {
              "outlinewidth": 0,
              "ticks": ""
             }
            },
            "type": "scattermapbox"
           }
          ],
          "scatterpolar": [
           {
            "marker": {
             "colorbar": {
              "outlinewidth": 0,
              "ticks": ""
             }
            },
            "type": "scatterpolar"
           }
          ],
          "scatterpolargl": [
           {
            "marker": {
             "colorbar": {
              "outlinewidth": 0,
              "ticks": ""
             }
            },
            "type": "scatterpolargl"
           }
          ],
          "scatterternary": [
           {
            "marker": {
             "colorbar": {
              "outlinewidth": 0,
              "ticks": ""
             }
            },
            "type": "scatterternary"
           }
          ],
          "surface": [
           {
            "colorbar": {
             "outlinewidth": 0,
             "ticks": ""
            },
            "colorscale": [
             [
              0,
              "#0d0887"
             ],
             [
              0.1111111111111111,
              "#46039f"
             ],
             [
              0.2222222222222222,
              "#7201a8"
             ],
             [
              0.3333333333333333,
              "#9c179e"
             ],
             [
              0.4444444444444444,
              "#bd3786"
             ],
             [
              0.5555555555555556,
              "#d8576b"
             ],
             [
              0.6666666666666666,
              "#ed7953"
             ],
             [
              0.7777777777777778,
              "#fb9f3a"
             ],
             [
              0.8888888888888888,
              "#fdca26"
             ],
             [
              1,
              "#f0f921"
             ]
            ],
            "type": "surface"
           }
          ],
          "table": [
           {
            "cells": {
             "fill": {
              "color": "#EBF0F8"
             },
             "line": {
              "color": "white"
             }
            },
            "header": {
             "fill": {
              "color": "#C8D4E3"
             },
             "line": {
              "color": "white"
             }
            },
            "type": "table"
           }
          ]
         },
         "layout": {
          "annotationdefaults": {
           "arrowcolor": "#2a3f5f",
           "arrowhead": 0,
           "arrowwidth": 1
          },
          "autotypenumbers": "strict",
          "coloraxis": {
           "colorbar": {
            "outlinewidth": 0,
            "ticks": ""
           }
          },
          "colorscale": {
           "diverging": [
            [
             0,
             "#8e0152"
            ],
            [
             0.1,
             "#c51b7d"
            ],
            [
             0.2,
             "#de77ae"
            ],
            [
             0.3,
             "#f1b6da"
            ],
            [
             0.4,
             "#fde0ef"
            ],
            [
             0.5,
             "#f7f7f7"
            ],
            [
             0.6,
             "#e6f5d0"
            ],
            [
             0.7,
             "#b8e186"
            ],
            [
             0.8,
             "#7fbc41"
            ],
            [
             0.9,
             "#4d9221"
            ],
            [
             1,
             "#276419"
            ]
           ],
           "sequential": [
            [
             0,
             "#0d0887"
            ],
            [
             0.1111111111111111,
             "#46039f"
            ],
            [
             0.2222222222222222,
             "#7201a8"
            ],
            [
             0.3333333333333333,
             "#9c179e"
            ],
            [
             0.4444444444444444,
             "#bd3786"
            ],
            [
             0.5555555555555556,
             "#d8576b"
            ],
            [
             0.6666666666666666,
             "#ed7953"
            ],
            [
             0.7777777777777778,
             "#fb9f3a"
            ],
            [
             0.8888888888888888,
             "#fdca26"
            ],
            [
             1,
             "#f0f921"
            ]
           ],
           "sequentialminus": [
            [
             0,
             "#0d0887"
            ],
            [
             0.1111111111111111,
             "#46039f"
            ],
            [
             0.2222222222222222,
             "#7201a8"
            ],
            [
             0.3333333333333333,
             "#9c179e"
            ],
            [
             0.4444444444444444,
             "#bd3786"
            ],
            [
             0.5555555555555556,
             "#d8576b"
            ],
            [
             0.6666666666666666,
             "#ed7953"
            ],
            [
             0.7777777777777778,
             "#fb9f3a"
            ],
            [
             0.8888888888888888,
             "#fdca26"
            ],
            [
             1,
             "#f0f921"
            ]
           ]
          },
          "colorway": [
           "#636efa",
           "#EF553B",
           "#00cc96",
           "#ab63fa",
           "#FFA15A",
           "#19d3f3",
           "#FF6692",
           "#B6E880",
           "#FF97FF",
           "#FECB52"
          ],
          "font": {
           "color": "#2a3f5f"
          },
          "geo": {
           "bgcolor": "white",
           "lakecolor": "white",
           "landcolor": "#E5ECF6",
           "showlakes": true,
           "showland": true,
           "subunitcolor": "white"
          },
          "hoverlabel": {
           "align": "left"
          },
          "hovermode": "closest",
          "mapbox": {
           "style": "light"
          },
          "paper_bgcolor": "white",
          "plot_bgcolor": "#E5ECF6",
          "polar": {
           "angularaxis": {
            "gridcolor": "white",
            "linecolor": "white",
            "ticks": ""
           },
           "bgcolor": "#E5ECF6",
           "radialaxis": {
            "gridcolor": "white",
            "linecolor": "white",
            "ticks": ""
           }
          },
          "scene": {
           "xaxis": {
            "backgroundcolor": "#E5ECF6",
            "gridcolor": "white",
            "gridwidth": 2,
            "linecolor": "white",
            "showbackground": true,
            "ticks": "",
            "zerolinecolor": "white"
           },
           "yaxis": {
            "backgroundcolor": "#E5ECF6",
            "gridcolor": "white",
            "gridwidth": 2,
            "linecolor": "white",
            "showbackground": true,
            "ticks": "",
            "zerolinecolor": "white"
           },
           "zaxis": {
            "backgroundcolor": "#E5ECF6",
            "gridcolor": "white",
            "gridwidth": 2,
            "linecolor": "white",
            "showbackground": true,
            "ticks": "",
            "zerolinecolor": "white"
           }
          },
          "shapedefaults": {
           "line": {
            "color": "#2a3f5f"
           }
          },
          "ternary": {
           "aaxis": {
            "gridcolor": "white",
            "linecolor": "white",
            "ticks": ""
           },
           "baxis": {
            "gridcolor": "white",
            "linecolor": "white",
            "ticks": ""
           },
           "bgcolor": "#E5ECF6",
           "caxis": {
            "gridcolor": "white",
            "linecolor": "white",
            "ticks": ""
           }
          },
          "title": {
           "x": 0.05
          },
          "xaxis": {
           "automargin": true,
           "gridcolor": "white",
           "linecolor": "white",
           "ticks": "",
           "title": {
            "standoff": 15
           },
           "zerolinecolor": "white",
           "zerolinewidth": 2
          },
          "yaxis": {
           "automargin": true,
           "gridcolor": "white",
           "linecolor": "white",
           "ticks": "",
           "title": {
            "standoff": 15
           },
           "zerolinecolor": "white",
           "zerolinewidth": 2
          }
         }
        },
        "title": {
         "text": "팀별 FIP+가 100 이상인 선수의 숫자 (30이닝 초과 투수 기준)"
        }
       }
      }
     },
     "metadata": {},
     "output_type": "display_data"
    }
   ],
   "source": [
    "main_title = \"팀별 FIP+가 100 이상인 선수의 숫자 (30이닝 초과 투수 기준)\"\n",
    "\n",
    "draw_bar_plot(FIP_over_100_by_team, \"team\", \"count\", main_title)\n",
    "\n"
   ]
  },
  {
   "cell_type": "code",
   "execution_count": 43,
   "metadata": {},
   "outputs": [
    {
     "data": {
      "text/html": [
       "<div>\n",
       "<style scoped>\n",
       "    .dataframe tbody tr th:only-of-type {\n",
       "        vertical-align: middle;\n",
       "    }\n",
       "\n",
       "    .dataframe tbody tr th {\n",
       "        vertical-align: top;\n",
       "    }\n",
       "\n",
       "    .dataframe thead th {\n",
       "        text-align: right;\n",
       "    }\n",
       "</style>\n",
       "<table border=\"1\" class=\"dataframe\">\n",
       "  <thead>\n",
       "    <tr style=\"text-align: right;\">\n",
       "      <th></th>\n",
       "      <th>team</th>\n",
       "      <th>count</th>\n",
       "    </tr>\n",
       "  </thead>\n",
       "  <tbody>\n",
       "    <tr>\n",
       "      <th>0</th>\n",
       "      <td>한화</td>\n",
       "      <td>9</td>\n",
       "    </tr>\n",
       "    <tr>\n",
       "      <th>1</th>\n",
       "      <td>KIA</td>\n",
       "      <td>8</td>\n",
       "    </tr>\n",
       "    <tr>\n",
       "      <th>2</th>\n",
       "      <td>LG</td>\n",
       "      <td>7</td>\n",
       "    </tr>\n",
       "    <tr>\n",
       "      <th>3</th>\n",
       "      <td>SSG</td>\n",
       "      <td>7</td>\n",
       "    </tr>\n",
       "    <tr>\n",
       "      <th>4</th>\n",
       "      <td>두산</td>\n",
       "      <td>7</td>\n",
       "    </tr>\n",
       "    <tr>\n",
       "      <th>5</th>\n",
       "      <td>삼성</td>\n",
       "      <td>7</td>\n",
       "    </tr>\n",
       "    <tr>\n",
       "      <th>6</th>\n",
       "      <td>KT</td>\n",
       "      <td>6</td>\n",
       "    </tr>\n",
       "    <tr>\n",
       "      <th>7</th>\n",
       "      <td>NC</td>\n",
       "      <td>6</td>\n",
       "    </tr>\n",
       "    <tr>\n",
       "      <th>8</th>\n",
       "      <td>키움</td>\n",
       "      <td>6</td>\n",
       "    </tr>\n",
       "    <tr>\n",
       "      <th>9</th>\n",
       "      <td>롯데</td>\n",
       "      <td>4</td>\n",
       "    </tr>\n",
       "  </tbody>\n",
       "</table>\n",
       "</div>"
      ],
      "text/plain": [
       "  team  count\n",
       "0   한화      9\n",
       "1  KIA      8\n",
       "2   LG      7\n",
       "3  SSG      7\n",
       "4   두산      7\n",
       "5   삼성      7\n",
       "6   KT      6\n",
       "7   NC      6\n",
       "8   키움      6\n",
       "9   롯데      4"
      ]
     },
     "execution_count": 43,
     "metadata": {},
     "output_type": "execute_result"
    }
   ],
   "source": [
    "bool_mask = (pitcher_detailed_2023['이닝']>30) & (pitcher_detailed_2023['FIP+']<100)\n",
    "\n",
    "team_idx = pitcher_detailed_2023[bool_mask].groupby(by = \"팀\").count().index\n",
    "team_count = pitcher_detailed_2023[bool_mask].groupby(by = \"팀\").count()['name'].values\n",
    "FIP_less_100_by_team = pd.DataFrame({'team':team_idx,'count':team_count})\n",
    "FIP_less_100_by_team = FIP_less_100_by_team.sort_values(by='count',ascending=False).reset_index(drop = True).iloc[:10,:]\n",
    "\n",
    "FIP_less_100_by_team"
   ]
  },
  {
   "cell_type": "code",
   "execution_count": 51,
   "metadata": {},
   "outputs": [
    {
     "data": {
      "application/vnd.plotly.v1+json": {
       "config": {
        "plotlyServerURL": "https://plot.ly"
       },
       "data": [
        {
         "marker": {
          "color": "#F9AA8F"
         },
         "name": "한화",
         "text": [
          "9"
         ],
         "textposition": "auto",
         "type": "bar",
         "x": [
          "한화"
         ],
         "y": [
          9
         ]
        },
        {
         "marker": {
          "color": "#F7786B"
         },
         "name": "KIA",
         "text": [
          "8"
         ],
         "textposition": "auto",
         "type": "bar",
         "x": [
          "KIA"
         ],
         "y": [
          8
         ]
        },
        {
         "marker": {
          "color": "#D6AEDD"
         },
         "name": "LG",
         "text": [
          "7"
         ],
         "textposition": "auto",
         "type": "bar",
         "x": [
          "LG"
         ],
         "y": [
          7
         ]
        },
        {
         "marker": {
          "color": "#FA9A85"
         },
         "name": "SSG",
         "text": [
          "7"
         ],
         "textposition": "auto",
         "type": "bar",
         "x": [
          "SSG"
         ],
         "y": [
          7
         ]
        },
        {
         "marker": {
          "color": "#FFF0AC"
         },
         "name": "두산",
         "text": [
          "7"
         ],
         "textposition": "auto",
         "type": "bar",
         "x": [
          "두산"
         ],
         "y": [
          7
         ]
        },
        {
         "marker": {
          "color": "#92A8D1"
         },
         "name": "삼성",
         "text": [
          "7"
         ],
         "textposition": "auto",
         "type": "bar",
         "x": [
          "삼성"
         ],
         "y": [
          7
         ]
        },
        {
         "marker": {
          "color": "#B0A8B9"
         },
         "name": "KT",
         "text": [
          "6"
         ],
         "textposition": "auto",
         "type": "bar",
         "x": [
          "KT"
         ],
         "y": [
          6
         ]
        },
        {
         "marker": {
          "color": "#B6E2D3"
         },
         "name": "NC",
         "text": [
          "6"
         ],
         "textposition": "auto",
         "type": "bar",
         "x": [
          "NC"
         ],
         "y": [
          6
         ]
        },
        {
         "marker": {
          "color": "#F7CAC9"
         },
         "name": "키움",
         "text": [
          "6"
         ],
         "textposition": "auto",
         "type": "bar",
         "x": [
          "키움"
         ],
         "y": [
          6
         ]
        },
        {
         "marker": {
          "color": "#A4DDED"
         },
         "name": "롯데",
         "text": [
          "4"
         ],
         "textposition": "auto",
         "type": "bar",
         "x": [
          "롯데"
         ],
         "y": [
          4
         ]
        }
       ],
       "layout": {
        "template": {
         "data": {
          "bar": [
           {
            "error_x": {
             "color": "#2a3f5f"
            },
            "error_y": {
             "color": "#2a3f5f"
            },
            "marker": {
             "line": {
              "color": "#E5ECF6",
              "width": 0.5
             },
             "pattern": {
              "fillmode": "overlay",
              "size": 10,
              "solidity": 0.2
             }
            },
            "type": "bar"
           }
          ],
          "barpolar": [
           {
            "marker": {
             "line": {
              "color": "#E5ECF6",
              "width": 0.5
             },
             "pattern": {
              "fillmode": "overlay",
              "size": 10,
              "solidity": 0.2
             }
            },
            "type": "barpolar"
           }
          ],
          "carpet": [
           {
            "aaxis": {
             "endlinecolor": "#2a3f5f",
             "gridcolor": "white",
             "linecolor": "white",
             "minorgridcolor": "white",
             "startlinecolor": "#2a3f5f"
            },
            "baxis": {
             "endlinecolor": "#2a3f5f",
             "gridcolor": "white",
             "linecolor": "white",
             "minorgridcolor": "white",
             "startlinecolor": "#2a3f5f"
            },
            "type": "carpet"
           }
          ],
          "choropleth": [
           {
            "colorbar": {
             "outlinewidth": 0,
             "ticks": ""
            },
            "type": "choropleth"
           }
          ],
          "contour": [
           {
            "colorbar": {
             "outlinewidth": 0,
             "ticks": ""
            },
            "colorscale": [
             [
              0,
              "#0d0887"
             ],
             [
              0.1111111111111111,
              "#46039f"
             ],
             [
              0.2222222222222222,
              "#7201a8"
             ],
             [
              0.3333333333333333,
              "#9c179e"
             ],
             [
              0.4444444444444444,
              "#bd3786"
             ],
             [
              0.5555555555555556,
              "#d8576b"
             ],
             [
              0.6666666666666666,
              "#ed7953"
             ],
             [
              0.7777777777777778,
              "#fb9f3a"
             ],
             [
              0.8888888888888888,
              "#fdca26"
             ],
             [
              1,
              "#f0f921"
             ]
            ],
            "type": "contour"
           }
          ],
          "contourcarpet": [
           {
            "colorbar": {
             "outlinewidth": 0,
             "ticks": ""
            },
            "type": "contourcarpet"
           }
          ],
          "heatmap": [
           {
            "colorbar": {
             "outlinewidth": 0,
             "ticks": ""
            },
            "colorscale": [
             [
              0,
              "#0d0887"
             ],
             [
              0.1111111111111111,
              "#46039f"
             ],
             [
              0.2222222222222222,
              "#7201a8"
             ],
             [
              0.3333333333333333,
              "#9c179e"
             ],
             [
              0.4444444444444444,
              "#bd3786"
             ],
             [
              0.5555555555555556,
              "#d8576b"
             ],
             [
              0.6666666666666666,
              "#ed7953"
             ],
             [
              0.7777777777777778,
              "#fb9f3a"
             ],
             [
              0.8888888888888888,
              "#fdca26"
             ],
             [
              1,
              "#f0f921"
             ]
            ],
            "type": "heatmap"
           }
          ],
          "heatmapgl": [
           {
            "colorbar": {
             "outlinewidth": 0,
             "ticks": ""
            },
            "colorscale": [
             [
              0,
              "#0d0887"
             ],
             [
              0.1111111111111111,
              "#46039f"
             ],
             [
              0.2222222222222222,
              "#7201a8"
             ],
             [
              0.3333333333333333,
              "#9c179e"
             ],
             [
              0.4444444444444444,
              "#bd3786"
             ],
             [
              0.5555555555555556,
              "#d8576b"
             ],
             [
              0.6666666666666666,
              "#ed7953"
             ],
             [
              0.7777777777777778,
              "#fb9f3a"
             ],
             [
              0.8888888888888888,
              "#fdca26"
             ],
             [
              1,
              "#f0f921"
             ]
            ],
            "type": "heatmapgl"
           }
          ],
          "histogram": [
           {
            "marker": {
             "pattern": {
              "fillmode": "overlay",
              "size": 10,
              "solidity": 0.2
             }
            },
            "type": "histogram"
           }
          ],
          "histogram2d": [
           {
            "colorbar": {
             "outlinewidth": 0,
             "ticks": ""
            },
            "colorscale": [
             [
              0,
              "#0d0887"
             ],
             [
              0.1111111111111111,
              "#46039f"
             ],
             [
              0.2222222222222222,
              "#7201a8"
             ],
             [
              0.3333333333333333,
              "#9c179e"
             ],
             [
              0.4444444444444444,
              "#bd3786"
             ],
             [
              0.5555555555555556,
              "#d8576b"
             ],
             [
              0.6666666666666666,
              "#ed7953"
             ],
             [
              0.7777777777777778,
              "#fb9f3a"
             ],
             [
              0.8888888888888888,
              "#fdca26"
             ],
             [
              1,
              "#f0f921"
             ]
            ],
            "type": "histogram2d"
           }
          ],
          "histogram2dcontour": [
           {
            "colorbar": {
             "outlinewidth": 0,
             "ticks": ""
            },
            "colorscale": [
             [
              0,
              "#0d0887"
             ],
             [
              0.1111111111111111,
              "#46039f"
             ],
             [
              0.2222222222222222,
              "#7201a8"
             ],
             [
              0.3333333333333333,
              "#9c179e"
             ],
             [
              0.4444444444444444,
              "#bd3786"
             ],
             [
              0.5555555555555556,
              "#d8576b"
             ],
             [
              0.6666666666666666,
              "#ed7953"
             ],
             [
              0.7777777777777778,
              "#fb9f3a"
             ],
             [
              0.8888888888888888,
              "#fdca26"
             ],
             [
              1,
              "#f0f921"
             ]
            ],
            "type": "histogram2dcontour"
           }
          ],
          "mesh3d": [
           {
            "colorbar": {
             "outlinewidth": 0,
             "ticks": ""
            },
            "type": "mesh3d"
           }
          ],
          "parcoords": [
           {
            "line": {
             "colorbar": {
              "outlinewidth": 0,
              "ticks": ""
             }
            },
            "type": "parcoords"
           }
          ],
          "pie": [
           {
            "automargin": true,
            "type": "pie"
           }
          ],
          "scatter": [
           {
            "fillpattern": {
             "fillmode": "overlay",
             "size": 10,
             "solidity": 0.2
            },
            "type": "scatter"
           }
          ],
          "scatter3d": [
           {
            "line": {
             "colorbar": {
              "outlinewidth": 0,
              "ticks": ""
             }
            },
            "marker": {
             "colorbar": {
              "outlinewidth": 0,
              "ticks": ""
             }
            },
            "type": "scatter3d"
           }
          ],
          "scattercarpet": [
           {
            "marker": {
             "colorbar": {
              "outlinewidth": 0,
              "ticks": ""
             }
            },
            "type": "scattercarpet"
           }
          ],
          "scattergeo": [
           {
            "marker": {
             "colorbar": {
              "outlinewidth": 0,
              "ticks": ""
             }
            },
            "type": "scattergeo"
           }
          ],
          "scattergl": [
           {
            "marker": {
             "colorbar": {
              "outlinewidth": 0,
              "ticks": ""
             }
            },
            "type": "scattergl"
           }
          ],
          "scattermapbox": [
           {
            "marker": {
             "colorbar": {
              "outlinewidth": 0,
              "ticks": ""
             }
            },
            "type": "scattermapbox"
           }
          ],
          "scatterpolar": [
           {
            "marker": {
             "colorbar": {
              "outlinewidth": 0,
              "ticks": ""
             }
            },
            "type": "scatterpolar"
           }
          ],
          "scatterpolargl": [
           {
            "marker": {
             "colorbar": {
              "outlinewidth": 0,
              "ticks": ""
             }
            },
            "type": "scatterpolargl"
           }
          ],
          "scatterternary": [
           {
            "marker": {
             "colorbar": {
              "outlinewidth": 0,
              "ticks": ""
             }
            },
            "type": "scatterternary"
           }
          ],
          "surface": [
           {
            "colorbar": {
             "outlinewidth": 0,
             "ticks": ""
            },
            "colorscale": [
             [
              0,
              "#0d0887"
             ],
             [
              0.1111111111111111,
              "#46039f"
             ],
             [
              0.2222222222222222,
              "#7201a8"
             ],
             [
              0.3333333333333333,
              "#9c179e"
             ],
             [
              0.4444444444444444,
              "#bd3786"
             ],
             [
              0.5555555555555556,
              "#d8576b"
             ],
             [
              0.6666666666666666,
              "#ed7953"
             ],
             [
              0.7777777777777778,
              "#fb9f3a"
             ],
             [
              0.8888888888888888,
              "#fdca26"
             ],
             [
              1,
              "#f0f921"
             ]
            ],
            "type": "surface"
           }
          ],
          "table": [
           {
            "cells": {
             "fill": {
              "color": "#EBF0F8"
             },
             "line": {
              "color": "white"
             }
            },
            "header": {
             "fill": {
              "color": "#C8D4E3"
             },
             "line": {
              "color": "white"
             }
            },
            "type": "table"
           }
          ]
         },
         "layout": {
          "annotationdefaults": {
           "arrowcolor": "#2a3f5f",
           "arrowhead": 0,
           "arrowwidth": 1
          },
          "autotypenumbers": "strict",
          "coloraxis": {
           "colorbar": {
            "outlinewidth": 0,
            "ticks": ""
           }
          },
          "colorscale": {
           "diverging": [
            [
             0,
             "#8e0152"
            ],
            [
             0.1,
             "#c51b7d"
            ],
            [
             0.2,
             "#de77ae"
            ],
            [
             0.3,
             "#f1b6da"
            ],
            [
             0.4,
             "#fde0ef"
            ],
            [
             0.5,
             "#f7f7f7"
            ],
            [
             0.6,
             "#e6f5d0"
            ],
            [
             0.7,
             "#b8e186"
            ],
            [
             0.8,
             "#7fbc41"
            ],
            [
             0.9,
             "#4d9221"
            ],
            [
             1,
             "#276419"
            ]
           ],
           "sequential": [
            [
             0,
             "#0d0887"
            ],
            [
             0.1111111111111111,
             "#46039f"
            ],
            [
             0.2222222222222222,
             "#7201a8"
            ],
            [
             0.3333333333333333,
             "#9c179e"
            ],
            [
             0.4444444444444444,
             "#bd3786"
            ],
            [
             0.5555555555555556,
             "#d8576b"
            ],
            [
             0.6666666666666666,
             "#ed7953"
            ],
            [
             0.7777777777777778,
             "#fb9f3a"
            ],
            [
             0.8888888888888888,
             "#fdca26"
            ],
            [
             1,
             "#f0f921"
            ]
           ],
           "sequentialminus": [
            [
             0,
             "#0d0887"
            ],
            [
             0.1111111111111111,
             "#46039f"
            ],
            [
             0.2222222222222222,
             "#7201a8"
            ],
            [
             0.3333333333333333,
             "#9c179e"
            ],
            [
             0.4444444444444444,
             "#bd3786"
            ],
            [
             0.5555555555555556,
             "#d8576b"
            ],
            [
             0.6666666666666666,
             "#ed7953"
            ],
            [
             0.7777777777777778,
             "#fb9f3a"
            ],
            [
             0.8888888888888888,
             "#fdca26"
            ],
            [
             1,
             "#f0f921"
            ]
           ]
          },
          "colorway": [
           "#636efa",
           "#EF553B",
           "#00cc96",
           "#ab63fa",
           "#FFA15A",
           "#19d3f3",
           "#FF6692",
           "#B6E880",
           "#FF97FF",
           "#FECB52"
          ],
          "font": {
           "color": "#2a3f5f"
          },
          "geo": {
           "bgcolor": "white",
           "lakecolor": "white",
           "landcolor": "#E5ECF6",
           "showlakes": true,
           "showland": true,
           "subunitcolor": "white"
          },
          "hoverlabel": {
           "align": "left"
          },
          "hovermode": "closest",
          "mapbox": {
           "style": "light"
          },
          "paper_bgcolor": "white",
          "plot_bgcolor": "#E5ECF6",
          "polar": {
           "angularaxis": {
            "gridcolor": "white",
            "linecolor": "white",
            "ticks": ""
           },
           "bgcolor": "#E5ECF6",
           "radialaxis": {
            "gridcolor": "white",
            "linecolor": "white",
            "ticks": ""
           }
          },
          "scene": {
           "xaxis": {
            "backgroundcolor": "#E5ECF6",
            "gridcolor": "white",
            "gridwidth": 2,
            "linecolor": "white",
            "showbackground": true,
            "ticks": "",
            "zerolinecolor": "white"
           },
           "yaxis": {
            "backgroundcolor": "#E5ECF6",
            "gridcolor": "white",
            "gridwidth": 2,
            "linecolor": "white",
            "showbackground": true,
            "ticks": "",
            "zerolinecolor": "white"
           },
           "zaxis": {
            "backgroundcolor": "#E5ECF6",
            "gridcolor": "white",
            "gridwidth": 2,
            "linecolor": "white",
            "showbackground": true,
            "ticks": "",
            "zerolinecolor": "white"
           }
          },
          "shapedefaults": {
           "line": {
            "color": "#2a3f5f"
           }
          },
          "ternary": {
           "aaxis": {
            "gridcolor": "white",
            "linecolor": "white",
            "ticks": ""
           },
           "baxis": {
            "gridcolor": "white",
            "linecolor": "white",
            "ticks": ""
           },
           "bgcolor": "#E5ECF6",
           "caxis": {
            "gridcolor": "white",
            "linecolor": "white",
            "ticks": ""
           }
          },
          "title": {
           "x": 0.05
          },
          "xaxis": {
           "automargin": true,
           "gridcolor": "white",
           "linecolor": "white",
           "ticks": "",
           "title": {
            "standoff": 15
           },
           "zerolinecolor": "white",
           "zerolinewidth": 2
          },
          "yaxis": {
           "automargin": true,
           "gridcolor": "white",
           "linecolor": "white",
           "ticks": "",
           "title": {
            "standoff": 15
           },
           "zerolinecolor": "white",
           "zerolinewidth": 2
          }
         }
        },
        "title": {
         "text": "팀별 FIP+가 100 미만인 선수의 숫자 (30이닝 초과 투수 기준)"
        }
       }
      }
     },
     "metadata": {},
     "output_type": "display_data"
    }
   ],
   "source": [
    "main_title = \"팀별 FIP+가 100 미만인 선수의 숫자 (30이닝 초과 투수 기준)\"\n",
    "\n",
    "draw_bar_plot(FIP_less_100_by_team, \"team\", \"count\", main_title)"
   ]
  },
  {
   "cell_type": "code",
   "execution_count": 52,
   "metadata": {},
   "outputs": [
    {
     "data": {
      "text/html": [
       "<div>\n",
       "<style scoped>\n",
       "    .dataframe tbody tr th:only-of-type {\n",
       "        vertical-align: middle;\n",
       "    }\n",
       "\n",
       "    .dataframe tbody tr th {\n",
       "        vertical-align: top;\n",
       "    }\n",
       "\n",
       "    .dataframe thead th {\n",
       "        text-align: right;\n",
       "    }\n",
       "</style>\n",
       "<table border=\"1\" class=\"dataframe\">\n",
       "  <thead>\n",
       "    <tr style=\"text-align: right;\">\n",
       "      <th></th>\n",
       "      <th>team</th>\n",
       "      <th>count</th>\n",
       "    </tr>\n",
       "  </thead>\n",
       "  <tbody>\n",
       "    <tr>\n",
       "      <th>0</th>\n",
       "      <td>LG</td>\n",
       "      <td>11</td>\n",
       "    </tr>\n",
       "    <tr>\n",
       "      <th>1</th>\n",
       "      <td>KIA</td>\n",
       "      <td>10</td>\n",
       "    </tr>\n",
       "    <tr>\n",
       "      <th>2</th>\n",
       "      <td>롯데</td>\n",
       "      <td>9</td>\n",
       "    </tr>\n",
       "    <tr>\n",
       "      <th>3</th>\n",
       "      <td>한화</td>\n",
       "      <td>9</td>\n",
       "    </tr>\n",
       "    <tr>\n",
       "      <th>4</th>\n",
       "      <td>KT</td>\n",
       "      <td>8</td>\n",
       "    </tr>\n",
       "    <tr>\n",
       "      <th>5</th>\n",
       "      <td>NC</td>\n",
       "      <td>8</td>\n",
       "    </tr>\n",
       "    <tr>\n",
       "      <th>6</th>\n",
       "      <td>두산</td>\n",
       "      <td>8</td>\n",
       "    </tr>\n",
       "    <tr>\n",
       "      <th>7</th>\n",
       "      <td>삼성</td>\n",
       "      <td>7</td>\n",
       "    </tr>\n",
       "    <tr>\n",
       "      <th>8</th>\n",
       "      <td>SSG</td>\n",
       "      <td>6</td>\n",
       "    </tr>\n",
       "    <tr>\n",
       "      <th>9</th>\n",
       "      <td>키움</td>\n",
       "      <td>5</td>\n",
       "    </tr>\n",
       "  </tbody>\n",
       "</table>\n",
       "</div>"
      ],
      "text/plain": [
       "  team  count\n",
       "0   LG     11\n",
       "1  KIA     10\n",
       "2   롯데      9\n",
       "3   한화      9\n",
       "4   KT      8\n",
       "5   NC      8\n",
       "6   두산      8\n",
       "7   삼성      7\n",
       "8  SSG      6\n",
       "9   키움      5"
      ]
     },
     "execution_count": 52,
     "metadata": {},
     "output_type": "execute_result"
    }
   ],
   "source": [
    "bool_mask = (pitcher_detailed_2023['이닝']>30) & (pitcher_detailed_2023['ERA+']>=100)\n",
    "\n",
    "team_idx = pitcher_detailed_2023[bool_mask].groupby(by = \"팀\").count().index\n",
    "team_count = pitcher_detailed_2023[bool_mask].groupby(by = \"팀\").count()['name'].values\n",
    "ERA_over_100_by_team = pd.DataFrame({'team':team_idx,'count':team_count})\n",
    "ERA_over_100_by_team = ERA_over_100_by_team.sort_values(by='count',ascending=False).reset_index(drop = True).iloc[:10,:]\n",
    "\n",
    "ERA_over_100_by_team"
   ]
  },
  {
   "cell_type": "code",
   "execution_count": 55,
   "metadata": {},
   "outputs": [
    {
     "data": {
      "application/vnd.plotly.v1+json": {
       "config": {
        "plotlyServerURL": "https://plot.ly"
       },
       "data": [
        {
         "marker": {
          "color": "#D6AEDD"
         },
         "name": "LG",
         "text": [
          "11"
         ],
         "textposition": "auto",
         "type": "bar",
         "x": [
          "LG"
         ],
         "y": [
          11
         ]
        },
        {
         "marker": {
          "color": "#F7786B"
         },
         "name": "KIA",
         "text": [
          "10"
         ],
         "textposition": "auto",
         "type": "bar",
         "x": [
          "KIA"
         ],
         "y": [
          10
         ]
        },
        {
         "marker": {
          "color": "#A4DDED"
         },
         "name": "롯데",
         "text": [
          "9"
         ],
         "textposition": "auto",
         "type": "bar",
         "x": [
          "롯데"
         ],
         "y": [
          9
         ]
        },
        {
         "marker": {
          "color": "#F9AA8F"
         },
         "name": "한화",
         "text": [
          "9"
         ],
         "textposition": "auto",
         "type": "bar",
         "x": [
          "한화"
         ],
         "y": [
          9
         ]
        },
        {
         "marker": {
          "color": "#B0A8B9"
         },
         "name": "KT",
         "text": [
          "8"
         ],
         "textposition": "auto",
         "type": "bar",
         "x": [
          "KT"
         ],
         "y": [
          8
         ]
        },
        {
         "marker": {
          "color": "#B6E2D3"
         },
         "name": "NC",
         "text": [
          "8"
         ],
         "textposition": "auto",
         "type": "bar",
         "x": [
          "NC"
         ],
         "y": [
          8
         ]
        },
        {
         "marker": {
          "color": "#FFF0AC"
         },
         "name": "두산",
         "text": [
          "8"
         ],
         "textposition": "auto",
         "type": "bar",
         "x": [
          "두산"
         ],
         "y": [
          8
         ]
        },
        {
         "marker": {
          "color": "#92A8D1"
         },
         "name": "삼성",
         "text": [
          "7"
         ],
         "textposition": "auto",
         "type": "bar",
         "x": [
          "삼성"
         ],
         "y": [
          7
         ]
        },
        {
         "marker": {
          "color": "#FA9A85"
         },
         "name": "SSG",
         "text": [
          "6"
         ],
         "textposition": "auto",
         "type": "bar",
         "x": [
          "SSG"
         ],
         "y": [
          6
         ]
        },
        {
         "marker": {
          "color": "#F7CAC9"
         },
         "name": "키움",
         "text": [
          "5"
         ],
         "textposition": "auto",
         "type": "bar",
         "x": [
          "키움"
         ],
         "y": [
          5
         ]
        }
       ],
       "layout": {
        "template": {
         "data": {
          "bar": [
           {
            "error_x": {
             "color": "#2a3f5f"
            },
            "error_y": {
             "color": "#2a3f5f"
            },
            "marker": {
             "line": {
              "color": "#E5ECF6",
              "width": 0.5
             },
             "pattern": {
              "fillmode": "overlay",
              "size": 10,
              "solidity": 0.2
             }
            },
            "type": "bar"
           }
          ],
          "barpolar": [
           {
            "marker": {
             "line": {
              "color": "#E5ECF6",
              "width": 0.5
             },
             "pattern": {
              "fillmode": "overlay",
              "size": 10,
              "solidity": 0.2
             }
            },
            "type": "barpolar"
           }
          ],
          "carpet": [
           {
            "aaxis": {
             "endlinecolor": "#2a3f5f",
             "gridcolor": "white",
             "linecolor": "white",
             "minorgridcolor": "white",
             "startlinecolor": "#2a3f5f"
            },
            "baxis": {
             "endlinecolor": "#2a3f5f",
             "gridcolor": "white",
             "linecolor": "white",
             "minorgridcolor": "white",
             "startlinecolor": "#2a3f5f"
            },
            "type": "carpet"
           }
          ],
          "choropleth": [
           {
            "colorbar": {
             "outlinewidth": 0,
             "ticks": ""
            },
            "type": "choropleth"
           }
          ],
          "contour": [
           {
            "colorbar": {
             "outlinewidth": 0,
             "ticks": ""
            },
            "colorscale": [
             [
              0,
              "#0d0887"
             ],
             [
              0.1111111111111111,
              "#46039f"
             ],
             [
              0.2222222222222222,
              "#7201a8"
             ],
             [
              0.3333333333333333,
              "#9c179e"
             ],
             [
              0.4444444444444444,
              "#bd3786"
             ],
             [
              0.5555555555555556,
              "#d8576b"
             ],
             [
              0.6666666666666666,
              "#ed7953"
             ],
             [
              0.7777777777777778,
              "#fb9f3a"
             ],
             [
              0.8888888888888888,
              "#fdca26"
             ],
             [
              1,
              "#f0f921"
             ]
            ],
            "type": "contour"
           }
          ],
          "contourcarpet": [
           {
            "colorbar": {
             "outlinewidth": 0,
             "ticks": ""
            },
            "type": "contourcarpet"
           }
          ],
          "heatmap": [
           {
            "colorbar": {
             "outlinewidth": 0,
             "ticks": ""
            },
            "colorscale": [
             [
              0,
              "#0d0887"
             ],
             [
              0.1111111111111111,
              "#46039f"
             ],
             [
              0.2222222222222222,
              "#7201a8"
             ],
             [
              0.3333333333333333,
              "#9c179e"
             ],
             [
              0.4444444444444444,
              "#bd3786"
             ],
             [
              0.5555555555555556,
              "#d8576b"
             ],
             [
              0.6666666666666666,
              "#ed7953"
             ],
             [
              0.7777777777777778,
              "#fb9f3a"
             ],
             [
              0.8888888888888888,
              "#fdca26"
             ],
             [
              1,
              "#f0f921"
             ]
            ],
            "type": "heatmap"
           }
          ],
          "heatmapgl": [
           {
            "colorbar": {
             "outlinewidth": 0,
             "ticks": ""
            },
            "colorscale": [
             [
              0,
              "#0d0887"
             ],
             [
              0.1111111111111111,
              "#46039f"
             ],
             [
              0.2222222222222222,
              "#7201a8"
             ],
             [
              0.3333333333333333,
              "#9c179e"
             ],
             [
              0.4444444444444444,
              "#bd3786"
             ],
             [
              0.5555555555555556,
              "#d8576b"
             ],
             [
              0.6666666666666666,
              "#ed7953"
             ],
             [
              0.7777777777777778,
              "#fb9f3a"
             ],
             [
              0.8888888888888888,
              "#fdca26"
             ],
             [
              1,
              "#f0f921"
             ]
            ],
            "type": "heatmapgl"
           }
          ],
          "histogram": [
           {
            "marker": {
             "pattern": {
              "fillmode": "overlay",
              "size": 10,
              "solidity": 0.2
             }
            },
            "type": "histogram"
           }
          ],
          "histogram2d": [
           {
            "colorbar": {
             "outlinewidth": 0,
             "ticks": ""
            },
            "colorscale": [
             [
              0,
              "#0d0887"
             ],
             [
              0.1111111111111111,
              "#46039f"
             ],
             [
              0.2222222222222222,
              "#7201a8"
             ],
             [
              0.3333333333333333,
              "#9c179e"
             ],
             [
              0.4444444444444444,
              "#bd3786"
             ],
             [
              0.5555555555555556,
              "#d8576b"
             ],
             [
              0.6666666666666666,
              "#ed7953"
             ],
             [
              0.7777777777777778,
              "#fb9f3a"
             ],
             [
              0.8888888888888888,
              "#fdca26"
             ],
             [
              1,
              "#f0f921"
             ]
            ],
            "type": "histogram2d"
           }
          ],
          "histogram2dcontour": [
           {
            "colorbar": {
             "outlinewidth": 0,
             "ticks": ""
            },
            "colorscale": [
             [
              0,
              "#0d0887"
             ],
             [
              0.1111111111111111,
              "#46039f"
             ],
             [
              0.2222222222222222,
              "#7201a8"
             ],
             [
              0.3333333333333333,
              "#9c179e"
             ],
             [
              0.4444444444444444,
              "#bd3786"
             ],
             [
              0.5555555555555556,
              "#d8576b"
             ],
             [
              0.6666666666666666,
              "#ed7953"
             ],
             [
              0.7777777777777778,
              "#fb9f3a"
             ],
             [
              0.8888888888888888,
              "#fdca26"
             ],
             [
              1,
              "#f0f921"
             ]
            ],
            "type": "histogram2dcontour"
           }
          ],
          "mesh3d": [
           {
            "colorbar": {
             "outlinewidth": 0,
             "ticks": ""
            },
            "type": "mesh3d"
           }
          ],
          "parcoords": [
           {
            "line": {
             "colorbar": {
              "outlinewidth": 0,
              "ticks": ""
             }
            },
            "type": "parcoords"
           }
          ],
          "pie": [
           {
            "automargin": true,
            "type": "pie"
           }
          ],
          "scatter": [
           {
            "fillpattern": {
             "fillmode": "overlay",
             "size": 10,
             "solidity": 0.2
            },
            "type": "scatter"
           }
          ],
          "scatter3d": [
           {
            "line": {
             "colorbar": {
              "outlinewidth": 0,
              "ticks": ""
             }
            },
            "marker": {
             "colorbar": {
              "outlinewidth": 0,
              "ticks": ""
             }
            },
            "type": "scatter3d"
           }
          ],
          "scattercarpet": [
           {
            "marker": {
             "colorbar": {
              "outlinewidth": 0,
              "ticks": ""
             }
            },
            "type": "scattercarpet"
           }
          ],
          "scattergeo": [
           {
            "marker": {
             "colorbar": {
              "outlinewidth": 0,
              "ticks": ""
             }
            },
            "type": "scattergeo"
           }
          ],
          "scattergl": [
           {
            "marker": {
             "colorbar": {
              "outlinewidth": 0,
              "ticks": ""
             }
            },
            "type": "scattergl"
           }
          ],
          "scattermapbox": [
           {
            "marker": {
             "colorbar": {
              "outlinewidth": 0,
              "ticks": ""
             }
            },
            "type": "scattermapbox"
           }
          ],
          "scatterpolar": [
           {
            "marker": {
             "colorbar": {
              "outlinewidth": 0,
              "ticks": ""
             }
            },
            "type": "scatterpolar"
           }
          ],
          "scatterpolargl": [
           {
            "marker": {
             "colorbar": {
              "outlinewidth": 0,
              "ticks": ""
             }
            },
            "type": "scatterpolargl"
           }
          ],
          "scatterternary": [
           {
            "marker": {
             "colorbar": {
              "outlinewidth": 0,
              "ticks": ""
             }
            },
            "type": "scatterternary"
           }
          ],
          "surface": [
           {
            "colorbar": {
             "outlinewidth": 0,
             "ticks": ""
            },
            "colorscale": [
             [
              0,
              "#0d0887"
             ],
             [
              0.1111111111111111,
              "#46039f"
             ],
             [
              0.2222222222222222,
              "#7201a8"
             ],
             [
              0.3333333333333333,
              "#9c179e"
             ],
             [
              0.4444444444444444,
              "#bd3786"
             ],
             [
              0.5555555555555556,
              "#d8576b"
             ],
             [
              0.6666666666666666,
              "#ed7953"
             ],
             [
              0.7777777777777778,
              "#fb9f3a"
             ],
             [
              0.8888888888888888,
              "#fdca26"
             ],
             [
              1,
              "#f0f921"
             ]
            ],
            "type": "surface"
           }
          ],
          "table": [
           {
            "cells": {
             "fill": {
              "color": "#EBF0F8"
             },
             "line": {
              "color": "white"
             }
            },
            "header": {
             "fill": {
              "color": "#C8D4E3"
             },
             "line": {
              "color": "white"
             }
            },
            "type": "table"
           }
          ]
         },
         "layout": {
          "annotationdefaults": {
           "arrowcolor": "#2a3f5f",
           "arrowhead": 0,
           "arrowwidth": 1
          },
          "autotypenumbers": "strict",
          "coloraxis": {
           "colorbar": {
            "outlinewidth": 0,
            "ticks": ""
           }
          },
          "colorscale": {
           "diverging": [
            [
             0,
             "#8e0152"
            ],
            [
             0.1,
             "#c51b7d"
            ],
            [
             0.2,
             "#de77ae"
            ],
            [
             0.3,
             "#f1b6da"
            ],
            [
             0.4,
             "#fde0ef"
            ],
            [
             0.5,
             "#f7f7f7"
            ],
            [
             0.6,
             "#e6f5d0"
            ],
            [
             0.7,
             "#b8e186"
            ],
            [
             0.8,
             "#7fbc41"
            ],
            [
             0.9,
             "#4d9221"
            ],
            [
             1,
             "#276419"
            ]
           ],
           "sequential": [
            [
             0,
             "#0d0887"
            ],
            [
             0.1111111111111111,
             "#46039f"
            ],
            [
             0.2222222222222222,
             "#7201a8"
            ],
            [
             0.3333333333333333,
             "#9c179e"
            ],
            [
             0.4444444444444444,
             "#bd3786"
            ],
            [
             0.5555555555555556,
             "#d8576b"
            ],
            [
             0.6666666666666666,
             "#ed7953"
            ],
            [
             0.7777777777777778,
             "#fb9f3a"
            ],
            [
             0.8888888888888888,
             "#fdca26"
            ],
            [
             1,
             "#f0f921"
            ]
           ],
           "sequentialminus": [
            [
             0,
             "#0d0887"
            ],
            [
             0.1111111111111111,
             "#46039f"
            ],
            [
             0.2222222222222222,
             "#7201a8"
            ],
            [
             0.3333333333333333,
             "#9c179e"
            ],
            [
             0.4444444444444444,
             "#bd3786"
            ],
            [
             0.5555555555555556,
             "#d8576b"
            ],
            [
             0.6666666666666666,
             "#ed7953"
            ],
            [
             0.7777777777777778,
             "#fb9f3a"
            ],
            [
             0.8888888888888888,
             "#fdca26"
            ],
            [
             1,
             "#f0f921"
            ]
           ]
          },
          "colorway": [
           "#636efa",
           "#EF553B",
           "#00cc96",
           "#ab63fa",
           "#FFA15A",
           "#19d3f3",
           "#FF6692",
           "#B6E880",
           "#FF97FF",
           "#FECB52"
          ],
          "font": {
           "color": "#2a3f5f"
          },
          "geo": {
           "bgcolor": "white",
           "lakecolor": "white",
           "landcolor": "#E5ECF6",
           "showlakes": true,
           "showland": true,
           "subunitcolor": "white"
          },
          "hoverlabel": {
           "align": "left"
          },
          "hovermode": "closest",
          "mapbox": {
           "style": "light"
          },
          "paper_bgcolor": "white",
          "plot_bgcolor": "#E5ECF6",
          "polar": {
           "angularaxis": {
            "gridcolor": "white",
            "linecolor": "white",
            "ticks": ""
           },
           "bgcolor": "#E5ECF6",
           "radialaxis": {
            "gridcolor": "white",
            "linecolor": "white",
            "ticks": ""
           }
          },
          "scene": {
           "xaxis": {
            "backgroundcolor": "#E5ECF6",
            "gridcolor": "white",
            "gridwidth": 2,
            "linecolor": "white",
            "showbackground": true,
            "ticks": "",
            "zerolinecolor": "white"
           },
           "yaxis": {
            "backgroundcolor": "#E5ECF6",
            "gridcolor": "white",
            "gridwidth": 2,
            "linecolor": "white",
            "showbackground": true,
            "ticks": "",
            "zerolinecolor": "white"
           },
           "zaxis": {
            "backgroundcolor": "#E5ECF6",
            "gridcolor": "white",
            "gridwidth": 2,
            "linecolor": "white",
            "showbackground": true,
            "ticks": "",
            "zerolinecolor": "white"
           }
          },
          "shapedefaults": {
           "line": {
            "color": "#2a3f5f"
           }
          },
          "ternary": {
           "aaxis": {
            "gridcolor": "white",
            "linecolor": "white",
            "ticks": ""
           },
           "baxis": {
            "gridcolor": "white",
            "linecolor": "white",
            "ticks": ""
           },
           "bgcolor": "#E5ECF6",
           "caxis": {
            "gridcolor": "white",
            "linecolor": "white",
            "ticks": ""
           }
          },
          "title": {
           "x": 0.05
          },
          "xaxis": {
           "automargin": true,
           "gridcolor": "white",
           "linecolor": "white",
           "ticks": "",
           "title": {
            "standoff": 15
           },
           "zerolinecolor": "white",
           "zerolinewidth": 2
          },
          "yaxis": {
           "automargin": true,
           "gridcolor": "white",
           "linecolor": "white",
           "ticks": "",
           "title": {
            "standoff": 15
           },
           "zerolinecolor": "white",
           "zerolinewidth": 2
          }
         }
        },
        "title": {
         "text": "팀별 ERA+가 100 이상인 선수의 숫자 (30이닝 초과 투수 기준)"
        }
       }
      }
     },
     "metadata": {},
     "output_type": "display_data"
    }
   ],
   "source": [
    "main_title = \"팀별 ERA+가 100 이상인 선수의 숫자 (30이닝 초과 투수 기준)\"\n",
    "\n",
    "draw_bar_plot(ERA_over_100_by_team, \"team\", \"count\", main_title)"
   ]
  },
  {
   "cell_type": "code",
   "execution_count": 39,
   "metadata": {},
   "outputs": [
    {
     "data": {
      "text/html": [
       "<div>\n",
       "<style scoped>\n",
       "    .dataframe tbody tr th:only-of-type {\n",
       "        vertical-align: middle;\n",
       "    }\n",
       "\n",
       "    .dataframe tbody tr th {\n",
       "        vertical-align: top;\n",
       "    }\n",
       "\n",
       "    .dataframe thead th {\n",
       "        text-align: right;\n",
       "    }\n",
       "</style>\n",
       "<table border=\"1\" class=\"dataframe\">\n",
       "  <thead>\n",
       "    <tr style=\"text-align: right;\">\n",
       "      <th></th>\n",
       "      <th>team</th>\n",
       "      <th>count</th>\n",
       "    </tr>\n",
       "  </thead>\n",
       "  <tbody>\n",
       "    <tr>\n",
       "      <th>0</th>\n",
       "      <td>키움</td>\n",
       "      <td>10</td>\n",
       "    </tr>\n",
       "    <tr>\n",
       "      <th>1</th>\n",
       "      <td>NC</td>\n",
       "      <td>9</td>\n",
       "    </tr>\n",
       "    <tr>\n",
       "      <th>2</th>\n",
       "      <td>SSG</td>\n",
       "      <td>9</td>\n",
       "    </tr>\n",
       "    <tr>\n",
       "      <th>3</th>\n",
       "      <td>삼성</td>\n",
       "      <td>8</td>\n",
       "    </tr>\n",
       "    <tr>\n",
       "      <th>4</th>\n",
       "      <td>한화</td>\n",
       "      <td>8</td>\n",
       "    </tr>\n",
       "    <tr>\n",
       "      <th>5</th>\n",
       "      <td>KIA</td>\n",
       "      <td>6</td>\n",
       "    </tr>\n",
       "    <tr>\n",
       "      <th>6</th>\n",
       "      <td>KT</td>\n",
       "      <td>6</td>\n",
       "    </tr>\n",
       "    <tr>\n",
       "      <th>7</th>\n",
       "      <td>LG</td>\n",
       "      <td>5</td>\n",
       "    </tr>\n",
       "    <tr>\n",
       "      <th>8</th>\n",
       "      <td>두산</td>\n",
       "      <td>5</td>\n",
       "    </tr>\n",
       "    <tr>\n",
       "      <th>9</th>\n",
       "      <td>롯데</td>\n",
       "      <td>4</td>\n",
       "    </tr>\n",
       "  </tbody>\n",
       "</table>\n",
       "</div>"
      ],
      "text/plain": [
       "  team  count\n",
       "0   키움     10\n",
       "1   NC      9\n",
       "2  SSG      9\n",
       "3   삼성      8\n",
       "4   한화      8\n",
       "5  KIA      6\n",
       "6   KT      6\n",
       "7   LG      5\n",
       "8   두산      5\n",
       "9   롯데      4"
      ]
     },
     "execution_count": 39,
     "metadata": {},
     "output_type": "execute_result"
    }
   ],
   "source": [
    "bool_mask = (pitcher_detailed_2023['이닝']>30) & (pitcher_detailed_2023['ERA+']<100)\n",
    "\n",
    "team_idx = pitcher_detailed_2023[bool_mask].groupby(by = \"팀\").count().index\n",
    "team_count = pitcher_detailed_2023[bool_mask].groupby(by = \"팀\").count()['name'].values\n",
    "ERA_less_100_by_team = pd.DataFrame({'team':team_idx,'count':team_count})\n",
    "ERA_less_100_by_team = ERA_less_100_by_team.sort_values(by='count',ascending=False).reset_index(drop = True).iloc[:10,:]\n",
    "\n",
    "ERA_less_100_by_team"
   ]
  },
  {
   "cell_type": "code",
   "execution_count": 57,
   "metadata": {},
   "outputs": [
    {
     "data": {
      "application/vnd.plotly.v1+json": {
       "config": {
        "plotlyServerURL": "https://plot.ly"
       },
       "data": [
        {
         "marker": {
          "color": "#F7CAC9"
         },
         "name": "키움",
         "text": [
          "10"
         ],
         "textposition": "auto",
         "type": "bar",
         "x": [
          "키움"
         ],
         "y": [
          10
         ]
        },
        {
         "marker": {
          "color": "#B6E2D3"
         },
         "name": "NC",
         "text": [
          "9"
         ],
         "textposition": "auto",
         "type": "bar",
         "x": [
          "NC"
         ],
         "y": [
          9
         ]
        },
        {
         "marker": {
          "color": "#FA9A85"
         },
         "name": "SSG",
         "text": [
          "9"
         ],
         "textposition": "auto",
         "type": "bar",
         "x": [
          "SSG"
         ],
         "y": [
          9
         ]
        },
        {
         "marker": {
          "color": "#92A8D1"
         },
         "name": "삼성",
         "text": [
          "8"
         ],
         "textposition": "auto",
         "type": "bar",
         "x": [
          "삼성"
         ],
         "y": [
          8
         ]
        },
        {
         "marker": {
          "color": "#F9AA8F"
         },
         "name": "한화",
         "text": [
          "8"
         ],
         "textposition": "auto",
         "type": "bar",
         "x": [
          "한화"
         ],
         "y": [
          8
         ]
        },
        {
         "marker": {
          "color": "#F7786B"
         },
         "name": "KIA",
         "text": [
          "6"
         ],
         "textposition": "auto",
         "type": "bar",
         "x": [
          "KIA"
         ],
         "y": [
          6
         ]
        },
        {
         "marker": {
          "color": "#B0A8B9"
         },
         "name": "KT",
         "text": [
          "6"
         ],
         "textposition": "auto",
         "type": "bar",
         "x": [
          "KT"
         ],
         "y": [
          6
         ]
        },
        {
         "marker": {
          "color": "#D6AEDD"
         },
         "name": "LG",
         "text": [
          "5"
         ],
         "textposition": "auto",
         "type": "bar",
         "x": [
          "LG"
         ],
         "y": [
          5
         ]
        },
        {
         "marker": {
          "color": "#FFF0AC"
         },
         "name": "두산",
         "text": [
          "5"
         ],
         "textposition": "auto",
         "type": "bar",
         "x": [
          "두산"
         ],
         "y": [
          5
         ]
        },
        {
         "marker": {
          "color": "#A4DDED"
         },
         "name": "롯데",
         "text": [
          "4"
         ],
         "textposition": "auto",
         "type": "bar",
         "x": [
          "롯데"
         ],
         "y": [
          4
         ]
        }
       ],
       "layout": {
        "template": {
         "data": {
          "bar": [
           {
            "error_x": {
             "color": "#2a3f5f"
            },
            "error_y": {
             "color": "#2a3f5f"
            },
            "marker": {
             "line": {
              "color": "#E5ECF6",
              "width": 0.5
             },
             "pattern": {
              "fillmode": "overlay",
              "size": 10,
              "solidity": 0.2
             }
            },
            "type": "bar"
           }
          ],
          "barpolar": [
           {
            "marker": {
             "line": {
              "color": "#E5ECF6",
              "width": 0.5
             },
             "pattern": {
              "fillmode": "overlay",
              "size": 10,
              "solidity": 0.2
             }
            },
            "type": "barpolar"
           }
          ],
          "carpet": [
           {
            "aaxis": {
             "endlinecolor": "#2a3f5f",
             "gridcolor": "white",
             "linecolor": "white",
             "minorgridcolor": "white",
             "startlinecolor": "#2a3f5f"
            },
            "baxis": {
             "endlinecolor": "#2a3f5f",
             "gridcolor": "white",
             "linecolor": "white",
             "minorgridcolor": "white",
             "startlinecolor": "#2a3f5f"
            },
            "type": "carpet"
           }
          ],
          "choropleth": [
           {
            "colorbar": {
             "outlinewidth": 0,
             "ticks": ""
            },
            "type": "choropleth"
           }
          ],
          "contour": [
           {
            "colorbar": {
             "outlinewidth": 0,
             "ticks": ""
            },
            "colorscale": [
             [
              0,
              "#0d0887"
             ],
             [
              0.1111111111111111,
              "#46039f"
             ],
             [
              0.2222222222222222,
              "#7201a8"
             ],
             [
              0.3333333333333333,
              "#9c179e"
             ],
             [
              0.4444444444444444,
              "#bd3786"
             ],
             [
              0.5555555555555556,
              "#d8576b"
             ],
             [
              0.6666666666666666,
              "#ed7953"
             ],
             [
              0.7777777777777778,
              "#fb9f3a"
             ],
             [
              0.8888888888888888,
              "#fdca26"
             ],
             [
              1,
              "#f0f921"
             ]
            ],
            "type": "contour"
           }
          ],
          "contourcarpet": [
           {
            "colorbar": {
             "outlinewidth": 0,
             "ticks": ""
            },
            "type": "contourcarpet"
           }
          ],
          "heatmap": [
           {
            "colorbar": {
             "outlinewidth": 0,
             "ticks": ""
            },
            "colorscale": [
             [
              0,
              "#0d0887"
             ],
             [
              0.1111111111111111,
              "#46039f"
             ],
             [
              0.2222222222222222,
              "#7201a8"
             ],
             [
              0.3333333333333333,
              "#9c179e"
             ],
             [
              0.4444444444444444,
              "#bd3786"
             ],
             [
              0.5555555555555556,
              "#d8576b"
             ],
             [
              0.6666666666666666,
              "#ed7953"
             ],
             [
              0.7777777777777778,
              "#fb9f3a"
             ],
             [
              0.8888888888888888,
              "#fdca26"
             ],
             [
              1,
              "#f0f921"
             ]
            ],
            "type": "heatmap"
           }
          ],
          "heatmapgl": [
           {
            "colorbar": {
             "outlinewidth": 0,
             "ticks": ""
            },
            "colorscale": [
             [
              0,
              "#0d0887"
             ],
             [
              0.1111111111111111,
              "#46039f"
             ],
             [
              0.2222222222222222,
              "#7201a8"
             ],
             [
              0.3333333333333333,
              "#9c179e"
             ],
             [
              0.4444444444444444,
              "#bd3786"
             ],
             [
              0.5555555555555556,
              "#d8576b"
             ],
             [
              0.6666666666666666,
              "#ed7953"
             ],
             [
              0.7777777777777778,
              "#fb9f3a"
             ],
             [
              0.8888888888888888,
              "#fdca26"
             ],
             [
              1,
              "#f0f921"
             ]
            ],
            "type": "heatmapgl"
           }
          ],
          "histogram": [
           {
            "marker": {
             "pattern": {
              "fillmode": "overlay",
              "size": 10,
              "solidity": 0.2
             }
            },
            "type": "histogram"
           }
          ],
          "histogram2d": [
           {
            "colorbar": {
             "outlinewidth": 0,
             "ticks": ""
            },
            "colorscale": [
             [
              0,
              "#0d0887"
             ],
             [
              0.1111111111111111,
              "#46039f"
             ],
             [
              0.2222222222222222,
              "#7201a8"
             ],
             [
              0.3333333333333333,
              "#9c179e"
             ],
             [
              0.4444444444444444,
              "#bd3786"
             ],
             [
              0.5555555555555556,
              "#d8576b"
             ],
             [
              0.6666666666666666,
              "#ed7953"
             ],
             [
              0.7777777777777778,
              "#fb9f3a"
             ],
             [
              0.8888888888888888,
              "#fdca26"
             ],
             [
              1,
              "#f0f921"
             ]
            ],
            "type": "histogram2d"
           }
          ],
          "histogram2dcontour": [
           {
            "colorbar": {
             "outlinewidth": 0,
             "ticks": ""
            },
            "colorscale": [
             [
              0,
              "#0d0887"
             ],
             [
              0.1111111111111111,
              "#46039f"
             ],
             [
              0.2222222222222222,
              "#7201a8"
             ],
             [
              0.3333333333333333,
              "#9c179e"
             ],
             [
              0.4444444444444444,
              "#bd3786"
             ],
             [
              0.5555555555555556,
              "#d8576b"
             ],
             [
              0.6666666666666666,
              "#ed7953"
             ],
             [
              0.7777777777777778,
              "#fb9f3a"
             ],
             [
              0.8888888888888888,
              "#fdca26"
             ],
             [
              1,
              "#f0f921"
             ]
            ],
            "type": "histogram2dcontour"
           }
          ],
          "mesh3d": [
           {
            "colorbar": {
             "outlinewidth": 0,
             "ticks": ""
            },
            "type": "mesh3d"
           }
          ],
          "parcoords": [
           {
            "line": {
             "colorbar": {
              "outlinewidth": 0,
              "ticks": ""
             }
            },
            "type": "parcoords"
           }
          ],
          "pie": [
           {
            "automargin": true,
            "type": "pie"
           }
          ],
          "scatter": [
           {
            "fillpattern": {
             "fillmode": "overlay",
             "size": 10,
             "solidity": 0.2
            },
            "type": "scatter"
           }
          ],
          "scatter3d": [
           {
            "line": {
             "colorbar": {
              "outlinewidth": 0,
              "ticks": ""
             }
            },
            "marker": {
             "colorbar": {
              "outlinewidth": 0,
              "ticks": ""
             }
            },
            "type": "scatter3d"
           }
          ],
          "scattercarpet": [
           {
            "marker": {
             "colorbar": {
              "outlinewidth": 0,
              "ticks": ""
             }
            },
            "type": "scattercarpet"
           }
          ],
          "scattergeo": [
           {
            "marker": {
             "colorbar": {
              "outlinewidth": 0,
              "ticks": ""
             }
            },
            "type": "scattergeo"
           }
          ],
          "scattergl": [
           {
            "marker": {
             "colorbar": {
              "outlinewidth": 0,
              "ticks": ""
             }
            },
            "type": "scattergl"
           }
          ],
          "scattermapbox": [
           {
            "marker": {
             "colorbar": {
              "outlinewidth": 0,
              "ticks": ""
             }
            },
            "type": "scattermapbox"
           }
          ],
          "scatterpolar": [
           {
            "marker": {
             "colorbar": {
              "outlinewidth": 0,
              "ticks": ""
             }
            },
            "type": "scatterpolar"
           }
          ],
          "scatterpolargl": [
           {
            "marker": {
             "colorbar": {
              "outlinewidth": 0,
              "ticks": ""
             }
            },
            "type": "scatterpolargl"
           }
          ],
          "scatterternary": [
           {
            "marker": {
             "colorbar": {
              "outlinewidth": 0,
              "ticks": ""
             }
            },
            "type": "scatterternary"
           }
          ],
          "surface": [
           {
            "colorbar": {
             "outlinewidth": 0,
             "ticks": ""
            },
            "colorscale": [
             [
              0,
              "#0d0887"
             ],
             [
              0.1111111111111111,
              "#46039f"
             ],
             [
              0.2222222222222222,
              "#7201a8"
             ],
             [
              0.3333333333333333,
              "#9c179e"
             ],
             [
              0.4444444444444444,
              "#bd3786"
             ],
             [
              0.5555555555555556,
              "#d8576b"
             ],
             [
              0.6666666666666666,
              "#ed7953"
             ],
             [
              0.7777777777777778,
              "#fb9f3a"
             ],
             [
              0.8888888888888888,
              "#fdca26"
             ],
             [
              1,
              "#f0f921"
             ]
            ],
            "type": "surface"
           }
          ],
          "table": [
           {
            "cells": {
             "fill": {
              "color": "#EBF0F8"
             },
             "line": {
              "color": "white"
             }
            },
            "header": {
             "fill": {
              "color": "#C8D4E3"
             },
             "line": {
              "color": "white"
             }
            },
            "type": "table"
           }
          ]
         },
         "layout": {
          "annotationdefaults": {
           "arrowcolor": "#2a3f5f",
           "arrowhead": 0,
           "arrowwidth": 1
          },
          "autotypenumbers": "strict",
          "coloraxis": {
           "colorbar": {
            "outlinewidth": 0,
            "ticks": ""
           }
          },
          "colorscale": {
           "diverging": [
            [
             0,
             "#8e0152"
            ],
            [
             0.1,
             "#c51b7d"
            ],
            [
             0.2,
             "#de77ae"
            ],
            [
             0.3,
             "#f1b6da"
            ],
            [
             0.4,
             "#fde0ef"
            ],
            [
             0.5,
             "#f7f7f7"
            ],
            [
             0.6,
             "#e6f5d0"
            ],
            [
             0.7,
             "#b8e186"
            ],
            [
             0.8,
             "#7fbc41"
            ],
            [
             0.9,
             "#4d9221"
            ],
            [
             1,
             "#276419"
            ]
           ],
           "sequential": [
            [
             0,
             "#0d0887"
            ],
            [
             0.1111111111111111,
             "#46039f"
            ],
            [
             0.2222222222222222,
             "#7201a8"
            ],
            [
             0.3333333333333333,
             "#9c179e"
            ],
            [
             0.4444444444444444,
             "#bd3786"
            ],
            [
             0.5555555555555556,
             "#d8576b"
            ],
            [
             0.6666666666666666,
             "#ed7953"
            ],
            [
             0.7777777777777778,
             "#fb9f3a"
            ],
            [
             0.8888888888888888,
             "#fdca26"
            ],
            [
             1,
             "#f0f921"
            ]
           ],
           "sequentialminus": [
            [
             0,
             "#0d0887"
            ],
            [
             0.1111111111111111,
             "#46039f"
            ],
            [
             0.2222222222222222,
             "#7201a8"
            ],
            [
             0.3333333333333333,
             "#9c179e"
            ],
            [
             0.4444444444444444,
             "#bd3786"
            ],
            [
             0.5555555555555556,
             "#d8576b"
            ],
            [
             0.6666666666666666,
             "#ed7953"
            ],
            [
             0.7777777777777778,
             "#fb9f3a"
            ],
            [
             0.8888888888888888,
             "#fdca26"
            ],
            [
             1,
             "#f0f921"
            ]
           ]
          },
          "colorway": [
           "#636efa",
           "#EF553B",
           "#00cc96",
           "#ab63fa",
           "#FFA15A",
           "#19d3f3",
           "#FF6692",
           "#B6E880",
           "#FF97FF",
           "#FECB52"
          ],
          "font": {
           "color": "#2a3f5f"
          },
          "geo": {
           "bgcolor": "white",
           "lakecolor": "white",
           "landcolor": "#E5ECF6",
           "showlakes": true,
           "showland": true,
           "subunitcolor": "white"
          },
          "hoverlabel": {
           "align": "left"
          },
          "hovermode": "closest",
          "mapbox": {
           "style": "light"
          },
          "paper_bgcolor": "white",
          "plot_bgcolor": "#E5ECF6",
          "polar": {
           "angularaxis": {
            "gridcolor": "white",
            "linecolor": "white",
            "ticks": ""
           },
           "bgcolor": "#E5ECF6",
           "radialaxis": {
            "gridcolor": "white",
            "linecolor": "white",
            "ticks": ""
           }
          },
          "scene": {
           "xaxis": {
            "backgroundcolor": "#E5ECF6",
            "gridcolor": "white",
            "gridwidth": 2,
            "linecolor": "white",
            "showbackground": true,
            "ticks": "",
            "zerolinecolor": "white"
           },
           "yaxis": {
            "backgroundcolor": "#E5ECF6",
            "gridcolor": "white",
            "gridwidth": 2,
            "linecolor": "white",
            "showbackground": true,
            "ticks": "",
            "zerolinecolor": "white"
           },
           "zaxis": {
            "backgroundcolor": "#E5ECF6",
            "gridcolor": "white",
            "gridwidth": 2,
            "linecolor": "white",
            "showbackground": true,
            "ticks": "",
            "zerolinecolor": "white"
           }
          },
          "shapedefaults": {
           "line": {
            "color": "#2a3f5f"
           }
          },
          "ternary": {
           "aaxis": {
            "gridcolor": "white",
            "linecolor": "white",
            "ticks": ""
           },
           "baxis": {
            "gridcolor": "white",
            "linecolor": "white",
            "ticks": ""
           },
           "bgcolor": "#E5ECF6",
           "caxis": {
            "gridcolor": "white",
            "linecolor": "white",
            "ticks": ""
           }
          },
          "title": {
           "x": 0.05
          },
          "xaxis": {
           "automargin": true,
           "gridcolor": "white",
           "linecolor": "white",
           "ticks": "",
           "title": {
            "standoff": 15
           },
           "zerolinecolor": "white",
           "zerolinewidth": 2
          },
          "yaxis": {
           "automargin": true,
           "gridcolor": "white",
           "linecolor": "white",
           "ticks": "",
           "title": {
            "standoff": 15
           },
           "zerolinecolor": "white",
           "zerolinewidth": 2
          }
         }
        },
        "title": {
         "text": "팀별 ERA+가 100 미만인 선수의 숫자 (30이닝 초과 투수 기준)"
        }
       }
      }
     },
     "metadata": {},
     "output_type": "display_data"
    }
   ],
   "source": [
    "main_title = \"팀별 ERA+가 100 미만인 선수의 숫자 (30이닝 초과 투수 기준)\"\n",
    "\n",
    "draw_bar_plot(ERA_less_100_by_team, \"team\", \"count\", main_title)"
   ]
  },
  {
   "cell_type": "code",
   "execution_count": null,
   "metadata": {},
   "outputs": [],
   "source": []
  },
  {
   "cell_type": "markdown",
   "metadata": {},
   "source": [
    "# ERA+ analysis"
   ]
  },
  {
   "cell_type": "code",
   "execution_count": 14,
   "metadata": {},
   "outputs": [
    {
     "data": {
      "text/plain": [
       "Index(['Unnamed: 0', 'name', 'id', 'birthday', '연도', '팀', '나이', '출장', '완투',\n",
       "       '완봉', '선발', '승', '패', '세', '홀드', '이닝', '실점', '자책', '타자', '안타', '2타',\n",
       "       '3타', '홈런', '볼넷', '고4', '사구', '삼진', '보크', '폭투', 'ERA', 'FIP', 'WHIP',\n",
       "       'ERA+', 'FIP+', 'WAR', 'WPA'],\n",
       "      dtype='object')"
      ]
     },
     "execution_count": 14,
     "metadata": {},
     "output_type": "execute_result"
    }
   ],
   "source": [
    "pitcher_detailed_2023.columns"
   ]
  },
  {
   "cell_type": "code",
   "execution_count": null,
   "metadata": {},
   "outputs": [],
   "source": []
  },
  {
   "cell_type": "code",
   "execution_count": 15,
   "metadata": {},
   "outputs": [
    {
     "data": {
      "text/html": [
       "<div>\n",
       "<style scoped>\n",
       "    .dataframe tbody tr th:only-of-type {\n",
       "        vertical-align: middle;\n",
       "    }\n",
       "\n",
       "    .dataframe tbody tr th {\n",
       "        vertical-align: top;\n",
       "    }\n",
       "\n",
       "    .dataframe thead th {\n",
       "        text-align: right;\n",
       "    }\n",
       "</style>\n",
       "<table border=\"1\" class=\"dataframe\">\n",
       "  <thead>\n",
       "    <tr style=\"text-align: right;\">\n",
       "      <th></th>\n",
       "      <th>name</th>\n",
       "      <th>id</th>\n",
       "      <th>연도</th>\n",
       "      <th>ERA+</th>\n",
       "    </tr>\n",
       "  </thead>\n",
       "  <tbody>\n",
       "    <tr>\n",
       "      <th>106</th>\n",
       "      <td>한승주</td>\n",
       "      <td>50726</td>\n",
       "      <td>2023</td>\n",
       "      <td>105.2</td>\n",
       "    </tr>\n",
       "    <tr>\n",
       "      <th>251</th>\n",
       "      <td>문동주</td>\n",
       "      <td>52701</td>\n",
       "      <td>2023</td>\n",
       "      <td>111.7</td>\n",
       "    </tr>\n",
       "    <tr>\n",
       "      <th>294</th>\n",
       "      <td>산체스</td>\n",
       "      <td>53714</td>\n",
       "      <td>2023</td>\n",
       "      <td>109.7</td>\n",
       "    </tr>\n",
       "    <tr>\n",
       "      <th>481</th>\n",
       "      <td>이태양</td>\n",
       "      <td>60768</td>\n",
       "      <td>2023</td>\n",
       "      <td>128.6</td>\n",
       "    </tr>\n",
       "    <tr>\n",
       "      <th>970</th>\n",
       "      <td>윤대경</td>\n",
       "      <td>63464</td>\n",
       "      <td>2023</td>\n",
       "      <td>169.2</td>\n",
       "    </tr>\n",
       "    <tr>\n",
       "      <th>1474</th>\n",
       "      <td>주현상</td>\n",
       "      <td>65707</td>\n",
       "      <td>2023</td>\n",
       "      <td>211.7</td>\n",
       "    </tr>\n",
       "    <tr>\n",
       "      <th>1772</th>\n",
       "      <td>박상원</td>\n",
       "      <td>67703</td>\n",
       "      <td>2023</td>\n",
       "      <td>113.8</td>\n",
       "    </tr>\n",
       "    <tr>\n",
       "      <th>3847</th>\n",
       "      <td>장시환</td>\n",
       "      <td>77318</td>\n",
       "      <td>2023</td>\n",
       "      <td>123.0</td>\n",
       "    </tr>\n",
       "    <tr>\n",
       "      <th>7174</th>\n",
       "      <td>페냐</td>\n",
       "      <td>52720</td>\n",
       "      <td>2023</td>\n",
       "      <td>115.2</td>\n",
       "    </tr>\n",
       "  </tbody>\n",
       "</table>\n",
       "</div>"
      ],
      "text/plain": [
       "     name     id    연도   ERA+\n",
       "106   한승주  50726  2023  105.2\n",
       "251   문동주  52701  2023  111.7\n",
       "294   산체스  53714  2023  109.7\n",
       "481   이태양  60768  2023  128.6\n",
       "970   윤대경  63464  2023  169.2\n",
       "1474  주현상  65707  2023  211.7\n",
       "1772  박상원  67703  2023  113.8\n",
       "3847  장시환  77318  2023  123.0\n",
       "7174   페냐  52720  2023  115.2"
      ]
     },
     "execution_count": 15,
     "metadata": {},
     "output_type": "execute_result"
    }
   ],
   "source": [
    "pitcher_detailed_2023[(pitcher_detailed_2023['팀']=='한화') &\\\n",
    "                        (pitcher_detailed_2023['ERA+']>100)&\n",
    "                        (pitcher_detailed_2023['이닝']>30)]\\\n",
    "                        [['name', 'id', '연도', 'ERA+']]"
   ]
  },
  {
   "cell_type": "code",
   "execution_count": 16,
   "metadata": {},
   "outputs": [
    {
     "data": {
      "text/html": [
       "<div>\n",
       "<style scoped>\n",
       "    .dataframe tbody tr th:only-of-type {\n",
       "        vertical-align: middle;\n",
       "    }\n",
       "\n",
       "    .dataframe tbody tr th {\n",
       "        vertical-align: top;\n",
       "    }\n",
       "\n",
       "    .dataframe thead th {\n",
       "        text-align: right;\n",
       "    }\n",
       "</style>\n",
       "<table border=\"1\" class=\"dataframe\">\n",
       "  <thead>\n",
       "    <tr style=\"text-align: right;\">\n",
       "      <th></th>\n",
       "      <th>Unnamed: 0</th>\n",
       "      <th>name</th>\n",
       "      <th>id</th>\n",
       "      <th>birthday</th>\n",
       "      <th>연도</th>\n",
       "      <th>팀</th>\n",
       "      <th>나이</th>\n",
       "      <th>출장</th>\n",
       "      <th>완투</th>\n",
       "      <th>완봉</th>\n",
       "      <th>...</th>\n",
       "      <th>삼진</th>\n",
       "      <th>보크</th>\n",
       "      <th>폭투</th>\n",
       "      <th>ERA</th>\n",
       "      <th>FIP</th>\n",
       "      <th>WHIP</th>\n",
       "      <th>ERA+</th>\n",
       "      <th>FIP+</th>\n",
       "      <th>WAR</th>\n",
       "      <th>WPA</th>\n",
       "    </tr>\n",
       "  </thead>\n",
       "  <tbody>\n",
       "    <tr>\n",
       "      <th>7174</th>\n",
       "      <td>7174</td>\n",
       "      <td>페냐</td>\n",
       "      <td>52720</td>\n",
       "      <td>1990.1.25</td>\n",
       "      <td>2023</td>\n",
       "      <td>한화</td>\n",
       "      <td>33</td>\n",
       "      <td>32</td>\n",
       "      <td>0</td>\n",
       "      <td>0</td>\n",
       "      <td>...</td>\n",
       "      <td>147</td>\n",
       "      <td>4</td>\n",
       "      <td>16</td>\n",
       "      <td>3.6</td>\n",
       "      <td>4.1</td>\n",
       "      <td>1.17</td>\n",
       "      <td>115.2</td>\n",
       "      <td>101.3</td>\n",
       "      <td>3.53</td>\n",
       "      <td>-0.27</td>\n",
       "    </tr>\n",
       "  </tbody>\n",
       "</table>\n",
       "<p>1 rows × 36 columns</p>\n",
       "</div>"
      ],
      "text/plain": [
       "      Unnamed: 0 name     id   birthday    연도   팀  나이  출장  완투  완봉  ...   삼진  \\\n",
       "7174        7174   페냐  52720  1990.1.25  2023  한화  33  32   0   0  ...  147   \n",
       "\n",
       "      보크  폭투  ERA  FIP  WHIP   ERA+   FIP+   WAR   WPA  \n",
       "7174   4  16  3.6  4.1  1.17  115.2  101.3  3.53 -0.27  \n",
       "\n",
       "[1 rows x 36 columns]"
      ]
     },
     "execution_count": 16,
     "metadata": {},
     "output_type": "execute_result"
    }
   ],
   "source": [
    "pitcher_detailed_2023[pitcher_detailed_2023['name']=='페냐']"
   ]
  },
  {
   "cell_type": "code",
   "execution_count": null,
   "metadata": {},
   "outputs": [],
   "source": []
  },
  {
   "cell_type": "code",
   "execution_count": null,
   "metadata": {},
   "outputs": [],
   "source": []
  },
  {
   "cell_type": "code",
   "execution_count": null,
   "metadata": {},
   "outputs": [],
   "source": []
  },
  {
   "cell_type": "code",
   "execution_count": null,
   "metadata": {},
   "outputs": [],
   "source": []
  },
  {
   "cell_type": "code",
   "execution_count": null,
   "metadata": {},
   "outputs": [],
   "source": []
  }
 ],
 "metadata": {
  "kernelspec": {
   "display_name": "EDA",
   "language": "python",
   "name": "python3"
  },
  "language_info": {
   "codemirror_mode": {
    "name": "ipython",
    "version": 3
   },
   "file_extension": ".py",
   "mimetype": "text/x-python",
   "name": "python",
   "nbconvert_exporter": "python",
   "pygments_lexer": "ipython3",
   "version": "3.11.5"
  }
 },
 "nbformat": 4,
 "nbformat_minor": 2
}
