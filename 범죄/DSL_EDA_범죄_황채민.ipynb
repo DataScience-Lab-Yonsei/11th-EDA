{
  "nbformat": 4,
  "nbformat_minor": 0,
  "metadata": {
    "colab": {
      "provenance": [],
      "toc_visible": true
    },
    "kernelspec": {
      "name": "python3",
      "display_name": "Python 3"
    },
    "language_info": {
      "name": "python"
    }
  },
  "cells": [
    {
      "cell_type": "code",
      "source": [
        "from google.colab import drive\n",
        "drive.mount('/content/drive')"
      ],
      "metadata": {
        "colab": {
          "base_uri": "https://localhost:8080/"
        },
        "id": "O0i3t6beN51K",
        "outputId": "819a5544-0511-4e3e-a916-65f8ef3c00ac"
      },
      "execution_count": null,
      "outputs": [
        {
          "output_type": "stream",
          "name": "stdout",
          "text": [
            "Mounted at /content/drive\n"
          ]
        }
      ]
    },
    {
      "cell_type": "code",
      "execution_count": null,
      "metadata": {
        "id": "hD2UWh1M8Qb_"
      },
      "outputs": [],
      "source": [
        "import numpy as np\n",
        "import pandas as pd\n",
        "import matplotlib.pyplot as plt\n",
        "import seaborn as sns\n",
        "from scipy.stats import levene\n",
        "from scipy.stats import shapiro\n",
        "import scipy.stats as stats\n",
        "from scipy.stats import chi2_contingency"
      ]
    },
    {
      "cell_type": "markdown",
      "source": [
        "# 음주운전 판결 데이터 불러오기\n",
        "\n"
      ],
      "metadata": {
        "id": "TvxT39kVOngW"
      }
    },
    {
      "cell_type": "code",
      "source": [
        "path_to_file = \"/content/drive/MyDrive/Colab Notebooks/DSL/24-1 EDA/음주운전 판결.xlsx\""
      ],
      "metadata": {
        "id": "g86D9aBS8awE"
      },
      "execution_count": null,
      "outputs": []
    },
    {
      "cell_type": "code",
      "source": [
        "df = pd.read_excel(path_to_file)\n",
        "df2 = df[(df['year'] >= 2014) & (df['year'] <= 2023)] #2014 - 2023\n",
        "df2.head()"
      ],
      "metadata": {
        "id": "ExlwDmFE8aQ7",
        "colab": {
          "base_uri": "https://localhost:8080/",
          "height": 449
        },
        "outputId": "e724da8d-bc2f-4273-a722-5626b979a217"
      },
      "execution_count": null,
      "outputs": [
        {
          "output_type": "execute_result",
          "data": {
            "text/plain": [
              "    year        사건번호        법원  징역    벌금   음주수준  사고여부  \\\n",
              "61  2014   2014고단504  서울중앙지방법원   8     0  측정 거부   0.0   \n",
              "62  2014   2014고정738    울산지방법원   0  1000  0.115   1.0   \n",
              "63  2014   2014고합135    울산지방법원  18     0  0.128   1.0   \n",
              "64  2014  2014고단8262    부산지방법원  10     0   0.11   0.0   \n",
              "65  2014  2014고단1843    울산지방법원   6     0  0.164   0.0   \n",
              "\n",
              "    사고결과 (인명 피해 없음, 중상, 사망) 전과 기록 (음주 운전)   기타  \n",
              "61                      0.0             3  NaN  \n",
              "62                      1.0             2  NaN  \n",
              "63                      1.0        알 수 없음  NaN  \n",
              "64                      0.0             1  NaN  \n",
              "65                      0.0             0  NaN  "
            ],
            "text/html": [
              "\n",
              "  <div id=\"df-0a52f4e8-05e3-4190-b35f-94d179d44d99\" class=\"colab-df-container\">\n",
              "    <div>\n",
              "<style scoped>\n",
              "    .dataframe tbody tr th:only-of-type {\n",
              "        vertical-align: middle;\n",
              "    }\n",
              "\n",
              "    .dataframe tbody tr th {\n",
              "        vertical-align: top;\n",
              "    }\n",
              "\n",
              "    .dataframe thead th {\n",
              "        text-align: right;\n",
              "    }\n",
              "</style>\n",
              "<table border=\"1\" class=\"dataframe\">\n",
              "  <thead>\n",
              "    <tr style=\"text-align: right;\">\n",
              "      <th></th>\n",
              "      <th>year</th>\n",
              "      <th>사건번호</th>\n",
              "      <th>법원</th>\n",
              "      <th>징역</th>\n",
              "      <th>벌금</th>\n",
              "      <th>음주수준</th>\n",
              "      <th>사고여부</th>\n",
              "      <th>사고결과 (인명 피해 없음, 중상, 사망)</th>\n",
              "      <th>전과 기록 (음주 운전)</th>\n",
              "      <th>기타</th>\n",
              "    </tr>\n",
              "  </thead>\n",
              "  <tbody>\n",
              "    <tr>\n",
              "      <th>61</th>\n",
              "      <td>2014</td>\n",
              "      <td>2014고단504</td>\n",
              "      <td>서울중앙지방법원</td>\n",
              "      <td>8</td>\n",
              "      <td>0</td>\n",
              "      <td>측정 거부</td>\n",
              "      <td>0.0</td>\n",
              "      <td>0.0</td>\n",
              "      <td>3</td>\n",
              "      <td>NaN</td>\n",
              "    </tr>\n",
              "    <tr>\n",
              "      <th>62</th>\n",
              "      <td>2014</td>\n",
              "      <td>2014고정738</td>\n",
              "      <td>울산지방법원</td>\n",
              "      <td>0</td>\n",
              "      <td>1000</td>\n",
              "      <td>0.115</td>\n",
              "      <td>1.0</td>\n",
              "      <td>1.0</td>\n",
              "      <td>2</td>\n",
              "      <td>NaN</td>\n",
              "    </tr>\n",
              "    <tr>\n",
              "      <th>63</th>\n",
              "      <td>2014</td>\n",
              "      <td>2014고합135</td>\n",
              "      <td>울산지방법원</td>\n",
              "      <td>18</td>\n",
              "      <td>0</td>\n",
              "      <td>0.128</td>\n",
              "      <td>1.0</td>\n",
              "      <td>1.0</td>\n",
              "      <td>알 수 없음</td>\n",
              "      <td>NaN</td>\n",
              "    </tr>\n",
              "    <tr>\n",
              "      <th>64</th>\n",
              "      <td>2014</td>\n",
              "      <td>2014고단8262</td>\n",
              "      <td>부산지방법원</td>\n",
              "      <td>10</td>\n",
              "      <td>0</td>\n",
              "      <td>0.11</td>\n",
              "      <td>0.0</td>\n",
              "      <td>0.0</td>\n",
              "      <td>1</td>\n",
              "      <td>NaN</td>\n",
              "    </tr>\n",
              "    <tr>\n",
              "      <th>65</th>\n",
              "      <td>2014</td>\n",
              "      <td>2014고단1843</td>\n",
              "      <td>울산지방법원</td>\n",
              "      <td>6</td>\n",
              "      <td>0</td>\n",
              "      <td>0.164</td>\n",
              "      <td>0.0</td>\n",
              "      <td>0.0</td>\n",
              "      <td>0</td>\n",
              "      <td>NaN</td>\n",
              "    </tr>\n",
              "  </tbody>\n",
              "</table>\n",
              "</div>\n",
              "    <div class=\"colab-df-buttons\">\n",
              "\n",
              "  <div class=\"colab-df-container\">\n",
              "    <button class=\"colab-df-convert\" onclick=\"convertToInteractive('df-0a52f4e8-05e3-4190-b35f-94d179d44d99')\"\n",
              "            title=\"Convert this dataframe to an interactive table.\"\n",
              "            style=\"display:none;\">\n",
              "\n",
              "  <svg xmlns=\"http://www.w3.org/2000/svg\" height=\"24px\" viewBox=\"0 -960 960 960\">\n",
              "    <path d=\"M120-120v-720h720v720H120Zm60-500h600v-160H180v160Zm220 220h160v-160H400v160Zm0 220h160v-160H400v160ZM180-400h160v-160H180v160Zm440 0h160v-160H620v160ZM180-180h160v-160H180v160Zm440 0h160v-160H620v160Z\"/>\n",
              "  </svg>\n",
              "    </button>\n",
              "\n",
              "  <style>\n",
              "    .colab-df-container {\n",
              "      display:flex;\n",
              "      gap: 12px;\n",
              "    }\n",
              "\n",
              "    .colab-df-convert {\n",
              "      background-color: #E8F0FE;\n",
              "      border: none;\n",
              "      border-radius: 50%;\n",
              "      cursor: pointer;\n",
              "      display: none;\n",
              "      fill: #1967D2;\n",
              "      height: 32px;\n",
              "      padding: 0 0 0 0;\n",
              "      width: 32px;\n",
              "    }\n",
              "\n",
              "    .colab-df-convert:hover {\n",
              "      background-color: #E2EBFA;\n",
              "      box-shadow: 0px 1px 2px rgba(60, 64, 67, 0.3), 0px 1px 3px 1px rgba(60, 64, 67, 0.15);\n",
              "      fill: #174EA6;\n",
              "    }\n",
              "\n",
              "    .colab-df-buttons div {\n",
              "      margin-bottom: 4px;\n",
              "    }\n",
              "\n",
              "    [theme=dark] .colab-df-convert {\n",
              "      background-color: #3B4455;\n",
              "      fill: #D2E3FC;\n",
              "    }\n",
              "\n",
              "    [theme=dark] .colab-df-convert:hover {\n",
              "      background-color: #434B5C;\n",
              "      box-shadow: 0px 1px 3px 1px rgba(0, 0, 0, 0.15);\n",
              "      filter: drop-shadow(0px 1px 2px rgba(0, 0, 0, 0.3));\n",
              "      fill: #FFFFFF;\n",
              "    }\n",
              "  </style>\n",
              "\n",
              "    <script>\n",
              "      const buttonEl =\n",
              "        document.querySelector('#df-0a52f4e8-05e3-4190-b35f-94d179d44d99 button.colab-df-convert');\n",
              "      buttonEl.style.display =\n",
              "        google.colab.kernel.accessAllowed ? 'block' : 'none';\n",
              "\n",
              "      async function convertToInteractive(key) {\n",
              "        const element = document.querySelector('#df-0a52f4e8-05e3-4190-b35f-94d179d44d99');\n",
              "        const dataTable =\n",
              "          await google.colab.kernel.invokeFunction('convertToInteractive',\n",
              "                                                    [key], {});\n",
              "        if (!dataTable) return;\n",
              "\n",
              "        const docLinkHtml = 'Like what you see? Visit the ' +\n",
              "          '<a target=\"_blank\" href=https://colab.research.google.com/notebooks/data_table.ipynb>data table notebook</a>'\n",
              "          + ' to learn more about interactive tables.';\n",
              "        element.innerHTML = '';\n",
              "        dataTable['output_type'] = 'display_data';\n",
              "        await google.colab.output.renderOutput(dataTable, element);\n",
              "        const docLink = document.createElement('div');\n",
              "        docLink.innerHTML = docLinkHtml;\n",
              "        element.appendChild(docLink);\n",
              "      }\n",
              "    </script>\n",
              "  </div>\n",
              "\n",
              "\n",
              "<div id=\"df-28bc1a55-b495-4db3-9d85-818e25c078df\">\n",
              "  <button class=\"colab-df-quickchart\" onclick=\"quickchart('df-28bc1a55-b495-4db3-9d85-818e25c078df')\"\n",
              "            title=\"Suggest charts\"\n",
              "            style=\"display:none;\">\n",
              "\n",
              "<svg xmlns=\"http://www.w3.org/2000/svg\" height=\"24px\"viewBox=\"0 0 24 24\"\n",
              "     width=\"24px\">\n",
              "    <g>\n",
              "        <path d=\"M19 3H5c-1.1 0-2 .9-2 2v14c0 1.1.9 2 2 2h14c1.1 0 2-.9 2-2V5c0-1.1-.9-2-2-2zM9 17H7v-7h2v7zm4 0h-2V7h2v10zm4 0h-2v-4h2v4z\"/>\n",
              "    </g>\n",
              "</svg>\n",
              "  </button>\n",
              "\n",
              "<style>\n",
              "  .colab-df-quickchart {\n",
              "      --bg-color: #E8F0FE;\n",
              "      --fill-color: #1967D2;\n",
              "      --hover-bg-color: #E2EBFA;\n",
              "      --hover-fill-color: #174EA6;\n",
              "      --disabled-fill-color: #AAA;\n",
              "      --disabled-bg-color: #DDD;\n",
              "  }\n",
              "\n",
              "  [theme=dark] .colab-df-quickchart {\n",
              "      --bg-color: #3B4455;\n",
              "      --fill-color: #D2E3FC;\n",
              "      --hover-bg-color: #434B5C;\n",
              "      --hover-fill-color: #FFFFFF;\n",
              "      --disabled-bg-color: #3B4455;\n",
              "      --disabled-fill-color: #666;\n",
              "  }\n",
              "\n",
              "  .colab-df-quickchart {\n",
              "    background-color: var(--bg-color);\n",
              "    border: none;\n",
              "    border-radius: 50%;\n",
              "    cursor: pointer;\n",
              "    display: none;\n",
              "    fill: var(--fill-color);\n",
              "    height: 32px;\n",
              "    padding: 0;\n",
              "    width: 32px;\n",
              "  }\n",
              "\n",
              "  .colab-df-quickchart:hover {\n",
              "    background-color: var(--hover-bg-color);\n",
              "    box-shadow: 0 1px 2px rgba(60, 64, 67, 0.3), 0 1px 3px 1px rgba(60, 64, 67, 0.15);\n",
              "    fill: var(--button-hover-fill-color);\n",
              "  }\n",
              "\n",
              "  .colab-df-quickchart-complete:disabled,\n",
              "  .colab-df-quickchart-complete:disabled:hover {\n",
              "    background-color: var(--disabled-bg-color);\n",
              "    fill: var(--disabled-fill-color);\n",
              "    box-shadow: none;\n",
              "  }\n",
              "\n",
              "  .colab-df-spinner {\n",
              "    border: 2px solid var(--fill-color);\n",
              "    border-color: transparent;\n",
              "    border-bottom-color: var(--fill-color);\n",
              "    animation:\n",
              "      spin 1s steps(1) infinite;\n",
              "  }\n",
              "\n",
              "  @keyframes spin {\n",
              "    0% {\n",
              "      border-color: transparent;\n",
              "      border-bottom-color: var(--fill-color);\n",
              "      border-left-color: var(--fill-color);\n",
              "    }\n",
              "    20% {\n",
              "      border-color: transparent;\n",
              "      border-left-color: var(--fill-color);\n",
              "      border-top-color: var(--fill-color);\n",
              "    }\n",
              "    30% {\n",
              "      border-color: transparent;\n",
              "      border-left-color: var(--fill-color);\n",
              "      border-top-color: var(--fill-color);\n",
              "      border-right-color: var(--fill-color);\n",
              "    }\n",
              "    40% {\n",
              "      border-color: transparent;\n",
              "      border-right-color: var(--fill-color);\n",
              "      border-top-color: var(--fill-color);\n",
              "    }\n",
              "    60% {\n",
              "      border-color: transparent;\n",
              "      border-right-color: var(--fill-color);\n",
              "    }\n",
              "    80% {\n",
              "      border-color: transparent;\n",
              "      border-right-color: var(--fill-color);\n",
              "      border-bottom-color: var(--fill-color);\n",
              "    }\n",
              "    90% {\n",
              "      border-color: transparent;\n",
              "      border-bottom-color: var(--fill-color);\n",
              "    }\n",
              "  }\n",
              "</style>\n",
              "\n",
              "  <script>\n",
              "    async function quickchart(key) {\n",
              "      const quickchartButtonEl =\n",
              "        document.querySelector('#' + key + ' button');\n",
              "      quickchartButtonEl.disabled = true;  // To prevent multiple clicks.\n",
              "      quickchartButtonEl.classList.add('colab-df-spinner');\n",
              "      try {\n",
              "        const charts = await google.colab.kernel.invokeFunction(\n",
              "            'suggestCharts', [key], {});\n",
              "      } catch (error) {\n",
              "        console.error('Error during call to suggestCharts:', error);\n",
              "      }\n",
              "      quickchartButtonEl.classList.remove('colab-df-spinner');\n",
              "      quickchartButtonEl.classList.add('colab-df-quickchart-complete');\n",
              "    }\n",
              "    (() => {\n",
              "      let quickchartButtonEl =\n",
              "        document.querySelector('#df-28bc1a55-b495-4db3-9d85-818e25c078df button');\n",
              "      quickchartButtonEl.style.display =\n",
              "        google.colab.kernel.accessAllowed ? 'block' : 'none';\n",
              "    })();\n",
              "  </script>\n",
              "</div>\n",
              "    </div>\n",
              "  </div>\n"
            ]
          },
          "metadata": {},
          "execution_count": 4
        }
      ]
    },
    {
      "cell_type": "markdown",
      "source": [
        "#징역/벌금 기술통계"
      ],
      "metadata": {
        "id": "_4xBOfjSOyT2"
      }
    },
    {
      "cell_type": "code",
      "source": [
        "df_jail = df2[df2['징역'] != 0] #2014 - 2023 징역 선고\n",
        "\n",
        "#df_jail.head()\n",
        "#num_rows = len(df_jail)\n",
        "#print(\"징역 선고:\", num_rows, \"개\")\n",
        "\n",
        "# '징역'에 대한 기술통계\n",
        "statistics = df_jail['징역'].describe()\n",
        "print(statistics)"
      ],
      "metadata": {
        "colab": {
          "base_uri": "https://localhost:8080/"
        },
        "id": "YD5izyIqO1tm",
        "outputId": "b352e4f4-ee82-4f68-c1a3-6ce6eae7fbfd"
      },
      "execution_count": null,
      "outputs": [
        {
          "output_type": "stream",
          "name": "stdout",
          "text": [
            "count    113.000000\n",
            "mean      16.690265\n",
            "std       16.088527\n",
            "min        4.000000\n",
            "25%        8.000000\n",
            "50%       12.000000\n",
            "75%       18.000000\n",
            "max      120.000000\n",
            "Name: 징역, dtype: float64\n"
          ]
        }
      ]
    },
    {
      "cell_type": "code",
      "source": [
        "df_jail2 = df_jail[df_jail['year'] <= 2018]\n",
        "#df_jail2.head()\n",
        "\n",
        "# 2014 - 2018 '징역'에 대한 기술통계\n",
        "statistics2 = df_jail2['징역'].describe()\n",
        "print(statistics2)"
      ],
      "metadata": {
        "colab": {
          "base_uri": "https://localhost:8080/"
        },
        "id": "qUeSCX-OZ807",
        "outputId": "cebb9afa-5722-4dce-f66d-c303182215b3"
      },
      "execution_count": null,
      "outputs": [
        {
          "output_type": "stream",
          "name": "stdout",
          "text": [
            "count    58.000000\n",
            "mean     14.068966\n",
            "std      14.363528\n",
            "min       4.000000\n",
            "25%       6.000000\n",
            "50%       9.000000\n",
            "75%      18.000000\n",
            "max      96.000000\n",
            "Name: 징역, dtype: float64\n"
          ]
        }
      ]
    },
    {
      "cell_type": "code",
      "source": [
        "df_jail3 = df_jail[df_jail['year'] > 2018]\n",
        "#df_jail3.head()\n",
        "\n",
        "# 2019 - 2023 '징역'에 대한 기술통계\n",
        "statistics3 = df_jail3['징역'].describe()\n",
        "print(statistics3)"
      ],
      "metadata": {
        "colab": {
          "base_uri": "https://localhost:8080/"
        },
        "id": "_0i_UB6EakRc",
        "outputId": "91191e2b-1a76-4d41-d517-5ac1034fcf8d"
      },
      "execution_count": null,
      "outputs": [
        {
          "output_type": "stream",
          "name": "stdout",
          "text": [
            "count     55.000000\n",
            "mean      19.454545\n",
            "std       17.433278\n",
            "min        4.000000\n",
            "25%       12.000000\n",
            "50%       14.000000\n",
            "75%       24.000000\n",
            "max      120.000000\n",
            "Name: 징역, dtype: float64\n"
          ]
        }
      ]
    },
    {
      "cell_type": "code",
      "source": [
        "#징역 plot\n",
        "plt.figure(figsize=(10, 6)) # 그래프 크기 설정\n",
        "plt.scatter(df_jail['year'], df_jail['징역'], marker='o') # 선 그래프 그리기\n",
        "plt.xlabel('Year') # x축 라벨 설정\n",
        "plt.ylabel('Sentence') # y축 라벨 설정\n",
        "plt.title('Sentence by Year') # 그래프 제목 설정\n",
        "plt.grid(True) # 격자 표시\n",
        "plt.show() # 그래프 표시"
      ],
      "metadata": {
        "colab": {
          "base_uri": "https://localhost:8080/",
          "height": 421
        },
        "id": "FN_VqibWTkDQ",
        "outputId": "04e14f34-3f8b-4157-b620-61cc8d8666fa"
      },
      "execution_count": null,
      "outputs": [
        {
          "output_type": "display_data",
          "data": {
            "text/plain": [
              "<Figure size 1000x600 with 1 Axes>"
            ],
            "image/png": "[encoded data removed]"
          },
          "metadata": {}
        }
      ]
    },
    {
      "cell_type": "code",
      "source": [
        "df_money = df2[df2['징역'] == 0] #2014 - 2023 벌금 선고\n",
        "#df_money.head()\n",
        "#num_rows = len(df_money)\n",
        "#print(\"벌금 선고:\", num_rows, \"개\")\n",
        "\n",
        "# '벌금'에 대한 기술통계\n",
        "statistic = df_money['벌금'].describe()\n",
        "print(statistic)"
      ],
      "metadata": {
        "colab": {
          "base_uri": "https://localhost:8080/"
        },
        "id": "oAuql7y9SmDE",
        "outputId": "d5d1e329-978b-4918-891f-51ede168ed2d"
      },
      "execution_count": null,
      "outputs": [
        {
          "output_type": "stream",
          "name": "stdout",
          "text": [
            "count      27.000000\n",
            "mean      765.037037\n",
            "std       569.410321\n",
            "min         6.000000\n",
            "25%       250.000000\n",
            "50%       700.000000\n",
            "75%      1100.000000\n",
            "max      2000.000000\n",
            "Name: 벌금, dtype: float64\n"
          ]
        }
      ]
    },
    {
      "cell_type": "code",
      "source": [
        "df_money2 = df_money[df_money['year'] <= 2018]\n",
        "#df_money2.head()\n",
        "\n",
        "# 2014 - 2018 '징역'에 대한 기술통계\n",
        "statistic2 = df_money2['벌금'].describe()\n",
        "print(statistic2)"
      ],
      "metadata": {
        "colab": {
          "base_uri": "https://localhost:8080/"
        },
        "id": "xy3If9T1bKUv",
        "outputId": "29dcdbd5-1721-43c4-ea3c-7ba7631d1207"
      },
      "execution_count": null,
      "outputs": [
        {
          "output_type": "stream",
          "name": "stdout",
          "text": [
            "count      12.000000\n",
            "mean      500.000000\n",
            "std       310.424929\n",
            "min       100.000000\n",
            "25%       200.000000\n",
            "50%       500.000000\n",
            "75%       700.000000\n",
            "max      1000.000000\n",
            "Name: 벌금, dtype: float64\n"
          ]
        }
      ]
    },
    {
      "cell_type": "code",
      "source": [
        "df_money3 = df_money[df_money['year'] > 2018]\n",
        "#df_money3.head()\n",
        "\n",
        "# 2019 - 2023 '징역'에 대한 기술통계\n",
        "statistic3 = df_money3['벌금'].describe()\n",
        "print(statistic3)"
      ],
      "metadata": {
        "colab": {
          "base_uri": "https://localhost:8080/"
        },
        "id": "wIO2wZi6bKF-",
        "outputId": "fb9ccc5a-40a2-4e60-d3f0-81762b74cb1c"
      },
      "execution_count": null,
      "outputs": [
        {
          "output_type": "stream",
          "name": "stdout",
          "text": [
            "count      15.000000\n",
            "mean      977.066667\n",
            "std       646.564931\n",
            "min         6.000000\n",
            "25%       500.000000\n",
            "50%       900.000000\n",
            "75%      1500.000000\n",
            "max      2000.000000\n",
            "Name: 벌금, dtype: float64\n"
          ]
        }
      ]
    },
    {
      "cell_type": "code",
      "source": [
        "#벌금 plot\n",
        "plt.figure(figsize=(10, 6)) # 그래프 크기 설정\n",
        "plt.scatter(df_money['year'], df_money['벌금'], marker='o') # 선 그래프 그리기\n",
        "plt.xlabel('Year') # x축 라벨 설정\n",
        "plt.ylabel('Fine') # y축 라벨 설정\n",
        "plt.title('Fine by Year') # 그래프 제목 설정\n",
        "plt.grid(True) # 격자 표시\n",
        "plt.show() # 그래프 표시"
      ],
      "metadata": {
        "colab": {
          "base_uri": "https://localhost:8080/",
          "height": 417
        },
        "id": "bNLxi08NWBWe",
        "outputId": "a4b7b5ef-57c3-49f8-8ce0-bacb64175271"
      },
      "execution_count": null,
      "outputs": [
        {
          "output_type": "display_data",
          "data": {
            "text/plain": [
              "<Figure size 1000x600 with 1 Axes>"
            ],
            "image/png": "[encoded data removed]"
          },
          "metadata": {}
        }
      ]
    },
    {
      "cell_type": "markdown",
      "source": [
        "#등분산성 검정"
      ],
      "metadata": {
        "id": "B5tn2qLdjlyz"
      }
    },
    {
      "cell_type": "code",
      "source": [
        "jail1 = df_jail2['징역']\n",
        "jail2 = df_jail3['징역']\n",
        "\n",
        "money1 = df_money2['벌금']\n",
        "money2 = df_money3['벌금']"
      ],
      "metadata": {
        "id": "S-ozVDP6dukh"
      },
      "execution_count": null,
      "outputs": []
    },
    {
      "cell_type": "code",
      "source": [
        "#징역 데이터 레빈 검정 실시\n",
        "stat, p = levene(jail1, jail2)\n",
        "\n",
        "print(stat)\n",
        "\n",
        "# p-값 출력\n",
        "print('p-value:', p)\n",
        "\n",
        "# 등분산성 가정에 대한 결론\n",
        "if p > 0.05:\n",
        "    print('등분산성 가정을 만족함 (분산이 동일함)')\n",
        "else:\n",
        "    print('등분산성 가정을 만족하지 않음 (분산이 다름)')"
      ],
      "metadata": {
        "colab": {
          "base_uri": "https://localhost:8080/"
        },
        "id": "bdybL_2NkbIK",
        "outputId": "070757ad-4d87-4cf0-e262-772d7dacd99d"
      },
      "execution_count": null,
      "outputs": [
        {
          "output_type": "stream",
          "name": "stdout",
          "text": [
            "0.49926275798999914\n",
            "p-value: 0.48130483005345115\n",
            "등분산성 가정을 만족함 (분산이 동일함)\n"
          ]
        }
      ]
    },
    {
      "cell_type": "code",
      "source": [
        "#벌금 데이터 레빈 검정 실시\n",
        "stat, p = levene(money1, money2)\n",
        "\n",
        "print(stat)\n",
        "\n",
        "# p-값 출력\n",
        "print('p-value:', p)\n",
        "\n",
        "# 등분산성 가정에 대한 결론\n",
        "if p > 0.05:\n",
        "    print('등분산성 가정을 만족함 (분산이 동일함)')\n",
        "else:\n",
        "    print('등분산성 가정을 만족하지 않음 (분산이 다름)')"
      ],
      "metadata": {
        "colab": {
          "base_uri": "https://localhost:8080/"
        },
        "id": "9katFXO9kk5J",
        "outputId": "08eea28c-c957-41e9-b524-36a3c9b2f363"
      },
      "execution_count": null,
      "outputs": [
        {
          "output_type": "stream",
          "name": "stdout",
          "text": [
            "8.693476618928562\n",
            "p-value: 0.006831597280477523\n",
            "등분산성 가정을 만족하지 않음 (분산이 다름)\n"
          ]
        }
      ]
    },
    {
      "cell_type": "markdown",
      "source": [
        "#정규성 검정"
      ],
      "metadata": {
        "id": "TqajMm7Ok79K"
      }
    },
    {
      "cell_type": "code",
      "source": [
        "jail3 = df_jail['징역']\n",
        "\n",
        "# 샤피로-윌크 검정 수행\n",
        "stat, p = shapiro(jail3)\n",
        "\n",
        "print(stat)\n",
        "\n",
        "# p-값 출력\n",
        "print('p-value:', p)\n",
        "\n",
        "# 정규성 가정에 대한 결론\n",
        "if p > 0.05:\n",
        "    print('정규 분포를 따름 (정규성 가정 만족)')\n",
        "else:\n",
        "    print('정규 분포를 따르지 않음 (정규성 가정 불만족)')\n"
      ],
      "metadata": {
        "colab": {
          "base_uri": "https://localhost:8080/"
        },
        "id": "p9D4kpsCk7qZ",
        "outputId": "012471a8-34aa-40fd-e6f7-2af36397796c"
      },
      "execution_count": null,
      "outputs": [
        {
          "output_type": "stream",
          "name": "stdout",
          "text": [
            "0.6225369572639465\n",
            "p-value: 1.2942173213727486e-15\n",
            "정규 분포를 따르지 않음 (정규성 가정 불만족)\n"
          ]
        }
      ]
    },
    {
      "cell_type": "code",
      "source": [
        "# QQ Plot 생성\n",
        "stats.probplot(jail3, dist=\"norm\", plot=plt)\n",
        "\n",
        "# QQ Plot 표시\n",
        "plt.title(\"QQ Plot\")\n",
        "plt.ylabel('Sample Quantiles')\n",
        "plt.xlabel('Theoretical Quantiles')\n",
        "plt.show()"
      ],
      "metadata": {
        "colab": {
          "base_uri": "https://localhost:8080/",
          "height": 472
        },
        "id": "HRFML39LltQ1",
        "outputId": "aa20d6d5-2b0a-44f2-f983-6d0133566a68"
      },
      "execution_count": null,
      "outputs": [
        {
          "output_type": "display_data",
          "data": {
            "text/plain": [
              "<Figure size 640x480 with 1 Axes>"
            ],
            "image/png": "[encoded data removed]"
          },
          "metadata": {}
        }
      ]
    },
    {
      "cell_type": "code",
      "source": [
        "money3 = df_money['벌금']\n",
        "\n",
        "# 샤피로-윌크 검정 수행\n",
        "stat, p = shapiro(money3)\n",
        "\n",
        "print(stat)\n",
        "\n",
        "# p-값 출력\n",
        "print('p-value:', p)\n",
        "\n",
        "# 정규성 가정에 대한 결론\n",
        "if p > 0.05:\n",
        "    print('정규 분포를 따름 (정규성 가정 만족)')\n",
        "else:\n",
        "    print('정규 분포를 따르지 않음 (정규성 가정 불만족)')"
      ],
      "metadata": {
        "colab": {
          "base_uri": "https://localhost:8080/"
        },
        "id": "BFhF0y18nLC3",
        "outputId": "9a13bc73-b9f2-4831-fef6-6b337b98785b"
      },
      "execution_count": null,
      "outputs": [
        {
          "output_type": "stream",
          "name": "stdout",
          "text": [
            "0.9274466633796692\n",
            "p-value: 0.05984847620129585\n",
            "정규 분포를 따름 (정규성 가정 만족)\n"
          ]
        }
      ]
    },
    {
      "cell_type": "code",
      "source": [
        "# QQ Plot 생성\n",
        "stats.probplot(money3, dist=\"norm\", plot=plt)\n",
        "\n",
        "# QQ Plot 표시\n",
        "plt.title(\"QQ Plot\")\n",
        "plt.ylabel('Sample Quantiles')\n",
        "plt.xlabel('Theoretical Quantiles')\n",
        "plt.show()"
      ],
      "metadata": {
        "colab": {
          "base_uri": "https://localhost:8080/",
          "height": 472
        },
        "id": "lNlyj2fonWo2",
        "outputId": "57bb15e0-4fe8-41ca-e195-fc213c68bf45"
      },
      "execution_count": null,
      "outputs": [
        {
          "output_type": "display_data",
          "data": {
            "text/plain": [
              "<Figure size 640x480 with 1 Axes>"
            ],
            "image/png": "[encoded data removed]"
          },
          "metadata": {}
        }
      ]
    },
    {
      "cell_type": "markdown",
      "source": [
        "####징역과 벌금 모두 정규성을 만족한다고 판단하기 어려움. 따라서 t-test를 사용하는 대신 비모수 검정인 Mann-Whitney U test를 사용하여 중위값을 비교하고자 함."
      ],
      "metadata": {
        "id": "92YNeisRzdml"
      }
    },
    {
      "cell_type": "markdown",
      "source": [
        "#Mann-Whitney U test"
      ],
      "metadata": {
        "id": "yhGsTF8H0Hm7"
      }
    },
    {
      "cell_type": "markdown",
      "source": [
        "####2018 윤창호법 기준 5개년 선고 형량 비교"
      ],
      "metadata": {
        "id": "3VRzMvc91afW"
      }
    },
    {
      "cell_type": "code",
      "source": [
        "from scipy.stats import mannwhitneyu\n",
        "\n",
        "# 맨-휘트니 U 검정 수행\n",
        "stat, p = mannwhitneyu(jail1, jail2, alternative='less') # 첫 번째 그룹이 두 번째 그룹보다 작다는 것을 검정\n",
        "\n",
        "# 결과 출력\n",
        "print('Statistics=%.3f, p=%.3f' % (stat, p))\n",
        "\n",
        "# 유의성 평가\n",
        "if p > 0.05:\n",
        "    print('두 그룹 간의 형량에 유의한 차이가 없음 (귀무가설을 기각하지 못함)')\n",
        "else:\n",
        "    print('두 그룹 간의 형량에 유의한 차이가 있음 (귀무가설을 기각함)')\n"
      ],
      "metadata": {
        "colab": {
          "base_uri": "https://localhost:8080/"
        },
        "id": "D6QdrFbQ0QIr",
        "outputId": "55292893-12f0-480e-84b1-7ecd0b1a41f7"
      },
      "execution_count": null,
      "outputs": [
        {
          "output_type": "stream",
          "name": "stdout",
          "text": [
            "Statistics=1046.000, p=0.001\n",
            "두 그룹 간의 형량에 유의한 차이가 있음 (귀무가설을 기각함)\n"
          ]
        }
      ]
    },
    {
      "cell_type": "code",
      "source": [
        "# jail1과 jail2 데이터를 하나의 DataFrame으로 결합\n",
        "data = pd.DataFrame({'jail1': jail1, 'jail2': jail2})\n",
        "\n",
        "# 데이터의 박스 플롯 그리기\n",
        "plt.figure(figsize=(10, 6))\n",
        "sns.boxplot(data=data)\n",
        "plt.title('Box Plot of jail1 and jail2')\n",
        "plt.ylabel('Sentence Length')\n",
        "plt.show()"
      ],
      "metadata": {
        "colab": {
          "base_uri": "https://localhost:8080/",
          "height": 407
        },
        "id": "TPEcW01C7Ezy",
        "outputId": "cceabf2f-4d15-4783-c088-00afbb1ad0b4"
      },
      "execution_count": null,
      "outputs": [
        {
          "output_type": "display_data",
          "data": {
            "text/plain": [
              "<Figure size 1000x600 with 1 Axes>"
            ],
            "image/png": "[encoded data removed]"
          },
          "metadata": {}
        }
      ]
    },
    {
      "cell_type": "markdown",
      "source": [
        "####2018 윤창호법 기준 5개년 선고 벌금 비교"
      ],
      "metadata": {
        "id": "RnAW5f_j_OG3"
      }
    },
    {
      "cell_type": "code",
      "source": [
        "from scipy.stats import mannwhitneyu\n",
        "\n",
        "# 맨-휘트니 U 검정 수행\n",
        "stat, p = mannwhitneyu(money1, money2, alternative='less') # 첫 번째 그룹이 두 번째 그룹보다 작다는 것을 검정\n",
        "\n",
        "# 결과 출력\n",
        "print('Statistics=%.3f, p=%.3f' % (stat, p))\n",
        "\n",
        "# 유의성 평가\n",
        "if p > 0.05:\n",
        "    print('두 그룹 간의 형량에 유의한 차이가 없음 (귀무가설을 기각하지 못함)')\n",
        "else:\n",
        "    print('두 그룹 간의 형량에 유의한 차이가 있음 (귀무가설을 기각함)')"
      ],
      "metadata": {
        "colab": {
          "base_uri": "https://localhost:8080/"
        },
        "id": "6MgYpCad_M5X",
        "outputId": "7137fbd4-5cb1-47c3-af9f-c38fff677773"
      },
      "execution_count": null,
      "outputs": [
        {
          "output_type": "stream",
          "name": "stdout",
          "text": [
            "Statistics=53.000, p=0.037\n",
            "두 그룹 간의 형량에 유의한 차이가 있음 (귀무가설을 기각함)\n"
          ]
        }
      ]
    },
    {
      "cell_type": "code",
      "source": [
        "# money1과 money2 데이터를 하나의 DataFrame으로 결합\n",
        "data = pd.DataFrame({'money1': money1, 'money2': money2})\n",
        "\n",
        "# 데이터의 박스 플롯 그리기\n",
        "plt.figure(figsize=(10, 6))\n",
        "sns.boxplot(data=data)\n",
        "plt.title('Box Plot of money1 and money2')\n",
        "plt.ylabel('fine Length')\n",
        "plt.show()"
      ],
      "metadata": {
        "colab": {
          "base_uri": "https://localhost:8080/",
          "height": 403
        },
        "id": "ugrAwLct_Y2G",
        "outputId": "ea8714ed-c8c4-4757-e39d-a964f1804b99"
      },
      "execution_count": null,
      "outputs": [
        {
          "output_type": "display_data",
          "data": {
            "text/plain": [
              "<Figure size 1000x600 with 1 Axes>"
            ],
            "image/png": "[encoded data removed]"
          },
          "metadata": {}
        }
      ]
    }
  ]
}